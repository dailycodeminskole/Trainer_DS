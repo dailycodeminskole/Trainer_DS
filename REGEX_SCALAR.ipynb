{
 "cells": [
  {
   "cell_type": "markdown",
   "id": "c21336fb",
   "metadata": {},
   "source": [
    "# Regular Expression"
   ]
  },
  {
   "cell_type": "code",
   "execution_count": null,
   "id": "352f7f85",
   "metadata": {},
   "outputs": [],
   "source": []
  },
  {
   "cell_type": "code",
   "execution_count": 1,
   "id": "acf026eb",
   "metadata": {},
   "outputs": [],
   "source": [
    "# Tasks\n",
    "#  mask the mail ID\n",
    "# mask the phone number"
   ]
  },
  {
   "cell_type": "code",
   "execution_count": 2,
   "id": "3a72446c",
   "metadata": {},
   "outputs": [
    {
     "data": {
      "text/plain": [
       "'\\nfinding a pattern in the string\\n    parse all phone numbers\\n    mask the numbers : masking is line +91 -96xxxxxxxx98\\n    masking email\\n\\n'"
      ]
     },
     "execution_count": 2,
     "metadata": {},
     "output_type": "execute_result"
    }
   ],
   "source": [
    "# used for text processing and text extraction\n",
    "'''\n",
    "searching\n",
    "parcing\n",
    "manipulating\n",
    "\n",
    "regex comes in handy for these operations\n",
    "'''\n",
    "\n",
    "\n",
    "# uses\n",
    "'''\n",
    "to check if a string follows a pattern\n",
    "    email\n",
    "    date\n",
    "    password\n",
    "    phone number\n",
    "\n",
    "'''\n",
    "\n",
    "# \n",
    "'''\n",
    "finding a pattern in the string\n",
    "    parse all phone numbers\n",
    "    mask the numbers : masking is line +91 -96xxxxxxxx98\n",
    "    masking email\n",
    "\n",
    "'''"
   ]
  },
  {
   "cell_type": "code",
   "execution_count": 3,
   "id": "41c86510",
   "metadata": {},
   "outputs": [],
   "source": [
    "data = open('data.txt','r').read()"
   ]
  },
  {
   "cell_type": "code",
   "execution_count": 4,
   "id": "77c62535",
   "metadata": {},
   "outputs": [
    {
     "data": {
      "text/plain": [
       "str"
      ]
     },
     "execution_count": 4,
     "metadata": {},
     "output_type": "execute_result"
    }
   ],
   "source": [
    "type(data)"
   ]
  },
  {
   "cell_type": "code",
   "execution_count": 5,
   "id": "b4048936",
   "metadata": {},
   "outputs": [
    {
     "name": "stdout",
     "output_type": "stream",
     "text": [
      "Dave Martin\n",
      "615-555-7164\n",
      "173 Main St., Springfield RI 55924\n",
      "davemartin@bogusemail.com\n",
      "\n",
      "Charles Harris\n",
      "800-555-5669\n",
      "969 High St., Atlantis VA 34075\n",
      "charlesharris@bogusemail.com\n",
      "\n",
      "Eric Williams\n",
      "560-555-5153\n",
      "806 1st St., Faketown AK 86847\n",
      "laurawilliams@bogusemail.com\n",
      "\n",
      "Corey Jefferson\n",
      "900-555-9340\n",
      "826 Elm St., Epicburg NE 10671\n",
      "coreyjefferson@bogusemail.com\n",
      "\n",
      "Jennifer Martin-White\n",
      "714-555-7405\n",
      "212 Cedar St., Sunnydale CT 74983\n",
      "jenniferwhite@bogusemail.com\n",
      "\n",
      "Erick Davis\n",
      "800-555-6771\n",
      "519 Washington St., Olympus TN 32425\n",
      "tomdavis@bogusemail.com\n",
      "\n",
      "Neil Patterson\n",
      "783-555-4799\n",
      "625 Oak St., Dawnstar IL 61914\n",
      "neilpatterson@bogusemail.com\n",
      "\n",
      "Laura Jefferson\n",
      "516-555-4615\n",
      "890 Main St., Pythonville LA 29947\n",
      "laurajefferson@bogusemail.com\n",
      "\n",
      "Maria Johnson\n",
      "127-555-1867\n",
      "884 High St., Braavosâ€Ž ME 43597\n",
      "mariajohnson@bogusemail.com\n",
      "\n",
      "Michael Arnold\n",
      "608-555-4938\n",
      "249 Elm St., Quahog OR 90938\n",
      "michaelarnold@bogusemail.com\n",
      "\n",
      "Michael Smith\n",
      "568-555-6051\n",
      "619 Park St., Winterfell VA 99000\n",
      "michaelsmith@bogusemail.com\n",
      "\n",
      "Erik Stuart\n",
      "292-555-1875\n",
      "220 Cedar St., Lakeview NY 87282\n",
      "robertstuart@bogusemail.com\n",
      "\n",
      "Laura Martin\n",
      "900-555-3205\n",
      "391 High St., Smalltown WY 28362\n",
      "lauramartin@bogusemail.com\n",
      "\n",
      "Barbara Martin\n",
      "614-555-1166\n",
      "121 Hill St., Braavosâ€Ž UT 92474\n",
      "barbaramartin@bogusemail.com\n",
      "\n",
      "Linda Jackson\n",
      "530-555-2676\n",
      "433 Elm St., Westworld TX 61967\n",
      "lindajackson@bogusemail.com\n",
      "\n",
      "Eric Miller\n",
      "470-555-2750\n",
      "838 Main St., Balmora MT 56526\n",
      "stevemiller@bogusemail.com\n",
      "\n",
      "Dave Arnold\n",
      "800-555-6089\n",
      "732 High St., Valyria KY 97152\n",
      "davearnold@bogusemail.com\n",
      "\n",
      "Jennifer Jacobs\n",
      "880-555-8319\n",
      "217 High St., Old-town IA 82767\n",
      "jenniferjacobs@bogusemail.com\n",
      "\n",
      "Neil Wilson\n",
      "777-555-8378\n",
      "191 Main St., Mordor IL 72160\n",
      "neilwilson@bogusemail.com\n",
      "\n",
      "Kurt Jackson\n",
      "998-555-7385\n",
      "607 Washington St., Blackwater NH 97183\n",
      "kurtjackson@bogusemail.com\n",
      "\n",
      "Mary Jacobs\n",
      "800-555-7100\n",
      "478 Oak St., Bedrock IA 58176\n",
      "maryjacobs@bogusemail.com\n",
      "\n",
      "Michael White\n",
      "903-555-8277\n",
      "906 Elm St., Mordor TX 89212\n",
      "michaelwhite@bogusemail.com\n",
      "\n",
      "Jennifer Jenkins\n",
      "196-555-5674\n",
      "949 Main St., Smalltown SC 96962\n",
      "jenniferjenkins@bogusemail.com\n",
      "\n",
      "Sam Wright\n",
      "900-555-5118\n",
      "835 Pearl St., Smalltown ND 77737\n",
      "samwright@bogusemail.com\n",
      "\n",
      "John Davis\n",
      "905-555-1630\n",
      "451 Lake St., Bedrock GA 34615\n",
      "johndavis@bogusemail.com\n",
      "\n",
      "Eric Davis\n",
      "203-555-3475\n",
      "419 Lake St., Balmora OR 30826\n",
      "neildavis@bogusemail.com\n",
      "\n",
      "Laura Jackson\n",
      "884-555-8444\n",
      "443 Maple St., Quahog MS 29348\n",
      "laurajackson@bogusemail.com\n",
      "\n",
      "John Williams\n",
      "904-555-8559\n",
      "756 Hill St., Valyria KY 94854\n",
      "johnwilliams@bogusemail.com\n",
      "\n",
      "Michael Martin\n",
      "889-555-7393\n",
      "216 High St., Olympus NV 21888\n",
      "michaelmartin@bogusemail.com\n",
      "\n",
      "Maggie Brown\n",
      "195-555-2405\n",
      "806 Lake St., Lakeview MD 59348\n",
      "maggiebrown@bogusemail.com\n",
      "\n",
      "Erik Wilson\n",
      "321-555-9053\n",
      "354 Hill St., Mordor FL 74122\n",
      "kurtwilson@bogusemail.com\n",
      "\n",
      "Elizabeth Arnold\n",
      "133-555-1711\n",
      "805 Maple St., Winterfell NV 99431\n",
      "elizabetharnold@bogusemail.com\n",
      "\n",
      "Jane Martin\n",
      "900-555-5428\n",
      "418 Park St., Metropolis ID 16576\n",
      "janemartin@bogusemail.com\n",
      "\n",
      "Travis Johnson\n",
      "760-555-7147\n",
      "749 Washington St., Braavosâ€Ž SD 25668\n",
      "travisjohnson@bogusemail.com\n",
      "\n",
      "Laura Jefferson\n",
      "391-555-6621\n",
      "122 High St., Metropolis ME 29540\n",
      "laurajefferson@bogusemail.com\n",
      "\n",
      "Tom Williams\n",
      "932-555-7724\n",
      "610 High St., Old-town FL 60758\n",
      "tomwilliams@bogusemail.com\n",
      "\n",
      "Jennifer Taylor\n",
      "609-555-7908\n",
      "332 Main St., Pythonville OH 78172\n",
      "jennifertaylor@bogusemail.com\n",
      "\n",
      "Erick Wright\n",
      "800-555-8810\n",
      "858 Hill St., Blackwater NC 79714\n",
      "jenniferwright@bogusemail.com\n",
      "\n",
      "Steve Doe\n",
      "149-555-7657\n",
      "441 Elm St., Atlantis MS 87195\n",
      "stevedoe@bogusemail.com\n",
      "\n",
      "Kurt Davis\n",
      "130-555-9709\n",
      "404 Oak St., Atlantis ND 85386\n",
      "kurtdavis@bogusemail.com\n",
      "\n",
      "Corey Harris\n",
      "143-555-9295\n",
      "286 Pearl St., Vice City TX 57112\n",
      "coreyharris@bogusemail.com\n",
      "\n",
      "Nicole Taylor\n",
      "903-555-9878\n",
      "465 Hill St., Old-town LA 64102\n",
      "nicoletaylor@bogusemail.com\n",
      "\n",
      "Elizabeth Davis\n",
      "574-555-3194\n",
      "151 Lake St., Eerie SD 17880\n",
      "elizabethdavis@bogusemail.com\n",
      "\n",
      "Maggie Jenkins\n",
      "496-555-7533\n",
      "504 Lake St., Gotham PA 46692\n",
      "maggiejenkins@bogusemail.com\n",
      "\n",
      "Linda Davis\n",
      "210-555-3757\n",
      "201 Pine St., Vice City AR 78455\n",
      "lindadavis@bogusemail.com\n",
      "\n",
      "Dave Moore\n",
      "900-555-9598\n",
      "251 Pine St., Old-town OK 29087\n",
      "davemoore@bogusemail.com\n",
      "\n",
      "Linda Jenkins\n",
      "866-555-9844\n",
      "117 High St., Bedrock NE 11899\n",
      "lindajenkins@bogusemail.com\n",
      "\n",
      "Eric White\n",
      "669-555-7159\n",
      "650 Oak St., Smalltown TN 43281\n",
      "samwhite@bogusemail.com\n",
      "\n",
      "Laura Robinson\n",
      "152-555-7417\n",
      "377 Pine St., Valyria NC 78036\n",
      "laurarobinson@bogusemail.com\n",
      "\n",
      "Charles Patterson\n",
      "893-555-9832\n",
      "416 Pearl St., Valyria AK 62260\n",
      "charlespatterson@bogusemail.com\n",
      "\n",
      "Joe Jackson\n",
      "217-555-7123\n",
      "683 Cedar St., South Park KS 66724\n",
      "joejackson@bogusemail.com\n",
      "\n",
      "Michael Johnson\n",
      "786-555-6544\n",
      "288 Hill St., Smalltown AZ 18586\n",
      "michaeljohnson@bogusemail.com\n",
      "\n",
      "Corey Miller\n",
      "780-555-2574\n",
      "286 High St., Springfield IA 16272\n",
      "coreymiller@bogusemail.com\n",
      "\n",
      "James Moore\n",
      "926-555-8735\n",
      "278 Main St., Gotham KY 89569\n",
      "jamesmoore@bogusemail.com\n",
      "\n",
      "Jennifer Stuart\n",
      "895-555-3539\n",
      "766 Hill St., King's Landing GA 54999\n",
      "jenniferstuart@bogusemail.com\n",
      "\n",
      "Charles Martin\n",
      "874-555-3949\n",
      "775 High St., Faketown PA 89260\n",
      "charlesmartin@bogusemail.com\n",
      "\n",
      "Eric Wilks\n",
      "800-555-2420\n",
      "885 Main St., Blackwater OH 61275\n",
      "joewilks@bogusemail.com\n",
      "\n",
      "Elizabeth Arnold\n",
      "936-555-6340\n",
      "528 Hill St., Atlantis NH 88289\n",
      "elizabetharnold@bogusemail.com\n",
      "\n",
      "John Miller\n",
      "372-555-9809\n",
      "117 Cedar St., Thundera NM 75205\n",
      "johnmiller@bogusemail.com\n",
      "\n",
      "Corey Jackson\n",
      "890-555-5618\n",
      "115 Oak St., Gotham UT 36433\n",
      "coreyjackson@bogusemail.com\n",
      "\n",
      "Sam Thomas\n",
      "670-555-3005\n",
      "743 Lake St., Springfield MS 25473\n",
      "samthomas@bogusemail.com\n",
      "\n",
      "Patricia Thomas\n",
      "509-555-5997\n",
      "381 Hill St., Blackwater CT 30958\n",
      "patriciathomas@bogusemail.com\n",
      "\n",
      "Jennifer Davis\n",
      "721-555-5632\n",
      "125 Main St., Smalltown MT 62155\n",
      "jenniferdavis@bogusemail.com\n",
      "\n",
      "Patricia Brown\n",
      "900-555-3567\n",
      "292 Hill St., Gotham WV 57680\n",
      "patriciabrown@bogusemail.com\n",
      "\n",
      "Barbara Williams\n",
      "147-555-6830\n",
      "514 Park St., Balmora NV 55462\n",
      "barbarawilliams@bogusemail.com\n",
      "\n",
      "James Taylor\n",
      "582-555-3426\n",
      "776 Hill St., Dawnstar MA 51312\n",
      "jamestaylor@bogusemail.com\n",
      "\n",
      "Eric Harris\n",
      "400-555-1706\n",
      "421 Elm St., Smalltown NV 72025\n",
      "barbaraharris@bogusemail.com\n",
      "\n",
      "Travis Anderson\n",
      "525-555-1793\n",
      "937 Cedar St., Thundera WA 78862\n",
      "travisanderson@bogusemail.com\n",
      "\n",
      "Sam Robinson\n",
      "317-555-6700\n",
      "417 Pine St., Lakeview MD 13147\n",
      "samrobinson@bogusemail.com\n",
      "\n",
      "Steve Robinson\n",
      "974-555-8301\n",
      "478 Park St., Springfield NM 92369\n",
      "steverobinson@bogusemail.com\n",
      "\n",
      "Mary Wilson\n",
      "800-555-3216\n",
      "708 Maple St., Braavosâ€Ž UT 29551\n",
      "marywilson@bogusemail.com\n",
      "\n",
      "Sam Wilson\n",
      "746-555-4094\n",
      "557 Pearl St., Westworld KS 23225\n",
      "samwilson@bogusemail.com\n",
      "\n",
      "Charles Jones\n",
      "922-555-1773\n",
      "855 Hill St., Olympus HI 81427\n",
      "charlesjones@bogusemail.com\n",
      "\n",
      "Laura Brown\n",
      "711-555-4427\n",
      "980 Maple St., Smalltown MO 96421\n",
      "laurabrown@bogusemail.com\n",
      "\n",
      "Tom Harris\n",
      "355-555-1872\n",
      "676 Hill St., Blackwater AR 96698\n",
      "tomharris@bogusemail.com\n",
      "\n",
      "Patricia Taylor\n",
      "852-555-6521\n",
      "588 Pine St., Olympus FL 98412\n",
      "patriciataylor@bogusemail.com\n",
      "\n",
      "Barbara Williams\n",
      "691-555-5773\n",
      "351 Elm St., Sunnydale GA 26245\n",
      "barbarawilliams@bogusemail.com\n",
      "\n",
      "Maggie Johnson\n",
      "332-555-5441\n",
      "948 Cedar St., Quahog DE 56449\n",
      "maggiejohnson@bogusemail.com\n",
      "\n",
      "Kurt Miller\n",
      "900-555-7755\n",
      "381 Hill St., Quahog AL 97503\n",
      "kurtmiller@bogusemail.com\n",
      "\n",
      "Neil Stuart\n",
      "379-555-3685\n",
      "496 Cedar St., Sunnydale RI 49113\n",
      "neilstuart@bogusemail.com\n",
      "\n",
      "Linda Patterson\n",
      "127-555-9682\n",
      "736 Cedar St., Lakeview KY 47472\n",
      "lindapatterson@bogusemail.com\n",
      "\n",
      "Charles Davis\n",
      "789-555-7032\n",
      "678 Lake St., Mordor MN 11845\n",
      "charlesdavis@bogusemail.com\n",
      "\n",
      "Jennifer Jefferson\n",
      "783-555-5135\n",
      "289 Park St., Sunnydale WA 74526\n",
      "jenniferjefferson@bogusemail.com\n",
      "\n",
      "Erick Taylor\n",
      "315-555-6507\n",
      "245 Washington St., Bedrock IL 26941\n",
      "coreytaylor@bogusemail.com\n",
      "\n",
      "Robert Wilks\n",
      "481-555-5835\n",
      "573 Elm St., Sunnydale IL 47182\n",
      "robertwilks@bogusemail.com\n",
      "\n",
      "Travis Jackson\n",
      "365-555-8287\n",
      "851 Lake St., Metropolis PA 22772\n",
      "travisjackson@bogusemail.com\n",
      "\n",
      "Travis Jackson\n",
      "911-555-7535\n",
      "489 Oak St., Atlantis HI 73725\n",
      "travisjackson@bogusemail.com\n",
      "\n",
      "Laura Wilks\n",
      "681-555-2460\n",
      "371 Pearl St., Smalltown SC 47466\n",
      "laurawilks@bogusemail.com\n",
      "\n",
      "Neil Arnold\n",
      "274-555-9800\n",
      "504 Oak St., Faketown PA 73860\n",
      "neilarnold@bogusemail.com\n",
      "\n",
      "Linda Johnson\n",
      "800-555-1372\n",
      "667 High St., Balmora IN 82473\n",
      "lindajohnson@bogusemail.com\n",
      "\n",
      "Jennifer Wilson\n",
      "300-555-7821\n",
      "266 Pine St., Westworld DC 58720\n",
      "jenniferwilson@bogusemail.com\n",
      "\n",
      "Nicole White\n",
      "133-555-3889\n",
      "276 High St., Braavosâ€Ž IL 57764\n",
      "nicolewhite@bogusemail.com\n",
      "\n",
      "Maria Arnold\n",
      "705-555-6863\n",
      "491 Elm St., Metropolis PA 31836\n",
      "mariaarnold@bogusemail.com\n",
      "\n",
      "Jennifer Davis\n",
      "215-555-9449\n",
      "859 Cedar St., Old-town MT 31169\n",
      "jenniferdavis@bogusemail.com\n",
      "\n",
      "Mary Patterson\n",
      "988-555-6112\n",
      "956 Park St., Valyria CT 81541\n",
      "marypatterson@bogusemail.com\n",
      "\n",
      "Jane Stuart\n",
      "623-555-3006\n",
      "983 Oak St., Old-town RI 15445\n",
      "janestuart@bogusemail.com\n",
      "\n",
      "Robert Davis\n",
      "192-555-4977\n",
      "789 Maple St., Mordor IN 22215\n",
      "robertdavis@bogusemail.com\n",
      "\n",
      "James Taylor\n",
      "178-555-4899\n",
      "439 Hill St., Olympus NV 39308\n",
      "jamestaylor@bogusemail.com\n",
      "\n",
      "Eric Stuart\n",
      "952-555-3089\n",
      "777 High St., King's Landing AZ 16547\n",
      "johnstuart@bogusemail.com\n",
      "\n",
      "Charles Miller\n",
      "900-555-6426\n",
      "207 Washington St., Blackwater MA 24886\n",
      "charlesmiller@bogusemail.com\n",
      "\n"
     ]
    }
   ],
   "source": [
    "print(data)"
   ]
  },
  {
   "cell_type": "code",
   "execution_count": 6,
   "id": "ba1a3d69",
   "metadata": {},
   "outputs": [],
   "source": [
    "# masking email"
   ]
  },
  {
   "cell_type": "code",
   "execution_count": 7,
   "id": "cd0e9eb2",
   "metadata": {},
   "outputs": [],
   "source": [
    "def mask_email(s):\n",
    "    if \"@\" in s:\n",
    "        name , domain = s.split(\"@\")\n",
    "        return f'''{name[0]}******{name[-1]}@{domain}'''"
   ]
  },
  {
   "cell_type": "code",
   "execution_count": 8,
   "id": "408bf856",
   "metadata": {},
   "outputs": [
    {
     "data": {
      "text/plain": [
       "'a******f@gmail.com'"
      ]
     },
     "execution_count": 8,
     "metadata": {},
     "output_type": "execute_result"
    }
   ],
   "source": [
    "# testing above function for various test cases\n",
    "\n",
    "mask_email('abcdef@gmail.com')"
   ]
  },
  {
   "cell_type": "code",
   "execution_count": 9,
   "id": "d16a4526",
   "metadata": {},
   "outputs": [],
   "source": [
    "# corner cases\n",
    "mask_email('abcdefgmail.com') # @ is missing so it will return none\n"
   ]
  },
  {
   "cell_type": "code",
   "execution_count": 10,
   "id": "efe6f91e",
   "metadata": {},
   "outputs": [
    {
     "data": {
      "text/plain": [
       "'a******a@gmail.com'"
      ]
     },
     "execution_count": 10,
     "metadata": {},
     "output_type": "execute_result"
    }
   ],
   "source": [
    "mask_email('a@gmail.com') #name has only one alphabets"
   ]
  },
  {
   "cell_type": "code",
   "execution_count": 11,
   "id": "f7df0abd",
   "metadata": {},
   "outputs": [],
   "source": [
    "# difficul to check for all the failed cases\n",
    "# huge if else statements in the code\n",
    "\n"
   ]
  },
  {
   "cell_type": "code",
   "execution_count": 12,
   "id": "f92ddcb9",
   "metadata": {},
   "outputs": [],
   "source": [
    "import re"
   ]
  },
  {
   "cell_type": "code",
   "execution_count": 13,
   "id": "a1721e02",
   "metadata": {},
   "outputs": [],
   "source": [
    "# we can have a function that will first validate if the mail is valid or not\n",
    "def is_vemail(s):\n",
    "    email_pattern=\"^\\w+([\\.-]?\\w+) *@\\w+([\\-]?\\w+)*(\\.\\w{2,3})+$\"\n",
    "    res= re.search(email_pattern, s)\n",
    "    if res:\n",
    "        return True\n",
    "    else:\n",
    "        return False\n"
   ]
  },
  {
   "cell_type": "code",
   "execution_count": 14,
   "id": "bcd39058",
   "metadata": {},
   "outputs": [
    {
     "data": {
      "text/plain": [
       "False"
      ]
     },
     "execution_count": 14,
     "metadata": {},
     "output_type": "execute_result"
    }
   ],
   "source": [
    "is_vemail('a@gmail.com')"
   ]
  },
  {
   "cell_type": "code",
   "execution_count": 15,
   "id": "dd2a26f1",
   "metadata": {},
   "outputs": [],
   "source": [
    "# now we will try to understand the expression i.e the regular expression"
   ]
  },
  {
   "cell_type": "code",
   "execution_count": 16,
   "id": "d18d87bd",
   "metadata": {},
   "outputs": [],
   "source": [
    "regex_verbose= re.compile(r\"\"\"             # VERY readable and easy to understand. Software maintana\n",
    "                         ^\\w+([\\.-]?\\w+)*   # start, \\w+,\n",
    "                         @                 # single @ sign\n",
    "                         \\w+([\\.-]?\\w+)*    # Domain name\n",
    "                         (\\.\\w(2,3))+$\"    # .com, .ac.in,\n",
    "                          \"\"\", re.VERBOSE | re.IGNORECASE)\n"
   ]
  },
  {
   "cell_type": "code",
   "execution_count": 17,
   "id": "c74f2e99",
   "metadata": {},
   "outputs": [
    {
     "name": "stdout",
     "output_type": "stream",
     "text": [
      "None\n"
     ]
    }
   ],
   "source": [
    "res = regex_verbose.match(\"abcdeiisc.ac.in\");\n",
    "# print (res.string)\n",
    "print (res)"
   ]
  },
  {
   "cell_type": "code",
   "execution_count": null,
   "id": "418ac2b8",
   "metadata": {},
   "outputs": [],
   "source": []
  },
  {
   "cell_type": "code",
   "execution_count": 18,
   "id": "08dd9cdc",
   "metadata": {},
   "outputs": [],
   "source": [
    "# we have learnt the pattern creation for matching strings"
   ]
  },
  {
   "cell_type": "code",
   "execution_count": 19,
   "id": "281cc561",
   "metadata": {},
   "outputs": [],
   "source": [
    "# we will use in the python alongside some methods\n",
    "# match\n",
    "# search\n",
    "# findall\n",
    "# finditer"
   ]
  },
  {
   "cell_type": "code",
   "execution_count": 20,
   "id": "1d220fef",
   "metadata": {},
   "outputs": [],
   "source": [
    "# match : checks for a match only at the beginning of the string\n"
   ]
  },
  {
   "cell_type": "code",
   "execution_count": 21,
   "id": "46317b6f",
   "metadata": {},
   "outputs": [],
   "source": [
    "# search : locates for the patternt in the string"
   ]
  },
  {
   "cell_type": "code",
   "execution_count": 22,
   "id": "81c6841b",
   "metadata": {},
   "outputs": [],
   "source": [
    "# findall : all the occurabce of the matches"
   ]
  },
  {
   "cell_type": "code",
   "execution_count": 23,
   "id": "0a6bd9b1",
   "metadata": {},
   "outputs": [],
   "source": [
    "# finditer : returns an iterator yielding match objects over all non overlapping matches"
   ]
  },
  {
   "cell_type": "markdown",
   "id": "6967589d",
   "metadata": {},
   "source": [
    "# extracting the phone numbers"
   ]
  },
  {
   "cell_type": "code",
   "execution_count": 24,
   "id": "3cbed71c",
   "metadata": {},
   "outputs": [
    {
     "name": "stdout",
     "output_type": "stream",
     "text": [
      "None\n"
     ]
    }
   ],
   "source": [
    "# extracting the phone numbers\n",
    "pattern  = \"\\d{3}-\\d{3}-\\d{4}\"\n",
    "print(re.match(pattern , data)) #only at the beginning of the string"
   ]
  },
  {
   "cell_type": "code",
   "execution_count": 25,
   "id": "f14f23c6",
   "metadata": {},
   "outputs": [
    {
     "name": "stdout",
     "output_type": "stream",
     "text": [
      "<re.Match object; span=(12, 24), match='615-555-7164'>\n"
     ]
    }
   ],
   "source": [
    "pattern  = \"\\d{3}-\\d{3}-\\d{4}\"\n",
    "print(re.search(pattern , data)) #1st match anywhere in the string"
   ]
  },
  {
   "cell_type": "code",
   "execution_count": 26,
   "id": "6704c803",
   "metadata": {},
   "outputs": [
    {
     "name": "stdout",
     "output_type": "stream",
     "text": [
      "['615-555-7164', '800-555-5669', '560-555-5153', '900-555-9340', '714-555-7405', '800-555-6771', '783-555-4799', '516-555-4615', '127-555-1867', '608-555-4938', '568-555-6051', '292-555-1875', '900-555-3205', '614-555-1166', '530-555-2676', '470-555-2750', '800-555-6089', '880-555-8319', '777-555-8378', '998-555-7385', '800-555-7100', '903-555-8277', '196-555-5674', '900-555-5118', '905-555-1630', '203-555-3475', '884-555-8444', '904-555-8559', '889-555-7393', '195-555-2405', '321-555-9053', '133-555-1711', '900-555-5428', '760-555-7147', '391-555-6621', '932-555-7724', '609-555-7908', '800-555-8810', '149-555-7657', '130-555-9709', '143-555-9295', '903-555-9878', '574-555-3194', '496-555-7533', '210-555-3757', '900-555-9598', '866-555-9844', '669-555-7159', '152-555-7417', '893-555-9832', '217-555-7123', '786-555-6544', '780-555-2574', '926-555-8735', '895-555-3539', '874-555-3949', '800-555-2420', '936-555-6340', '372-555-9809', '890-555-5618', '670-555-3005', '509-555-5997', '721-555-5632', '900-555-3567', '147-555-6830', '582-555-3426', '400-555-1706', '525-555-1793', '317-555-6700', '974-555-8301', '800-555-3216', '746-555-4094', '922-555-1773', '711-555-4427', '355-555-1872', '852-555-6521', '691-555-5773', '332-555-5441', '900-555-7755', '379-555-3685', '127-555-9682', '789-555-7032', '783-555-5135', '315-555-6507', '481-555-5835', '365-555-8287', '911-555-7535', '681-555-2460', '274-555-9800', '800-555-1372', '300-555-7821', '133-555-3889', '705-555-6863', '215-555-9449', '988-555-6112', '623-555-3006', '192-555-4977', '178-555-4899', '952-555-3089', '900-555-6426']\n"
     ]
    }
   ],
   "source": [
    "pattern  = \"\\d{3}-\\d{3}-\\d{4}\"\n",
    "print(re.findall(pattern , data)) #all the  match anywhere in the string"
   ]
  },
  {
   "cell_type": "code",
   "execution_count": 39,
   "id": "3940be90",
   "metadata": {},
   "outputs": [
    {
     "name": "stdout",
     "output_type": "stream",
     "text": [
      "<re.Match object; span=(12, 24), match='615-555-7164'>\n",
      "<re.Match object; span=(102, 114), match='800-555-5669'>\n",
      "<re.Match object; span=(191, 203), match='560-555-5153'>\n",
      "<re.Match object; span=(281, 293), match='900-555-9340'>\n",
      "<re.Match object; span=(378, 390), match='714-555-7405'>\n",
      "<re.Match object; span=(467, 479), match='800-555-6771'>\n",
      "<re.Match object; span=(557, 569), match='783-555-4799'>\n",
      "<re.Match object; span=(647, 659), match='516-555-4615'>\n",
      "<re.Match object; span=(740, 752), match='127-555-1867'>\n",
      "<re.Match object; span=(831, 843), match='608-555-4938'>\n",
      "<re.Match object; span=(917, 929), match='568-555-6051'>\n",
      "<re.Match object; span=(1005, 1017), match='292-555-1875'>\n",
      "<re.Match object; span=(1093, 1105), match='900-555-3205'>\n",
      "<re.Match object; span=(1182, 1194), match='614-555-1166'>\n",
      "<re.Match object; span=(1273, 1285), match='530-555-2676'>\n",
      "<re.Match object; span=(1359, 1371), match='470-555-2750'>\n",
      "<re.Match object; span=(1443, 1455), match='800-555-6089'>\n",
      "<re.Match object; span=(1530, 1542), match='880-555-8319'>\n",
      "<re.Match object; span=(1618, 1630), match='777-555-8378'>\n",
      "<re.Match object; span=(1701, 1713), match='998-555-7385'>\n",
      "<re.Match object; span=(1794, 1806), match='800-555-7100'>\n",
      "<re.Match object; span=(1878, 1890), match='903-555-8277'>\n",
      "<re.Match object; span=(1966, 1978), match='196-555-5674'>\n",
      "<re.Match object; span=(2055, 2067), match='900-555-5118'>\n",
      "<re.Match object; span=(2139, 2151), match='905-555-1630'>\n",
      "<re.Match object; span=(2220, 2232), match='203-555-3475'>\n",
      "<re.Match object; span=(2304, 2316), match='884-555-8444'>\n",
      "<re.Match object; span=(2391, 2403), match='904-555-8559'>\n",
      "<re.Match object; span=(2479, 2491), match='889-555-7393'>\n",
      "<re.Match object; span=(2566, 2578), match='195-555-2405'>\n",
      "<re.Match object; span=(2651, 2663), match='321-555-9053'>\n",
      "<re.Match object; span=(2738, 2750), match='133-555-1711'>\n",
      "<re.Match object; span=(2830, 2842), match='900-555-5428'>\n",
      "<re.Match object; span=(2919, 2931), match='760-555-7147'>\n",
      "<re.Match object; span=(3018, 3030), match='391-555-6621'>\n",
      "<re.Match object; span=(3109, 3121), match='932-555-7724'>\n",
      "<re.Match object; span=(3198, 3210), match='609-555-7908'>\n",
      "<re.Match object; span=(3290, 3302), match='800-555-8810'>\n",
      "<re.Match object; span=(3378, 3390), match='149-555-7657'>\n",
      "<re.Match object; span=(3458, 3470), match='130-555-9709'>\n",
      "<re.Match object; span=(3541, 3553), match='143-555-9295'>\n",
      "<re.Match object; span=(3630, 3642), match='903-555-9878'>\n",
      "<re.Match object; span=(3720, 3732), match='574-555-3194'>\n",
      "<re.Match object; span=(3808, 3820), match='496-555-7533'>\n",
      "<re.Match object; span=(3893, 3905), match='210-555-3757'>\n",
      "<re.Match object; span=(3977, 3989), match='900-555-9598'>\n",
      "<re.Match object; span=(4062, 4074), match='866-555-9844'>\n",
      "<re.Match object; span=(4146, 4158), match='669-555-7159'>\n",
      "<re.Match object; span=(4231, 4243), match='152-555-7417'>\n",
      "<re.Match object; span=(4323, 4335), match='893-555-9832'>\n",
      "<re.Match object; span=(4413, 4425), match='217-555-7123'>\n",
      "<re.Match object; span=(4504, 4516), match='786-555-6544'>\n",
      "<re.Match object; span=(4594, 4606), match='780-555-2574'>\n",
      "<re.Match object; span=(4682, 4694), match='926-555-8735'>\n",
      "<re.Match object; span=(4768, 4780), match='895-555-3539'>\n",
      "<re.Match object; span=(4865, 4877), match='874-555-3949'>\n",
      "<re.Match object; span=(4951, 4963), match='800-555-2420'>\n",
      "<re.Match object; span=(5040, 5052), match='936-555-6340'>\n",
      "<re.Match object; span=(5129, 5141), match='372-555-9809'>\n",
      "<re.Match object; span=(5216, 5228), match='890-555-5618'>\n",
      "<re.Match object; span=(5298, 5310), match='670-555-3005'>\n",
      "<re.Match object; span=(5388, 5400), match='509-555-5997'>\n",
      "<re.Match object; span=(5481, 5493), match='721-555-5632'>\n",
      "<re.Match object; span=(5572, 5584), match='900-555-3567'>\n",
      "<re.Match object; span=(5662, 5674), match='147-555-6830'>\n",
      "<re.Match object; span=(5751, 5763), match='582-555-3426'>\n",
      "<re.Match object; span=(5836, 5848), match='400-555-1706'>\n",
      "<re.Match object; span=(5927, 5939), match='525-555-1793'>\n",
      "<re.Match object; span=(6017, 6029), match='317-555-6700'>\n",
      "<re.Match object; span=(6105, 6117), match='974-555-8301'>\n",
      "<re.Match object; span=(6195, 6207), match='800-555-3216'>\n",
      "<re.Match object; span=(6281, 6293), match='746-555-4094'>\n",
      "<re.Match object; span=(6368, 6380), match='922-555-1773'>\n",
      "<re.Match object; span=(6453, 6465), match='711-555-4427'>\n",
      "<re.Match object; span=(6538, 6550), match='355-555-1872'>\n",
      "<re.Match object; span=(6627, 6639), match='852-555-6521'>\n",
      "<re.Match object; span=(6719, 6731), match='691-555-5773'>\n",
      "<re.Match object; span=(6811, 6823), match='332-555-5441'>\n",
      "<re.Match object; span=(6897, 6909), match='900-555-7755'>\n",
      "<re.Match object; span=(6979, 6991), match='379-555-3685'>\n",
      "<re.Match object; span=(7069, 7081), match='127-555-9682'>\n",
      "<re.Match object; span=(7160, 7172), match='789-555-7032'>\n",
      "<re.Match object; span=(7251, 7263), match='783-555-5135'>\n",
      "<re.Match object; span=(7344, 7356), match='315-555-6507'>\n",
      "<re.Match object; span=(7435, 7447), match='481-555-5835'>\n",
      "<re.Match object; span=(7523, 7535), match='365-555-8287'>\n",
      "<re.Match object; span=(7615, 7627), match='911-555-7535'>\n",
      "<re.Match object; span=(7701, 7713), match='681-555-2460'>\n",
      "<re.Match object; span=(7787, 7799), match='274-555-9800'>\n",
      "<re.Match object; span=(7872, 7884), match='800-555-1372'>\n",
      "<re.Match object; span=(7961, 7973), match='300-555-7821'>\n",
      "<re.Match object; span=(8051, 8063), match='133-555-3889'>\n",
      "<re.Match object; span=(8139, 8151), match='705-555-6863'>\n",
      "<re.Match object; span=(8228, 8240), match='215-555-9449'>\n",
      "<re.Match object; span=(8319, 8331), match='988-555-6112'>\n",
      "<re.Match object; span=(8405, 8417), match='623-555-3006'>\n",
      "<re.Match object; span=(8489, 8501), match='192-555-4977'>\n",
      "<re.Match object; span=(8574, 8586), match='178-555-4899'>\n",
      "<re.Match object; span=(8658, 8670), match='952-555-3089'>\n",
      "<re.Match object; span=(8751, 8763), match='900-555-6426'>\n"
     ]
    }
   ],
   "source": [
    "pattern  = \"\\d{3}-\\d{3}-\\d{4}\"\n",
    "# print(re.finditer(pattern , data)) # will return match object\n",
    "ans  = re.finditer(pattern , data)\n",
    "for i in ans:\n",
    "    print(i)"
   ]
  },
  {
   "cell_type": "code",
   "execution_count": 42,
   "id": "c8608c2e",
   "metadata": {},
   "outputs": [
    {
     "name": "stdout",
     "output_type": "stream",
     "text": [
      "(0, <re.Match object; span=(12, 24), match='615-555-7164'>)\n",
      "(1, <re.Match object; span=(102, 114), match='800-555-5669'>)\n",
      "(2, <re.Match object; span=(191, 203), match='560-555-5153'>)\n",
      "(3, <re.Match object; span=(281, 293), match='900-555-9340'>)\n",
      "(4, <re.Match object; span=(378, 390), match='714-555-7405'>)\n",
      "(5, <re.Match object; span=(467, 479), match='800-555-6771'>)\n",
      "(6, <re.Match object; span=(557, 569), match='783-555-4799'>)\n",
      "(7, <re.Match object; span=(647, 659), match='516-555-4615'>)\n",
      "(8, <re.Match object; span=(740, 752), match='127-555-1867'>)\n",
      "(9, <re.Match object; span=(831, 843), match='608-555-4938'>)\n",
      "(10, <re.Match object; span=(917, 929), match='568-555-6051'>)\n",
      "(11, <re.Match object; span=(1005, 1017), match='292-555-1875'>)\n",
      "(12, <re.Match object; span=(1093, 1105), match='900-555-3205'>)\n",
      "(13, <re.Match object; span=(1182, 1194), match='614-555-1166'>)\n",
      "(14, <re.Match object; span=(1273, 1285), match='530-555-2676'>)\n",
      "(15, <re.Match object; span=(1359, 1371), match='470-555-2750'>)\n",
      "(16, <re.Match object; span=(1443, 1455), match='800-555-6089'>)\n",
      "(17, <re.Match object; span=(1530, 1542), match='880-555-8319'>)\n",
      "(18, <re.Match object; span=(1618, 1630), match='777-555-8378'>)\n",
      "(19, <re.Match object; span=(1701, 1713), match='998-555-7385'>)\n",
      "(20, <re.Match object; span=(1794, 1806), match='800-555-7100'>)\n",
      "(21, <re.Match object; span=(1878, 1890), match='903-555-8277'>)\n",
      "(22, <re.Match object; span=(1966, 1978), match='196-555-5674'>)\n",
      "(23, <re.Match object; span=(2055, 2067), match='900-555-5118'>)\n",
      "(24, <re.Match object; span=(2139, 2151), match='905-555-1630'>)\n",
      "(25, <re.Match object; span=(2220, 2232), match='203-555-3475'>)\n",
      "(26, <re.Match object; span=(2304, 2316), match='884-555-8444'>)\n",
      "(27, <re.Match object; span=(2391, 2403), match='904-555-8559'>)\n",
      "(28, <re.Match object; span=(2479, 2491), match='889-555-7393'>)\n",
      "(29, <re.Match object; span=(2566, 2578), match='195-555-2405'>)\n",
      "(30, <re.Match object; span=(2651, 2663), match='321-555-9053'>)\n",
      "(31, <re.Match object; span=(2738, 2750), match='133-555-1711'>)\n",
      "(32, <re.Match object; span=(2830, 2842), match='900-555-5428'>)\n",
      "(33, <re.Match object; span=(2919, 2931), match='760-555-7147'>)\n",
      "(34, <re.Match object; span=(3018, 3030), match='391-555-6621'>)\n",
      "(35, <re.Match object; span=(3109, 3121), match='932-555-7724'>)\n",
      "(36, <re.Match object; span=(3198, 3210), match='609-555-7908'>)\n",
      "(37, <re.Match object; span=(3290, 3302), match='800-555-8810'>)\n",
      "(38, <re.Match object; span=(3378, 3390), match='149-555-7657'>)\n",
      "(39, <re.Match object; span=(3458, 3470), match='130-555-9709'>)\n",
      "(40, <re.Match object; span=(3541, 3553), match='143-555-9295'>)\n",
      "(41, <re.Match object; span=(3630, 3642), match='903-555-9878'>)\n",
      "(42, <re.Match object; span=(3720, 3732), match='574-555-3194'>)\n",
      "(43, <re.Match object; span=(3808, 3820), match='496-555-7533'>)\n",
      "(44, <re.Match object; span=(3893, 3905), match='210-555-3757'>)\n",
      "(45, <re.Match object; span=(3977, 3989), match='900-555-9598'>)\n",
      "(46, <re.Match object; span=(4062, 4074), match='866-555-9844'>)\n",
      "(47, <re.Match object; span=(4146, 4158), match='669-555-7159'>)\n",
      "(48, <re.Match object; span=(4231, 4243), match='152-555-7417'>)\n",
      "(49, <re.Match object; span=(4323, 4335), match='893-555-9832'>)\n",
      "(50, <re.Match object; span=(4413, 4425), match='217-555-7123'>)\n",
      "(51, <re.Match object; span=(4504, 4516), match='786-555-6544'>)\n",
      "(52, <re.Match object; span=(4594, 4606), match='780-555-2574'>)\n",
      "(53, <re.Match object; span=(4682, 4694), match='926-555-8735'>)\n",
      "(54, <re.Match object; span=(4768, 4780), match='895-555-3539'>)\n",
      "(55, <re.Match object; span=(4865, 4877), match='874-555-3949'>)\n",
      "(56, <re.Match object; span=(4951, 4963), match='800-555-2420'>)\n",
      "(57, <re.Match object; span=(5040, 5052), match='936-555-6340'>)\n",
      "(58, <re.Match object; span=(5129, 5141), match='372-555-9809'>)\n",
      "(59, <re.Match object; span=(5216, 5228), match='890-555-5618'>)\n",
      "(60, <re.Match object; span=(5298, 5310), match='670-555-3005'>)\n",
      "(61, <re.Match object; span=(5388, 5400), match='509-555-5997'>)\n",
      "(62, <re.Match object; span=(5481, 5493), match='721-555-5632'>)\n",
      "(63, <re.Match object; span=(5572, 5584), match='900-555-3567'>)\n",
      "(64, <re.Match object; span=(5662, 5674), match='147-555-6830'>)\n",
      "(65, <re.Match object; span=(5751, 5763), match='582-555-3426'>)\n",
      "(66, <re.Match object; span=(5836, 5848), match='400-555-1706'>)\n",
      "(67, <re.Match object; span=(5927, 5939), match='525-555-1793'>)\n",
      "(68, <re.Match object; span=(6017, 6029), match='317-555-6700'>)\n",
      "(69, <re.Match object; span=(6105, 6117), match='974-555-8301'>)\n",
      "(70, <re.Match object; span=(6195, 6207), match='800-555-3216'>)\n",
      "(71, <re.Match object; span=(6281, 6293), match='746-555-4094'>)\n",
      "(72, <re.Match object; span=(6368, 6380), match='922-555-1773'>)\n",
      "(73, <re.Match object; span=(6453, 6465), match='711-555-4427'>)\n",
      "(74, <re.Match object; span=(6538, 6550), match='355-555-1872'>)\n",
      "(75, <re.Match object; span=(6627, 6639), match='852-555-6521'>)\n",
      "(76, <re.Match object; span=(6719, 6731), match='691-555-5773'>)\n",
      "(77, <re.Match object; span=(6811, 6823), match='332-555-5441'>)\n",
      "(78, <re.Match object; span=(6897, 6909), match='900-555-7755'>)\n",
      "(79, <re.Match object; span=(6979, 6991), match='379-555-3685'>)\n",
      "(80, <re.Match object; span=(7069, 7081), match='127-555-9682'>)\n",
      "(81, <re.Match object; span=(7160, 7172), match='789-555-7032'>)\n",
      "(82, <re.Match object; span=(7251, 7263), match='783-555-5135'>)\n",
      "(83, <re.Match object; span=(7344, 7356), match='315-555-6507'>)\n",
      "(84, <re.Match object; span=(7435, 7447), match='481-555-5835'>)\n",
      "(85, <re.Match object; span=(7523, 7535), match='365-555-8287'>)\n",
      "(86, <re.Match object; span=(7615, 7627), match='911-555-7535'>)\n",
      "(87, <re.Match object; span=(7701, 7713), match='681-555-2460'>)\n",
      "(88, <re.Match object; span=(7787, 7799), match='274-555-9800'>)\n",
      "(89, <re.Match object; span=(7872, 7884), match='800-555-1372'>)\n",
      "(90, <re.Match object; span=(7961, 7973), match='300-555-7821'>)\n",
      "(91, <re.Match object; span=(8051, 8063), match='133-555-3889'>)\n",
      "(92, <re.Match object; span=(8139, 8151), match='705-555-6863'>)\n",
      "(93, <re.Match object; span=(8228, 8240), match='215-555-9449'>)\n",
      "(94, <re.Match object; span=(8319, 8331), match='988-555-6112'>)\n",
      "(95, <re.Match object; span=(8405, 8417), match='623-555-3006'>)\n",
      "(96, <re.Match object; span=(8489, 8501), match='192-555-4977'>)\n",
      "(97, <re.Match object; span=(8574, 8586), match='178-555-4899'>)\n",
      "(98, <re.Match object; span=(8658, 8670), match='952-555-3089'>)\n",
      "(99, <re.Match object; span=(8751, 8763), match='900-555-6426'>)\n"
     ]
    }
   ],
   "source": [
    "pattern  = \"\\d{3}-\\d{3}-\\d{4}\"\n",
    "# print(re.finditer(pattern , data)) # will return match object\n",
    "ans  = re.finditer(pattern , data)\n",
    "for i in enumerate(ans):\n",
    "    print(i)"
   ]
  },
  {
   "cell_type": "code",
   "execution_count": 29,
   "id": "21bf470a",
   "metadata": {},
   "outputs": [
    {
     "name": "stdout",
     "output_type": "stream",
     "text": [
      "12 24 615-555-7164\n",
      "102 114 800-555-5669\n",
      "191 203 560-555-5153\n",
      "281 293 900-555-9340\n",
      "378 390 714-555-7405\n",
      "467 479 800-555-6771\n"
     ]
    }
   ],
   "source": [
    "pattern  = \"\\d{3}-\\d{3}-\\d{4}\"\n",
    "# print(re.finditer(pattern , data)) # will return match object\n",
    "ans  = re.finditer(pattern , data)\n",
    "for i ,num in enumerate(ans):\n",
    "    print(num.start() , num.end() , num.group()) #start , end and the number itself\n",
    "    if i == 5:\n",
    "        break"
   ]
  },
  {
   "cell_type": "markdown",
   "id": "a48037cc",
   "metadata": {},
   "source": [
    "# Extracting the Email"
   ]
  },
  {
   "cell_type": "code",
   "execution_count": 30,
   "id": "c883a5cd",
   "metadata": {},
   "outputs": [
    {
     "name": "stdout",
     "output_type": "stream",
     "text": [
      "60 85 davemartin@bogusemail.com\n",
      "147 175 charlesharris@bogusemail.com\n",
      "235 263 laurawilliams@bogusemail.com\n",
      "325 354 coreyjefferson@bogusemail.com\n",
      "425 453 jenniferwhite@bogusemail.com\n",
      "517 540 tomdavis@bogusemail.com\n"
     ]
    }
   ],
   "source": [
    "pattern = \"\\w+@\\w+.\\w{2,3}\"\n",
    "ans  = re.finditer(pattern , data)\n",
    "for i ,email in enumerate(ans):\n",
    "    print(email.start() , email.end() , email.group())\n",
    "    if i == 5:\n",
    "        break"
   ]
  },
  {
   "cell_type": "code",
   "execution_count": 31,
   "id": "c4e05961",
   "metadata": {},
   "outputs": [
    {
     "name": "stdout",
     "output_type": "stream",
     "text": [
      "60 85 davemartin@bogusemail.com\n",
      "147 175 charlesharris@bogusemail.com\n",
      "235 263 laurawilliams@bogusemail.com\n",
      "325 354 coreyjefferson@bogusemail.com\n",
      "425 453 jenniferwhite@bogusemail.com\n",
      "517 540 tomdavis@bogusemail.com\n"
     ]
    }
   ],
   "source": [
    "# using the complex generic pattern \n",
    "email_pattern=\"^\\w+([\\.-]?\\w+) *@\\w+([\\-]?\\w+)*(\\.\\w{2,3})+$\"\n",
    "ans  = re.finditer(pattern , data)\n",
    "for i ,email in enumerate(ans):\n",
    "    print(email.start() , email.end() , email.group())\n",
    "    if i == 5:\n",
    "        break"
   ]
  },
  {
   "cell_type": "markdown",
   "id": "c38eb9d2",
   "metadata": {},
   "source": [
    "#  Extracting the Names"
   ]
  },
  {
   "cell_type": "code",
   "execution_count": 32,
   "id": "ebf70df5",
   "metadata": {},
   "outputs": [
    {
     "name": "stdout",
     "output_type": "stream",
     "text": [
      "Dave Martin\n",
      "615-555-7164\n",
      "173 Main St., Springfield RI 55924\n",
      "davemartin@bogusemail.com\n",
      "\n",
      "Charles Harris\n",
      "800-555-5669\n",
      "969 High St., Atlantis VA 34075\n",
      "charlesharris@bogusemail.com\n",
      "\n",
      "Eric Williams\n",
      "560-555-5153\n",
      "806 1st St., Faketown AK 86847\n",
      "laurawilliams@bogusemail.com\n",
      "\n",
      "Corey Jefferson\n",
      "900-555-9340\n",
      "826 El\n"
     ]
    }
   ],
   "source": [
    "print(data[:300]) #sample dat for amking the condition"
   ]
  },
  {
   "cell_type": "code",
   "execution_count": 33,
   "id": "edba0705",
   "metadata": {},
   "outputs": [
    {
     "name": "stdout",
     "output_type": "stream",
     "text": [
      "Dave Ma\n",
      "Main St\n",
      "Charles Ha\n",
      "High St\n",
      "Eric Wi\n",
      "Corey Je\n"
     ]
    }
   ],
   "source": [
    "pattern= \"[A-Z][a-z]*\\s[A-Z][a-z]\"\n",
    "ans  = re.finditer(pattern , data)\n",
    "for i ,name  in enumerate(ans):\n",
    "    print(name.group())\n",
    "    if i == 5:\n",
    "        break"
   ]
  },
  {
   "cell_type": "code",
   "execution_count": 34,
   "id": "f60196e9",
   "metadata": {},
   "outputs": [
    {
     "name": "stdout",
     "output_type": "stream",
     "text": [
      "Dave Martin\n",
      "Charles Harris\n",
      "Eric Williams\n",
      "Corey Jefferson\n",
      "Jennifer Martin\n",
      "Erick Davis\n"
     ]
    }
   ],
   "source": [
    "# updating the pattern to remove the names of places and streets\n",
    "\n",
    "pattern= \"[A-Z][a-z]*\\s[A-Z][a-z]{2,}\"\n",
    "ans  = re.finditer(pattern , data)\n",
    "for i ,name  in enumerate(ans):\n",
    "    print(name.group())\n",
    "    if i == 5:\n",
    "        break"
   ]
  },
  {
   "cell_type": "markdown",
   "id": "8f35592f",
   "metadata": {},
   "source": [
    "# UNderstanding the complete picture"
   ]
  },
  {
   "cell_type": "code",
   "execution_count": 35,
   "id": "0c467c6e",
   "metadata": {},
   "outputs": [
    {
     "name": "stdout",
     "output_type": "stream",
     "text": [
      "<re.Match object; span=(0, 18), match='minskole@gmail.com'>\n"
     ]
    }
   ],
   "source": [
    "# re.compile :  will compile the pattern for further ref , only usefulf if the pattern is to be used in future\n",
    "# FLAGS\n",
    "    # re.VERBOSE : to write regex across multiple lines\n",
    "    # re.IGNORECASE : same regex ignoring the case\n",
    "\n",
    "regex_verbose= re.compile(r\"\"\"             # VERY readable and easy to understand. Software maintana\n",
    "                         ^\\w+([\\.-]?\\w+)*   # start, \\w+,\n",
    "                         @                 # single @ sign\n",
    "                         \\w+([\\.-]?\\w+)*    # Domain name\n",
    "                         (\\.\\w{2,3})+$    # .com, .ac.in,\n",
    "                          \"\"\", re.VERBOSE | re.IGNORECASE)\n",
    "\n",
    "res = regex_verbose.match(\"minskole@gmail.com\")\n",
    "print(res)"
   ]
  },
  {
   "cell_type": "code",
   "execution_count": 36,
   "id": "9af85737",
   "metadata": {},
   "outputs": [
    {
     "name": "stdout",
     "output_type": "stream",
     "text": [
      "<re.Match object; span=(0, 18), match='minskole@gmail.com'>\n"
     ]
    }
   ],
   "source": [
    "regex_verbose= re.compile(r\"^\\w+([\\.-]?\\w+) *@\\w+([\\-]?\\w+)*(\\.\\w{2,3})+$\", re.VERBOSE | re.IGNORECASE)\n",
    "\n",
    "res = regex_verbose.match(\"minskole@gmail.com\")\n",
    "print(res)"
   ]
  },
  {
   "cell_type": "markdown",
   "id": "2382b9fa",
   "metadata": {},
   "source": [
    "# understanding the flags"
   ]
  },
  {
   "cell_type": "code",
   "execution_count": 44,
   "id": "aa694c75",
   "metadata": {},
   "outputs": [
    {
     "data": {
      "text/plain": [
       "<re.Match object; span=(3, 6), match='zzz'>"
      ]
     },
     "execution_count": 44,
     "metadata": {},
     "output_type": "execute_result"
    }
   ],
   "source": [
    "re.search('z+',\"ZZZzzz\") #will match only the lower case zzz"
   ]
  },
  {
   "cell_type": "code",
   "execution_count": 45,
   "id": "72df2629",
   "metadata": {},
   "outputs": [
    {
     "data": {
      "text/plain": [
       "<re.Match object; span=(0, 3), match='ZZZ'>"
      ]
     },
     "execution_count": 45,
     "metadata": {},
     "output_type": "execute_result"
    }
   ],
   "source": [
    "re.search('Z+',\"ZZZzzz\") #will match only the upper case ZZZ"
   ]
  },
  {
   "cell_type": "code",
   "execution_count": 46,
   "id": "f227922b",
   "metadata": {},
   "outputs": [
    {
     "data": {
      "text/plain": [
       "<re.Match object; span=(0, 6), match='ZZZzzz'>"
      ]
     },
     "execution_count": 46,
     "metadata": {},
     "output_type": "execute_result"
    }
   ],
   "source": [
    "re.search('[Zz]+',\"ZZZzzz\")#will search for both upper and lower case"
   ]
  },
  {
   "cell_type": "code",
   "execution_count": 47,
   "id": "1ee73435",
   "metadata": {},
   "outputs": [
    {
     "data": {
      "text/plain": [
       "<re.Match object; span=(0, 6), match='ZZZzzz'>"
      ]
     },
     "execution_count": 47,
     "metadata": {},
     "output_type": "execute_result"
    }
   ],
   "source": [
    "# same canbe achieved by using the flag\n",
    "re.search('z+',\"ZZZzzz\",re.IGNORECASE) "
   ]
  },
  {
   "cell_type": "markdown",
   "id": "57e49292",
   "metadata": {},
   "source": [
    "# group"
   ]
  },
  {
   "cell_type": "code",
   "execution_count": 51,
   "id": "8b37360f",
   "metadata": {},
   "outputs": [
    {
     "name": "stdout",
     "output_type": "stream",
     "text": [
      "<re.Match object; span=(0, 39), match='Vikas works in CTS and earns Rs. 100000'>\n"
     ]
    }
   ],
   "source": [
    "sentence = \"Vikas works in CTS and earns Rs. 100000\"\n",
    "pattern = \"^[A-Z]\\w{2,}.+\\d{6,}$\"\n",
    "ans = re.match(pattern,sentence)\n",
    "print(ans)"
   ]
  },
  {
   "cell_type": "code",
   "execution_count": 52,
   "id": "cd97a4df",
   "metadata": {},
   "outputs": [
    {
     "name": "stdout",
     "output_type": "stream",
     "text": [
      "<re.Match object; span=(0, 39), match='Vikas works in CTS and earns Rs. 100000'>\n",
      "Vikas\n",
      "100000\n"
     ]
    }
   ],
   "source": [
    "sentence = \"Vikas works in CTS and earns Rs. 100000\"\n",
    "pattern = \"(^[A-Z]\\w{2,}).+(\\d{6,})$\"\n",
    "ans = re.match(pattern,sentence)\n",
    "print(ans)\n",
    "print(ans.group(1))\n",
    "print(ans.group(2))\n"
   ]
  },
  {
   "cell_type": "code",
   "execution_count": null,
   "id": "8c256636",
   "metadata": {},
   "outputs": [],
   "source": []
  }
 ],
 "metadata": {
  "kernelspec": {
   "display_name": "Python 3 (ipykernel)",
   "language": "python",
   "name": "python3"
  },
  "language_info": {
   "codemirror_mode": {
    "name": "ipython",
    "version": 3
   },
   "file_extension": ".py",
   "mimetype": "text/x-python",
   "name": "python",
   "nbconvert_exporter": "python",
   "pygments_lexer": "ipython3",
   "version": "3.10.5"
  }
 },
 "nbformat": 4,
 "nbformat_minor": 5
}
