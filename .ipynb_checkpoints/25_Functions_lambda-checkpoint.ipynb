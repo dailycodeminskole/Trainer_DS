{
 "cells": [
  {
   "cell_type": "markdown",
   "id": "e0d4f9b3",
   "metadata": {},
   "source": [
    "# revision"
   ]
  },
  {
   "cell_type": "code",
   "execution_count": null,
   "id": "78119a65",
   "metadata": {},
   "outputs": [],
   "source": []
  },
  {
   "cell_type": "code",
   "execution_count": 47,
   "id": "d53563ba",
   "metadata": {},
   "outputs": [
    {
     "name": "stdout",
     "output_type": "stream",
     "text": [
      "1256.0\n"
     ]
    }
   ],
   "source": [
    "# HW\n",
    "# change the value of 'r' to 20 using global keyword and find the new area using below function\n",
    "r = 10\n",
    "def area():\n",
    "    global r\n",
    "    r = 20\n",
    "    circle = 3.14*r*r\n",
    "    print(circle)\n",
    "    \n",
    "area()\n",
    "\n",
    "# pass multiple arguments in the function and observe the output\n",
    "# function that takes variable lenght of argument  and squares each argument\n",
    "\n",
    "def square(*args):\n",
    "    ans= []\n",
    "    for i in args:\n",
    "        ans.append(i*i)\n",
    "    print(ans)"
   ]
  },
  {
   "cell_type": "markdown",
   "id": "1453595b",
   "metadata": {},
   "source": [
    "# scope of variable"
   ]
  },
  {
   "cell_type": "code",
   "execution_count": 11,
   "id": "d717152a",
   "metadata": {},
   "outputs": [
    {
     "name": "stdout",
     "output_type": "stream",
     "text": [
      "600\n",
      "400\n"
     ]
    }
   ],
   "source": [
    "\n",
    "\n",
    "x = 500 #global\n",
    "\n",
    "def sum():\n",
    "#     x = 300 #local\n",
    "    print(x+100)\n",
    "    \n",
    "sum()\n",
    "\n",
    "def diff():\n",
    "#     x = 900\n",
    "    print(x-100) # x = 500 is global value, x = 600 after ex from sum()\n",
    "diff()"
   ]
  },
  {
   "cell_type": "markdown",
   "id": "0f8794a5",
   "metadata": {},
   "source": [
    "# *args"
   ]
  },
  {
   "cell_type": "code",
   "execution_count": 18,
   "id": "82deb813",
   "metadata": {},
   "outputs": [
    {
     "name": "stdout",
     "output_type": "stream",
     "text": [
      "<class 'tuple'>\n",
      "87\n",
      "<class 'tuple'>\n",
      "99\n"
     ]
    }
   ],
   "source": [
    "list_num = [12,47,87,41,78,47]\n",
    "\n",
    "def find_max(*args):\n",
    "    print(type(args))\n",
    "    max_value = float(0)\n",
    "    for number in args:\n",
    "        if number > max_value:\n",
    "            max_value = number\n",
    "    print(max_value) \n",
    "            \n",
    "find_max(12,4,87)\n",
    "find_max(12,4,87,44,14,78,99,47)"
   ]
  },
  {
   "cell_type": "code",
   "execution_count": null,
   "id": "8686671c",
   "metadata": {},
   "outputs": [],
   "source": []
  },
  {
   "cell_type": "code",
   "execution_count": null,
   "id": "9b1c8efb",
   "metadata": {},
   "outputs": [],
   "source": []
  },
  {
   "cell_type": "code",
   "execution_count": null,
   "id": "5099313f",
   "metadata": {},
   "outputs": [],
   "source": []
  },
  {
   "cell_type": "markdown",
   "id": "2783e071",
   "metadata": {},
   "source": [
    "# lambda Functions"
   ]
  },
  {
   "cell_type": "code",
   "execution_count": 1,
   "id": "2f0fbe08",
   "metadata": {},
   "outputs": [],
   "source": [
    "# A lambda function is a small, anonymous function in Python that can take \n",
    "# any number of arguments, but can only have one expression. \n",
    "# They are often used as a shortcut for simple functions that are only used once, \n",
    "# such as for sorting or filtering data. \n",
    "# Lambda functions are defined using the lambda keyword.\n",
    "# nameless function"
   ]
  },
  {
   "cell_type": "code",
   "execution_count": 19,
   "id": "11f59473",
   "metadata": {},
   "outputs": [
    {
     "name": "stdout",
     "output_type": "stream",
     "text": [
      "300\n"
     ]
    }
   ],
   "source": [
    "def sum(a,b):\n",
    "    print(a+b)\n",
    "sum(100,200)"
   ]
  },
  {
   "cell_type": "code",
   "execution_count": 20,
   "id": "3fcbce3c",
   "metadata": {},
   "outputs": [],
   "source": [
    "# syntax\n",
    "# lambda argument : expression"
   ]
  },
  {
   "cell_type": "code",
   "execution_count": 22,
   "id": "5a588518",
   "metadata": {},
   "outputs": [],
   "source": [
    "ans  = lambda a ,b : a+b #location of object"
   ]
  },
  {
   "cell_type": "code",
   "execution_count": 24,
   "id": "6e12e669",
   "metadata": {},
   "outputs": [
    {
     "name": "stdout",
     "output_type": "stream",
     "text": [
      "300\n"
     ]
    }
   ],
   "source": [
    "print(ans(100,200))"
   ]
  },
  {
   "cell_type": "code",
   "execution_count": 26,
   "id": "fd9b7368",
   "metadata": {},
   "outputs": [
    {
     "name": "stdout",
     "output_type": "stream",
     "text": [
      "300\n"
     ]
    }
   ],
   "source": [
    "print((lambda a ,b : a+b)(100,200))"
   ]
  },
  {
   "cell_type": "code",
   "execution_count": 28,
   "id": "4a485c72",
   "metadata": {},
   "outputs": [
    {
     "name": "stdout",
     "output_type": "stream",
     "text": [
      "Odd number\n",
      "Even Number\n"
     ]
    }
   ],
   "source": [
    "calc = lambda num :\"Even Number\" if num%2 == 0 else \"Odd number\"\n",
    "print(calc(147))\n",
    "print(calc(148))"
   ]
  },
  {
   "cell_type": "code",
   "execution_count": 29,
   "id": "a3208156",
   "metadata": {},
   "outputs": [],
   "source": [
    "# uses of lambda function\n",
    "# map, filter ,reduce"
   ]
  },
  {
   "cell_type": "markdown",
   "id": "dbebcdc0",
   "metadata": {},
   "source": [
    "# map()"
   ]
  },
  {
   "cell_type": "code",
   "execution_count": 31,
   "id": "909d6bb5",
   "metadata": {},
   "outputs": [
    {
     "name": "stdout",
     "output_type": "stream",
     "text": [
      "[24, 94, 174, 82, 156, 94]\n"
     ]
    }
   ],
   "source": [
    "list_num = [12,47,87,41,78,47]\n",
    "def double_num(x):\n",
    "    ans = []\n",
    "    for i in x:\n",
    "        ans.append(2*i)\n",
    "    print(ans)\n",
    "double_num(list_num)\n",
    "    "
   ]
  },
  {
   "cell_type": "code",
   "execution_count": 34,
   "id": "b1cbb54b",
   "metadata": {},
   "outputs": [
    {
     "data": {
      "text/plain": [
       "[24, 94, 174, 82, 156, 94]"
      ]
     },
     "execution_count": 34,
     "metadata": {},
     "output_type": "execute_result"
    }
   ],
   "source": [
    "list(map(lambda x : 2*x ,list_num))"
   ]
  },
  {
   "cell_type": "code",
   "execution_count": 35,
   "id": "e88a9d22",
   "metadata": {},
   "outputs": [
    {
     "data": {
      "text/plain": [
       "[36, 141, 261, 123, 234, 141]"
      ]
     },
     "execution_count": 35,
     "metadata": {},
     "output_type": "execute_result"
    }
   ],
   "source": [
    "list(map(lambda x : 3*x ,list_num))"
   ]
  },
  {
   "cell_type": "markdown",
   "id": "819240f7",
   "metadata": {},
   "source": [
    "# filter()"
   ]
  },
  {
   "cell_type": "code",
   "execution_count": 42,
   "id": "534895d7",
   "metadata": {},
   "outputs": [
    {
     "name": "stdout",
     "output_type": "stream",
     "text": [
      "[12, 78]\n"
     ]
    }
   ],
   "source": [
    "list_score = [12,47,87,41,78,47]\n",
    "def even_num(x):\n",
    "    ans = []\n",
    "    for i in x:\n",
    "        if i%2 == 0:\n",
    "            ans.append(i)\n",
    "    print(ans)\n",
    "        \n",
    "even_num(list_score)              "
   ]
  },
  {
   "cell_type": "code",
   "execution_count": 46,
   "id": "6262a888",
   "metadata": {
    "scrolled": true
   },
   "outputs": [
    {
     "data": {
      "text/plain": [
       "[12, 78]"
      ]
     },
     "execution_count": 46,
     "metadata": {},
     "output_type": "execute_result"
    }
   ],
   "source": [
    "list_score = [12,47,87,41,78,47]\n",
    "def even_ans(s):\n",
    "    if s%2 ==0:\n",
    "        return s\n",
    "    \n",
    "    \n",
    "# filter(function,iterable)\n",
    "list(filter(even_ans,list_score))"
   ]
  },
  {
   "cell_type": "markdown",
   "id": "cc996381",
   "metadata": {},
   "source": [
    "# This is detailed notes for the trainer"
   ]
  },
  {
   "cell_type": "markdown",
   "id": "add18ade",
   "metadata": {},
   "source": [
    "# Types of arguments"
   ]
  },
  {
   "cell_type": "code",
   "execution_count": 76,
   "id": "f5d2b16a",
   "metadata": {},
   "outputs": [
    {
     "name": "stdout",
     "output_type": "stream",
     "text": [
      "Positional Arguments:\n",
      "These are the most common type of arguments. They are passed to a function in the order defined by the function's parameter list. The number and order of arguments in the function call must match the number and order of parameters in the function definition.\n"
     ]
    }
   ],
   "source": [
    "print('''Positional Arguments:\n",
    "These are the most common type of arguments. They are passed to a function in the order defined by the function's parameter list. The number and order of arguments in the function call must match the number and order of parameters in the function definition.''')"
   ]
  },
  {
   "cell_type": "code",
   "execution_count": 77,
   "id": "9a28a444",
   "metadata": {},
   "outputs": [
    {
     "name": "stdout",
     "output_type": "stream",
     "text": [
      "Hello, Alice! You are 30 years old.\n"
     ]
    }
   ],
   "source": [
    "def greet(name, age):\n",
    "    print(f\"Hello, {name}! You are {age} years old.\")\n",
    "\n",
    "greet('Alice', 30)\n"
   ]
  },
  {
   "cell_type": "code",
   "execution_count": 78,
   "id": "f983eba6",
   "metadata": {},
   "outputs": [
    {
     "name": "stdout",
     "output_type": "stream",
     "text": [
      "Default Arguments:\n",
      "Default arguments have a predefined value set in the function's parameter list. If a value isn't provided for these arguments in the function call, the default value is used.\n"
     ]
    }
   ],
   "source": [
    "print('''Default Arguments:\n",
    "Default arguments have a predefined value set in the function's parameter list. If a value isn't provided for these arguments in the function call, the default value is used.''')"
   ]
  },
  {
   "cell_type": "code",
   "execution_count": 79,
   "id": "7cb00609",
   "metadata": {},
   "outputs": [
    {
     "name": "stdout",
     "output_type": "stream",
     "text": [
      "Hello, Alice! You are 18 years old.\n",
      "Hello, Bob! You are 25 years old.\n"
     ]
    }
   ],
   "source": [
    "def greet(name, age=18):\n",
    "    print(f\"Hello, {name}! You are {age} years old.\")\n",
    "\n",
    "greet('Alice')  # Uses default age of 18\n",
    "greet('Bob', 25)  # Uses provided age of 25\n"
   ]
  },
  {
   "cell_type": "code",
   "execution_count": 80,
   "id": "5ebf4c33",
   "metadata": {},
   "outputs": [
    {
     "name": "stdout",
     "output_type": "stream",
     "text": [
      "Variable-Length Positional Arguments (*args):\n",
      "These arguments allow a function to accept a variable number of positional arguments. The asterisk * before args unpacks the arguments into a tuple.\n"
     ]
    }
   ],
   "source": [
    "print('''Variable-Length Positional Arguments (*args):\n",
    "These arguments allow a function to accept a variable number of positional arguments. The asterisk * before args unpacks the arguments into a tuple.''')"
   ]
  },
  {
   "cell_type": "code",
   "execution_count": 81,
   "id": "002221ef",
   "metadata": {},
   "outputs": [
    {
     "name": "stdout",
     "output_type": "stream",
     "text": [
      "1\n",
      "2\n",
      "3\n"
     ]
    }
   ],
   "source": [
    "def show_values(*args):\n",
    "    for value in args:\n",
    "        print(value)\n",
    "\n",
    "show_values(1, 2, 3)\n"
   ]
  },
  {
   "cell_type": "code",
   "execution_count": 82,
   "id": "ffce1e7d",
   "metadata": {},
   "outputs": [
    {
     "name": "stdout",
     "output_type": "stream",
     "text": [
      "Keyword Arguments:\n",
      "Keyword arguments are passed with the corresponding parameter names in the function call. They provide clarity and allow you to pass arguments in any order.\n"
     ]
    }
   ],
   "source": [
    "print('''Keyword Arguments:\n",
    "Keyword arguments are passed with the corresponding parameter names in the function call. They provide clarity and allow you to pass arguments in any order.''')"
   ]
  },
  {
   "cell_type": "code",
   "execution_count": 83,
   "id": "1de110c0",
   "metadata": {},
   "outputs": [
    {
     "name": "stdout",
     "output_type": "stream",
     "text": [
      "Hello, Alice! You are 30 years old.\n"
     ]
    }
   ],
   "source": [
    "def greet(name, age):\n",
    "    print(f\"Hello, {name}! You are {age} years old.\")\n",
    "\n",
    "greet(age=30, name='Alice')\n"
   ]
  },
  {
   "cell_type": "code",
   "execution_count": 84,
   "id": "cf17fa93",
   "metadata": {},
   "outputs": [
    {
     "name": "stdout",
     "output_type": "stream",
     "text": [
      "Variable-Length Keyword Arguments (**kwargs):\n",
      "Similar to *args, **kwargs allows a function to accept a variable number of keyword arguments. The double asterisk ** before kwargs unpacks the arguments into a dictionary.\n"
     ]
    }
   ],
   "source": [
    "print('''Variable-Length Keyword Arguments (**kwargs):\n",
    "Similar to *args, **kwargs allows a function to accept a variable number of keyword arguments. The double asterisk ** before kwargs unpacks the arguments into a dictionary.''')"
   ]
  },
  {
   "cell_type": "code",
   "execution_count": 85,
   "id": "05a70cf5",
   "metadata": {},
   "outputs": [
    {
     "name": "stdout",
     "output_type": "stream",
     "text": [
      "name: Alice\n",
      "age: 30\n",
      "job: Engineer\n"
     ]
    }
   ],
   "source": [
    "def show_info(**kwargs):\n",
    "    for key, value in kwargs.items():\n",
    "        print(f\"{key}: {value}\")\n",
    "\n",
    "show_info(name='Alice', age=30, job='Engineer')\n"
   ]
  },
  {
   "cell_type": "code",
   "execution_count": 86,
   "id": "2da8f6fd",
   "metadata": {},
   "outputs": [
    {
     "name": "stdout",
     "output_type": "stream",
     "text": [
      "Combining Arguments:\n",
      "You can combine various types of arguments in a function definition. The order should be: positional arguments, default arguments, *args, and **kwargs.\n"
     ]
    }
   ],
   "source": [
    "print('''Combining Arguments:\n",
    "You can combine various types of arguments in a function definition. The order should be: positional arguments, default arguments, *args, and **kwargs.''')"
   ]
  },
  {
   "cell_type": "code",
   "execution_count": 87,
   "id": "184e8575",
   "metadata": {},
   "outputs": [],
   "source": [
    "def complex_function(a, b, *args, x=0, y=0, **kwargs):\n",
    "    pass  # Actual function logic here\n",
    "\n",
    "complex_function(1, 2, 3, 4, x=5, y=6, option1='value1', option2='value2')\n"
   ]
  },
  {
   "cell_type": "code",
   "execution_count": 88,
   "id": "21fab8ce",
   "metadata": {},
   "outputs": [
    {
     "name": "stdout",
     "output_type": "stream",
     "text": [
      "Yes, there is a priority in the usage of different types of arguments in Python functions. When defining and calling functions with various types of arguments, the order in which arguments are placed matters. Here's the general order of precedence:\n",
      "\n",
      "1. **Positional Arguments:**\n",
      "   These are the basic arguments that are required to be passed in the order defined by the function's parameter list. They have the highest priority.\n",
      "\n",
      "2. **Default Arguments:**\n",
      "   Default arguments come after positional arguments. If you don't provide a value for a default argument in the function call, the default value defined in the function definition is used.\n",
      "\n",
      "3. **Variable-Length Positional Arguments (`*args`):**\n",
      "   After positional and default arguments, you can use `*args` to accept a variable number of additional positional arguments.\n",
      "\n",
      "4. **Keyword Arguments:**\n",
      "   Keyword arguments come after any positional arguments, default arguments, and `*args`. They are passed by explicitly mentioning the parameter name along with the value in the function call.\n",
      "\n",
      "5. **Variable-Length Keyword Arguments (`**kwargs`):**\n",
      "   Lastly, you can use `**kwargs` to accept a variable number of additional keyword arguments. It comes after all other types of arguments.\n",
      "\n",
      "Here's an example to illustrate the priority:\n",
      "\n",
      "```python\n",
      "def example_function(a, b, c=0, *args, x=0, y=0, **kwargs):\n",
      "    print(\"a:\", a)\n",
      "    print(\"b:\", b)\n",
      "    print(\"c:\", c)\n",
      "    print(\"args:\", args)\n",
      "    print(\"x:\", x)\n",
      "    print(\"y:\", y)\n",
      "    print(\"kwargs:\", kwargs)\n",
      "\n",
      "example_function(1, 2, 3, 4, 5, x=6, y=7, option1='value1', option2='value2')\n",
      "```\n",
      "\n",
      "In this example, the function arguments are provided in the following order:\n",
      "1. `a` and `b` as positional arguments\n",
      "2. `c` as a default argument\n",
      "3. `4` and `5` as additional positional arguments (`*args`)\n",
      "4. `x` and `y` as keyword arguments\n",
      "5. `option1` and `option2` as additional keyword arguments (`**kwargs`)\n",
      "\n",
      "Remember, adhering to this order is essential to prevent ambiguity and ensure that the arguments are correctly assigned to their corresponding parameters in the function definition.\n"
     ]
    }
   ],
   "source": [
    "print('''Yes, there is a priority in the usage of different types of arguments in Python functions. When defining and calling functions with various types of arguments, the order in which arguments are placed matters. Here's the general order of precedence:\n",
    "\n",
    "1. **Positional Arguments:**\n",
    "   These are the basic arguments that are required to be passed in the order defined by the function's parameter list. They have the highest priority.\n",
    "\n",
    "2. **Default Arguments:**\n",
    "   Default arguments come after positional arguments. If you don't provide a value for a default argument in the function call, the default value defined in the function definition is used.\n",
    "\n",
    "3. **Variable-Length Positional Arguments (`*args`):**\n",
    "   After positional and default arguments, you can use `*args` to accept a variable number of additional positional arguments.\n",
    "\n",
    "4. **Keyword Arguments:**\n",
    "   Keyword arguments come after any positional arguments, default arguments, and `*args`. They are passed by explicitly mentioning the parameter name along with the value in the function call.\n",
    "\n",
    "5. **Variable-Length Keyword Arguments (`**kwargs`):**\n",
    "   Lastly, you can use `**kwargs` to accept a variable number of additional keyword arguments. It comes after all other types of arguments.\n",
    "\n",
    "Here's an example to illustrate the priority:\n",
    "\n",
    "```python\n",
    "def example_function(a, b, c=0, *args, x=0, y=0, **kwargs):\n",
    "    print(\"a:\", a)\n",
    "    print(\"b:\", b)\n",
    "    print(\"c:\", c)\n",
    "    print(\"args:\", args)\n",
    "    print(\"x:\", x)\n",
    "    print(\"y:\", y)\n",
    "    print(\"kwargs:\", kwargs)\n",
    "\n",
    "example_function(1, 2, 3, 4, 5, x=6, y=7, option1='value1', option2='value2')\n",
    "```\n",
    "\n",
    "In this example, the function arguments are provided in the following order:\n",
    "1. `a` and `b` as positional arguments\n",
    "2. `c` as a default argument\n",
    "3. `4` and `5` as additional positional arguments (`*args`)\n",
    "4. `x` and `y` as keyword arguments\n",
    "5. `option1` and `option2` as additional keyword arguments (`**kwargs`)\n",
    "\n",
    "Remember, adhering to this order is essential to prevent ambiguity and ensure that the arguments are correctly assigned to their corresponding parameters in the function definition.''')"
   ]
  },
  {
   "cell_type": "code",
   "execution_count": 90,
   "id": "dcaf1598",
   "metadata": {},
   "outputs": [],
   "source": [
    "# Here's an example to illustrate the priority:"
   ]
  },
  {
   "cell_type": "code",
   "execution_count": 89,
   "id": "3cd7e77c",
   "metadata": {},
   "outputs": [
    {
     "name": "stdout",
     "output_type": "stream",
     "text": [
      "a: 1\n",
      "b: 2\n",
      "c: 3\n",
      "args: (4, 5)\n",
      "x: 6\n",
      "y: 7\n",
      "kwargs: {'option1': 'value1', 'option2': 'value2'}\n"
     ]
    }
   ],
   "source": [
    "def example_function(a, b, c=0, *args, x=0, y=0, **kwargs):\n",
    "    print(\"a:\", a)\n",
    "    print(\"b:\", b)\n",
    "    print(\"c:\", c)\n",
    "    print(\"args:\", args)\n",
    "    print(\"x:\", x)\n",
    "    print(\"y:\", y)\n",
    "    print(\"kwargs:\", kwargs)\n",
    "\n",
    "example_function(1, 2, 3, 4, 5, x=6, y=7, option1='value1', option2='value2')\n"
   ]
  },
  {
   "cell_type": "code",
   "execution_count": null,
   "id": "307b2fa0",
   "metadata": {},
   "outputs": [],
   "source": []
  },
  {
   "cell_type": "code",
   "execution_count": null,
   "id": "7736ef73",
   "metadata": {},
   "outputs": [],
   "source": []
  },
  {
   "cell_type": "code",
   "execution_count": null,
   "id": "a98996c6",
   "metadata": {},
   "outputs": [],
   "source": []
  },
  {
   "cell_type": "code",
   "execution_count": null,
   "id": "c4af6372",
   "metadata": {},
   "outputs": [],
   "source": []
  },
  {
   "cell_type": "code",
   "execution_count": null,
   "id": "52280a36",
   "metadata": {},
   "outputs": [],
   "source": []
  },
  {
   "cell_type": "markdown",
   "id": "4d760c00",
   "metadata": {},
   "source": [
    "# *args"
   ]
  },
  {
   "cell_type": "code",
   "execution_count": 61,
   "id": "66c81469",
   "metadata": {},
   "outputs": [
    {
     "name": "stdout",
     "output_type": "stream",
     "text": [
      "In Python, *args is a special syntax used in function definitions to allow a function to accept a variable number of positional arguments. The term \"args\" stands for \"arguments,\" and the preceding asterisk * unpacks the arguments into a tuple. This is often used when you're uncertain about the number of arguments that will be passed to a function.\n"
     ]
    }
   ],
   "source": [
    "print('''In Python, *args is a special syntax used in function definitions to allow a function to accept a variable number of positional arguments. The term \"args\" stands for \"arguments,\" and the preceding asterisk * unpacks the arguments into a tuple. This is often used when you're uncertain about the number of arguments that will be passed to a function.''')"
   ]
  },
  {
   "cell_type": "code",
   "execution_count": 62,
   "id": "95bc24c4",
   "metadata": {},
   "outputs": [
    {
     "name": "stdout",
     "output_type": "stream",
     "text": [
      "1\n",
      "2\n",
      "3\n",
      "hello\n",
      "world\n"
     ]
    }
   ],
   "source": [
    "# Here's how you use *args in a function definition:\n",
    "def my_function(*args):\n",
    "    for arg in args:\n",
    "        print(arg)\n",
    "\n",
    "my_function(1, 2, 3)  # Outputs: 1 2 3\n",
    "my_function('hello', 'world')  # Outputs: hello world\n"
   ]
  },
  {
   "cell_type": "code",
   "execution_count": 63,
   "id": "70f12849",
   "metadata": {},
   "outputs": [
    {
     "name": "stdout",
     "output_type": "stream",
     "text": [
      "Keep in mind a few key points:\n",
      "\n",
      "The name args is just a convention; you could use any valid variable name preceded by the *.\n",
      "You can use *args in combination with other positional arguments, but *args must come after the regular arguments.\n",
      "You can't use *args more than once in a single function definition.\n"
     ]
    }
   ],
   "source": [
    "print('''Keep in mind a few key points:\n",
    "\n",
    "The name args is just a convention; you could use any valid variable name preceded by the *.\n",
    "You can use *args in combination with other positional arguments, but *args must come after the regular arguments.\n",
    "You can't use *args more than once in a single function definition.''')"
   ]
  },
  {
   "cell_type": "code",
   "execution_count": 64,
   "id": "b1557d4c",
   "metadata": {},
   "outputs": [
    {
     "name": "stdout",
     "output_type": "stream",
     "text": [
      "Regular arguments: 1 2\n",
      "Additional arguments: (3, 4, 5)\n"
     ]
    }
   ],
   "source": [
    "# Here's an example with a mix of regular arguments and *args:\n",
    "def example_function(arg1, arg2, *args):\n",
    "    print(\"Regular arguments:\", arg1, arg2)\n",
    "    print(\"Additional arguments:\", args)\n",
    "\n",
    "example_function(1, 2, 3, 4, 5)  # Outputs:\n",
    "# Regular arguments: 1 2\n",
    "# Additional arguments: (3, 4, 5)\n"
   ]
  },
  {
   "cell_type": "code",
   "execution_count": 65,
   "id": "e8ada4ac",
   "metadata": {},
   "outputs": [
    {
     "name": "stdout",
     "output_type": "stream",
     "text": [
      "By using *args, you make your function more flexible and capable of handling varying numbers of arguments without explicitly defining each parameter.\n"
     ]
    }
   ],
   "source": [
    "print('''By using *args, you make your function more flexible and capable of handling varying numbers of arguments without explicitly defining each parameter.''')"
   ]
  },
  {
   "cell_type": "code",
   "execution_count": 66,
   "id": "0079593c",
   "metadata": {},
   "outputs": [
    {
     "name": "stdout",
     "output_type": "stream",
     "text": [
      "15\n"
     ]
    }
   ],
   "source": [
    "# Calculating Sum:\n",
    "def calculate_sum(*args):\n",
    "    return sum(args)\n",
    "\n",
    "result = calculate_sum(1, 2, 3, 4, 5)\n",
    "print(result)  # Outputs: 15\n"
   ]
  },
  {
   "cell_type": "code",
   "execution_count": 67,
   "id": "9be8e7db",
   "metadata": {},
   "outputs": [
    {
     "name": "stdout",
     "output_type": "stream",
     "text": [
      "Hello world from Python!\n"
     ]
    }
   ],
   "source": [
    "# Joining Strings:\n",
    "def concatenate_strings(*args):\n",
    "    return ' '.join(args)\n",
    "\n",
    "result = concatenate_strings('Hello', 'world', 'from', 'Python!')\n",
    "print(result)  # Outputs: \"Hello world from Python!\"\n"
   ]
  },
  {
   "cell_type": "code",
   "execution_count": 68,
   "id": "fcca5818",
   "metadata": {},
   "outputs": [
    {
     "name": "stdout",
     "output_type": "stream",
     "text": [
      "23\n"
     ]
    }
   ],
   "source": [
    "# Finding Maximum Value:\n",
    "def find_max(*args):\n",
    "    return max(args)\n",
    "\n",
    "result = find_max(10, 5, 23, 8)\n",
    "print(result)  # Outputs: 23\n"
   ]
  },
  {
   "cell_type": "code",
   "execution_count": 69,
   "id": "50372bb1",
   "metadata": {},
   "outputs": [
    {
     "name": "stdout",
     "output_type": "stream",
     "text": [
      "Name: Alice\n",
      "Additional info: (25, 'New York', 'Engineer')\n"
     ]
    }
   ],
   "source": [
    "# Using with Other Arguments:\n",
    "def show_info(name, *args):\n",
    "    print(\"Name:\", name)\n",
    "    print(\"Additional info:\", args)\n",
    "\n",
    "show_info('Alice', 25, 'New York', 'Engineer')\n",
    "# Outputs:\n",
    "# Name: Alice\n",
    "# Additional info: (25, 'New York', 'Engineer')\n"
   ]
  },
  {
   "cell_type": "code",
   "execution_count": 70,
   "id": "a451a0bd",
   "metadata": {},
   "outputs": [
    {
     "name": "stdout",
     "output_type": "stream",
     "text": [
      "Alice 30 years old, works as a Software Developer.\n"
     ]
    }
   ],
   "source": [
    "# Dynamic Formatting:\n",
    "def format_string(*args):\n",
    "    return \"{} {} years old, works as a {}.\".format(*args)\n",
    "\n",
    "result = format_string('Alice', 30, 'Software Developer')\n",
    "print(result)  # Outputs: \"Alice 30 years old, works as a Software Developer.\"\n"
   ]
  },
  {
   "cell_type": "code",
   "execution_count": 71,
   "id": "b59b1659",
   "metadata": {},
   "outputs": [
    {
     "name": "stdout",
     "output_type": "stream",
     "text": [
      "Calling function: add\n",
      "Result: 8\n"
     ]
    },
    {
     "data": {
      "text/plain": [
       "8"
      ]
     },
     "execution_count": 71,
     "metadata": {},
     "output_type": "execute_result"
    }
   ],
   "source": [
    "# Creating a Wrapper Function:\n",
    "def wrapper_function(func, *args):\n",
    "    print(\"Calling function:\", func.__name__)\n",
    "    result = func(*args)\n",
    "    print(\"Result:\", result)\n",
    "    return result\n",
    "\n",
    "def add(a, b):\n",
    "    return a + b\n",
    "\n",
    "wrapper_function(add, 3, 5)\n",
    "# Outputs:\n",
    "# Calling function: add\n",
    "# Result: 8\n"
   ]
  },
  {
   "cell_type": "markdown",
   "id": "cbac04c8",
   "metadata": {},
   "source": [
    "# **kwargs"
   ]
  },
  {
   "cell_type": "code",
   "execution_count": 72,
   "id": "eaa93e58",
   "metadata": {},
   "outputs": [
    {
     "name": "stdout",
     "output_type": "stream",
     "text": [
      "In Python, **kwargs is a special syntax used in function definitions to allow a function to accept an arbitrary number of keyword arguments (also known as keyword parameters). The term \"kwargs\" stands for \"keyword arguments,\" and the preceding double asterisks ** unpack the keyword arguments into a dictionary. This is useful when you want to pass a variable number of named arguments to a function.\n"
     ]
    }
   ],
   "source": [
    "print('''In Python, **kwargs is a special syntax used in function definitions to allow a function to accept an arbitrary number of keyword arguments (also known as keyword parameters). The term \"kwargs\" stands for \"keyword arguments,\" and the preceding double asterisks ** unpack the keyword arguments into a dictionary. This is useful when you want to pass a variable number of named arguments to a function.''')"
   ]
  },
  {
   "cell_type": "code",
   "execution_count": 73,
   "id": "9b8f5920",
   "metadata": {},
   "outputs": [
    {
     "name": "stdout",
     "output_type": "stream",
     "text": [
      "name Alice\n",
      "age 30\n",
      "job Engineer\n"
     ]
    }
   ],
   "source": [
    "# Here's how you use **kwargs in a function definition:\n",
    "def my_function(**kwargs):\n",
    "    for key, value in kwargs.items():\n",
    "        print(key, value)\n",
    "\n",
    "my_function(name='Alice', age=30, job='Engineer')\n",
    "# Outputs:\n",
    "# name Alice\n",
    "# age 30\n",
    "# job Engineer\n"
   ]
  },
  {
   "cell_type": "code",
   "execution_count": 74,
   "id": "e39d62ef",
   "metadata": {},
   "outputs": [
    {
     "name": "stdout",
     "output_type": "stream",
     "text": [
      "Regular arguments: 1 2\n",
      "Keyword arguments: {'name': 'Alice', 'age': 30, 'job': 'Engineer'}\n"
     ]
    }
   ],
   "source": [
    "# Here's an example using both positional arguments and **kwargs:\n",
    "def example_function(arg1, arg2, **kwargs):\n",
    "    print(\"Regular arguments:\", arg1, arg2)\n",
    "    print(\"Keyword arguments:\", kwargs)\n",
    "\n",
    "example_function(1, 2, name='Alice', age=30, job='Engineer')\n",
    "# Outputs:\n",
    "# Regular arguments: 1 2\n",
    "# Keyword arguments: {'name': 'Alice', 'age': 30, 'job': 'Engineer'}\n"
   ]
  },
  {
   "cell_type": "code",
   "execution_count": 75,
   "id": "2fa78871",
   "metadata": {},
   "outputs": [
    {
     "name": "stdout",
     "output_type": "stream",
     "text": [
      "Regular arguments: 1 2\n",
      "Keyword arguments: {'name': 'Alice', 'age': 30, 'job': 'Engineer'}\n"
     ]
    }
   ],
   "source": [
    "# Here's an example using both positional arguments and **kwargs:\n",
    "def example_function(arg1, arg2, **kwargs):\n",
    "    print(\"Regular arguments:\", arg1, arg2)\n",
    "    print(\"Keyword arguments:\", kwargs)\n",
    "\n",
    "example_function(1, 2, name='Alice', age=30, job='Engineer')\n",
    "# Outputs:\n",
    "# Regular arguments: 1 2\n",
    "# Keyword arguments: {'name': 'Alice', 'age': 30, 'job': 'Engineer'}\n"
   ]
  },
  {
   "cell_type": "code",
   "execution_count": null,
   "id": "12964464",
   "metadata": {},
   "outputs": [],
   "source": []
  },
  {
   "cell_type": "code",
   "execution_count": null,
   "id": "bc8e20b3",
   "metadata": {},
   "outputs": [],
   "source": []
  },
  {
   "cell_type": "code",
   "execution_count": null,
   "id": "37e399ac",
   "metadata": {},
   "outputs": [],
   "source": []
  },
  {
   "cell_type": "code",
   "execution_count": null,
   "id": "b0c92dda",
   "metadata": {},
   "outputs": [],
   "source": []
  },
  {
   "cell_type": "code",
   "execution_count": null,
   "id": "c5ad9f22",
   "metadata": {},
   "outputs": [],
   "source": []
  },
  {
   "cell_type": "code",
   "execution_count": null,
   "id": "f107bfa7",
   "metadata": {},
   "outputs": [],
   "source": []
  },
  {
   "cell_type": "code",
   "execution_count": null,
   "id": "3d99ac65",
   "metadata": {},
   "outputs": [],
   "source": []
  },
  {
   "cell_type": "code",
   "execution_count": null,
   "id": "d48f345d",
   "metadata": {},
   "outputs": [],
   "source": []
  },
  {
   "cell_type": "code",
   "execution_count": null,
   "id": "59036f51",
   "metadata": {},
   "outputs": [],
   "source": []
  },
  {
   "cell_type": "code",
   "execution_count": null,
   "id": "cc90fde3",
   "metadata": {},
   "outputs": [],
   "source": []
  },
  {
   "cell_type": "markdown",
   "id": "217105f8",
   "metadata": {},
   "source": [
    "# Lambda Function"
   ]
  },
  {
   "cell_type": "code",
   "execution_count": 5,
   "id": "ab029fe0",
   "metadata": {},
   "outputs": [
    {
     "name": "stdout",
     "output_type": "stream",
     "text": [
      "A lambda function in Python is a small, anonymous, and inline function that can have any number of arguments but can only have one expression. It is also sometimes referred to as a \"lambda expression\" or \"lambda notation.\" Lambda functions are often used for short, simple operations that can be defined in a single line of code.\n"
     ]
    }
   ],
   "source": [
    "print('''A lambda function in Python is a small, anonymous, and inline function that can have any number of arguments but can only have one expression. It is also sometimes referred to as a \"lambda expression\" or \"lambda notation.\" Lambda functions are often used for short, simple operations that can be defined in a single line of code.''')"
   ]
  },
  {
   "cell_type": "code",
   "execution_count": 8,
   "id": "013e3165",
   "metadata": {},
   "outputs": [],
   "source": [
    "# syntax\n",
    "# lambda arguments: expression\n"
   ]
  },
  {
   "cell_type": "code",
   "execution_count": 9,
   "id": "4f9e8d14",
   "metadata": {},
   "outputs": [
    {
     "name": "stdout",
     "output_type": "stream",
     "text": [
      "25\n"
     ]
    }
   ],
   "source": [
    "square = lambda x: x ** 2\n",
    "print(square(5))  # Outputs: 25\n"
   ]
  },
  {
   "cell_type": "code",
   "execution_count": 10,
   "id": "dcae4cba",
   "metadata": {},
   "outputs": [
    {
     "name": "stdout",
     "output_type": "stream",
     "text": [
      "[1, 4, 9, 16, 25]\n"
     ]
    }
   ],
   "source": [
    "numbers = [1, 2, 3, 4, 5]\n",
    "squared_numbers = map(lambda x: x ** 2, numbers)\n",
    "print(list(squared_numbers))  # Outputs: [1, 4, 9, 16, 25]\n"
   ]
  },
  {
   "cell_type": "code",
   "execution_count": 11,
   "id": "e2a4f893",
   "metadata": {},
   "outputs": [
    {
     "name": "stdout",
     "output_type": "stream",
     "text": [
      "8\n",
      "6\n",
      "12\n",
      "5.0\n"
     ]
    }
   ],
   "source": [
    "add = lambda x, y: x + y\n",
    "subtract = lambda x, y: x - y\n",
    "multiply = lambda x, y: x * y\n",
    "divide = lambda x, y: x / y\n",
    "\n",
    "print(add(5, 3))        # Outputs: 8\n",
    "print(subtract(10, 4))  # Outputs: 6\n",
    "print(multiply(2, 6))   # Outputs: 12\n",
    "print(divide(15, 3))    # Outputs: 5.0\n"
   ]
  },
  {
   "cell_type": "code",
   "execution_count": 12,
   "id": "61fcb7f4",
   "metadata": {},
   "outputs": [
    {
     "name": "stdout",
     "output_type": "stream",
     "text": [
      "[('Charlie', 78), ('Alice', 85), ('Bob', 92)]\n"
     ]
    }
   ],
   "source": [
    "students = [('Alice', 85), ('Bob', 92), ('Charlie', 78)]\n",
    "students_sorted = sorted(students, key=lambda student: student[1])\n",
    "print(students_sorted)  # Outputs: [('Charlie', 78), ('Alice', 85), ('Bob', 92)]\n"
   ]
  },
  {
   "cell_type": "code",
   "execution_count": 13,
   "id": "6aea05c1",
   "metadata": {},
   "outputs": [
    {
     "name": "stdout",
     "output_type": "stream",
     "text": [
      "[2, 4, 6, 8, 10]\n"
     ]
    }
   ],
   "source": [
    "numbers = [1, 2, 3, 4, 5, 6, 7, 8, 9, 10]\n",
    "even_numbers = filter(lambda x: x % 2 == 0, numbers)\n",
    "print(list(even_numbers))  # Outputs: [2, 4, 6, 8, 10]\n"
   ]
  },
  {
   "cell_type": "code",
   "execution_count": 14,
   "id": "0626f939",
   "metadata": {},
   "outputs": [
    {
     "name": "stdout",
     "output_type": "stream",
     "text": [
      "8\n"
     ]
    }
   ],
   "source": [
    "power = lambda base, exponent: base ** exponent\n",
    "print(power(2, 3))  # Outputs: 8\n"
   ]
  },
  {
   "cell_type": "code",
   "execution_count": 15,
   "id": "03fe296c",
   "metadata": {},
   "outputs": [
    {
     "name": "stdout",
     "output_type": "stream",
     "text": [
      "True\n",
      "False\n"
     ]
    }
   ],
   "source": [
    "is_positive = lambda x: x > 0\n",
    "is_even = lambda x: x % 2 == 0\n",
    "\n",
    "print(is_positive(5))  # Outputs: True\n",
    "print(is_even(7))      # Outputs: False\n"
   ]
  },
  {
   "cell_type": "code",
   "execution_count": 16,
   "id": "b06913a7",
   "metadata": {},
   "outputs": [
    {
     "name": "stdout",
     "output_type": "stream",
     "text": [
      "['A', 'B', 'C']\n"
     ]
    }
   ],
   "source": [
    "names = ['Alice', 'Bob', 'Charlie']\n",
    "initials = map(lambda name: name[0], names)\n",
    "print(list(initials))  # Outputs: ['A', 'B', 'C']\n"
   ]
  },
  {
   "cell_type": "code",
   "execution_count": 17,
   "id": "40e365ea",
   "metadata": {},
   "outputs": [
    {
     "name": "stdout",
     "output_type": "stream",
     "text": [
      "Hello world lambda functions\n"
     ]
    }
   ],
   "source": [
    "words = ['Hello', 'world', 'lambda', 'functions']\n",
    "combine = lambda lst: ' '.join(lst)\n",
    "combined_string = combine(words)\n",
    "print(combined_string)  # Outputs: \"Hello world lambda functions\"\n"
   ]
  },
  {
   "cell_type": "code",
   "execution_count": 18,
   "id": "00362fc5",
   "metadata": {},
   "outputs": [
    {
     "name": "stdout",
     "output_type": "stream",
     "text": [
      "Remember that while lambda functions are concise and useful for certain situations, they're best suited for simple operations. For more complex logic, it's often better to use regular named functions for better readability and maintainability.\n"
     ]
    }
   ],
   "source": [
    "print('''Remember that while lambda functions are concise and useful for certain situations, they're best suited for simple operations. For more complex logic, it's often better to use regular named functions for better readability and maintainability.''')"
   ]
  },
  {
   "cell_type": "markdown",
   "id": "c67c3279",
   "metadata": {},
   "source": [
    "# map()"
   ]
  },
  {
   "cell_type": "code",
   "execution_count": 20,
   "id": "1e0aea8a",
   "metadata": {},
   "outputs": [
    {
     "name": "stdout",
     "output_type": "stream",
     "text": [
      "The map() function in Python is a built-in function that takes in two or more arguments: a function and one or more iterable objects (like lists, tuples, etc.). It applies the given function to each item in the iterables and returns an iterator that yields the results.\n"
     ]
    }
   ],
   "source": [
    "print('''The map() function in Python is a built-in function that takes in two or more arguments: a function and one or more iterable objects (like lists, tuples, etc.). It applies the given function to each item in the iterables and returns an iterator that yields the results.''')"
   ]
  },
  {
   "cell_type": "code",
   "execution_count": 22,
   "id": "46145445",
   "metadata": {},
   "outputs": [],
   "source": [
    "# The basic syntax of the map() function is as follows:\n",
    "# map(function, iterable1, iterable2, ...)\n"
   ]
  },
  {
   "cell_type": "code",
   "execution_count": 24,
   "id": "8dde1ab6",
   "metadata": {},
   "outputs": [
    {
     "name": "stdout",
     "output_type": "stream",
     "text": [
      "[1, 4, 9, 16, 25]\n"
     ]
    }
   ],
   "source": [
    "# Here's a simple example of using the map() function to square a list of numbers:\n",
    "numbers = [1, 2, 3, 4, 5]\n",
    "squared = map(lambda x: x ** 2, numbers)\n",
    "squared_list = list(squared)\n",
    "print(squared_list)  # Outputs: [1, 4, 9, 16, 25]\n"
   ]
  },
  {
   "cell_type": "code",
   "execution_count": 25,
   "id": "b5f05ac2",
   "metadata": {},
   "outputs": [
    {
     "name": "stdout",
     "output_type": "stream",
     "text": [
      "[2, 4, 6, 8, 10]\n"
     ]
    }
   ],
   "source": [
    "# Here's another example using the map() function with a regular named function:\n",
    "def double(x):\n",
    "    return x * 2\n",
    "\n",
    "numbers = [1, 2, 3, 4, 5]\n",
    "doubled = map(double, numbers)\n",
    "doubled_list = list(doubled)\n",
    "print(doubled_list)  # Outputs: [2, 4, 6, 8, 10]\n"
   ]
  },
  {
   "cell_type": "code",
   "execution_count": 26,
   "id": "4cf752a7",
   "metadata": {},
   "outputs": [
    {
     "name": "stdout",
     "output_type": "stream",
     "text": [
      "The map() function provides a convenient way to apply a function to all elements of an iterable and collect the results. Keep in mind that in Python 3, the map() function returns an iterator, so you often need to convert it to a list or another suitable data structure to see the results as shown in the examples above.\n"
     ]
    }
   ],
   "source": [
    "print('''The map() function provides a convenient way to apply a function to all elements of an iterable and collect the results. Keep in mind that in Python 3, the map() function returns an iterator, so you often need to convert it to a list or another suitable data structure to see the results as shown in the examples above.''')"
   ]
  },
  {
   "cell_type": "code",
   "execution_count": 30,
   "id": "7c236a68",
   "metadata": {},
   "outputs": [
    {
     "name": "stdout",
     "output_type": "stream",
     "text": [
      "[32.0, 50.0, 68.0, 86.0, 104.0]\n"
     ]
    }
   ],
   "source": [
    "# Converting Celsius to Fahrenheit:\n",
    "celsius_temps = [0, 10, 20, 30, 40]\n",
    "\n",
    "def celsius_to_fahrenheit(celsius):\n",
    "    return (celsius * 9/5) + 32\n",
    "\n",
    "fahrenheit_temps = map(celsius_to_fahrenheit, celsius_temps)\n",
    "fahrenheit_list = list(fahrenheit_temps)\n",
    "print(fahrenheit_list)  # Outputs: [32.0, 50.0, 68.0, 86.0, 104.0]\n"
   ]
  },
  {
   "cell_type": "code",
   "execution_count": 31,
   "id": "1458a462",
   "metadata": {},
   "outputs": [
    {
     "name": "stdout",
     "output_type": "stream",
     "text": [
      "['Hello, Alice!', 'Hello, Bob!', 'Hello, Charlie!']\n"
     ]
    }
   ],
   "source": [
    "# Applying String Formatting:\n",
    "names = ['Alice', 'Bob', 'Charlie']\n",
    "\n",
    "formatted_names = map(lambda name: f\"Hello, {name}!\", names)\n",
    "formatted_list = list(formatted_names)\n",
    "print(formatted_list)  # Outputs: ['Hello, Alice!', 'Hello, Bob!', 'Hello, Charlie!']\n"
   ]
  },
  {
   "cell_type": "code",
   "execution_count": 32,
   "id": "1756243c",
   "metadata": {},
   "outputs": [
    {
     "name": "stdout",
     "output_type": "stream",
     "text": [
      "[5, 6, 6, 4]\n"
     ]
    }
   ],
   "source": [
    "# Calculating Length of Words:\n",
    "words = ['apple', 'banana', 'cherry', 'date']\n",
    "\n",
    "word_lengths = map(len, words)\n",
    "length_list = list(word_lengths)\n",
    "print(length_list)  # Outputs: [5, 6, 6, 4]\n"
   ]
  },
  {
   "cell_type": "code",
   "execution_count": 33,
   "id": "0fdc428d",
   "metadata": {},
   "outputs": [
    {
     "name": "stdout",
     "output_type": "stream",
     "text": [
      "['Hello', 'World', 'Python']\n"
     ]
    }
   ],
   "source": [
    "# Capitalizing Words:\n",
    "words = ['hello', 'world', 'python']\n",
    "\n",
    "capitalized_words = map(str.capitalize, words)\n",
    "capitalized_list = list(capitalized_words)\n",
    "print(capitalized_list)  # Outputs: ['Hello', 'World', 'Python']\n"
   ]
  },
  {
   "cell_type": "code",
   "execution_count": 34,
   "id": "8d708f37",
   "metadata": {},
   "outputs": [
    {
     "name": "stdout",
     "output_type": "stream",
     "text": [
      "[3, 3, 2]\n"
     ]
    }
   ],
   "source": [
    "# Rounding Floating-Point Numbers:\n",
    "numbers = [3.14159, 2.71828, 1.61803]\n",
    "\n",
    "rounded_numbers = map(round, numbers)\n",
    "rounded_list = list(rounded_numbers)\n",
    "print(rounded_list)  # Outputs: [3, 3, 2]\n"
   ]
  },
  {
   "cell_type": "code",
   "execution_count": 35,
   "id": "7b6d17ae",
   "metadata": {},
   "outputs": [
    {
     "name": "stdout",
     "output_type": "stream",
     "text": [
      "[1, 8, 81]\n"
     ]
    }
   ],
   "source": [
    "# Working with Multiple Iterables:\n",
    "numbers = [1, 2, 3]\n",
    "powers = [2, 3, 4]\n",
    "\n",
    "result = map(lambda x, y: x ** y, numbers, powers)\n",
    "result_list = list(result)\n",
    "print(result_list)  # Outputs: [1, 8, 81]\n"
   ]
  },
  {
   "cell_type": "markdown",
   "id": "d8346308",
   "metadata": {},
   "source": [
    "# filter()"
   ]
  },
  {
   "cell_type": "code",
   "execution_count": 36,
   "id": "65520525",
   "metadata": {},
   "outputs": [
    {
     "name": "stdout",
     "output_type": "stream",
     "text": [
      "The filter() function in Python is another built-in function that allows you to filter elements from an iterable (like a list or tuple) based on a specified condition. It takes in two arguments: a function that defines the filtering condition and an iterable containing the elements to be filtered. The function returns an iterator containing the elements that satisfy the condition.\n"
     ]
    }
   ],
   "source": [
    "print('''The filter() function in Python is another built-in function that allows you to filter elements from an iterable (like a list or tuple) based on a specified condition. It takes in two arguments: a function that defines the filtering condition and an iterable containing the elements to be filtered. The function returns an iterator containing the elements that satisfy the condition.''')"
   ]
  },
  {
   "cell_type": "code",
   "execution_count": 38,
   "id": "7ae09eed",
   "metadata": {},
   "outputs": [],
   "source": [
    "# The basic syntax of the filter() function is as follows:\n",
    "# filter(function, iterable)\n",
    "# "
   ]
  },
  {
   "cell_type": "code",
   "execution_count": 39,
   "id": "d968fe12",
   "metadata": {},
   "outputs": [
    {
     "name": "stdout",
     "output_type": "stream",
     "text": [
      "[2, 4, 6, 8, 10]\n"
     ]
    }
   ],
   "source": [
    "# Here's an example of using the filter() function to filter out even numbers from a list:\n",
    "numbers = [1, 2, 3, 4, 5, 6, 7, 8, 9, 10]\n",
    "\n",
    "def is_even(x):\n",
    "    return x % 2 == 0\n",
    "\n",
    "even_numbers = filter(is_even, numbers)\n",
    "even_numbers_list = list(even_numbers)\n",
    "print(even_numbers_list)  # Outputs: [2, 4, 6, 8, 10]\n"
   ]
  },
  {
   "cell_type": "code",
   "execution_count": 40,
   "id": "82c9f27e",
   "metadata": {},
   "outputs": [
    {
     "name": "stdout",
     "output_type": "stream",
     "text": [
      "[2, 4, 6, 8, 10]\n"
     ]
    }
   ],
   "source": [
    "# Here's the same example using a lambda function:\n",
    "numbers = [1, 2, 3, 4, 5, 6, 7, 8, 9, 10]\n",
    "\n",
    "even_numbers = filter(lambda x: x % 2 == 0, numbers)\n",
    "even_numbers_list = list(even_numbers)\n",
    "print(even_numbers_list)  # Outputs: [2, 4, 6, 8, 10]\n"
   ]
  },
  {
   "cell_type": "code",
   "execution_count": 42,
   "id": "0d4bfe11",
   "metadata": {},
   "outputs": [
    {
     "name": "stdout",
     "output_type": "stream",
     "text": [
      "The filter() function is particularly useful when you want to selectively retain elements from an iterable based on a certain condition. It's worth noting that, similar to the map() function, the filter() function returns an iterator. So, if you want to work with the filtered elements as a list, you need to convert the iterator to a list using the list() function.\n"
     ]
    }
   ],
   "source": [
    "print('''The filter() function is particularly useful when you want to selectively retain elements from an iterable based on a certain condition. It's worth noting that, similar to the map() function, the filter() function returns an iterator. So, if you want to work with the filtered elements as a list, you need to convert the iterator to a list using the list() function.''')"
   ]
  },
  {
   "cell_type": "code",
   "execution_count": 43,
   "id": "bd5fe5a6",
   "metadata": {},
   "outputs": [
    {
     "name": "stdout",
     "output_type": "stream",
     "text": [
      "['banana', 'cherry']\n"
     ]
    }
   ],
   "source": [
    "# Filtering Strings by Length:\n",
    "words = ['apple', 'banana', 'cherry', 'date']\n",
    "\n",
    "def filter_by_length(word):\n",
    "    return len(word) >= 6\n",
    "\n",
    "long_words = filter(filter_by_length, words)\n",
    "long_words_list = list(long_words)\n",
    "print(long_words_list)  # Outputs: ['banana', 'cherry']\n"
   ]
  },
  {
   "cell_type": "code",
   "execution_count": 45,
   "id": "1095924b",
   "metadata": {},
   "outputs": [
    {
     "name": "stdout",
     "output_type": "stream",
     "text": [
      "[3, 7, 2]\n"
     ]
    }
   ],
   "source": [
    "# Filtering Positive Numbers:\n",
    "numbers = [3, -1, 0, 7, -5, 2, -8]\n",
    "\n",
    "positive_numbers = filter(lambda x: x > 0, numbers)\n",
    "positive_numbers_list = list(positive_numbers)\n",
    "print(positive_numbers_list)  # Outputs: [3, 7, 2]\n"
   ]
  },
  {
   "cell_type": "code",
   "execution_count": 46,
   "id": "f008f2af",
   "metadata": {},
   "outputs": [
    {
     "name": "stdout",
     "output_type": "stream",
     "text": [
      "[2, 3, 5, 7, 11, 13, 17, 19]\n"
     ]
    }
   ],
   "source": [
    "#     Filtering Prime Numbers:\n",
    "def is_prime(n):\n",
    "    if n <= 1:\n",
    "        return False\n",
    "    for i in range(2, int(n**0.5) + 1):\n",
    "        if n % i == 0:\n",
    "            return False\n",
    "    return True\n",
    "\n",
    "numbers = range(1, 20)\n",
    "prime_numbers = filter(is_prime, numbers)\n",
    "prime_numbers_list = list(prime_numbers)\n",
    "print(prime_numbers_list)  # Outputs: [2, 3, 5, 7, 11, 13, 17, 19]\n"
   ]
  },
  {
   "cell_type": "code",
   "execution_count": 47,
   "id": "b998d47e",
   "metadata": {},
   "outputs": [
    {
     "name": "stdout",
     "output_type": "stream",
     "text": [
      "{'Bob': 92, 'David': 95}\n"
     ]
    }
   ],
   "source": [
    "# Filtering Dictionaries by Values:\n",
    "scores = {'Alice': 85, 'Bob': 92, 'Charlie': 78, 'David': 95}\n",
    "\n",
    "high_scores = filter(lambda item: item[1] >= 90, scores.items())\n",
    "high_scores_dict = dict(high_scores)\n",
    "print(high_scores_dict)  # Outputs: {'Bob': 92, 'David': 95}\n"
   ]
  },
  {
   "cell_type": "code",
   "execution_count": 48,
   "id": "a4ad35e8",
   "metadata": {},
   "outputs": [
    {
     "name": "stdout",
     "output_type": "stream",
     "text": [
      "[[1, 2, 3], [4, 5, 6], [7, 8, 9]]\n"
     ]
    }
   ],
   "source": [
    "# Filtering Lists of Lists:\n",
    "matrix = [[1, 2, 3], [4, 5, 6], [7, 8, 9]]\n",
    "\n",
    "def contains_even(row):\n",
    "    return any(x % 2 == 0 for x in row)\n",
    "\n",
    "rows_with_even = filter(contains_even, matrix)\n",
    "rows_with_even_list = list(rows_with_even)\n",
    "print(rows_with_even_list)  # Outputs: [[4, 5, 6], [7, 8, 9]]\n"
   ]
  },
  {
   "cell_type": "markdown",
   "id": "04756821",
   "metadata": {},
   "source": [
    "# reduce()"
   ]
  },
  {
   "cell_type": "code",
   "execution_count": 49,
   "id": "81ff099d",
   "metadata": {},
   "outputs": [
    {
     "name": "stdout",
     "output_type": "stream",
     "text": [
      "The reduce() function used to be a built-in function in Python's functools module until Python 3.0. However, starting from Python 3.0, it was moved to the functools module and you need to import it explicitly. The reduce() function is used to apply a function to the items of an iterable in a cumulative way, where the result of each application is used as the first argument in the next application. It's a way to \"reduce\" a sequence of elements to a single value.\n"
     ]
    }
   ],
   "source": [
    "print('''The reduce() function used to be a built-in function in Python's functools module until Python 3.0. However, starting from Python 3.0, it was moved to the functools module and you need to import it explicitly. The reduce() function is used to apply a function to the items of an iterable in a cumulative way, where the result of each application is used as the first argument in the next application. It's a way to \"reduce\" a sequence of elements to a single value.''')"
   ]
  },
  {
   "cell_type": "code",
   "execution_count": 50,
   "id": "b0479178",
   "metadata": {},
   "outputs": [],
   "source": [
    "# The basic syntax of the reduce() function is as follows:\n",
    "# functools.reduce(function, iterable[, initializer])\n",
    "# "
   ]
  },
  {
   "cell_type": "code",
   "execution_count": 51,
   "id": "3ab030e5",
   "metadata": {},
   "outputs": [
    {
     "name": "stdout",
     "output_type": "stream",
     "text": [
      "120\n"
     ]
    }
   ],
   "source": [
    "# Here's a simple example of using the reduce() function to find the product of elements in a list:\n",
    "import functools\n",
    "\n",
    "numbers = [2, 3, 4, 5]\n",
    "\n",
    "def multiply(x, y):\n",
    "    return x * y\n",
    "\n",
    "product = functools.reduce(multiply, numbers)\n",
    "print(product)  # Outputs: 120 (2 * 3 * 4 * 5)\n"
   ]
  },
  {
   "cell_type": "code",
   "execution_count": 52,
   "id": "3d7241a3",
   "metadata": {},
   "outputs": [
    {
     "name": "stdout",
     "output_type": "stream",
     "text": [
      "1200\n"
     ]
    }
   ],
   "source": [
    "# If you provide an optional initializer argument, the reduce() function starts with that value instead of the first element in the iterable. Here's an example:\n",
    "import functools\n",
    "\n",
    "numbers = [1, 2, 3, 4, 5]\n",
    "\n",
    "def multiply(x, y):\n",
    "    return x * y\n",
    "\n",
    "initial_value = 10\n",
    "result = functools.reduce(multiply, numbers, initial_value)\n",
    "print(result)  # Outputs: 1200 (10 * 1 * 2 * 3 * 4 * 5)\n"
   ]
  },
  {
   "cell_type": "code",
   "execution_count": 54,
   "id": "97af64da",
   "metadata": {},
   "outputs": [
    {
     "name": "stdout",
     "output_type": "stream",
     "text": [
      "The reduce() function can be powerful for certain types of cumulative calculations, but it's worth noting that its usage has become less common in favor of clearer alternatives like loops or list comprehensions, especially for more complex operations.\n"
     ]
    }
   ],
   "source": [
    "print('''The reduce() function can be powerful for certain types of cumulative calculations, but it's worth noting that its usage has become less common in favor of clearer alternatives like loops or list comprehensions, especially for more complex operations.''')"
   ]
  },
  {
   "cell_type": "code",
   "execution_count": 55,
   "id": "452f30ee",
   "metadata": {},
   "outputs": [
    {
     "name": "stdout",
     "output_type": "stream",
     "text": [
      "9\n"
     ]
    }
   ],
   "source": [
    "# Finding the Maximum Value:\n",
    "import functools\n",
    "\n",
    "numbers = [8, 3, 9, 6, 2]\n",
    "\n",
    "max_value = functools.reduce(lambda x, y: x if x > y else y, numbers)\n",
    "print(max_value)  # Outputs: 9\n"
   ]
  },
  {
   "cell_type": "code",
   "execution_count": 56,
   "id": "437ac05f",
   "metadata": {},
   "outputs": [
    {
     "name": "stdout",
     "output_type": "stream",
     "text": [
      "Hello world!\n"
     ]
    }
   ],
   "source": [
    "# Concatenating Strings:\n",
    "import functools\n",
    "\n",
    "words = ['Hello', ' ', 'world', '!']\n",
    "\n",
    "concatenated = functools.reduce(lambda x, y: x + y, words)\n",
    "print(concatenated)  # Outputs: \"Hello world!\"\n"
   ]
  },
  {
   "cell_type": "code",
   "execution_count": 57,
   "id": "de4f3f10",
   "metadata": {},
   "outputs": [
    {
     "name": "stdout",
     "output_type": "stream",
     "text": [
      "120\n"
     ]
    }
   ],
   "source": [
    "# Calculating Factorial:\n",
    "import functools\n",
    "\n",
    "n = 5\n",
    "\n",
    "factorial = functools.reduce(lambda x, y: x * y, range(1, n + 1))\n",
    "print(factorial)  # Outputs: 120 (5!)\n"
   ]
  },
  {
   "cell_type": "code",
   "execution_count": 58,
   "id": "f0a83e52",
   "metadata": {},
   "outputs": [
    {
     "name": "stdout",
     "output_type": "stream",
     "text": [
      "cherry\n"
     ]
    }
   ],
   "source": [
    "# Finding Longest Word:\n",
    "import functools\n",
    "\n",
    "words = ['apple', 'banana', 'cherry', 'date']\n",
    "\n",
    "longest_word = functools.reduce(lambda x, y: x if len(x) > len(y) else y, words)\n",
    "print(longest_word)  # Outputs: 'banana'\n"
   ]
  },
  {
   "cell_type": "code",
   "execution_count": 59,
   "id": "4acbecbf",
   "metadata": {},
   "outputs": [
    {
     "name": "stdout",
     "output_type": "stream",
     "text": [
      "Start: Hello world!\n"
     ]
    }
   ],
   "source": [
    "# Using initializer for Concatenation:\n",
    "import functools\n",
    "\n",
    "words = ['Hello', ' ', 'world', '!']\n",
    "\n",
    "concatenated = functools.reduce(lambda x, y: x + y, words, 'Start: ')\n",
    "print(concatenated)  # Outputs: \"Start: Hello world!\"\n"
   ]
  },
  {
   "cell_type": "code",
   "execution_count": 60,
   "id": "10bd7cc6",
   "metadata": {},
   "outputs": [
    {
     "name": "stdout",
     "output_type": "stream",
     "text": [
      "(25, 1080)\n"
     ]
    }
   ],
   "source": [
    "# Applying Custom Accumulation Logic:\n",
    "import functools\n",
    "\n",
    "numbers = [3, 1, 4, 1, 5, 9, 2]\n",
    "\n",
    "result = functools.reduce(lambda acc, x: (acc[0] + x, acc[1] * x), numbers, (0, 1))\n",
    "print(result)  # Outputs: (25, 540)\n"
   ]
  },
  {
   "cell_type": "code",
   "execution_count": null,
   "id": "1d406aa4",
   "metadata": {},
   "outputs": [],
   "source": []
  }
 ],
 "metadata": {
  "kernelspec": {
   "display_name": "Python 3 (ipykernel)",
   "language": "python",
   "name": "python3"
  },
  "language_info": {
   "codemirror_mode": {
    "name": "ipython",
    "version": 3
   },
   "file_extension": ".py",
   "mimetype": "text/x-python",
   "name": "python",
   "nbconvert_exporter": "python",
   "pygments_lexer": "ipython3",
   "version": "3.10.5"
  }
 },
 "nbformat": 4,
 "nbformat_minor": 5
}
