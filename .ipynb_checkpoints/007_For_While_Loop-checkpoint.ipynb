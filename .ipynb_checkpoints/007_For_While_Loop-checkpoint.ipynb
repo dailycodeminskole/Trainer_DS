{
 "cells": [
  {
   "cell_type": "code",
   "execution_count": null,
   "id": "0ba95404",
   "metadata": {},
   "outputs": [],
   "source": []
  },
  {
   "cell_type": "code",
   "execution_count": null,
   "id": "c7cfe7f9",
   "metadata": {},
   "outputs": [],
   "source": []
  },
  {
   "cell_type": "code",
   "execution_count": 1,
   "id": "28b8ed45",
   "metadata": {},
   "outputs": [
    {
     "name": "stdout",
     "output_type": "stream",
     "text": [
      "A for loop in Python is a fundamental control structure used for iterating over a sequence of elements, such as a list, tuple, string, or range. It allows you to repeatedly execute a block of code for each item in the sequence without having to manage the loop index manually. The loop iterates through the sequence one element at a time and executes the specified code block for each iteration.\n",
      "\n",
      "The basic syntax of a for loop consists of the for keyword, a loop variable that takes on each value in the sequence, the in keyword, and the sequence being iterated. Inside the loop block, you can include the code that you want to execute for each element.\n",
      "\n",
      "For example, in for item in sequence::\n",
      "\n",
      "item represents the loop variable that takes on the value of each element in the sequence.\n",
      "sequence refers to the collection of items being iterated.\n",
      "for loops are particularly useful when you need to perform a certain operation or computation on each element of a collection. The loop continues until all elements in the sequence have been processed. This way, you can automate repetitive tasks and streamline operations by applying the same logic to multiple elements.\n"
     ]
    }
   ],
   "source": [
    "print('''A for loop in Python is a fundamental control structure used for iterating over a sequence of elements, such as a list, tuple, string, or range. It allows you to repeatedly execute a block of code for each item in the sequence without having to manage the loop index manually. The loop iterates through the sequence one element at a time and executes the specified code block for each iteration.\n",
    "\n",
    "The basic syntax of a for loop consists of the for keyword, a loop variable that takes on each value in the sequence, the in keyword, and the sequence being iterated. Inside the loop block, you can include the code that you want to execute for each element.\n",
    "\n",
    "For example, in for item in sequence::\n",
    "\n",
    "item represents the loop variable that takes on the value of each element in the sequence.\n",
    "sequence refers to the collection of items being iterated.\n",
    "for loops are particularly useful when you need to perform a certain operation or computation on each element of a collection. The loop continues until all elements in the sequence have been processed. This way, you can automate repetitive tasks and streamline operations by applying the same logic to multiple elements.''')"
   ]
  },
  {
   "cell_type": "code",
   "execution_count": 2,
   "id": "aea606b6",
   "metadata": {},
   "outputs": [
    {
     "name": "stdout",
     "output_type": "stream",
     "text": [
      "I like apple\n",
      "I like banana\n",
      "I like orange\n"
     ]
    }
   ],
   "source": [
    "#  Looping Through a List\n",
    "fruits = [\"apple\", \"banana\", \"orange\"]\n",
    "for fruit in fruits:\n",
    "    print(f\"I like {fruit}\")\n"
   ]
  },
  {
   "cell_type": "code",
   "execution_count": 3,
   "id": "3bf0edb4",
   "metadata": {},
   "outputs": [
    {
     "name": "stdout",
     "output_type": "stream",
     "text": [
      "P\n",
      "y\n",
      "t\n",
      "h\n",
      "o\n",
      "n\n"
     ]
    }
   ],
   "source": [
    "#  Looping Through a String\n",
    "word = \"Python\"\n",
    "for letter in word:\n",
    "    print(letter)\n"
   ]
  },
  {
   "cell_type": "code",
   "execution_count": 4,
   "id": "a078faf7",
   "metadata": {},
   "outputs": [
    {
     "name": "stdout",
     "output_type": "stream",
     "text": [
      "1\n",
      "2\n",
      "3\n",
      "4\n",
      "5\n"
     ]
    }
   ],
   "source": [
    "# Looping Through a Range\n",
    "for number in range(1, 6):\n",
    "    print(number)\n"
   ]
  },
  {
   "cell_type": "code",
   "execution_count": 5,
   "id": "4df130c5",
   "metadata": {},
   "outputs": [
    {
     "name": "stdout",
     "output_type": "stream",
     "text": [
      "3\n",
      "5\n"
     ]
    }
   ],
   "source": [
    "# Looping Through a Tuple\n",
    "coordinates = (3, 5)\n",
    "for coordinate in coordinates:\n",
    "    print(coordinate)\n"
   ]
  },
  {
   "cell_type": "code",
   "execution_count": null,
   "id": "5b431a68",
   "metadata": {},
   "outputs": [],
   "source": []
  },
  {
   "cell_type": "code",
   "execution_count": 7,
   "id": "46d1997c",
   "metadata": {},
   "outputs": [
    {
     "name": "stdout",
     "output_type": "stream",
     "text": [
      "name: Alice\n",
      "age: 30\n",
      "occupation: Engineer\n"
     ]
    }
   ],
   "source": [
    "# Looping Through a Dictionary\n",
    "person = {\"name\": \"Alice\", \"age\": 30, \"occupation\": \"Engineer\"}\n",
    "for key, value in person.items():\n",
    "    print(f\"{key}: {value}\")\n"
   ]
  },
  {
   "cell_type": "code",
   "execution_count": 8,
   "id": "fa3eafdf",
   "metadata": {},
   "outputs": [
    {
     "name": "stdout",
     "output_type": "stream",
     "text": [
      "1 1\n",
      "1 2\n",
      "1 3\n",
      "2 1\n",
      "2 2\n",
      "2 3\n",
      "3 1\n",
      "3 2\n",
      "3 3\n"
     ]
    }
   ],
   "source": [
    "\n",
    "# Nested Loops\n",
    "for i in range(1, 4):\n",
    "    for j in range(1, 4):\n",
    "        print(i, j)\n"
   ]
  },
  {
   "cell_type": "code",
   "execution_count": 9,
   "id": "f13abaf5",
   "metadata": {},
   "outputs": [
    {
     "name": "stdout",
     "output_type": "stream",
     "text": [
      "1\n",
      "2\n",
      "3\n",
      "4\n",
      "5\n",
      "6\n",
      "7\n",
      "8\n",
      "9\n"
     ]
    }
   ],
   "source": [
    "# Looping Through a List of Lists\n",
    "matrix = [[1, 2, 3], [4, 5, 6], [7, 8, 9]]\n",
    "for row in matrix:\n",
    "    for element in row:\n",
    "        print(element)\n"
   ]
  },
  {
   "cell_type": "code",
   "execution_count": 10,
   "id": "2662eb4d",
   "metadata": {},
   "outputs": [
    {
     "name": "stdout",
     "output_type": "stream",
     "text": [
      "Index 0: apple\n",
      "Index 1: banana\n",
      "Index 2: orange\n"
     ]
    }
   ],
   "source": [
    "# Using Enumerate\n",
    "fruits = [\"apple\", \"banana\", \"orange\"]\n",
    "for index, fruit in enumerate(fruits):\n",
    "    print(f\"Index {index}: {fruit}\")\n"
   ]
  },
  {
   "cell_type": "code",
   "execution_count": 11,
   "id": "2dfadd1a",
   "metadata": {},
   "outputs": [
    {
     "name": "stdout",
     "output_type": "stream",
     "text": [
      "0\n",
      "2\n",
      "4\n",
      "6\n",
      "8\n"
     ]
    }
   ],
   "source": [
    "# Looping with Step Size\n",
    "for num in range(0, 10, 2):\n",
    "    print(num)\n"
   ]
  },
  {
   "cell_type": "code",
   "execution_count": 12,
   "id": "c50e96ba",
   "metadata": {},
   "outputs": [
    {
     "name": "stdout",
     "output_type": "stream",
     "text": [
      "The letter 'l' appears 3 times.\n"
     ]
    }
   ],
   "source": [
    "# Iterating Over a String and Counting Characters\n",
    "text = \"hello world\"\n",
    "count = 0\n",
    "for char in text:\n",
    "    if char == 'l':\n",
    "        count += 1\n",
    "print(f\"The letter 'l' appears {count} times.\")\n"
   ]
  },
  {
   "cell_type": "code",
   "execution_count": null,
   "id": "fa1b7571",
   "metadata": {},
   "outputs": [],
   "source": []
  },
  {
   "cell_type": "code",
   "execution_count": null,
   "id": "535be485",
   "metadata": {},
   "outputs": [],
   "source": [
    "#  Calculating Sum of First n Numbers\n",
    "n = 10\n",
    "sum = 0\n",
    "for i in range(1, n+1):\n",
    "    sum += i\n",
    "print(f\"Sum of first {n} numbers is {sum}\")\n"
   ]
  },
  {
   "cell_type": "code",
   "execution_count": null,
   "id": "8c1207ed",
   "metadata": {},
   "outputs": [],
   "source": [
    "# Generating a Multiplication Table\n",
    "num = 5\n",
    "for i in range(1, 11):\n",
    "    print(f\"{num} x {i} = {num*i}\")\n"
   ]
  },
  {
   "cell_type": "code",
   "execution_count": 13,
   "id": "839d782a",
   "metadata": {},
   "outputs": [
    {
     "name": "stdout",
     "output_type": "stream",
     "text": [
      "Even numbers: 5, Odd numbers: 5\n"
     ]
    }
   ],
   "source": [
    "# Counting Even and Odd Numbers\n",
    "even_count = 0\n",
    "odd_count = 0\n",
    "for i in range(1, 11):\n",
    "    if i % 2 == 0:\n",
    "        even_count += 1\n",
    "    else:\n",
    "        odd_count += 1\n",
    "print(f\"Even numbers: {even_count}, Odd numbers: {odd_count}\")\n",
    "\n"
   ]
  },
  {
   "cell_type": "code",
   "execution_count": 14,
   "id": "fcb89509",
   "metadata": {},
   "outputs": [
    {
     "name": "stdout",
     "output_type": "stream",
     "text": [
      "At index 0: apple\n",
      "At index 1: banana\n",
      "At index 2: orange\n"
     ]
    }
   ],
   "source": [
    "# Looping Through Indices of a List\n",
    "fruits = [\"apple\", \"banana\", \"orange\"]\n",
    "for index in range(len(fruits)):\n",
    "    print(f\"At index {index}: {fruits[index]}\")\n"
   ]
  },
  {
   "cell_type": "code",
   "execution_count": 15,
   "id": "b56da093",
   "metadata": {},
   "outputs": [
    {
     "name": "stdout",
     "output_type": "stream",
     "text": [
      "1 1\n",
      "1 2\n",
      "1 3\n",
      "2 1\n",
      "2 2\n",
      "2 3\n",
      "3 1\n",
      "3 2\n",
      "3 3\n"
     ]
    }
   ],
   "source": [
    "# Using Nested Range Loops\n",
    "for i in range(1, 4):\n",
    "    for j in range(1, 4):\n",
    "        print(i, j)\n"
   ]
  },
  {
   "cell_type": "code",
   "execution_count": null,
   "id": "dc4463cd",
   "metadata": {},
   "outputs": [],
   "source": []
  },
  {
   "cell_type": "markdown",
   "id": "552e6fb6",
   "metadata": {},
   "source": [
    "# While loop"
   ]
  },
  {
   "cell_type": "code",
   "execution_count": 16,
   "id": "51a59aab",
   "metadata": {},
   "outputs": [
    {
     "name": "stdout",
     "output_type": "stream",
     "text": [
      "A while loop in Python is a control structure that repeatedly executes a block of code as long as a specified condition remains true. Unlike the for loop that iterates over a sequence, the while loop continues executing as long as the given condition evaluates to True. This makes it suitable for scenarios where you want to repeat an action an indefinite number of times until a certain condition is met or becomes false.\n",
      "\n",
      "The basic structure of a while loop involves the while keyword, followed by the condition to be checked. The loop block executes as long as the condition remains true. If the condition becomes false initially, the loop block may not execute at all.\n",
      "\n",
      "while loops are particularly useful when the number of iterations is uncertain or when you need to continuously check for changes. Common use cases for while loops include user input validation, implementing games, handling events, and situations where you need to monitor external conditions before proceeding.\n",
      "\n",
      "However, it's essential to ensure that the condition in a while loop eventually becomes false; otherwise, the loop can run indefinitely, causing a program to hang or crash. It's good practice to include mechanisms for updating variables within the loop that can lead to the condition becoming false.\n"
     ]
    }
   ],
   "source": [
    "print('''A while loop in Python is a control structure that repeatedly executes a block of code as long as a specified condition remains true. Unlike the for loop that iterates over a sequence, the while loop continues executing as long as the given condition evaluates to True. This makes it suitable for scenarios where you want to repeat an action an indefinite number of times until a certain condition is met or becomes false.\n",
    "\n",
    "The basic structure of a while loop involves the while keyword, followed by the condition to be checked. The loop block executes as long as the condition remains true. If the condition becomes false initially, the loop block may not execute at all.\n",
    "\n",
    "while loops are particularly useful when the number of iterations is uncertain or when you need to continuously check for changes. Common use cases for while loops include user input validation, implementing games, handling events, and situations where you need to monitor external conditions before proceeding.\n",
    "\n",
    "However, it's essential to ensure that the condition in a while loop eventually becomes false; otherwise, the loop can run indefinitely, causing a program to hang or crash. It's good practice to include mechanisms for updating variables within the loop that can lead to the condition becoming false.''')"
   ]
  },
  {
   "cell_type": "code",
   "execution_count": 17,
   "id": "d01f30a5",
   "metadata": {},
   "outputs": [
    {
     "name": "stdout",
     "output_type": "stream",
     "text": [
      "Guess a number between 1 and 100: 30\n",
      "Try a lower number.\n",
      "Guess a number between 1 and 100: 30\n",
      "Try a lower number.\n",
      "Guess a number between 1 and 100: 20\n",
      "Try a lower number.\n",
      "Guess a number between 1 and 100: 10\n",
      "Try a lower number.\n",
      "Guess a number between 1 and 100: 5\n",
      "Try a higher number.\n",
      "Guess a number between 1 and 100: 6\n",
      "Try a higher number.\n",
      "Guess a number between 1 and 100: 7\n",
      "Congratulations! You guessed the number.\n"
     ]
    }
   ],
   "source": [
    "import random\n",
    "\n",
    "secret_number = random.randint(1, 100)\n",
    "guess = None\n",
    "\n",
    "while guess != secret_number:\n",
    "    guess = int(input(\"Guess a number between 1 and 100: \"))\n",
    "    if guess < secret_number:\n",
    "        print(\"Try a higher number.\")\n",
    "    elif guess > secret_number:\n",
    "        print(\"Try a lower number.\")\n",
    "    else:\n",
    "        print(\"Congratulations! You guessed the number.\")\n"
   ]
  },
  {
   "cell_type": "code",
   "execution_count": 18,
   "id": "9179a1c4",
   "metadata": {},
   "outputs": [
    {
     "name": "stdout",
     "output_type": "stream",
     "text": [
      "5\n",
      "4\n",
      "3\n",
      "2\n",
      "1\n",
      "Blast off!\n"
     ]
    }
   ],
   "source": [
    "#  Countdown Timer\n",
    "countdown = 5\n",
    "\n",
    "while countdown > 0:\n",
    "    print(countdown)\n",
    "    countdown -= 1\n",
    "\n",
    "print(\"Blast off!\")\n"
   ]
  },
  {
   "cell_type": "code",
   "execution_count": 19,
   "id": "e0b5521c",
   "metadata": {},
   "outputs": [
    {
     "name": "stdout",
     "output_type": "stream",
     "text": [
      "Sum of numbers from 1 to 10: 55\n"
     ]
    }
   ],
   "source": [
    "# Sum of Numbers\n",
    "total = 0\n",
    "num = 1\n",
    "\n",
    "while num <= 10:\n",
    "    total += num\n",
    "    num += 1\n",
    "\n",
    "print(\"Sum of numbers from 1 to 10:\", total)\n"
   ]
  },
  {
   "cell_type": "code",
   "execution_count": 20,
   "id": "aab7b6fe",
   "metadata": {},
   "outputs": [
    {
     "name": "stdout",
     "output_type": "stream",
     "text": [
      "Enter the password: secret\n",
      "Access granted.\n"
     ]
    }
   ],
   "source": [
    "# User Input Validation\n",
    "password = \"secret\"\n",
    "\n",
    "while True:\n",
    "    user_input = input(\"Enter the password: \")\n",
    "    if user_input == password:\n",
    "        print(\"Access granted.\")\n",
    "        break\n",
    "    else:\n",
    "        print(\"Access denied. Try again.\")\n"
   ]
  },
  {
   "cell_type": "code",
   "execution_count": 21,
   "id": "352372e8",
   "metadata": {},
   "outputs": [
    {
     "name": "stdout",
     "output_type": "stream",
     "text": [
      "Enter a number: 12\n",
      "The factorial of 12 is 479001600\n"
     ]
    }
   ],
   "source": [
    "#  Factorial Calculation\n",
    "number = int(input(\"Enter a number: \"))\n",
    "factorial = 1\n",
    "count = 1\n",
    "\n",
    "while count <= number:\n",
    "    factorial *= count\n",
    "    count += 1\n",
    "\n",
    "print(f\"The factorial of {number} is {factorial}\")\n"
   ]
  },
  {
   "cell_type": "code",
   "execution_count": 22,
   "id": "daa8e9a6",
   "metadata": {},
   "outputs": [
    {
     "name": "stdout",
     "output_type": "stream",
     "text": [
      "It took 7 rolls to reach 20 points.\n"
     ]
    }
   ],
   "source": [
    "# Rolling Dice Game\n",
    "import random\n",
    "\n",
    "target_score = 20\n",
    "current_score = 0\n",
    "rolls = 0\n",
    "\n",
    "while current_score < target_score:\n",
    "    roll = random.randint(1, 6)\n",
    "    current_score += roll\n",
    "    rolls += 1\n",
    "\n",
    "print(f\"It took {rolls} rolls to reach {target_score} points.\")\n"
   ]
  },
  {
   "cell_type": "code",
   "execution_count": 23,
   "id": "7e75922a",
   "metadata": {},
   "outputs": [
    {
     "name": "stdout",
     "output_type": "stream",
     "text": [
      "0\n",
      "1\n",
      "1\n",
      "2\n",
      "3\n",
      "5\n",
      "8\n",
      "13\n",
      "21\n",
      "34\n"
     ]
    }
   ],
   "source": [
    "# Fibonacci Sequence\n",
    "n = 10\n",
    "a, b = 0, 1\n",
    "count = 0\n",
    "\n",
    "while count < n:\n",
    "    print(a)\n",
    "    a, b = b, a + b\n",
    "    count += 1\n"
   ]
  },
  {
   "cell_type": "code",
   "execution_count": 24,
   "id": "16c7b072",
   "metadata": {},
   "outputs": [
    {
     "name": "stdout",
     "output_type": "stream",
     "text": [
      "Enter the password: secure\n",
      "Access granted.\n"
     ]
    }
   ],
   "source": [
    "# Password Guessing Game with Limited Attempts\n",
    "password = \"secure\"\n",
    "attempts = 3\n",
    "\n",
    "while attempts > 0:\n",
    "    guess = input(\"Enter the password: \")\n",
    "    if guess == password:\n",
    "        print(\"Access granted.\")\n",
    "        break\n",
    "    else:\n",
    "        attempts -= 1\n",
    "        print(f\"Access denied. {attempts} attempts left.\")\n",
    "\n",
    "if attempts == 0:\n",
    "    print(\"No more attempts left. Account locked.\")\n"
   ]
  },
  {
   "cell_type": "code",
   "execution_count": 25,
   "id": "9e5633c5",
   "metadata": {},
   "outputs": [
    {
     "name": "stdout",
     "output_type": "stream",
     "text": [
      "7 x 1 = 7\n",
      "7 x 2 = 14\n",
      "7 x 3 = 21\n",
      "7 x 4 = 28\n",
      "7 x 5 = 35\n",
      "7 x 6 = 42\n",
      "7 x 7 = 49\n",
      "7 x 8 = 56\n",
      "7 x 9 = 63\n",
      "7 x 10 = 70\n"
     ]
    }
   ],
   "source": [
    "# Printing Multiplication Table\n",
    "num = 7\n",
    "count = 1\n",
    "\n",
    "while count <= 10:\n",
    "    product = num * count\n",
    "    print(f\"{num} x {count} = {product}\")\n",
    "    count += 1\n",
    "\n",
    "    "
   ]
  },
  {
   "cell_type": "code",
   "execution_count": 26,
   "id": "806307d1",
   "metadata": {},
   "outputs": [
    {
     "name": "stdout",
     "output_type": "stream",
     "text": [
      "*\n",
      "**\n",
      "***\n",
      "****\n",
      "*****\n"
     ]
    }
   ],
   "source": [
    "# Pattern Printing\n",
    "rows = 5\n",
    "i = 1\n",
    "\n",
    "while i <= rows:\n",
    "    print(\"*\" * i)\n",
    "    i += 1\n"
   ]
  },
  {
   "cell_type": "code",
   "execution_count": null,
   "id": "51c3d2e8",
   "metadata": {},
   "outputs": [],
   "source": []
  }
 ],
 "metadata": {
  "kernelspec": {
   "display_name": "Python 3 (ipykernel)",
   "language": "python",
   "name": "python3"
  },
  "language_info": {
   "codemirror_mode": {
    "name": "ipython",
    "version": 3
   },
   "file_extension": ".py",
   "mimetype": "text/x-python",
   "name": "python",
   "nbconvert_exporter": "python",
   "pygments_lexer": "ipython3",
   "version": "3.10.5"
  }
 },
 "nbformat": 4,
 "nbformat_minor": 5
}
