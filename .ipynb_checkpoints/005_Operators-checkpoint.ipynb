{
 "cells": [
  {
   "cell_type": "code",
   "execution_count": null,
   "id": "218d3a4d",
   "metadata": {},
   "outputs": [],
   "source": []
  },
  {
   "cell_type": "code",
   "execution_count": 2,
   "id": "774b716c",
   "metadata": {},
   "outputs": [
    {
     "name": "stdout",
     "output_type": "stream",
     "text": [
      "Operators in Python are symbols that represent various operations, such as arithmetic, comparison, assignment, logical, and more. They allow you to perform computations, comparisons, and other actions on variables, values, and expressions. Python supports a wide range of operators that help you manipulate data and control program flow. Here are some common types of operators in Python:\n",
      "\n",
      "1. **Arithmetic Operators:**\n",
      "   These operators perform arithmetic operations on numerical values.\n",
      "\n",
      "   - `+` : Addition\n",
      "   - `-` : Subtraction\n",
      "   - `*` : Multiplication\n",
      "   - `/` : Division\n",
      "   - `%` : Modulus (remainder)\n",
      "   - `**` : Exponentiation (power)\n",
      "   - `//` : Floor Division (quotient without the remainder)\n",
      "\n",
      "2. **Comparison Operators:**\n",
      "   These operators compare two values and return a Boolean result (`True` or `False`).\n",
      "\n",
      "   - `==` : Equal to\n",
      "   - `!=` : Not equal to\n",
      "   - `<`  : Less than\n",
      "   - `>`  : Greater than\n",
      "   - `<=` : Less than or equal to\n",
      "   - `>=` : Greater than or equal to\n",
      "\n",
      "3. **Assignment Operators:**\n",
      "   These operators are used to assign values to variables.\n",
      "\n",
      "   - `=`  : Assigns a value to a variable\n",
      "   - `+=` : Adds and assigns\n",
      "   - `-=` : Subtracts and assigns\n",
      "   - `*=` : Multiplies and assigns\n",
      "   - `/=` : Divides and assigns\n",
      "   - `%=` : Calculates modulus and assigns\n",
      "   - `**=`: Exponentiates and assigns\n",
      "   - `//=`: Floor divides and assigns\n",
      "\n",
      "4. **Logical Operators:**\n",
      "   These operators perform logical operations and return Boolean values.\n",
      "\n",
      "   - `and`: Logical AND\n",
      "   - `or` : Logical OR\n",
      "   - `not`: Logical NOT\n",
      "\n",
      "5. **Bitwise Operators:**\n",
      "   These operators perform bit-level operations on integers.\n",
      "\n",
      "   - `&`  : Bitwise AND\n",
      "   - `|`  : Bitwise OR\n",
      "   - `^`  : Bitwise XOR\n",
      "   - `~`  : Bitwise NOT\n",
      "   - `<<` : Left shift\n",
      "   - `>>` : Right shift\n",
      "\n",
      "6. **Membership Operators:**\n",
      "   These operators check for membership in sequences (like lists, strings, etc.).\n",
      "\n",
      "   - `in`     : Checks if an element is present in a sequence\n",
      "   - `not in` : Checks if an element is not present in a sequence\n",
      "\n",
      "7. **Identity Operators:**\n",
      "   These operators compare the memory addresses of two objects.\n",
      "\n",
      "   - `is`    : Checks if two variables reference the same object\n",
      "   - `is not`: Checks if two variables reference different objects\n",
      "\n",
      "These operators form the foundation of Python's expressive syntax, enabling you to perform a wide range of operations and manipulations in your programs.\n"
     ]
    }
   ],
   "source": [
    "print('''Operators in Python are symbols that represent various operations, such as arithmetic, comparison, assignment, logical, and more. They allow you to perform computations, comparisons, and other actions on variables, values, and expressions. Python supports a wide range of operators that help you manipulate data and control program flow. Here are some common types of operators in Python:\n",
    "\n",
    "1. **Arithmetic Operators:**\n",
    "   These operators perform arithmetic operations on numerical values.\n",
    "\n",
    "   - `+` : Addition\n",
    "   - `-` : Subtraction\n",
    "   - `*` : Multiplication\n",
    "   - `/` : Division\n",
    "   - `%` : Modulus (remainder)\n",
    "   - `**` : Exponentiation (power)\n",
    "   - `//` : Floor Division (quotient without the remainder)\n",
    "\n",
    "2. **Comparison Operators:**\n",
    "   These operators compare two values and return a Boolean result (`True` or `False`).\n",
    "\n",
    "   - `==` : Equal to\n",
    "   - `!=` : Not equal to\n",
    "   - `<`  : Less than\n",
    "   - `>`  : Greater than\n",
    "   - `<=` : Less than or equal to\n",
    "   - `>=` : Greater than or equal to\n",
    "\n",
    "3. **Assignment Operators:**\n",
    "   These operators are used to assign values to variables.\n",
    "\n",
    "   - `=`  : Assigns a value to a variable\n",
    "   - `+=` : Adds and assigns\n",
    "   - `-=` : Subtracts and assigns\n",
    "   - `*=` : Multiplies and assigns\n",
    "   - `/=` : Divides and assigns\n",
    "   - `%=` : Calculates modulus and assigns\n",
    "   - `**=`: Exponentiates and assigns\n",
    "   - `//=`: Floor divides and assigns\n",
    "\n",
    "4. **Logical Operators:**\n",
    "   These operators perform logical operations and return Boolean values.\n",
    "\n",
    "   - `and`: Logical AND\n",
    "   - `or` : Logical OR\n",
    "   - `not`: Logical NOT\n",
    "\n",
    "5. **Bitwise Operators:**\n",
    "   These operators perform bit-level operations on integers.\n",
    "\n",
    "   - `&`  : Bitwise AND\n",
    "   - `|`  : Bitwise OR\n",
    "   - `^`  : Bitwise XOR\n",
    "   - `~`  : Bitwise NOT\n",
    "   - `<<` : Left shift\n",
    "   - `>>` : Right shift\n",
    "\n",
    "6. **Membership Operators:**\n",
    "   These operators check for membership in sequences (like lists, strings, etc.).\n",
    "\n",
    "   - `in`     : Checks if an element is present in a sequence\n",
    "   - `not in` : Checks if an element is not present in a sequence\n",
    "\n",
    "7. **Identity Operators:**\n",
    "   These operators compare the memory addresses of two objects.\n",
    "\n",
    "   - `is`    : Checks if two variables reference the same object\n",
    "   - `is not`: Checks if two variables reference different objects\n",
    "\n",
    "These operators form the foundation of Python's expressive syntax, enabling you to perform a wide range of operations and manipulations in your programs.''')"
   ]
  },
  {
   "cell_type": "code",
   "execution_count": null,
   "id": "ea014dcb",
   "metadata": {},
   "outputs": [],
   "source": []
  },
  {
   "cell_type": "code",
   "execution_count": 3,
   "id": "a0475a56",
   "metadata": {},
   "outputs": [],
   "source": [
    "# Arithmetic Operators:"
   ]
  },
  {
   "cell_type": "code",
   "execution_count": 4,
   "id": "b43e7468",
   "metadata": {},
   "outputs": [],
   "source": [
    "x = 10\n",
    "y = 3\n",
    "\n",
    "addition = x + y        # 13\n",
    "subtraction = x - y     # 7\n",
    "multiplication = x * y  # 30\n",
    "division = x / y        # 3.333...\n",
    "modulus = x % y         # 1\n"
   ]
  },
  {
   "cell_type": "code",
   "execution_count": 5,
   "id": "49d3b3ff",
   "metadata": {},
   "outputs": [],
   "source": [
    "# Comparison Operators:"
   ]
  },
  {
   "cell_type": "code",
   "execution_count": null,
   "id": "650eb79f",
   "metadata": {},
   "outputs": [],
   "source": [
    "a = 5\n",
    "b = 7\n",
    "\n",
    "equal = a == b         # False\n",
    "not_equal = a != b     # True\n",
    "less_than = a < b      # True\n",
    "greater_than = a > b   # False\n",
    "less_than_equal = a <= b  # True\n"
   ]
  },
  {
   "cell_type": "code",
   "execution_count": 6,
   "id": "d32c3369",
   "metadata": {},
   "outputs": [],
   "source": [
    "# Assignment Operators:"
   ]
  },
  {
   "cell_type": "code",
   "execution_count": 7,
   "id": "2c734cfd",
   "metadata": {},
   "outputs": [],
   "source": [
    "num = 10\n",
    "\n",
    "num += 5   # Equivalent to num = num + 5 => 15\n",
    "num -= 3   # Equivalent to num = num - 3 => 12\n",
    "num *= 2   # Equivalent to num = num * 2 => 24\n",
    "num /= 4   # Equivalent to num = num / 4 => 6.0\n",
    "num %= 5   # Equivalent to num = num % 5 => 1.0\n"
   ]
  },
  {
   "cell_type": "code",
   "execution_count": 8,
   "id": "7a0963b9",
   "metadata": {},
   "outputs": [],
   "source": [
    "# Logical Operators:"
   ]
  },
  {
   "cell_type": "code",
   "execution_count": 9,
   "id": "f05be80d",
   "metadata": {},
   "outputs": [],
   "source": [
    "x = True\n",
    "y = False\n",
    "\n",
    "logical_and = x and y  # False\n",
    "logical_or = x or y    # True\n",
    "logical_not_x = not x  # False\n",
    "logical_not_y = not y  # True\n"
   ]
  },
  {
   "cell_type": "code",
   "execution_count": 16,
   "id": "7880f976",
   "metadata": {
    "scrolled": true
   },
   "outputs": [
    {
     "data": {
      "text/plain": [
       "'\\nAND\\t\\t\\nStaement1\\t    Staement1\\tOutput\\nTRUE\\t        TRUE\\t    TRUE\\nTRUE\\t        FALSE\\t    FALSE\\nFALSE\\t        TRUE\\t    FALSE\\nFALSE\\t        FALSE\\t    FALSE\\n\\n\\n\\nOR\\t\\t\\nStaement1\\t    Staement1       Output\\t\\nTRUE\\t        TRUE\\t        TRUE\\nTRUE\\t        FALSE\\t        TRUE\\nFALSE\\t        TRUE\\t        TRUE\\nFALSE\\t        FALSE\\t        FALSE\\n\\n\\nNOT\\t\\nStaement\\tOutput\\nTRUE\\t    FALSE\\nFALSE\\t    TRUE\\n\\n'"
      ]
     },
     "execution_count": 16,
     "metadata": {},
     "output_type": "execute_result"
    }
   ],
   "source": [
    "'''\n",
    "AND\t\t\n",
    "Staement1\t    Staement1\tOutput\n",
    "TRUE\t        TRUE\t    TRUE\n",
    "TRUE\t        FALSE\t    FALSE\n",
    "FALSE\t        TRUE\t    FALSE\n",
    "FALSE\t        FALSE\t    FALSE\n",
    "\n",
    "\n",
    "\n",
    "OR\t\t\n",
    "Staement1\t    Staement1       Output\t\n",
    "TRUE\t        TRUE\t        TRUE\n",
    "TRUE\t        FALSE\t        TRUE\n",
    "FALSE\t        TRUE\t        TRUE\n",
    "FALSE\t        FALSE\t        FALSE\n",
    "\n",
    "\n",
    "NOT\t\n",
    "Staement\tOutput\n",
    "TRUE\t    FALSE\n",
    "FALSE\t    TRUE\n",
    "\n",
    "'''"
   ]
  },
  {
   "cell_type": "code",
   "execution_count": 17,
   "id": "3a4e32a7",
   "metadata": {},
   "outputs": [],
   "source": [
    "# Practical cases of AND and OR operators\n",
    "\n",
    "#eg 1\n",
    "# checking if a person is eligible to vote or not\n",
    "age = 25 #age of person\n",
    "citizen =  \"N\" # the status of citizenship\n",
    "can_vote =  \"N\"\n",
    "\n",
    "# we can form below statement \n",
    "# (age = 25 #age of person) and  (citizen =  \"N\" # the status of citizenship) = (can_vote =  \"N\")\n",
    "\n",
    "# Checking if we can employ a person , whose age is >= 18\n",
    "#Eg 2 \n",
    "\n",
    "Person_age  = 18\n",
    "qualification = \"D\" #we can assume that adiploma holder's age >=18\n",
    "Employable = \"Y\"\n",
    "\n",
    "# we can form below statement  \n",
    "# (Person_age  = 18) or (qualification = \"D\") = (Employable = \"Y\")"
   ]
  },
  {
   "cell_type": "code",
   "execution_count": null,
   "id": "33060689",
   "metadata": {},
   "outputs": [],
   "source": []
  },
  {
   "cell_type": "code",
   "execution_count": null,
   "id": "f92274a5",
   "metadata": {},
   "outputs": [],
   "source": []
  },
  {
   "cell_type": "code",
   "execution_count": null,
   "id": "cb9c136d",
   "metadata": {},
   "outputs": [],
   "source": []
  },
  {
   "cell_type": "code",
   "execution_count": 10,
   "id": "1a60b555",
   "metadata": {},
   "outputs": [],
   "source": [
    "# Bitwise Operators:"
   ]
  },
  {
   "cell_type": "code",
   "execution_count": 11,
   "id": "5e709e07",
   "metadata": {},
   "outputs": [],
   "source": [
    "a = 5   # 0101\n",
    "b = 3   # 0011\n",
    "\n",
    "bitwise_and = a & b     # 0001 => 1\n",
    "bitwise_or = a | b      # 0111 => 7\n",
    "bitwise_xor = a ^ b     # 0110 => 6\n",
    "bitwise_not_a = ~a      # -6 (Two's complement of 0101)\n",
    "left_shift = a << 2     # 10100 => 20\n",
    "right_shift = a >> 1    # 0010 => 2\n"
   ]
  },
  {
   "cell_type": "code",
   "execution_count": 12,
   "id": "2a904efa",
   "metadata": {},
   "outputs": [],
   "source": [
    "# Membership Operators:"
   ]
  },
  {
   "cell_type": "code",
   "execution_count": 13,
   "id": "56c558a4",
   "metadata": {},
   "outputs": [],
   "source": [
    "fruits = [\"apple\", \"banana\", \"orange\"]\n",
    "\n",
    "is_banana = \"banana\" in fruits        # True\n",
    "is_mango = \"mango\" in fruits           # False\n",
    "not_orange = \"orange\" not in fruits    # False\n",
    "not_cherry = \"cherry\" not in fruits    # True\n"
   ]
  },
  {
   "cell_type": "code",
   "execution_count": 14,
   "id": "a7aa736e",
   "metadata": {},
   "outputs": [],
   "source": [
    "# Identity Operators:"
   ]
  },
  {
   "cell_type": "code",
   "execution_count": 15,
   "id": "ae07ee8c",
   "metadata": {},
   "outputs": [],
   "source": [
    "x = [1, 2, 3]\n",
    "y = [1, 2, 3]\n",
    "z = x\n",
    "\n",
    "is_same_x_y = x is y         # False (Different objects)\n",
    "is_same_x_z = x is z         # True (Same object as z)\n",
    "is_not_same_x_y = x is not y # True (Different objects)\n",
    "is_not_same_x_z = x is not z # False (Same object as z)\n"
   ]
  },
  {
   "cell_type": "code",
   "execution_count": null,
   "id": "1713c9b5",
   "metadata": {},
   "outputs": [],
   "source": []
  },
  {
   "cell_type": "code",
   "execution_count": 18,
   "id": "77f59739",
   "metadata": {},
   "outputs": [
    {
     "name": "stdout",
     "output_type": "stream",
     "text": [
      "*******************\n",
      "True\n",
      "False\n",
      "False\n",
      "False\n"
     ]
    }
   ],
   "source": [
    "# boolean outputs of datatypes\n",
    "\n",
    "print(\"*******************\")\n",
    "print(bool([12])) # value\n",
    "print(bool([])) #empyt \n",
    "print(bool(\"\")) #empty\n",
    "print(bool())\n"
   ]
  },
  {
   "cell_type": "code",
   "execution_count": null,
   "id": "96f02783",
   "metadata": {},
   "outputs": [],
   "source": []
  },
  {
   "cell_type": "code",
   "execution_count": null,
   "id": "489e4a69",
   "metadata": {},
   "outputs": [],
   "source": []
  },
  {
   "cell_type": "code",
   "execution_count": null,
   "id": "bc61771a",
   "metadata": {},
   "outputs": [],
   "source": []
  },
  {
   "cell_type": "code",
   "execution_count": null,
   "id": "50cd52e6",
   "metadata": {},
   "outputs": [],
   "source": []
  },
  {
   "cell_type": "code",
   "execution_count": null,
   "id": "5e1e62f7",
   "metadata": {},
   "outputs": [],
   "source": []
  },
  {
   "cell_type": "code",
   "execution_count": null,
   "id": "1a98b245",
   "metadata": {},
   "outputs": [],
   "source": []
  },
  {
   "cell_type": "code",
   "execution_count": null,
   "id": "fab105e6",
   "metadata": {},
   "outputs": [],
   "source": []
  },
  {
   "cell_type": "code",
   "execution_count": null,
   "id": "078ebe9c",
   "metadata": {},
   "outputs": [],
   "source": []
  },
  {
   "cell_type": "code",
   "execution_count": null,
   "id": "46679cf0",
   "metadata": {},
   "outputs": [],
   "source": []
  }
 ],
 "metadata": {
  "kernelspec": {
   "display_name": "Python 3 (ipykernel)",
   "language": "python",
   "name": "python3"
  },
  "language_info": {
   "codemirror_mode": {
    "name": "ipython",
    "version": 3
   },
   "file_extension": ".py",
   "mimetype": "text/x-python",
   "name": "python",
   "nbconvert_exporter": "python",
   "pygments_lexer": "ipython3",
   "version": "3.10.5"
  }
 },
 "nbformat": 4,
 "nbformat_minor": 5
}
