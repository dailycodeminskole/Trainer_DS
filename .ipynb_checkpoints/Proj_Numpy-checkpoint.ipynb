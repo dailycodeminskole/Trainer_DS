{
 "cells": [
  {
   "cell_type": "code",
   "execution_count": 1,
   "id": "7c18eaf9",
   "metadata": {},
   "outputs": [],
   "source": [
    "import numpy as np"
   ]
  },
  {
   "cell_type": "code",
   "execution_count": 2,
   "id": "1e0fae54",
   "metadata": {},
   "outputs": [],
   "source": [
    "# loadingh the data into numpy"
   ]
  },
  {
   "cell_type": "code",
   "execution_count": 3,
   "id": "23ef7f75",
   "metadata": {},
   "outputs": [],
   "source": [
    "# numpy can handle only homogenous data type\n",
    "# so we have to convert everythibg to string as it is the most suited one\n",
    "# later we have to convert back to other data type for calcu\n",
    "# np.loadtxt('fitbit.txt')"
   ]
  },
  {
   "cell_type": "code",
   "execution_count": 4,
   "id": "6a6fb82d",
   "metadata": {},
   "outputs": [],
   "source": [
    "data  = np.loadtxt('fitbit.txt',dtype='str')"
   ]
  },
  {
   "cell_type": "code",
   "execution_count": 5,
   "id": "3c7252ab",
   "metadata": {},
   "outputs": [
    {
     "name": "stdout",
     "output_type": "stream",
     "text": [
      "[['06-10-2017' '5464' '200' '181' '6' '0' '68']\n",
      " ['07-10-2017' '7167' '200' '208' '6' '0' '68']\n",
      " ['08-10-2017' '9874' '300' '341' '5' '0' '68']\n",
      " ['09-10-2017' '4969' '100' '190' '8' '0' '68']\n",
      " ['10-10-2017' '8538' '300' '307' '5' '0' '68']\n",
      " ['11-10-2017' '9875' '300' '302' '5' '0' '68']\n",
      " ['12-10-2017' '4662' '100' '198' '8' '0' '68']\n",
      " ['13-10-2017' '6310' '200' '201' '6' '0' '68']\n",
      " ['14-10-2017' '7556' '200' '195' '6' '0' '68']\n",
      " ['15-10-2017' '9073' '300' '327' '5' '0' '68']\n",
      " ['16-10-2017' '9690' '300' '331' '5' '0' '68']\n",
      " ['17-10-2017' '9146' '300' '318' '5' '0' '68']\n",
      " ['18-10-2017' '9752' '300' '344' '5' '0' '68']\n",
      " ['19-10-2017' '6974' '200' '204' '6' '0' '68']\n",
      " ['20-10-2017' '5619' '200' '180' '6' '0' '68']\n",
      " ['21-10-2017' '6889' '200' '201' '6' '0' '68']\n",
      " ['22-10-2017' '8616' '300' '329' '5' '0' '68']\n",
      " ['23-10-2017' '9131' '300' '315' '5' '0' '68']\n",
      " ['24-10-2017' '4211' '100' '197' '8' '0' '68']\n",
      " ['25-10-2017' '4291' '100' '184' '8' '0' '68']\n",
      " ['26-10-2017' '8569' '300' '328' '5' '0' '68']\n",
      " ['27-10-2017' '9337' '300' '322' '5' '0' '68']\n",
      " ['28-10-2017' '8475' '300' '327' '5' '0' '68']\n",
      " ['29-10-2017' '4510' '100' '148' '8' '0' '68']\n",
      " ['30-10-2017' '6347' '200' '235' '6' '0' '68']\n",
      " ['31-10-2017' '5911' '200' '184' '6' '0' '68']]\n"
     ]
    }
   ],
   "source": [
    "print(data)"
   ]
  },
  {
   "cell_type": "code",
   "execution_count": 6,
   "id": "b3030a22",
   "metadata": {},
   "outputs": [
    {
     "data": {
      "text/plain": [
       "array([['06-10-2017', '5464', '200', '181', '6', '0', '68'],\n",
       "       ['07-10-2017', '7167', '200', '208', '6', '0', '68'],\n",
       "       ['08-10-2017', '9874', '300', '341', '5', '0', '68'],\n",
       "       ['09-10-2017', '4969', '100', '190', '8', '0', '68'],\n",
       "       ['10-10-2017', '8538', '300', '307', '5', '0', '68'],\n",
       "       ['11-10-2017', '9875', '300', '302', '5', '0', '68'],\n",
       "       ['12-10-2017', '4662', '100', '198', '8', '0', '68'],\n",
       "       ['13-10-2017', '6310', '200', '201', '6', '0', '68'],\n",
       "       ['14-10-2017', '7556', '200', '195', '6', '0', '68'],\n",
       "       ['15-10-2017', '9073', '300', '327', '5', '0', '68'],\n",
       "       ['16-10-2017', '9690', '300', '331', '5', '0', '68'],\n",
       "       ['17-10-2017', '9146', '300', '318', '5', '0', '68'],\n",
       "       ['18-10-2017', '9752', '300', '344', '5', '0', '68'],\n",
       "       ['19-10-2017', '6974', '200', '204', '6', '0', '68'],\n",
       "       ['20-10-2017', '5619', '200', '180', '6', '0', '68'],\n",
       "       ['21-10-2017', '6889', '200', '201', '6', '0', '68'],\n",
       "       ['22-10-2017', '8616', '300', '329', '5', '0', '68'],\n",
       "       ['23-10-2017', '9131', '300', '315', '5', '0', '68'],\n",
       "       ['24-10-2017', '4211', '100', '197', '8', '0', '68'],\n",
       "       ['25-10-2017', '4291', '100', '184', '8', '0', '68'],\n",
       "       ['26-10-2017', '8569', '300', '328', '5', '0', '68'],\n",
       "       ['27-10-2017', '9337', '300', '322', '5', '0', '68'],\n",
       "       ['28-10-2017', '8475', '300', '327', '5', '0', '68'],\n",
       "       ['29-10-2017', '4510', '100', '148', '8', '0', '68'],\n",
       "       ['30-10-2017', '6347', '200', '235', '6', '0', '68'],\n",
       "       ['31-10-2017', '5911', '200', '184', '6', '0', '68']], dtype='<U10')"
      ]
     },
     "execution_count": 6,
     "metadata": {},
     "output_type": "execute_result"
    }
   ],
   "source": [
    "data"
   ]
  },
  {
   "cell_type": "code",
   "execution_count": 7,
   "id": "457f81ec",
   "metadata": {},
   "outputs": [],
   "source": [
    "#  now data looks like a numpy arraty\n",
    "# we can check the parameters"
   ]
  },
  {
   "cell_type": "code",
   "execution_count": 8,
   "id": "dc0b8583",
   "metadata": {},
   "outputs": [
    {
     "data": {
      "text/plain": [
       "(26, 7)"
      ]
     },
     "execution_count": 8,
     "metadata": {},
     "output_type": "execute_result"
    }
   ],
   "source": [
    "data.shape  # rows is data and column is features"
   ]
  },
  {
   "cell_type": "code",
   "execution_count": 9,
   "id": "e74acdc2",
   "metadata": {},
   "outputs": [
    {
     "data": {
      "text/plain": [
       "182"
      ]
     },
     "execution_count": 9,
     "metadata": {},
     "output_type": "execute_result"
    }
   ],
   "source": [
    "data.size"
   ]
  },
  {
   "cell_type": "code",
   "execution_count": 10,
   "id": "8ed2fb2f",
   "metadata": {},
   "outputs": [
    {
     "data": {
      "text/plain": [
       "2"
      ]
     },
     "execution_count": 10,
     "metadata": {},
     "output_type": "execute_result"
    }
   ],
   "source": [
    "data.ndim"
   ]
  },
  {
   "cell_type": "code",
   "execution_count": null,
   "id": "4567ab7b",
   "metadata": {},
   "outputs": [],
   "source": []
  },
  {
   "cell_type": "code",
   "execution_count": null,
   "id": "7156e207",
   "metadata": {},
   "outputs": [],
   "source": []
  },
  {
   "cell_type": "markdown",
   "id": "286ea224",
   "metadata": {},
   "source": [
    "# data Cleaning"
   ]
  },
  {
   "cell_type": "code",
   "execution_count": 11,
   "id": "c957de1f",
   "metadata": {},
   "outputs": [],
   "source": [
    "# extracting the columns and chnagin the data types"
   ]
  },
  {
   "cell_type": "code",
   "execution_count": 12,
   "id": "22e2fe10",
   "metadata": {},
   "outputs": [
    {
     "data": {
      "text/plain": [
       "array(['06-10-2017', '5464', '200', '181', '6', '0', '68'], dtype='<U10')"
      ]
     },
     "execution_count": 12,
     "metadata": {},
     "output_type": "execute_result"
    }
   ],
   "source": [
    "data[0] #extracting 1st row"
   ]
  },
  {
   "cell_type": "code",
   "execution_count": 13,
   "id": "7bddd084",
   "metadata": {},
   "outputs": [],
   "source": [
    "# transposing the data and tking the 1st row will give the 1st column"
   ]
  },
  {
   "cell_type": "code",
   "execution_count": 14,
   "id": "2eeb072d",
   "metadata": {},
   "outputs": [
    {
     "data": {
      "text/plain": [
       "array([['06-10-2017', '07-10-2017', '08-10-2017', '09-10-2017',\n",
       "        '10-10-2017', '11-10-2017', '12-10-2017', '13-10-2017',\n",
       "        '14-10-2017', '15-10-2017', '16-10-2017', '17-10-2017',\n",
       "        '18-10-2017', '19-10-2017', '20-10-2017', '21-10-2017',\n",
       "        '22-10-2017', '23-10-2017', '24-10-2017', '25-10-2017',\n",
       "        '26-10-2017', '27-10-2017', '28-10-2017', '29-10-2017',\n",
       "        '30-10-2017', '31-10-2017'],\n",
       "       ['5464', '7167', '9874', '4969', '8538', '9875', '4662', '6310',\n",
       "        '7556', '9073', '9690', '9146', '9752', '6974', '5619', '6889',\n",
       "        '8616', '9131', '4211', '4291', '8569', '9337', '8475', '4510',\n",
       "        '6347', '5911'],\n",
       "       ['200', '200', '300', '100', '300', '300', '100', '200', '200',\n",
       "        '300', '300', '300', '300', '200', '200', '200', '300', '300',\n",
       "        '100', '100', '300', '300', '300', '100', '200', '200'],\n",
       "       ['181', '208', '341', '190', '307', '302', '198', '201', '195',\n",
       "        '327', '331', '318', '344', '204', '180', '201', '329', '315',\n",
       "        '197', '184', '328', '322', '327', '148', '235', '184'],\n",
       "       ['6', '6', '5', '8', '5', '5', '8', '6', '6', '5', '5', '5', '5',\n",
       "        '6', '6', '6', '5', '5', '8', '8', '5', '5', '5', '8', '6', '6'],\n",
       "       ['0', '0', '0', '0', '0', '0', '0', '0', '0', '0', '0', '0', '0',\n",
       "        '0', '0', '0', '0', '0', '0', '0', '0', '0', '0', '0', '0', '0'],\n",
       "       ['68', '68', '68', '68', '68', '68', '68', '68', '68', '68', '68',\n",
       "        '68', '68', '68', '68', '68', '68', '68', '68', '68', '68', '68',\n",
       "        '68', '68', '68', '68']], dtype='<U10')"
      ]
     },
     "execution_count": 14,
     "metadata": {},
     "output_type": "execute_result"
    }
   ],
   "source": [
    "data.T"
   ]
  },
  {
   "cell_type": "code",
   "execution_count": 15,
   "id": "5f1cb7ef",
   "metadata": {},
   "outputs": [
    {
     "data": {
      "text/plain": [
       "array(['06-10-2017', '07-10-2017', '08-10-2017', '09-10-2017',\n",
       "       '10-10-2017', '11-10-2017', '12-10-2017', '13-10-2017',\n",
       "       '14-10-2017', '15-10-2017', '16-10-2017', '17-10-2017',\n",
       "       '18-10-2017', '19-10-2017', '20-10-2017', '21-10-2017',\n",
       "       '22-10-2017', '23-10-2017', '24-10-2017', '25-10-2017',\n",
       "       '26-10-2017', '27-10-2017', '28-10-2017', '29-10-2017',\n",
       "       '30-10-2017', '31-10-2017'], dtype='<U10')"
      ]
     },
     "execution_count": 15,
     "metadata": {},
     "output_type": "execute_result"
    }
   ],
   "source": [
    "data.T[0]"
   ]
  },
  {
   "cell_type": "code",
   "execution_count": 16,
   "id": "5e9e4d7b",
   "metadata": {},
   "outputs": [],
   "source": [
    "# using transpose , packing and unpacking concepts"
   ]
  },
  {
   "cell_type": "code",
   "execution_count": 17,
   "id": "c20804fc",
   "metadata": {},
   "outputs": [],
   "source": [
    "date,  step_count, mood ,calories_burned, hours_of_sleep, bool_of_active, weight_kg =   data.T              "
   ]
  },
  {
   "cell_type": "code",
   "execution_count": 18,
   "id": "614576db",
   "metadata": {},
   "outputs": [
    {
     "data": {
      "text/plain": [
       "array(['06-10-2017', '07-10-2017', '08-10-2017', '09-10-2017',\n",
       "       '10-10-2017', '11-10-2017', '12-10-2017', '13-10-2017',\n",
       "       '14-10-2017', '15-10-2017', '16-10-2017', '17-10-2017',\n",
       "       '18-10-2017', '19-10-2017', '20-10-2017', '21-10-2017',\n",
       "       '22-10-2017', '23-10-2017', '24-10-2017', '25-10-2017',\n",
       "       '26-10-2017', '27-10-2017', '28-10-2017', '29-10-2017',\n",
       "       '30-10-2017', '31-10-2017'], dtype='<U10')"
      ]
     },
     "execution_count": 18,
     "metadata": {},
     "output_type": "execute_result"
    }
   ],
   "source": [
    "date"
   ]
  },
  {
   "cell_type": "code",
   "execution_count": 19,
   "id": "3d9b5dc0",
   "metadata": {},
   "outputs": [
    {
     "data": {
      "text/plain": [
       "dtype('<U10')"
      ]
     },
     "execution_count": 19,
     "metadata": {},
     "output_type": "execute_result"
    }
   ],
   "source": [
    "data.dtype"
   ]
  },
  {
   "cell_type": "code",
   "execution_count": 20,
   "id": "6e92f9b5",
   "metadata": {},
   "outputs": [
    {
     "data": {
      "text/plain": [
       "dtype('<U10')"
      ]
     },
     "execution_count": 20,
     "metadata": {},
     "output_type": "execute_result"
    }
   ],
   "source": [
    "step_count.dtype"
   ]
  },
  {
   "cell_type": "code",
   "execution_count": 21,
   "id": "5039b2df",
   "metadata": {},
   "outputs": [],
   "source": [
    "# changing the  data types of each row after we got the transpose\n"
   ]
  },
  {
   "cell_type": "code",
   "execution_count": 22,
   "id": "3b4a88ed",
   "metadata": {},
   "outputs": [],
   "source": [
    "step_count = np.array(step_count,dtype='int')"
   ]
  },
  {
   "cell_type": "code",
   "execution_count": 23,
   "id": "89863a78",
   "metadata": {},
   "outputs": [
    {
     "data": {
      "text/plain": [
       "array([5464, 7167, 9874, 4969, 8538, 9875, 4662, 6310, 7556, 9073, 9690,\n",
       "       9146, 9752, 6974, 5619, 6889, 8616, 9131, 4211, 4291, 8569, 9337,\n",
       "       8475, 4510, 6347, 5911])"
      ]
     },
     "execution_count": 23,
     "metadata": {},
     "output_type": "execute_result"
    }
   ],
   "source": [
    "step_count"
   ]
  },
  {
   "cell_type": "code",
   "execution_count": 24,
   "id": "bf3e39f0",
   "metadata": {},
   "outputs": [
    {
     "data": {
      "text/plain": [
       "dtype('int32')"
      ]
     },
     "execution_count": 24,
     "metadata": {},
     "output_type": "execute_result"
    }
   ],
   "source": [
    "step_count.dtype"
   ]
  },
  {
   "cell_type": "code",
   "execution_count": 25,
   "id": "76ea477b",
   "metadata": {},
   "outputs": [],
   "source": [
    "calories_burned  = np.array(calories_burned,dtype='int')\n",
    "hours_of_sleep  = np.array(hours_of_sleep,dtype='int')\n",
    "weight_kg  = np.array(weight_kg,dtype='int')"
   ]
  },
  {
   "cell_type": "code",
   "execution_count": 26,
   "id": "b1baab55",
   "metadata": {},
   "outputs": [],
   "source": [
    "# taking cloaser look into the data under mood column"
   ]
  },
  {
   "cell_type": "code",
   "execution_count": 27,
   "id": "3c85641b",
   "metadata": {},
   "outputs": [
    {
     "data": {
      "text/plain": [
       "array(['200', '200', '300', '100', '300', '300', '100', '200', '200',\n",
       "       '300', '300', '300', '300', '200', '200', '200', '300', '300',\n",
       "       '100', '100', '300', '300', '300', '100', '200', '200'],\n",
       "      dtype='<U10')"
      ]
     },
     "execution_count": 27,
     "metadata": {},
     "output_type": "execute_result"
    }
   ],
   "source": [
    "mood"
   ]
  },
  {
   "cell_type": "code",
   "execution_count": 28,
   "id": "3ed92297",
   "metadata": {},
   "outputs": [
    {
     "data": {
      "text/plain": [
       "array(['200', '200', '300', '100', '300', '300', '100', '200', '200',\n",
       "       '300', '300', '300', '300', '200', '200', '200', '300', '300',\n",
       "       '100', '100', '300', '300', '300', '100', '200', '200'],\n",
       "      dtype='<U10')"
      ]
     },
     "execution_count": 28,
     "metadata": {},
     "output_type": "execute_result"
    }
   ],
   "source": [
    "mood"
   ]
  },
  {
   "cell_type": "code",
   "execution_count": 29,
   "id": "787dc90d",
   "metadata": {},
   "outputs": [],
   "source": [
    "# there is no variation in data type\n",
    "# consulting with the team\n",
    "# we come to know that its not anumerical data but is a categorincal data "
   ]
  },
  {
   "cell_type": "code",
   "execution_count": 30,
   "id": "0de13841",
   "metadata": {},
   "outputs": [
    {
     "data": {
      "text/plain": [
       "array(['100', '200', '300'], dtype='<U10')"
      ]
     },
     "execution_count": 30,
     "metadata": {},
     "output_type": "execute_result"
    }
   ],
   "source": [
    "# we can check the uique values\n",
    "np.unique(mood)"
   ]
  },
  {
   "cell_type": "code",
   "execution_count": 31,
   "id": "0c8d51fa",
   "metadata": {},
   "outputs": [],
   "source": [
    "# again we have to contact the team for values represented by each code"
   ]
  },
  {
   "cell_type": "code",
   "execution_count": 32,
   "id": "61b127f5",
   "metadata": {},
   "outputs": [
    {
     "data": {
      "text/plain": [
       "'\\n100 sad\\n200 neutral\\n300 happy\\n'"
      ]
     },
     "execution_count": 32,
     "metadata": {},
     "output_type": "execute_result"
    }
   ],
   "source": [
    "'''\n",
    "100 sad\n",
    "200 neutral\n",
    "300 happy\n",
    "'''"
   ]
  },
  {
   "cell_type": "code",
   "execution_count": 33,
   "id": "76b64f1c",
   "metadata": {},
   "outputs": [],
   "source": [
    "# we will convert the numerical data to categorical datya "
   ]
  },
  {
   "cell_type": "code",
   "execution_count": 34,
   "id": "95f5054e",
   "metadata": {},
   "outputs": [],
   "source": [
    "# using masking"
   ]
  },
  {
   "cell_type": "code",
   "execution_count": 35,
   "id": "3421e279",
   "metadata": {},
   "outputs": [
    {
     "data": {
      "text/plain": [
       "array([False, False,  True, False,  True,  True, False, False, False,\n",
       "        True,  True,  True,  True, False, False, False,  True,  True,\n",
       "       False, False,  True,  True,  True, False, False, False])"
      ]
     },
     "execution_count": 35,
     "metadata": {},
     "output_type": "execute_result"
    }
   ],
   "source": [
    "# we will get all 300 in the mood as true\n",
    "mood == '300'"
   ]
  },
  {
   "cell_type": "code",
   "execution_count": 36,
   "id": "0b3669c0",
   "metadata": {},
   "outputs": [
    {
     "data": {
      "text/plain": [
       "array(['300', '300', '300', '300', '300', '300', '300', '300', '300',\n",
       "       '300', '300', '300'], dtype='<U10')"
      ]
     },
     "execution_count": 36,
     "metadata": {},
     "output_type": "execute_result"
    }
   ],
   "source": [
    "mood[mood == '300'] #getting the actual values"
   ]
  },
  {
   "cell_type": "code",
   "execution_count": 37,
   "id": "05cd18b6",
   "metadata": {},
   "outputs": [],
   "source": [
    "# replacing the values to Happy , where the mood is 300\n",
    "mood[mood == '300'] = 'Happy'"
   ]
  },
  {
   "cell_type": "code",
   "execution_count": 38,
   "id": "c799def3",
   "metadata": {},
   "outputs": [
    {
     "data": {
      "text/plain": [
       "array(['200', '200', 'Happy', '100', 'Happy', 'Happy', '100', '200',\n",
       "       '200', 'Happy', 'Happy', 'Happy', 'Happy', '200', '200', '200',\n",
       "       'Happy', 'Happy', '100', '100', 'Happy', 'Happy', 'Happy', '100',\n",
       "       '200', '200'], dtype='<U10')"
      ]
     },
     "execution_count": 38,
     "metadata": {},
     "output_type": "execute_result"
    }
   ],
   "source": [
    "mood"
   ]
  },
  {
   "cell_type": "code",
   "execution_count": 39,
   "id": "92b10ffa",
   "metadata": {},
   "outputs": [],
   "source": [
    "# similarly replacing for 100 and 200"
   ]
  },
  {
   "cell_type": "code",
   "execution_count": 40,
   "id": "9080cc1c",
   "metadata": {},
   "outputs": [],
   "source": [
    "mood[mood == '100'] = 'Sad'\n",
    "mood[mood == '200'] = 'Neutral'"
   ]
  },
  {
   "cell_type": "code",
   "execution_count": 41,
   "id": "6e7cea7d",
   "metadata": {},
   "outputs": [
    {
     "data": {
      "text/plain": [
       "array(['Neutral', 'Neutral', 'Happy', 'Sad', 'Happy', 'Happy', 'Sad',\n",
       "       'Neutral', 'Neutral', 'Happy', 'Happy', 'Happy', 'Happy',\n",
       "       'Neutral', 'Neutral', 'Neutral', 'Happy', 'Happy', 'Sad', 'Sad',\n",
       "       'Happy', 'Happy', 'Happy', 'Sad', 'Neutral', 'Neutral'],\n",
       "      dtype='<U10')"
      ]
     },
     "execution_count": 41,
     "metadata": {},
     "output_type": "execute_result"
    }
   ],
   "source": [
    "mood"
   ]
  },
  {
   "cell_type": "code",
   "execution_count": 42,
   "id": "4ed6ee84",
   "metadata": {
    "scrolled": true
   },
   "outputs": [
    {
     "data": {
      "text/plain": [
       "array(['0', '0', '0', '0', '0', '0', '0', '0', '0', '0', '0', '0', '0',\n",
       "       '0', '0', '0', '0', '0', '0', '0', '0', '0', '0', '0', '0', '0'],\n",
       "      dtype='<U10')"
      ]
     },
     "execution_count": 42,
     "metadata": {},
     "output_type": "execute_result"
    }
   ],
   "source": [
    "bool_of_active"
   ]
  },
  {
   "cell_type": "code",
   "execution_count": 43,
   "id": "018f9f32",
   "metadata": {},
   "outputs": [],
   "source": [
    "mood[mood == '300'] = 'Happy'"
   ]
  },
  {
   "cell_type": "markdown",
   "id": "a0b80c40",
   "metadata": {},
   "source": [
    "# data Analysing"
   ]
  },
  {
   "cell_type": "code",
   "execution_count": 44,
   "id": "6b3a172e",
   "metadata": {},
   "outputs": [],
   "source": [
    "# insights from the data"
   ]
  },
  {
   "cell_type": "markdown",
   "id": "8b5bb792",
   "metadata": {},
   "source": [
    "# steps count"
   ]
  },
  {
   "cell_type": "code",
   "execution_count": 45,
   "id": "0767bff3",
   "metadata": {},
   "outputs": [
    {
     "data": {
      "text/plain": [
       "9875"
      ]
     },
     "execution_count": 45,
     "metadata": {},
     "output_type": "execute_result"
    }
   ],
   "source": [
    "# max steps count\n",
    "np.max(step_count)"
   ]
  },
  {
   "cell_type": "code",
   "execution_count": 46,
   "id": "9b85b1d6",
   "metadata": {},
   "outputs": [
    {
     "data": {
      "text/plain": [
       "7344.461538461538"
      ]
     },
     "execution_count": 46,
     "metadata": {},
     "output_type": "execute_result"
    }
   ],
   "source": [
    "np.mean(step_count)"
   ]
  },
  {
   "cell_type": "code",
   "execution_count": 47,
   "id": "249593f7",
   "metadata": {},
   "outputs": [],
   "source": [
    "# data on which max steps done"
   ]
  },
  {
   "cell_type": "code",
   "execution_count": 48,
   "id": "aba5c97c",
   "metadata": {},
   "outputs": [
    {
     "data": {
      "text/plain": [
       "5"
      ]
     },
     "execution_count": 48,
     "metadata": {},
     "output_type": "execute_result"
    }
   ],
   "source": [
    "np.argmax(step_count)"
   ]
  },
  {
   "cell_type": "code",
   "execution_count": 49,
   "id": "f782d588",
   "metadata": {},
   "outputs": [
    {
     "data": {
      "text/plain": [
       "9875"
      ]
     },
     "execution_count": 49,
     "metadata": {},
     "output_type": "execute_result"
    }
   ],
   "source": [
    "# cross checking the value\n",
    "step_count[5]"
   ]
  },
  {
   "cell_type": "code",
   "execution_count": 50,
   "id": "a62698b6",
   "metadata": {},
   "outputs": [
    {
     "data": {
      "text/plain": [
       "'11-10-2017'"
      ]
     },
     "execution_count": 50,
     "metadata": {},
     "output_type": "execute_result"
    }
   ],
   "source": [
    "# finding the date corr to the argumnent/index = 5\n",
    "date[5]\n"
   ]
  },
  {
   "cell_type": "markdown",
   "id": "99ed1993",
   "metadata": {},
   "source": [
    "# feq of mood"
   ]
  },
  {
   "cell_type": "code",
   "execution_count": 51,
   "id": "f5906cb1",
   "metadata": {},
   "outputs": [
    {
     "data": {
      "text/plain": [
       "array(['Sad', 'Sad', 'Sad', 'Sad', 'Sad'], dtype='<U10')"
      ]
     },
     "execution_count": 51,
     "metadata": {},
     "output_type": "execute_result"
    }
   ],
   "source": [
    "# getting all the mood\n",
    "mood == 'Sad'\n",
    "mood[mood == 'Sad']"
   ]
  },
  {
   "cell_type": "code",
   "execution_count": 52,
   "id": "3e572b7f",
   "metadata": {},
   "outputs": [
    {
     "data": {
      "text/plain": [
       "array(['Neutral', 'Neutral', 'Neutral', 'Neutral', 'Neutral', 'Neutral',\n",
       "       'Neutral', 'Neutral', 'Neutral'], dtype='<U10')"
      ]
     },
     "execution_count": 52,
     "metadata": {},
     "output_type": "execute_result"
    }
   ],
   "source": [
    "mood == 'Neutral'\n",
    "mood[mood == 'Neutral']"
   ]
  },
  {
   "cell_type": "code",
   "execution_count": 53,
   "id": "9ab589cd",
   "metadata": {},
   "outputs": [
    {
     "data": {
      "text/plain": [
       "array(['Happy', 'Happy', 'Happy', 'Happy', 'Happy', 'Happy', 'Happy',\n",
       "       'Happy', 'Happy', 'Happy', 'Happy', 'Happy'], dtype='<U10')"
      ]
     },
     "execution_count": 53,
     "metadata": {},
     "output_type": "execute_result"
    }
   ],
   "source": [
    "mood == 'Happy'\n",
    "mood[mood == 'Happy']"
   ]
  },
  {
   "cell_type": "code",
   "execution_count": 54,
   "id": "0e4ced3f",
   "metadata": {},
   "outputs": [
    {
     "name": "stdout",
     "output_type": "stream",
     "text": [
      "5\n",
      "9\n",
      "12\n"
     ]
    }
   ],
   "source": [
    "# findin the length/ count of each mood\n",
    "\n",
    "print(len(mood[mood == 'Sad']))\n",
    "print(len(mood[mood == 'Neutral']))\n",
    "print(len(mood[mood == 'Happy']))\n",
    "\n"
   ]
  },
  {
   "cell_type": "code",
   "execution_count": 55,
   "id": "cbbba446",
   "metadata": {},
   "outputs": [
    {
     "data": {
      "text/plain": [
       "(array(['Happy', 'Neutral', 'Sad'], dtype='<U10'),\n",
       " array([12,  9,  5], dtype=int64))"
      ]
     },
     "execution_count": 55,
     "metadata": {},
     "output_type": "execute_result"
    }
   ],
   "source": [
    "# taking help of fun to do the same as above\n",
    "np.unique(mood,return_counts=True)"
   ]
  },
  {
   "cell_type": "markdown",
   "id": "a9404b58",
   "metadata": {},
   "source": [
    "# does the stepcout changes with the mood?"
   ]
  },
  {
   "cell_type": "code",
   "execution_count": 56,
   "id": "85993781",
   "metadata": {},
   "outputs": [
    {
     "data": {
      "text/plain": [
       "9173.0"
      ]
     },
     "execution_count": 56,
     "metadata": {},
     "output_type": "execute_result"
    }
   ],
   "source": [
    "# steps count when the mood is Happy\n",
    "step_count[mood == 'Happy']\n",
    "\n",
    "\n",
    "# checking the mean to get the overall idea\n",
    "np.mean(step_count[mood == 'Happy'])"
   ]
  },
  {
   "cell_type": "code",
   "execution_count": 57,
   "id": "50edd266",
   "metadata": {},
   "outputs": [
    {
     "data": {
      "text/plain": [
       "4528.6"
      ]
     },
     "execution_count": 57,
     "metadata": {},
     "output_type": "execute_result"
    }
   ],
   "source": [
    "# steps count when the mood is Happy\n",
    "step_count[mood == 'Sad']\n",
    "\n",
    "# checking the mean to get the overall idea\n",
    "np.mean(step_count[mood == 'Sad'])"
   ]
  },
  {
   "cell_type": "code",
   "execution_count": 58,
   "id": "470919e9",
   "metadata": {},
   "outputs": [
    {
     "data": {
      "text/plain": [
       "6470.777777777777"
      ]
     },
     "execution_count": 58,
     "metadata": {},
     "output_type": "execute_result"
    }
   ],
   "source": [
    "# steps count when the mood is Happy\n",
    "step_count[mood == 'Neutral']\n",
    "\n",
    "# checking the mean to get the overall idea\n",
    "np.mean(step_count[mood == 'Neutral'])"
   ]
  },
  {
   "cell_type": "markdown",
   "id": "8ea3bf9d",
   "metadata": {},
   "source": [
    "# checking the moods when the steps count was higher"
   ]
  },
  {
   "cell_type": "code",
   "execution_count": 59,
   "id": "ada75e45",
   "metadata": {},
   "outputs": [
    {
     "data": {
      "text/plain": [
       "(array(['Happy', 'Neutral', 'Sad'], dtype='<U10'),\n",
       " array([12,  9,  5], dtype=int64))"
      ]
     },
     "execution_count": 59,
     "metadata": {},
     "output_type": "execute_result"
    }
   ],
   "source": [
    "np.unique(mood[step_count>4000],return_counts=True)"
   ]
  },
  {
   "cell_type": "code",
   "execution_count": 60,
   "id": "a6ba07ec",
   "metadata": {},
   "outputs": [
    {
     "data": {
      "text/plain": [
       "array(['Neutral', 'Neutral', 'Happy', 'Sad', 'Happy', 'Happy', 'Sad',\n",
       "       'Neutral', 'Neutral', 'Happy', 'Happy', 'Happy', 'Happy',\n",
       "       'Neutral', 'Neutral', 'Neutral', 'Happy', 'Happy', 'Sad', 'Sad',\n",
       "       'Happy', 'Happy', 'Happy', 'Sad', 'Neutral', 'Neutral'],\n",
       "      dtype='<U10')"
      ]
     },
     "execution_count": 60,
     "metadata": {},
     "output_type": "execute_result"
    }
   ],
   "source": [
    "mood[step_count>4000]"
   ]
  },
  {
   "cell_type": "code",
   "execution_count": null,
   "id": "8fa638bd",
   "metadata": {},
   "outputs": [],
   "source": []
  }
 ],
 "metadata": {
  "kernelspec": {
   "display_name": "Python 3 (ipykernel)",
   "language": "python",
   "name": "python3"
  },
  "language_info": {
   "codemirror_mode": {
    "name": "ipython",
    "version": 3
   },
   "file_extension": ".py",
   "mimetype": "text/x-python",
   "name": "python",
   "nbconvert_exporter": "python",
   "pygments_lexer": "ipython3",
   "version": "3.10.5"
  }
 },
 "nbformat": 4,
 "nbformat_minor": 5
}
