{
 "cells": [
  {
   "cell_type": "code",
   "execution_count": null,
   "id": "d91dea1e",
   "metadata": {},
   "outputs": [],
   "source": []
  },
  {
   "cell_type": "code",
   "execution_count": null,
   "id": "ef768e48",
   "metadata": {},
   "outputs": [],
   "source": []
  },
  {
   "cell_type": "markdown",
   "id": "e4745526",
   "metadata": {},
   "source": [
    "# comments"
   ]
  },
  {
   "cell_type": "code",
   "execution_count": 2,
   "id": "2716788b",
   "metadata": {},
   "outputs": [],
   "source": [
    "# comments in python\n",
    "# Line for the coder for his/her understading \n",
    "# not be read while execution for Python. Python will not execute the line\n",
    "\n",
    "# Single line using '#'\n",
    "# Multiline comment ''' ''' \n",
    "\n",
    "\n",
    "# Address\n",
    "# 10a /1101\n",
    "# Chandrapur\n",
    "# Maharashtra\n",
    "# 400076"
   ]
  },
  {
   "cell_type": "code",
   "execution_count": 3,
   "id": "f3dcc37b",
   "metadata": {},
   "outputs": [
    {
     "data": {
      "text/plain": [
       "'\\nAddress\\n10a /1101\\nChandrapur\\nMaharashtra\\n400076\\n\\n'"
      ]
     },
     "execution_count": 3,
     "metadata": {},
     "output_type": "execute_result"
    }
   ],
   "source": [
    "\n",
    "'''\n",
    "Address\n",
    "10a /1101\n",
    "Chandrapur\n",
    "Maharashtra\n",
    "400076\n",
    "\n",
    "'''"
   ]
  },
  {
   "cell_type": "code",
   "execution_count": 4,
   "id": "59062950",
   "metadata": {},
   "outputs": [
    {
     "data": {
      "text/plain": [
       "'\\n1. Numbers\\n    a. Int\\n    b. Float\\n    c. Complex\\n2. Strings\\n\\n3. List\\n\\n4. Tuples\\n\\n5. Sets\\n\\n6. Dictionaries\\n\\n7. Boolean\\n\\n8. etc etc..\\n\\n\\n'"
      ]
     },
     "execution_count": 4,
     "metadata": {},
     "output_type": "execute_result"
    }
   ],
   "source": [
    "# INtro to data types\n",
    "'''\n",
    "1. Numbers\n",
    "    a. Int\n",
    "    b. Float\n",
    "    c. Complex\n",
    "2. Strings\n",
    "\n",
    "3. List\n",
    "\n",
    "4. Tuples\n",
    "\n",
    "5. Sets\n",
    "\n",
    "6. Dictionaries\n",
    "\n",
    "7. Boolean\n",
    "\n",
    "8. etc etc..\n",
    "\n",
    "\n",
    "'''"
   ]
  },
  {
   "cell_type": "markdown",
   "id": "f1a9c3f6",
   "metadata": {},
   "source": [
    "# more on print()"
   ]
  },
  {
   "cell_type": "code",
   "execution_count": 5,
   "id": "510af005",
   "metadata": {},
   "outputs": [
    {
     "name": "stdout",
     "output_type": "stream",
     "text": [
      "Ramu\n",
      "Ramesh Suresh\n"
     ]
    }
   ],
   "source": [
    "print(\"Ramu\")\n",
    "print(\"Ramesh\" ,\"Suresh\") \n",
    "# we can print n numbers of strings/variables inside the print()"
   ]
  },
  {
   "cell_type": "code",
   "execution_count": 6,
   "id": "fe60c8ca",
   "metadata": {},
   "outputs": [
    {
     "name": "stdout",
     "output_type": "stream",
     "text": [
      "I won't be coming tomorrow\n"
     ]
    }
   ],
   "source": [
    "# print('I won't be coming tomorrow') #SyntaxError\n",
    "print(\"I won't be coming tomorrow\") "
   ]
  },
  {
   "cell_type": "code",
   "execution_count": 7,
   "id": "3af2bfcb",
   "metadata": {},
   "outputs": [
    {
     "name": "stdout",
     "output_type": "stream",
     "text": [
      "sameer said,\"he was not present on the site\"\n"
     ]
    }
   ],
   "source": [
    "# print(\"sameer said,\"he was not present on the site\" \") #SyntaxError\n",
    "print('''sameer said,\"he was not present on the site\"''')"
   ]
  },
  {
   "cell_type": "code",
   "execution_count": 8,
   "id": "03949c12",
   "metadata": {},
   "outputs": [],
   "source": [
    "# pref  triple quotes, double quotes , single quotes"
   ]
  },
  {
   "cell_type": "code",
   "execution_count": 10,
   "id": "4f92bdb4",
   "metadata": {},
   "outputs": [],
   "source": [
    "# HW\n",
    "# Modify quotes in below code wherever necessary for print() to work without error\n",
    "\n",
    "# print(\"Today is a good day\")\n",
    "# print(\"Mahatma gandhi said in his speech ,\"we should work hard\" \")\n",
    "# print('It's a brand new car as the B'day gift')\n",
    "# print(\"C:\\Users\\tanmay\\docs\")"
   ]
  },
  {
   "cell_type": "code",
   "execution_count": 11,
   "id": "485a8a85",
   "metadata": {},
   "outputs": [],
   "source": [
    "# ESCAPE SEQUENCE\n",
    "\n",
    "\n",
    "# Escape Character Meaning\n",
    "# \\”                Double quote\n",
    "# \\’                Single quote\n",
    "# \\\\                backslash\n",
    "# \\n                New line\n",
    "# \\r                Carriage Return\n",
    "# \\t                Horizontal tab\n",
    "# \\b                Backspace\n",
    "# \\f                form feed\n",
    "# \\v                vertical tab\n",
    "# \\0                Null character\n",
    "# \\N{name}          Unicode Character Database named Lookup\n",
    "# \\uxxxxxxxx        Unicode Character with 16-bit hex value XXXX\n",
    "# \\Uxxxxxxxx        Unicode Character with 32-bit hex value XXXXXXXX\n",
    "# \\ooo              Character with octal value OOO\n",
    "# \\xhh              Character with hex value HH\n"
   ]
  },
  {
   "cell_type": "code",
   "execution_count": 12,
   "id": "c03c4869",
   "metadata": {},
   "outputs": [
    {
     "name": "stdout",
     "output_type": "stream",
     "text": [
      "C:\\sers\n",
      "anmay\\docs\n",
      "C:\\sers\n",
      "anmay\\docs\n"
     ]
    }
   ],
   "source": [
    "print(\"C:\\sers\\nanmay\\docs\")\n",
    "print('''C:\\sers\\nanmay\\docs''')#this wont work"
   ]
  },
  {
   "cell_type": "code",
   "execution_count": 13,
   "id": "8d76f410",
   "metadata": {},
   "outputs": [
    {
     "name": "stdout",
     "output_type": "stream",
     "text": [
      "rahul\n",
      "\\rahul\n",
      "\\tanmay\n",
      "C:\\Users\\tannmay\\docs\n"
     ]
    }
   ],
   "source": [
    "print(\"rahul\")\n",
    "print(\"\\\\rahul\")\n",
    "print(\"\\\\tanmay\")\n",
    "\n",
    "print(\"C:\\\\Users\\\\tannmay\\docs\")"
   ]
  },
  {
   "cell_type": "code",
   "execution_count": 14,
   "id": "6954f602",
   "metadata": {},
   "outputs": [
    {
     "name": "stdout",
     "output_type": "stream",
     "text": [
      "C:\\Users\\tanmay\\docs\n",
      "C:\\Users\\tanmay\\docs\n"
     ]
    }
   ],
   "source": [
    "# using r-string i.e raw string\n",
    "#  to ignore the Escape character\n",
    "\n",
    "print(r\"C:\\Users\\tanmay\\docs\")\n",
    "print(R\"C:\\Users\\tanmay\\docs\")"
   ]
  },
  {
   "cell_type": "markdown",
   "id": "ca651789",
   "metadata": {},
   "source": [
    "# string foramtting"
   ]
  },
  {
   "cell_type": "code",
   "execution_count": 15,
   "id": "a5a4c8d4",
   "metadata": {},
   "outputs": [
    {
     "name": "stdout",
     "output_type": "stream",
     "text": [
      "Zero One Two\n"
     ]
    }
   ],
   "source": [
    "zero = \"Zero\"\n",
    "one = \"One\"\n",
    "two = \"Two\"\n",
    "\n",
    "print(zero,one,two)"
   ]
  },
  {
   "cell_type": "code",
   "execution_count": 16,
   "id": "f1426d1f",
   "metadata": {},
   "outputs": [
    {
     "name": "stdout",
     "output_type": "stream",
     "text": [
      "The numbers are  Zero and One and Two\n",
      "The numbers are  Zero and One and Two\n"
     ]
    }
   ],
   "source": [
    "print(\"The numbers are \",zero, \"and\", one , \"and\" ,two)\n",
    "print(\"The numbers are  {0} and {1} and {2}\".format(zero,one,two))"
   ]
  },
  {
   "cell_type": "code",
   "execution_count": 17,
   "id": "f2af5571",
   "metadata": {},
   "outputs": [],
   "source": [
    "\n",
    "name = \"Ramesh\"\n",
    "age = 25\n",
    "area = \"Pune\""
   ]
  },
  {
   "cell_type": "code",
   "execution_count": 18,
   "id": "5dd58870",
   "metadata": {},
   "outputs": [
    {
     "name": "stdout",
     "output_type": "stream",
     "text": [
      "Ramesh 25 Pune\n",
      "My name is :  Ramesh and I am : 25 years old I live in : Pune\n"
     ]
    }
   ],
   "source": [
    "print(name,age,area),\n",
    "print(\"My name is : \",name, \"and I am :\", age, \"years old\", \"I live in :\",area)"
   ]
  },
  {
   "cell_type": "code",
   "execution_count": 19,
   "id": "00d60891",
   "metadata": {},
   "outputs": [
    {
     "name": "stdout",
     "output_type": "stream",
     "text": [
      "My name is Ramesh and I am 25 years old and I live in Pune\n",
      "My name is Pune and I am 25 years old and I live in Ramesh\n"
     ]
    }
   ],
   "source": [
    "print(\"My name is {0} and I am {1} years old and I live in {2}\".format(name,age,area))\n",
    "print(\"My name is {0} and I am {1} years old and I live in {2}\".format(area,age,name))"
   ]
  },
  {
   "cell_type": "code",
   "execution_count": 20,
   "id": "0bd847d6",
   "metadata": {},
   "outputs": [
    {
     "name": "stdout",
     "output_type": "stream",
     "text": [
      "My name is Ramesh and I am 25 years old and I live in Pune\n",
      "My name is Pune and I am 25 years old and I live in Ramesh\n"
     ]
    }
   ],
   "source": [
    "print(\"My name is {} and I am {} years old and I live in {}\".format(name,age,area)) #default sequence is considered\n",
    "print(\"My name is {} and I am {} years old and I live in {}\".format(area,age,name)) #default sequence is considered"
   ]
  },
  {
   "cell_type": "code",
   "execution_count": 21,
   "id": "b6c7565c",
   "metadata": {},
   "outputs": [
    {
     "name": "stdout",
     "output_type": "stream",
     "text": [
      "My name is Ramesh and I am 25 years old and I live in Pune\n"
     ]
    }
   ],
   "source": [
    "# reordering the default sequence\n",
    "#                                                                     0   1    2\n",
    "print(\"My name is {2} and I am {1} years old and I live in {0}\".format(area,age,name)) #default sequence is considered"
   ]
  },
  {
   "cell_type": "code",
   "execution_count": 22,
   "id": "7021042c",
   "metadata": {},
   "outputs": [],
   "source": [
    "# latest use\n",
    "# using f-string"
   ]
  },
  {
   "cell_type": "code",
   "execution_count": 23,
   "id": "fd56fa99",
   "metadata": {},
   "outputs": [
    {
     "name": "stdout",
     "output_type": "stream",
     "text": [
      "My name is {name} and I am {age} years old and I live in {area}\n",
      "My name is Ramesh and I am 25 years old and I live in Pune\n"
     ]
    }
   ],
   "source": [
    "\n",
    "print(\"My name is {name} and I am {age} years old and I live in {area}\") #default sequence is considered\n",
    "print(f\"My name is {name} and I am {age} years old and I live in {area}\") #default sequence is considered"
   ]
  },
  {
   "cell_type": "code",
   "execution_count": 24,
   "id": "64e7c2ed",
   "metadata": {},
   "outputs": [
    {
     "data": {
      "text/plain": [
       "'\\nA. use .format() to print below statement using the numerical values stored in variables\\n\\na = 100\\nb = 200\\nc = 300\\n\\nThe price of coke is 300 , spice is 100 and vcr is 200\\n\\nShyam has scored 300 in science , 200 in Physics and 300 in Maths\\n\\n\\nB. use f-string to print  below statement using the numerical values stored in above variables\\n\\nThe price of coke is 300 , spice is 100 and vcr is 200\\n\\nSameer has scored 300 in science , 200 in Physics and 300 in Maths\\n\\n\\n'"
      ]
     },
     "execution_count": 24,
     "metadata": {},
     "output_type": "execute_result"
    }
   ],
   "source": [
    "# HW\n",
    "'''\n",
    "A. use .format() to print below statement using the numerical values stored in variables\n",
    "\n",
    "a = 100\n",
    "b = 200\n",
    "c = 300\n",
    "\n",
    "The price of coke is 300 , spice is 100 and vcr is 200\n",
    "\n",
    "Shyam has scored 300 in science , 200 in Physics and 300 in Maths\n",
    "\n",
    "\n",
    "B. use f-string to print  below statement using the numerical values stored in above variables\n",
    "\n",
    "The price of coke is 300 , spice is 100 and vcr is 200\n",
    "\n",
    "Sameer has scored 300 in science , 200 in Physics and 300 in Maths\n",
    "\n",
    "\n",
    "'''"
   ]
  },
  {
   "cell_type": "code",
   "execution_count": null,
   "id": "572587b0",
   "metadata": {},
   "outputs": [],
   "source": []
  },
  {
   "cell_type": "code",
   "execution_count": null,
   "id": "b90ff3bf",
   "metadata": {},
   "outputs": [],
   "source": []
  },
  {
   "cell_type": "code",
   "execution_count": null,
   "id": "f3e7b341",
   "metadata": {},
   "outputs": [],
   "source": []
  },
  {
   "cell_type": "markdown",
   "id": "f36e712f",
   "metadata": {},
   "source": [
    "# Intro to strings"
   ]
  },
  {
   "cell_type": "markdown",
   "id": "53ce5148",
   "metadata": {},
   "source": [
    "# Indexing"
   ]
  },
  {
   "cell_type": "code",
   "execution_count": 25,
   "id": "8d1fefa6",
   "metadata": {},
   "outputs": [],
   "source": [
    "\n",
    "# Indexing\n",
    "    # Positive\n",
    "    # Negative - limited use only"
   ]
  },
  {
   "cell_type": "code",
   "execution_count": 26,
   "id": "37f96b76",
   "metadata": {},
   "outputs": [],
   "source": [
    "#    0123\n",
    "name = \"AMOL\"\n",
    "\n",
    "\n",
    "# Neg-Indexing\t-6\t-5\t-4\t-3\t-2\t-1\n",
    "# Indexing\t    0\t1\t2\t3\t4\t5\n",
    "# STRING\t    P\tY\tT\tH\tO\tN\n",
    "# Counting\t    1\t2\t3\t4\t5\t6"
   ]
  },
  {
   "cell_type": "code",
   "execution_count": 27,
   "id": "a3e3266c",
   "metadata": {},
   "outputs": [],
   "source": [
    "# Accessing the string using positive indexing\n",
    "# eg.1\n",
    "skill = \"PYTHON\""
   ]
  },
  {
   "cell_type": "code",
   "execution_count": 28,
   "id": "c99f8d7a",
   "metadata": {},
   "outputs": [
    {
     "name": "stdout",
     "output_type": "stream",
     "text": [
      "PYTHON\n",
      "<class 'str'>\n"
     ]
    }
   ],
   "source": [
    "print(skill)\n",
    "print(type(skill)) #finding the data type using type()"
   ]
  },
  {
   "cell_type": "code",
   "execution_count": 29,
   "id": "c3576db4",
   "metadata": {},
   "outputs": [
    {
     "name": "stdout",
     "output_type": "stream",
     "text": [
      "P\n",
      "N\n",
      "T\n"
     ]
    }
   ],
   "source": [
    "# syntax\n",
    "# variable[index_value]\n",
    "print(skill[0])\n",
    "print(skill[5])\n",
    "print(skill[2])"
   ]
  },
  {
   "cell_type": "code",
   "execution_count": 30,
   "id": "407e6931",
   "metadata": {},
   "outputs": [],
   "source": [
    "#eg.2\n",
    "mailid = \"naveen1991.coep@gmail.com\""
   ]
  },
  {
   "cell_type": "code",
   "execution_count": 31,
   "id": "04aacab5",
   "metadata": {},
   "outputs": [
    {
     "name": "stdout",
     "output_type": "stream",
     "text": [
      "@\n"
     ]
    }
   ],
   "source": [
    "print(mailid[15]) # we need to print \"@\""
   ]
  },
  {
   "cell_type": "markdown",
   "id": "896008a3",
   "metadata": {},
   "source": [
    "# slicing "
   ]
  },
  {
   "cell_type": "code",
   "execution_count": null,
   "id": "263ceebe",
   "metadata": {},
   "outputs": [],
   "source": [
    "\n",
    "# syntax\n",
    "# variable[start:end] end-1 i.e n-1"
   ]
  },
  {
   "cell_type": "code",
   "execution_count": 32,
   "id": "d5345c11",
   "metadata": {},
   "outputs": [
    {
     "name": "stdout",
     "output_type": "stream",
     "text": [
      "coep\n",
      "gmail\n"
     ]
    }
   ],
   "source": [
    "print(mailid[11:15]) # we want slice of mail id as  o/p \"coep\"\n",
    "print(mailid[16:21]) # we want slice of mail id as  o/p \"gmail\""
   ]
  },
  {
   "cell_type": "code",
   "execution_count": 33,
   "id": "610a4cb7",
   "metadata": {},
   "outputs": [],
   "source": [
    "# slicing with jump/step values\n",
    "# syntax\n",
    "# variable[start:stop:step/jump] n-1 will be considered"
   ]
  },
  {
   "cell_type": "code",
   "execution_count": 34,
   "id": "402570f1",
   "metadata": {},
   "outputs": [],
   "source": [
    "phrase = \"The sun is very bright and lively\""
   ]
  },
  {
   "cell_type": "code",
   "execution_count": 35,
   "id": "8f0f6742",
   "metadata": {},
   "outputs": [
    {
     "name": "stdout",
     "output_type": "stream",
     "text": [
      "sun\n",
      "T nse i\n"
     ]
    }
   ],
   "source": [
    "print(phrase[4:7]) #sun\n",
    "print(phrase[0:21:3]) # one characters and two skip values"
   ]
  },
  {
   "cell_type": "code",
   "execution_count": 36,
   "id": "50ecddf1",
   "metadata": {},
   "outputs": [],
   "source": [
    "# if values are not provided in [::]"
   ]
  },
  {
   "cell_type": "code",
   "execution_count": 37,
   "id": "cb52b4cc",
   "metadata": {},
   "outputs": [],
   "source": [
    "\n",
    "# Neg-Indexing\t-6\t-5\t-4\t-3\t-2\t-1\n",
    "# Indexing\t    0\t1\t2\t3\t4\t5\n",
    "# STRING\t    P\tY\tT\tH\tO\tN\n",
    "# Counting\t    1\t2\t3\t4\t5\t6"
   ]
  },
  {
   "cell_type": "code",
   "execution_count": 38,
   "id": "5f2c4e9b",
   "metadata": {},
   "outputs": [
    {
     "name": "stdout",
     "output_type": "stream",
     "text": [
      "PYTHON\n",
      "PYTHON\n"
     ]
    }
   ],
   "source": [
    "print(skill[::]) # All default values jump default = 1\n",
    "print(skill[::1]) # All default values jump default = 1\n",
    "# print(skill[::0]) # ValueError : slice step cannot be zero"
   ]
  },
  {
   "cell_type": "code",
   "execution_count": 39,
   "id": "688acc4d",
   "metadata": {},
   "outputs": [],
   "source": [
    "# neg indexing \n",
    "    # to print the last element\n",
    "    # to reverse the string"
   ]
  },
  {
   "cell_type": "code",
   "execution_count": 40,
   "id": "aa2026c9",
   "metadata": {},
   "outputs": [
    {
     "name": "stdout",
     "output_type": "stream",
     "text": [
      "N\n",
      "NOHTYP\n"
     ]
    }
   ],
   "source": [
    "\n",
    "print(skill[-1])\n",
    "# string reversal\n",
    "# variable[::-1]\n",
    "print(skill[::-1])"
   ]
  },
  {
   "cell_type": "code",
   "execution_count": 41,
   "id": "acadfdd7",
   "metadata": {},
   "outputs": [
    {
     "data": {
      "text/plain": [
       "'\\nsentence = \" My email ID is nikhil.pune@yahoo.com $\"\\n\\nuse indexing to print \\n1. the 1st character\\n2. @\\n3. yahoo\\n4. $\\n5. slice with 3 characters to be skip\\n6. print the sentence in reverse order using neg indexing\\n\\ncharacter from the given sentence\\n'"
      ]
     },
     "execution_count": 41,
     "metadata": {},
     "output_type": "execute_result"
    }
   ],
   "source": [
    "#  HW\n",
    "'''\n",
    "sentence = \" My email ID is nikhil.pune@yahoo.com $\"\n",
    "\n",
    "use indexing to print \n",
    "1. the 1st character\n",
    "2. @\n",
    "3. yahoo\n",
    "4. $\n",
    "5. slice with 3 characters to be skip\n",
    "6. print the sentence in reverse order using neg indexing\n",
    "\n",
    "character from the given sentence\n",
    "'''"
   ]
  },
  {
   "cell_type": "markdown",
   "id": "38599f5a",
   "metadata": {},
   "source": [
    "# Methods in Strings"
   ]
  },
  {
   "cell_type": "code",
   "execution_count": null,
   "id": "c1fdb50f",
   "metadata": {},
   "outputs": [],
   "source": [
    "# What are methods\n",
    "# methods vs functions"
   ]
  },
  {
   "cell_type": "code",
   "execution_count": 44,
   "id": "2ab75e89",
   "metadata": {},
   "outputs": [
    {
     "name": "stdout",
     "output_type": "stream",
     "text": [
      "str.upper() and str.lower() Methods:\n",
      "These methods return new strings with all characters in uppercase or lowercase, respectively.\n"
     ]
    }
   ],
   "source": [
    "print('''str.upper() and str.lower() Methods:\n",
    "These methods return new strings with all characters in uppercase or lowercase, respectively.''')"
   ]
  },
  {
   "cell_type": "code",
   "execution_count": 45,
   "id": "e5de6654",
   "metadata": {},
   "outputs": [
    {
     "name": "stdout",
     "output_type": "stream",
     "text": [
      "HELLO, WORLD!\n",
      "hello, world!\n"
     ]
    }
   ],
   "source": [
    "original_string = \"Hello, World!\"\n",
    "\n",
    "uppercase_string = original_string.upper()\n",
    "print(uppercase_string)  # Outputs: \"HELLO, WORLD!\"\n",
    "\n",
    "lowercase_string = original_string.lower()\n",
    "print(lowercase_string)  # Outputs: \"hello, world!\"\n"
   ]
  },
  {
   "cell_type": "code",
   "execution_count": 46,
   "id": "e42adede",
   "metadata": {},
   "outputs": [
    {
     "name": "stdout",
     "output_type": "stream",
     "text": [
      "str.strip() and str.lstrip()/str.rstrip() Methods:\n",
      "strip() removes leading and trailing whitespace characters from the string. lstrip() and rstrip() remove only from the left or right side, respectively.\n"
     ]
    }
   ],
   "source": [
    "print('''str.strip() and str.lstrip()/str.rstrip() Methods:\n",
    "strip() removes leading and trailing whitespace characters from the string. lstrip() and rstrip() remove only from the left or right side, respectively.''')"
   ]
  },
  {
   "cell_type": "code",
   "execution_count": 47,
   "id": "95d10a74",
   "metadata": {},
   "outputs": [
    {
     "name": "stdout",
     "output_type": "stream",
     "text": [
      "Python Programming\n",
      "Python Programming   \n",
      "   Python Programming\n"
     ]
    }
   ],
   "source": [
    "string_with_whitespace = \"   Python Programming   \"\n",
    "\n",
    "stripped_string = string_with_whitespace.strip()\n",
    "print(stripped_string)  # Outputs: \"Python Programming\"\n",
    "\n",
    "left_stripped = string_with_whitespace.lstrip()\n",
    "print(left_stripped)  # Outputs: \"Python Programming   \"\n",
    "\n",
    "right_stripped = string_with_whitespace.rstrip()\n",
    "print(right_stripped)  # Outputs: \"   Python Programming\"\n"
   ]
  },
  {
   "cell_type": "code",
   "execution_count": 48,
   "id": "548d3cd0",
   "metadata": {},
   "outputs": [
    {
     "name": "stdout",
     "output_type": "stream",
     "text": [
      "str.replace() Method:\n",
      "This method replaces all occurrences of a substring with another substring within a string.\n"
     ]
    }
   ],
   "source": [
    "print('''str.replace() Method:\n",
    "This method replaces all occurrences of a substring with another substring within a string.''')"
   ]
  },
  {
   "cell_type": "code",
   "execution_count": 49,
   "id": "e7f286ae",
   "metadata": {},
   "outputs": [
    {
     "name": "stdout",
     "output_type": "stream",
     "text": [
      "Hi, World!\n"
     ]
    }
   ],
   "source": [
    "original_string = \"Hello, World!\"\n",
    "\n",
    "modified_string = original_string.replace(\"Hello\", \"Hi\")\n",
    "print(modified_string)  # Outputs: \"Hi, World!\"\n"
   ]
  },
  {
   "cell_type": "code",
   "execution_count": 50,
   "id": "c015439f",
   "metadata": {},
   "outputs": [
    {
     "name": "stdout",
     "output_type": "stream",
     "text": [
      "str.split() Method:\n",
      "This method splits a string into a list of substrings based on a specified delimiter.\n"
     ]
    }
   ],
   "source": [
    "print('''str.split() Method:\n",
    "This method splits a string into a list of substrings based on a specified delimiter.''')"
   ]
  },
  {
   "cell_type": "code",
   "execution_count": 51,
   "id": "a24a94da",
   "metadata": {},
   "outputs": [
    {
     "name": "stdout",
     "output_type": "stream",
     "text": [
      "['Python', 'programming', 'is', 'fun']\n"
     ]
    }
   ],
   "source": [
    "sentence = \"Python programming is fun\"\n",
    "\n",
    "words = sentence.split()\n",
    "print(words)  # Outputs: ['Python', 'programming', 'is', 'fun']\n"
   ]
  },
  {
   "cell_type": "code",
   "execution_count": 52,
   "id": "714efab2",
   "metadata": {},
   "outputs": [
    {
     "name": "stdout",
     "output_type": "stream",
     "text": [
      "str.find() and str.rfind() Methods:\n",
      "find() returns the index of the first occurrence of a substring in a string, and rfind() returns the index of the last occurrence.\n"
     ]
    }
   ],
   "source": [
    "print('''str.find() and str.rfind() Methods:\n",
    "find() returns the index of the first occurrence of a substring in a string, and rfind() returns the index of the last occurrence.''')"
   ]
  },
  {
   "cell_type": "code",
   "execution_count": 54,
   "id": "d9479e3a",
   "metadata": {},
   "outputs": [
    {
     "name": "stdout",
     "output_type": "stream",
     "text": [
      "0\n",
      "28\n"
     ]
    }
   ],
   "source": [
    "sentence = \"Python is easy to learn and Python is versatile\"\n",
    "\n",
    "first_occurrence = sentence.find(\"Python\")\n",
    "print(first_occurrence)  # Outputs: 0\n",
    "\n",
    "last_occurrence = sentence.rfind(\"Python\")\n",
    "print(last_occurrence)  # Outputs: 24\n"
   ]
  },
  {
   "cell_type": "code",
   "execution_count": 55,
   "id": "93ea6f16",
   "metadata": {},
   "outputs": [
    {
     "name": "stdout",
     "output_type": "stream",
     "text": [
      "str.startswith() and str.endswith() Methods:\n",
      "These methods check if a string starts or ends with a specified substring, returning a boolean value.\n"
     ]
    }
   ],
   "source": [
    "print('''str.startswith() and str.endswith() Methods:\n",
    "These methods check if a string starts or ends with a specified substring, returning a boolean value.''')"
   ]
  },
  {
   "cell_type": "code",
   "execution_count": 56,
   "id": "d87a98ba",
   "metadata": {},
   "outputs": [
    {
     "name": "stdout",
     "output_type": "stream",
     "text": [
      "True\n",
      "True\n"
     ]
    }
   ],
   "source": [
    "filename = \"example.txt\"\n",
    "\n",
    "starts_with = filename.startswith(\"example\")\n",
    "print(starts_with)  # Outputs: True\n",
    "\n",
    "ends_with = filename.endswith(\".txt\")\n",
    "print(ends_with)  # Outputs: True\n"
   ]
  },
  {
   "cell_type": "code",
   "execution_count": 57,
   "id": "08ab25f2",
   "metadata": {},
   "outputs": [
    {
     "name": "stdout",
     "output_type": "stream",
     "text": [
      "str.join() Method:\n",
      "This method joins elements of an iterable into a string using the specified string as a separator.\n"
     ]
    }
   ],
   "source": [
    "print('''str.join() Method:\n",
    "This method joins elements of an iterable into a string using the specified string as a separator.''')"
   ]
  },
  {
   "cell_type": "code",
   "execution_count": 58,
   "id": "2bd522e4",
   "metadata": {},
   "outputs": [
    {
     "name": "stdout",
     "output_type": "stream",
     "text": [
      "Hello world from Python\n"
     ]
    }
   ],
   "source": [
    "words = [\"Hello\", \"world\", \"from\", \"Python\"]\n",
    "\n",
    "sentence = \" \".join(words)\n",
    "print(sentence)  # Outputs: \"Hello world from Python\"\n"
   ]
  },
  {
   "cell_type": "markdown",
   "id": "110f713e",
   "metadata": {},
   "source": [
    "# more methods"
   ]
  },
  {
   "cell_type": "code",
   "execution_count": 59,
   "id": "e6373406",
   "metadata": {},
   "outputs": [
    {
     "name": "stdout",
     "output_type": "stream",
     "text": [
      "str.isdigit() and str.isalpha() Methods:\n",
      "isdigit() checks if all characters in the string are digits. isalpha() checks if all characters are alphabetic.\n"
     ]
    }
   ],
   "source": [
    "print('''str.isdigit() and str.isalpha() Methods:\n",
    "isdigit() checks if all characters in the string are digits. isalpha() checks if all characters are alphabetic.''')"
   ]
  },
  {
   "cell_type": "code",
   "execution_count": 60,
   "id": "099e44be",
   "metadata": {},
   "outputs": [
    {
     "name": "stdout",
     "output_type": "stream",
     "text": [
      "True\n",
      "True\n"
     ]
    }
   ],
   "source": [
    "numeric_string = \"12345\"\n",
    "alphabetic_string = \"Hello\"\n",
    "\n",
    "is_numeric = numeric_string.isdigit()\n",
    "print(is_numeric)  # Outputs: True\n",
    "\n",
    "is_alphabetic = alphabetic_string.isalpha()\n",
    "print(is_alphabetic)  # Outputs: True\n"
   ]
  },
  {
   "cell_type": "code",
   "execution_count": 61,
   "id": "22a8f0ec",
   "metadata": {},
   "outputs": [
    {
     "name": "stdout",
     "output_type": "stream",
     "text": [
      "str.capitalize() and str.title() Methods:\n",
      "capitalize() capitalizes the first character of a string. title() capitalizes the first character of each word in a string.\n"
     ]
    }
   ],
   "source": [
    "print('''str.capitalize() and str.title() Methods:\n",
    "capitalize() capitalizes the first character of a string. title() capitalizes the first character of each word in a string.''')"
   ]
  },
  {
   "cell_type": "code",
   "execution_count": 62,
   "id": "fc253683",
   "metadata": {},
   "outputs": [
    {
     "name": "stdout",
     "output_type": "stream",
     "text": [
      "Python programming is fun\n",
      "Python Programming Is Fun\n"
     ]
    }
   ],
   "source": [
    "text = \"python programming is fun\"\n",
    "\n",
    "capitalized = text.capitalize()\n",
    "print(capitalized)  # Outputs: \"Python programming is fun\"\n",
    "\n",
    "title_case = text.title()\n",
    "print(title_case)  # Outputs: \"Python Programming Is Fun\"\n"
   ]
  },
  {
   "cell_type": "code",
   "execution_count": 63,
   "id": "38d98bbb",
   "metadata": {},
   "outputs": [
    {
     "name": "stdout",
     "output_type": "stream",
     "text": [
      "str.count() Method:\n",
      "This method counts the occurrences of a specified substring within a string.\n"
     ]
    }
   ],
   "source": [
    "print('''str.count() Method:\n",
    "This method counts the occurrences of a specified substring within a string.''')"
   ]
  },
  {
   "cell_type": "code",
   "execution_count": 64,
   "id": "07d99299",
   "metadata": {},
   "outputs": [
    {
     "name": "stdout",
     "output_type": "stream",
     "text": [
      "2\n"
     ]
    }
   ],
   "source": [
    "sentence = \"Python is an amazing language. Python is versatile.\"\n",
    "\n",
    "count_python = sentence.count(\"Python\")\n",
    "print(count_python)  # Outputs: 2\n"
   ]
  },
  {
   "cell_type": "code",
   "execution_count": 65,
   "id": "df32071f",
   "metadata": {},
   "outputs": [
    {
     "name": "stdout",
     "output_type": "stream",
     "text": [
      "sentence = \"Python is an amazing language. Python is versatile.\"\n",
      "\n",
      "count_python = sentence.count(\"Python\")\n",
      "print(count_python)  # Outputs: 2\n",
      "\n"
     ]
    }
   ],
   "source": [
    "print('''sentence = \"Python is an amazing language. Python is versatile.\"\n",
    "\n",
    "count_python = sentence.count(\"Python\")\n",
    "print(count_python)  # Outputs: 2\n",
    "''')"
   ]
  },
  {
   "cell_type": "code",
   "execution_count": 66,
   "id": "f2b0b774",
   "metadata": {},
   "outputs": [
    {
     "name": "stdout",
     "output_type": "stream",
     "text": [
      "True\n",
      "True\n"
     ]
    }
   ],
   "source": [
    "lowercase_text = \"hello world\"\n",
    "uppercase_text = \"HELLO WORLD\"\n",
    "\n",
    "is_lowercase = lowercase_text.islower()\n",
    "print(is_lowercase)  # Outputs: True\n",
    "\n",
    "is_uppercase = uppercase_text.isupper()\n",
    "print(is_uppercase)  # Outputs: True\n"
   ]
  },
  {
   "cell_type": "code",
   "execution_count": 67,
   "id": "8a61a19a",
   "metadata": {},
   "outputs": [
    {
     "name": "stdout",
     "output_type": "stream",
     "text": [
      "str.swapcase() Method:\n",
      "This method swaps the case of each character in the string (lowercase to uppercase and vice versa).\n"
     ]
    }
   ],
   "source": [
    "print('''str.swapcase() Method:\n",
    "This method swaps the case of each character in the string (lowercase to uppercase and vice versa).''')"
   ]
  },
  {
   "cell_type": "code",
   "execution_count": 68,
   "id": "3eb51d92",
   "metadata": {},
   "outputs": [
    {
     "name": "stdout",
     "output_type": "stream",
     "text": [
      "pYtHoN iS fUn\n"
     ]
    }
   ],
   "source": [
    "mixed_case_text = \"PyThOn Is FuN\"\n",
    "\n",
    "swapped_case = mixed_case_text.swapcase()\n",
    "print(swapped_case)  # Outputs: \"pYtHoN iS fUn\"\n"
   ]
  },
  {
   "cell_type": "code",
   "execution_count": 69,
   "id": "c2e9cd8d",
   "metadata": {},
   "outputs": [
    {
     "name": "stdout",
     "output_type": "stream",
     "text": [
      "str.startswith() and str.endswith() Methods with Tuple:\n",
      "These methods can accept a tuple of prefixes or suffixes and check if the string starts or ends with any of them.\n"
     ]
    }
   ],
   "source": [
    "print('''str.startswith() and str.endswith() Methods with Tuple:\n",
    "These methods can accept a tuple of prefixes or suffixes and check if the string starts or ends with any of them.''')"
   ]
  },
  {
   "cell_type": "code",
   "execution_count": 70,
   "id": "12491062",
   "metadata": {
    "scrolled": true
   },
   "outputs": [
    {
     "name": "stdout",
     "output_type": "stream",
     "text": [
      "True\n",
      "True\n"
     ]
    }
   ],
   "source": [
    "filename = \"example.txt\"\n",
    "\n",
    "starts_with = filename.startswith((\"ex\", \"sample\"))\n",
    "print(starts_with)  # Outputs: True\n",
    "\n",
    "ends_with = filename.endswith((\".txt\", \".pdf\"))\n",
    "print(ends_with)  # Outputs: True\n"
   ]
  },
  {
   "cell_type": "markdown",
   "id": "9ded0839",
   "metadata": {},
   "source": [
    "# HW"
   ]
  },
  {
   "cell_type": "code",
   "execution_count": 71,
   "id": "39030551",
   "metadata": {},
   "outputs": [
    {
     "data": {
      "text/plain": [
       "'\\nprint(x.count(\"jaya\"))\\nprint(x.count(\"Jaya\"))\\n\\nprint(x.casefold().count(\"jaya\"))\\n\\nprint(x.replace(\"Bharata\",\"India\"))\\n\\nprint(x.find(\"Bharata\"))\\nprint(x.index(\"Bharata\"))\\n\\nprint(x.split(\" \"))\\n'"
      ]
     },
     "execution_count": 71,
     "metadata": {},
     "output_type": "execute_result"
    }
   ],
   "source": [
    "\n",
    "x = '''Jana gana mana adhinayaka jaya he\n",
    "Bharata bhagya vidhata\n",
    "Panjaba Sindha Gujarata Maratha\n",
    "Dravida Utkala Banga\n",
    "Vindhya Himachala Yamuna Ganga\n",
    "Uchchhala jaladhi taranga\n",
    "Tava subha name jage,\n",
    "tava subhasisa mage,\n",
    "gahe tava jaya gatha.\n",
    "Jana gana mangala dayaka jaya he\n",
    "Bharata bhagya vidhata.\n",
    "Jaya he, jaya he,\n",
    "jaya he,\n",
    "jaya jaya jaya jaya he'''\n",
    "\n",
    "# 1. count how many time \"jaya/Jaya\" appeared\n",
    "# 2. Replace Bharata with India\n",
    "# 3. Find 1st occurance of Bharata\n",
    "# 4. store every word in x in a LIST and observe the items in the list .\n",
    "\n",
    "'''\n",
    "print(x.count(\"jaya\"))\n",
    "print(x.count(\"Jaya\"))\n",
    "\n",
    "print(x.casefold().count(\"jaya\"))\n",
    "\n",
    "print(x.replace(\"Bharata\",\"India\"))\n",
    "\n",
    "print(x.find(\"Bharata\"))\n",
    "print(x.index(\"Bharata\"))\n",
    "\n",
    "print(x.split(\" \"))\n",
    "'''\n"
   ]
  },
  {
   "cell_type": "code",
   "execution_count": null,
   "id": "c37411d5",
   "metadata": {},
   "outputs": [],
   "source": []
  }
 ],
 "metadata": {
  "kernelspec": {
   "display_name": "Python 3 (ipykernel)",
   "language": "python",
   "name": "python3"
  },
  "language_info": {
   "codemirror_mode": {
    "name": "ipython",
    "version": 3
   },
   "file_extension": ".py",
   "mimetype": "text/x-python",
   "name": "python",
   "nbconvert_exporter": "python",
   "pygments_lexer": "ipython3",
   "version": "3.10.5"
  }
 },
 "nbformat": 4,
 "nbformat_minor": 5
}
