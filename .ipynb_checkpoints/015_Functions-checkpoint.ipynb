{
 "cells": [
  {
   "cell_type": "markdown",
   "id": "f695ed53",
   "metadata": {},
   "source": [
    "# This is detailed notes for the trainer"
   ]
  },
  {
   "cell_type": "markdown",
   "id": "23b30ffd",
   "metadata": {},
   "source": [
    "# Classification of Functions"
   ]
  },
  {
   "cell_type": "code",
   "execution_count": 1,
   "id": "857dae42",
   "metadata": {},
   "outputs": [
    {
     "name": "stdout",
     "output_type": "stream",
     "text": [
      "Built-in Functions:\n",
      "Python comes with a set of built-in functions that are available without the need for any import statements. These functions perform common tasks and operations. Examples include print(), len(), max(), min(), and sum().\n"
     ]
    }
   ],
   "source": [
    "print('''Built-in Functions:\n",
    "Python comes with a set of built-in functions that are available without the need for any import statements. These functions perform common tasks and operations. Examples include print(), len(), max(), min(), and sum().''')"
   ]
  },
  {
   "cell_type": "code",
   "execution_count": 2,
   "id": "b9881a27",
   "metadata": {},
   "outputs": [
    {
     "name": "stdout",
     "output_type": "stream",
     "text": [
      "User-Defined Functions:\n",
      "These are functions created by the programmer to perform specific tasks. They allow you to modularize your code and reuse logic across your program.\n"
     ]
    }
   ],
   "source": [
    "print('''User-Defined Functions:\n",
    "These are functions created by the programmer to perform specific tasks. They allow you to modularize your code and reuse logic across your program.''')"
   ]
  },
  {
   "cell_type": "code",
   "execution_count": 3,
   "id": "4d155a8d",
   "metadata": {},
   "outputs": [
    {
     "name": "stdout",
     "output_type": "stream",
     "text": [
      "Anonymous Functions (Lambda Functions):\n",
      "Lambda functions are small, anonymous functions defined using the lambda keyword. They are often used for simple operations where a full function definition is not required.\n"
     ]
    }
   ],
   "source": [
    "print('''Anonymous Functions (Lambda Functions):\n",
    "Lambda functions are small, anonymous functions defined using the lambda keyword. They are often used for simple operations where a full function definition is not required.''')"
   ]
  },
  {
   "cell_type": "code",
   "execution_count": 4,
   "id": "58c20615",
   "metadata": {},
   "outputs": [
    {
     "name": "stdout",
     "output_type": "stream",
     "text": [
      "Functions with Return Values:\n",
      "These functions perform a computation and then return a value as the result of that computation. The value returned by the function can be used in expressions, assigned to variables, or passed to other functions.\n"
     ]
    }
   ],
   "source": [
    "print('''Functions with Return Values:\n",
    "These functions perform a computation and then return a value as the result of that computation. The value returned by the function can be used in expressions, assigned to variables, or passed to other functions.''')"
   ]
  },
  {
   "cell_type": "code",
   "execution_count": 5,
   "id": "bf43e88d",
   "metadata": {},
   "outputs": [
    {
     "name": "stdout",
     "output_type": "stream",
     "text": [
      "8\n"
     ]
    }
   ],
   "source": [
    "def add(a, b):\n",
    "    return a + b\n",
    "\n",
    "result = add(3, 5)\n",
    "print(result)  # Outputs: 8\n"
   ]
  },
  {
   "cell_type": "code",
   "execution_count": 6,
   "id": "273d5b07",
   "metadata": {},
   "outputs": [
    {
     "name": "stdout",
     "output_type": "stream",
     "text": [
      "Functions with Non-Return Values (Void Functions):\n",
      "These functions perform a task or have some side effects but do not return a value explicitly using the return statement. They might print something, modify global variables, or update data, but they don't produce a result that can be used in expressions.\n"
     ]
    }
   ],
   "source": [
    "print('''Functions with Non-Return Values (Void Functions):\n",
    "These functions perform a task or have some side effects but do not return a value explicitly using the return statement. They might print something, modify global variables, or update data, but they don't produce a result that can be used in expressions.''')"
   ]
  },
  {
   "cell_type": "code",
   "execution_count": 7,
   "id": "b25c7681",
   "metadata": {},
   "outputs": [
    {
     "name": "stdout",
     "output_type": "stream",
     "text": [
      "Hello, Alice!\n"
     ]
    }
   ],
   "source": [
    "def greet(name):\n",
    "    print(f\"Hello, {name}!\")\n",
    "\n",
    "greet(\"Alice\")  # Outputs: \"Hello, Alice!\"\n"
   ]
  },
  {
   "cell_type": "code",
   "execution_count": 8,
   "id": "71bdf399",
   "metadata": {},
   "outputs": [
    {
     "name": "stdout",
     "output_type": "stream",
     "text": [
      "When choosing whether to use a function with a return value or a void function, consider the purpose of the function. If the function's main purpose is to compute a value for use in expressions or to return to the caller, then it should have a return value. If the function's main purpose is to perform a task, such as printing or updating data, and not necessarily produce a value, then it can be a void function.\n",
      "\n",
      "It's important to note that Python does not enforce the distinction between functions with return values and void functions as strictly as some other languages. You can technically have a function that performs a task and also returns a value, or a function that returns a value and also has side effects. However, adhering to good programming practices and keeping the intent of your functions clear will help you write clean and maintainable code.\n"
     ]
    }
   ],
   "source": [
    "print('''When choosing whether to use a function with a return value or a void function, consider the purpose of the function. If the function's main purpose is to compute a value for use in expressions or to return to the caller, then it should have a return value. If the function's main purpose is to perform a task, such as printing or updating data, and not necessarily produce a value, then it can be a void function.\n",
    "\n",
    "It's important to note that Python does not enforce the distinction between functions with return values and void functions as strictly as some other languages. You can technically have a function that performs a task and also returns a value, or a function that returns a value and also has side effects. However, adhering to good programming practices and keeping the intent of your functions clear will help you write clean and maintainable code.''')"
   ]
  },
  {
   "cell_type": "markdown",
   "id": "c1098851",
   "metadata": {},
   "source": [
    "# scope of variable"
   ]
  },
  {
   "cell_type": "code",
   "execution_count": 9,
   "id": "5eb49254",
   "metadata": {},
   "outputs": [
    {
     "name": "stdout",
     "output_type": "stream",
     "text": [
      "In Python, the scope of a variable defines where in the code that variable can be accessed or modified. Python has several types of variable scopes, which determine the visibility and lifetime of variables. Here are the main types of variable scopes:\n"
     ]
    }
   ],
   "source": [
    "print('''In Python, the scope of a variable defines where in the code that variable can be accessed or modified. Python has several types of variable scopes, which determine the visibility and lifetime of variables. Here are the main types of variable scopes:''')"
   ]
  },
  {
   "cell_type": "code",
   "execution_count": 10,
   "id": "1b77d29b",
   "metadata": {},
   "outputs": [
    {
     "name": "stdout",
     "output_type": "stream",
     "text": [
      "Local Scope (Function Scope):\n",
      "Variables defined inside a function are said to have a local scope. They are accessible only within that function. Once the function completes its execution, the local variables are destroyed.\n"
     ]
    }
   ],
   "source": [
    "print('''Local Scope (Function Scope):\n",
    "Variables defined inside a function are said to have a local scope. They are accessible only within that function. Once the function completes its execution, the local variables are destroyed.''')"
   ]
  },
  {
   "cell_type": "code",
   "execution_count": 11,
   "id": "d8ef768b",
   "metadata": {},
   "outputs": [
    {
     "name": "stdout",
     "output_type": "stream",
     "text": [
      "10\n"
     ]
    }
   ],
   "source": [
    "def my_function():\n",
    "    x = 10  # Local variable\n",
    "    print(x)\n",
    "\n",
    "my_function()\n",
    "# print(x)  # This would raise an error since 'x' is not accessible here.\n"
   ]
  },
  {
   "cell_type": "code",
   "execution_count": 12,
   "id": "1bb1f971",
   "metadata": {},
   "outputs": [
    {
     "name": "stdout",
     "output_type": "stream",
     "text": [
      "Enclosing Scope (Nested Scope):\n",
      "In Python, you can define functions within other functions, creating nested scopes. Variables defined in the enclosing function are accessible within the inner function.\n"
     ]
    }
   ],
   "source": [
    "print('''Enclosing Scope (Nested Scope):\n",
    "In Python, you can define functions within other functions, creating nested scopes. Variables defined in the enclosing function are accessible within the inner function.''')"
   ]
  },
  {
   "cell_type": "code",
   "execution_count": 13,
   "id": "8749ac17",
   "metadata": {},
   "outputs": [
    {
     "name": "stdout",
     "output_type": "stream",
     "text": [
      "20\n"
     ]
    }
   ],
   "source": [
    "def outer_function():\n",
    "    y = 20  # Enclosing variable\n",
    "    \n",
    "    def inner_function():\n",
    "        print(y)  # Accessible here\n",
    "\n",
    "    inner_function()\n",
    "\n",
    "outer_function()\n"
   ]
  },
  {
   "cell_type": "code",
   "execution_count": 14,
   "id": "7cf6eeb8",
   "metadata": {},
   "outputs": [
    {
     "name": "stdout",
     "output_type": "stream",
     "text": [
      "Global Scope:\n",
      "Variables defined outside of any function or class have a global scope. They can be accessed and modified from anywhere in the code, including within functions and classes.\n"
     ]
    }
   ],
   "source": [
    "print('''Global Scope:\n",
    "Variables defined outside of any function or class have a global scope. They can be accessed and modified from anywhere in the code, including within functions and classes.''')"
   ]
  },
  {
   "cell_type": "code",
   "execution_count": 15,
   "id": "a8b89413",
   "metadata": {},
   "outputs": [
    {
     "name": "stdout",
     "output_type": "stream",
     "text": [
      "30\n"
     ]
    }
   ],
   "source": [
    "global_var = 30  # Global variable\n",
    "\n",
    "def my_function():\n",
    "    print(global_var)  # Accessible here\n",
    "\n",
    "my_function()\n"
   ]
  },
  {
   "cell_type": "code",
   "execution_count": 16,
   "id": "510313a3",
   "metadata": {},
   "outputs": [
    {
     "name": "stdout",
     "output_type": "stream",
     "text": [
      "Built-in Scope:\n",
      "Python comes with a set of built-in functions and objects that are available globally in all scopes. Examples include print(), len(), and range().\n"
     ]
    }
   ],
   "source": [
    "print('''Built-in Scope:\n",
    "Python comes with a set of built-in functions and objects that are available globally in all scopes. Examples include print(), len(), and range().''')"
   ]
  },
  {
   "cell_type": "code",
   "execution_count": 17,
   "id": "1b5ba8ec",
   "metadata": {},
   "outputs": [
    {
     "name": "stdout",
     "output_type": "stream",
     "text": [
      "3\n"
     ]
    }
   ],
   "source": [
    "print(len([1, 2, 3]))  # 'print' and 'len' are built-in functions\n"
   ]
  },
  {
   "cell_type": "code",
   "execution_count": 18,
   "id": "867e57fe",
   "metadata": {},
   "outputs": [
    {
     "name": "stdout",
     "output_type": "stream",
     "text": [
      "When a variable is accessed, Python searches for it in the following order: local scope (function scope), enclosing scopes (nested functions), global scope, and finally the built-in scope. This is known as the LEGB rule.\n",
      "\n",
      "If you need to modify a global variable within a function, you can use the global keyword to indicate that you want to modify the global variable and not create a new local variable with the same name:\n"
     ]
    }
   ],
   "source": [
    "print('''When a variable is accessed, Python searches for it in the following order: local scope (function scope), enclosing scopes (nested functions), global scope, and finally the built-in scope. This is known as the LEGB rule.\n",
    "\n",
    "If you need to modify a global variable within a function, you can use the global keyword to indicate that you want to modify the global variable and not create a new local variable with the same name:''')"
   ]
  },
  {
   "cell_type": "code",
   "execution_count": 19,
   "id": "73313312",
   "metadata": {},
   "outputs": [
    {
     "name": "stdout",
     "output_type": "stream",
     "text": [
      "40\n"
     ]
    }
   ],
   "source": [
    "global_var = 30\n",
    "\n",
    "def modify_global():\n",
    "    global global_var\n",
    "    global_var = 40\n",
    "\n",
    "modify_global()\n",
    "print(global_var)  # Outputs: 40\n"
   ]
  },
  {
   "cell_type": "code",
   "execution_count": 20,
   "id": "c035e226",
   "metadata": {},
   "outputs": [
    {
     "name": "stdout",
     "output_type": "stream",
     "text": [
      "Understanding variable scopes is crucial for writing maintainable and bug-free code, as it helps you manage the accessibility and lifetime of variables in different parts of your program.\n"
     ]
    }
   ],
   "source": [
    "print('''Understanding variable scopes is crucial for writing maintainable and bug-free code, as it helps you manage the accessibility and lifetime of variables in different parts of your program.''')"
   ]
  },
  {
   "cell_type": "markdown",
   "id": "71fdcf0e",
   "metadata": {},
   "source": [
    "# Types of arguments"
   ]
  },
  {
   "cell_type": "code",
   "execution_count": 21,
   "id": "e003f3d1",
   "metadata": {},
   "outputs": [
    {
     "name": "stdout",
     "output_type": "stream",
     "text": [
      "Positional Arguments:\n",
      "These are the most common type of arguments. They are passed to a function in the order defined by the function's parameter list. The number and order of arguments in the function call must match the number and order of parameters in the function definition.\n"
     ]
    }
   ],
   "source": [
    "print('''Positional Arguments:\n",
    "These are the most common type of arguments. They are passed to a function in the order defined by the function's parameter list. The number and order of arguments in the function call must match the number and order of parameters in the function definition.''')"
   ]
  },
  {
   "cell_type": "code",
   "execution_count": 22,
   "id": "47eba031",
   "metadata": {},
   "outputs": [
    {
     "name": "stdout",
     "output_type": "stream",
     "text": [
      "Hello, Alice! You are 30 years old.\n"
     ]
    }
   ],
   "source": [
    "def greet(name, age):\n",
    "    print(f\"Hello, {name}! You are {age} years old.\")\n",
    "\n",
    "greet('Alice', 30)\n"
   ]
  },
  {
   "cell_type": "code",
   "execution_count": 23,
   "id": "87857f17",
   "metadata": {},
   "outputs": [
    {
     "name": "stdout",
     "output_type": "stream",
     "text": [
      "Default Arguments:\n",
      "Default arguments have a predefined value set in the function's parameter list. If a value isn't provided for these arguments in the function call, the default value is used.\n"
     ]
    }
   ],
   "source": [
    "print('''Default Arguments:\n",
    "Default arguments have a predefined value set in the function's parameter list. If a value isn't provided for these arguments in the function call, the default value is used.''')"
   ]
  },
  {
   "cell_type": "code",
   "execution_count": 24,
   "id": "24532f7b",
   "metadata": {},
   "outputs": [
    {
     "name": "stdout",
     "output_type": "stream",
     "text": [
      "Hello, Alice! You are 18 years old.\n",
      "Hello, Bob! You are 25 years old.\n"
     ]
    }
   ],
   "source": [
    "def greet(name, age=18):\n",
    "    print(f\"Hello, {name}! You are {age} years old.\")\n",
    "\n",
    "greet('Alice')  # Uses default age of 18\n",
    "greet('Bob', 25)  # Uses provided age of 25\n"
   ]
  },
  {
   "cell_type": "code",
   "execution_count": 25,
   "id": "f0611ec3",
   "metadata": {},
   "outputs": [
    {
     "name": "stdout",
     "output_type": "stream",
     "text": [
      "Variable-Length Positional Arguments (*args):\n",
      "These arguments allow a function to accept a variable number of positional arguments. The asterisk * before args unpacks the arguments into a tuple.\n"
     ]
    }
   ],
   "source": [
    "print('''Variable-Length Positional Arguments (*args):\n",
    "These arguments allow a function to accept a variable number of positional arguments. The asterisk * before args unpacks the arguments into a tuple.''')"
   ]
  },
  {
   "cell_type": "code",
   "execution_count": 26,
   "id": "f44d41fa",
   "metadata": {},
   "outputs": [
    {
     "name": "stdout",
     "output_type": "stream",
     "text": [
      "1\n",
      "2\n",
      "3\n"
     ]
    }
   ],
   "source": [
    "def show_values(*args):\n",
    "    for value in args:\n",
    "        print(value)\n",
    "\n",
    "show_values(1, 2, 3)\n"
   ]
  },
  {
   "cell_type": "code",
   "execution_count": 27,
   "id": "62aed76d",
   "metadata": {},
   "outputs": [
    {
     "name": "stdout",
     "output_type": "stream",
     "text": [
      "Keyword Arguments:\n",
      "Keyword arguments are passed with the corresponding parameter names in the function call. They provide clarity and allow you to pass arguments in any order.\n"
     ]
    }
   ],
   "source": [
    "print('''Keyword Arguments:\n",
    "Keyword arguments are passed with the corresponding parameter names in the function call. They provide clarity and allow you to pass arguments in any order.''')"
   ]
  },
  {
   "cell_type": "code",
   "execution_count": 28,
   "id": "ce06e7c5",
   "metadata": {},
   "outputs": [
    {
     "name": "stdout",
     "output_type": "stream",
     "text": [
      "Hello, Alice! You are 30 years old.\n"
     ]
    }
   ],
   "source": [
    "def greet(name, age):\n",
    "    print(f\"Hello, {name}! You are {age} years old.\")\n",
    "\n",
    "greet(age=30, name='Alice')\n"
   ]
  },
  {
   "cell_type": "code",
   "execution_count": 29,
   "id": "fad59562",
   "metadata": {},
   "outputs": [
    {
     "name": "stdout",
     "output_type": "stream",
     "text": [
      "Variable-Length Keyword Arguments (**kwargs):\n",
      "Similar to *args, **kwargs allows a function to accept a variable number of keyword arguments. The double asterisk ** before kwargs unpacks the arguments into a dictionary.\n"
     ]
    }
   ],
   "source": [
    "print('''Variable-Length Keyword Arguments (**kwargs):\n",
    "Similar to *args, **kwargs allows a function to accept a variable number of keyword arguments. The double asterisk ** before kwargs unpacks the arguments into a dictionary.''')"
   ]
  },
  {
   "cell_type": "code",
   "execution_count": 30,
   "id": "f727a05b",
   "metadata": {},
   "outputs": [
    {
     "name": "stdout",
     "output_type": "stream",
     "text": [
      "name: Alice\n",
      "age: 30\n",
      "job: Engineer\n"
     ]
    }
   ],
   "source": [
    "def show_info(**kwargs):\n",
    "    for key, value in kwargs.items():\n",
    "        print(f\"{key}: {value}\")\n",
    "\n",
    "show_info(name='Alice', age=30, job='Engineer')\n"
   ]
  },
  {
   "cell_type": "code",
   "execution_count": 31,
   "id": "8a1df687",
   "metadata": {},
   "outputs": [
    {
     "name": "stdout",
     "output_type": "stream",
     "text": [
      "Combining Arguments:\n",
      "You can combine various types of arguments in a function definition. The order should be: positional arguments, default arguments, *args, and **kwargs.\n"
     ]
    }
   ],
   "source": [
    "print('''Combining Arguments:\n",
    "You can combine various types of arguments in a function definition. The order should be: positional arguments, default arguments, *args, and **kwargs.''')"
   ]
  },
  {
   "cell_type": "code",
   "execution_count": 32,
   "id": "237913e7",
   "metadata": {},
   "outputs": [],
   "source": [
    "def complex_function(a, b, *args, x=0, y=0, **kwargs):\n",
    "    pass  # Actual function logic here\n",
    "\n",
    "complex_function(1, 2, 3, 4, x=5, y=6, option1='value1', option2='value2')\n"
   ]
  },
  {
   "cell_type": "code",
   "execution_count": 33,
   "id": "d2d4f9cf",
   "metadata": {},
   "outputs": [
    {
     "name": "stdout",
     "output_type": "stream",
     "text": [
      "Yes, there is a priority in the usage of different types of arguments in Python functions. When defining and calling functions with various types of arguments, the order in which arguments are placed matters. Here's the general order of precedence:\n",
      "\n",
      "1. **Positional Arguments:**\n",
      "   These are the basic arguments that are required to be passed in the order defined by the function's parameter list. They have the highest priority.\n",
      "\n",
      "2. **Default Arguments:**\n",
      "   Default arguments come after positional arguments. If you don't provide a value for a default argument in the function call, the default value defined in the function definition is used.\n",
      "\n",
      "3. **Variable-Length Positional Arguments (`*args`):**\n",
      "   After positional and default arguments, you can use `*args` to accept a variable number of additional positional arguments.\n",
      "\n",
      "4. **Keyword Arguments:**\n",
      "   Keyword arguments come after any positional arguments, default arguments, and `*args`. They are passed by explicitly mentioning the parameter name along with the value in the function call.\n",
      "\n",
      "5. **Variable-Length Keyword Arguments (`**kwargs`):**\n",
      "   Lastly, you can use `**kwargs` to accept a variable number of additional keyword arguments. It comes after all other types of arguments.\n",
      "\n",
      "Here's an example to illustrate the priority:\n",
      "\n",
      "```python\n",
      "def example_function(a, b, c=0, *args, x=0, y=0, **kwargs):\n",
      "    print(\"a:\", a)\n",
      "    print(\"b:\", b)\n",
      "    print(\"c:\", c)\n",
      "    print(\"args:\", args)\n",
      "    print(\"x:\", x)\n",
      "    print(\"y:\", y)\n",
      "    print(\"kwargs:\", kwargs)\n",
      "\n",
      "example_function(1, 2, 3, 4, 5, x=6, y=7, option1='value1', option2='value2')\n",
      "```\n",
      "\n",
      "In this example, the function arguments are provided in the following order:\n",
      "1. `a` and `b` as positional arguments\n",
      "2. `c` as a default argument\n",
      "3. `4` and `5` as additional positional arguments (`*args`)\n",
      "4. `x` and `y` as keyword arguments\n",
      "5. `option1` and `option2` as additional keyword arguments (`**kwargs`)\n",
      "\n",
      "Remember, adhering to this order is essential to prevent ambiguity and ensure that the arguments are correctly assigned to their corresponding parameters in the function definition.\n"
     ]
    }
   ],
   "source": [
    "print('''Yes, there is a priority in the usage of different types of arguments in Python functions. When defining and calling functions with various types of arguments, the order in which arguments are placed matters. Here's the general order of precedence:\n",
    "\n",
    "1. **Positional Arguments:**\n",
    "   These are the basic arguments that are required to be passed in the order defined by the function's parameter list. They have the highest priority.\n",
    "\n",
    "2. **Default Arguments:**\n",
    "   Default arguments come after positional arguments. If you don't provide a value for a default argument in the function call, the default value defined in the function definition is used.\n",
    "\n",
    "3. **Variable-Length Positional Arguments (`*args`):**\n",
    "   After positional and default arguments, you can use `*args` to accept a variable number of additional positional arguments.\n",
    "\n",
    "4. **Keyword Arguments:**\n",
    "   Keyword arguments come after any positional arguments, default arguments, and `*args`. They are passed by explicitly mentioning the parameter name along with the value in the function call.\n",
    "\n",
    "5. **Variable-Length Keyword Arguments (`**kwargs`):**\n",
    "   Lastly, you can use `**kwargs` to accept a variable number of additional keyword arguments. It comes after all other types of arguments.\n",
    "\n",
    "Here's an example to illustrate the priority:\n",
    "\n",
    "```python\n",
    "def example_function(a, b, c=0, *args, x=0, y=0, **kwargs):\n",
    "    print(\"a:\", a)\n",
    "    print(\"b:\", b)\n",
    "    print(\"c:\", c)\n",
    "    print(\"args:\", args)\n",
    "    print(\"x:\", x)\n",
    "    print(\"y:\", y)\n",
    "    print(\"kwargs:\", kwargs)\n",
    "\n",
    "example_function(1, 2, 3, 4, 5, x=6, y=7, option1='value1', option2='value2')\n",
    "```\n",
    "\n",
    "In this example, the function arguments are provided in the following order:\n",
    "1. `a` and `b` as positional arguments\n",
    "2. `c` as a default argument\n",
    "3. `4` and `5` as additional positional arguments (`*args`)\n",
    "4. `x` and `y` as keyword arguments\n",
    "5. `option1` and `option2` as additional keyword arguments (`**kwargs`)\n",
    "\n",
    "Remember, adhering to this order is essential to prevent ambiguity and ensure that the arguments are correctly assigned to their corresponding parameters in the function definition.''')"
   ]
  },
  {
   "cell_type": "code",
   "execution_count": 34,
   "id": "923d0ae0",
   "metadata": {},
   "outputs": [],
   "source": [
    "# Here's an example to illustrate the priority:"
   ]
  },
  {
   "cell_type": "code",
   "execution_count": 35,
   "id": "003c2fb3",
   "metadata": {},
   "outputs": [
    {
     "name": "stdout",
     "output_type": "stream",
     "text": [
      "a: 1\n",
      "b: 2\n",
      "c: 3\n",
      "args: (4, 5)\n",
      "x: 6\n",
      "y: 7\n",
      "kwargs: {'option1': 'value1', 'option2': 'value2'}\n"
     ]
    }
   ],
   "source": [
    "def example_function(a, b, c=0, *args, x=0, y=0, **kwargs):\n",
    "    print(\"a:\", a)\n",
    "    print(\"b:\", b)\n",
    "    print(\"c:\", c)\n",
    "    print(\"args:\", args)\n",
    "    print(\"x:\", x)\n",
    "    print(\"y:\", y)\n",
    "    print(\"kwargs:\", kwargs)\n",
    "\n",
    "example_function(1, 2, 3, 4, 5, x=6, y=7, option1='value1', option2='value2')\n"
   ]
  },
  {
   "cell_type": "markdown",
   "id": "c0da66b1",
   "metadata": {},
   "source": [
    "# *args"
   ]
  },
  {
   "cell_type": "code",
   "execution_count": 36,
   "id": "1c91d827",
   "metadata": {},
   "outputs": [
    {
     "name": "stdout",
     "output_type": "stream",
     "text": [
      "In Python, *args is a special syntax used in function definitions to allow a function to accept a variable number of positional arguments. The term \"args\" stands for \"arguments,\" and the preceding asterisk * unpacks the arguments into a tuple. This is often used when you're uncertain about the number of arguments that will be passed to a function.\n"
     ]
    }
   ],
   "source": [
    "print('''In Python, *args is a special syntax used in function definitions to allow a function to accept a variable number of positional arguments. The term \"args\" stands for \"arguments,\" and the preceding asterisk * unpacks the arguments into a tuple. This is often used when you're uncertain about the number of arguments that will be passed to a function.''')"
   ]
  },
  {
   "cell_type": "code",
   "execution_count": 37,
   "id": "58fc2e1b",
   "metadata": {},
   "outputs": [
    {
     "name": "stdout",
     "output_type": "stream",
     "text": [
      "1\n",
      "2\n",
      "3\n",
      "hello\n",
      "world\n"
     ]
    }
   ],
   "source": [
    "# Here's how you use *args in a function definition:\n",
    "def my_function(*args):\n",
    "    for arg in args:\n",
    "        print(arg)\n",
    "\n",
    "my_function(1, 2, 3)  # Outputs: 1 2 3\n",
    "my_function('hello', 'world')  # Outputs: hello world\n"
   ]
  },
  {
   "cell_type": "code",
   "execution_count": 38,
   "id": "4a8d2c5c",
   "metadata": {},
   "outputs": [
    {
     "name": "stdout",
     "output_type": "stream",
     "text": [
      "Keep in mind a few key points:\n",
      "\n",
      "The name args is just a convention; you could use any valid variable name preceded by the *.\n",
      "You can use *args in combination with other positional arguments, but *args must come after the regular arguments.\n",
      "You can't use *args more than once in a single function definition.\n"
     ]
    }
   ],
   "source": [
    "print('''Keep in mind a few key points:\n",
    "\n",
    "The name args is just a convention; you could use any valid variable name preceded by the *.\n",
    "You can use *args in combination with other positional arguments, but *args must come after the regular arguments.\n",
    "You can't use *args more than once in a single function definition.''')"
   ]
  },
  {
   "cell_type": "code",
   "execution_count": 39,
   "id": "44c28f4e",
   "metadata": {},
   "outputs": [
    {
     "name": "stdout",
     "output_type": "stream",
     "text": [
      "Regular arguments: 1 2\n",
      "Additional arguments: (3, 4, 5)\n"
     ]
    }
   ],
   "source": [
    "# Here's an example with a mix of regular arguments and *args:\n",
    "def example_function(arg1, arg2, *args):\n",
    "    print(\"Regular arguments:\", arg1, arg2)\n",
    "    print(\"Additional arguments:\", args)\n",
    "\n",
    "example_function(1, 2, 3, 4, 5)  # Outputs:\n",
    "# Regular arguments: 1 2\n",
    "# Additional arguments: (3, 4, 5)\n"
   ]
  },
  {
   "cell_type": "code",
   "execution_count": 40,
   "id": "f07eec19",
   "metadata": {},
   "outputs": [
    {
     "name": "stdout",
     "output_type": "stream",
     "text": [
      "By using *args, you make your function more flexible and capable of handling varying numbers of arguments without explicitly defining each parameter.\n"
     ]
    }
   ],
   "source": [
    "print('''By using *args, you make your function more flexible and capable of handling varying numbers of arguments without explicitly defining each parameter.''')"
   ]
  },
  {
   "cell_type": "code",
   "execution_count": 41,
   "id": "5194749d",
   "metadata": {},
   "outputs": [
    {
     "name": "stdout",
     "output_type": "stream",
     "text": [
      "15\n"
     ]
    }
   ],
   "source": [
    "# Calculating Sum:\n",
    "def calculate_sum(*args):\n",
    "    return sum(args)\n",
    "\n",
    "result = calculate_sum(1, 2, 3, 4, 5)\n",
    "print(result)  # Outputs: 15\n"
   ]
  },
  {
   "cell_type": "code",
   "execution_count": 42,
   "id": "75f7d689",
   "metadata": {},
   "outputs": [
    {
     "name": "stdout",
     "output_type": "stream",
     "text": [
      "Hello world from Python!\n"
     ]
    }
   ],
   "source": [
    "# Joining Strings:\n",
    "def concatenate_strings(*args):\n",
    "    return ' '.join(args)\n",
    "\n",
    "result = concatenate_strings('Hello', 'world', 'from', 'Python!')\n",
    "print(result)  # Outputs: \"Hello world from Python!\"\n"
   ]
  },
  {
   "cell_type": "code",
   "execution_count": 43,
   "id": "ea8bf804",
   "metadata": {},
   "outputs": [
    {
     "name": "stdout",
     "output_type": "stream",
     "text": [
      "23\n"
     ]
    }
   ],
   "source": [
    "# Finding Maximum Value:\n",
    "def find_max(*args):\n",
    "    return max(args)\n",
    "\n",
    "result = find_max(10, 5, 23, 8)\n",
    "print(result)  # Outputs: 23\n"
   ]
  },
  {
   "cell_type": "code",
   "execution_count": 44,
   "id": "6bbaeaa4",
   "metadata": {},
   "outputs": [
    {
     "name": "stdout",
     "output_type": "stream",
     "text": [
      "Name: Alice\n",
      "Additional info: (25, 'New York', 'Engineer')\n"
     ]
    }
   ],
   "source": [
    "# Using with Other Arguments:\n",
    "def show_info(name, *args):\n",
    "    print(\"Name:\", name)\n",
    "    print(\"Additional info:\", args)\n",
    "\n",
    "show_info('Alice', 25, 'New York', 'Engineer')\n",
    "# Outputs:\n",
    "# Name: Alice\n",
    "# Additional info: (25, 'New York', 'Engineer')\n"
   ]
  },
  {
   "cell_type": "code",
   "execution_count": 45,
   "id": "37446bf3",
   "metadata": {},
   "outputs": [
    {
     "name": "stdout",
     "output_type": "stream",
     "text": [
      "Alice 30 years old, works as a Software Developer.\n"
     ]
    }
   ],
   "source": [
    "# Dynamic Formatting:\n",
    "def format_string(*args):\n",
    "    return \"{} {} years old, works as a {}.\".format(*args)\n",
    "\n",
    "result = format_string('Alice', 30, 'Software Developer')\n",
    "print(result)  # Outputs: \"Alice 30 years old, works as a Software Developer.\"\n"
   ]
  },
  {
   "cell_type": "code",
   "execution_count": 46,
   "id": "d4f10c6e",
   "metadata": {},
   "outputs": [
    {
     "name": "stdout",
     "output_type": "stream",
     "text": [
      "Calling function: add\n",
      "Result: 8\n"
     ]
    },
    {
     "data": {
      "text/plain": [
       "8"
      ]
     },
     "execution_count": 46,
     "metadata": {},
     "output_type": "execute_result"
    }
   ],
   "source": [
    "# Creating a Wrapper Function:\n",
    "def wrapper_function(func, *args):\n",
    "    print(\"Calling function:\", func.__name__)\n",
    "    result = func(*args)\n",
    "    print(\"Result:\", result)\n",
    "    return result\n",
    "\n",
    "def add(a, b):\n",
    "    return a + b\n",
    "\n",
    "wrapper_function(add, 3, 5)\n",
    "# Outputs:\n",
    "# Calling function: add\n",
    "# Result: 8\n"
   ]
  },
  {
   "cell_type": "markdown",
   "id": "9b504684",
   "metadata": {},
   "source": [
    "# **kwargs"
   ]
  },
  {
   "cell_type": "code",
   "execution_count": 47,
   "id": "8713d0a2",
   "metadata": {},
   "outputs": [
    {
     "name": "stdout",
     "output_type": "stream",
     "text": [
      "In Python, **kwargs is a special syntax used in function definitions to allow a function to accept an arbitrary number of keyword arguments (also known as keyword parameters). The term \"kwargs\" stands for \"keyword arguments,\" and the preceding double asterisks ** unpack the keyword arguments into a dictionary. This is useful when you want to pass a variable number of named arguments to a function.\n"
     ]
    }
   ],
   "source": [
    "print('''In Python, **kwargs is a special syntax used in function definitions to allow a function to accept an arbitrary number of keyword arguments (also known as keyword parameters). The term \"kwargs\" stands for \"keyword arguments,\" and the preceding double asterisks ** unpack the keyword arguments into a dictionary. This is useful when you want to pass a variable number of named arguments to a function.''')"
   ]
  },
  {
   "cell_type": "code",
   "execution_count": 48,
   "id": "a2e5756d",
   "metadata": {},
   "outputs": [
    {
     "name": "stdout",
     "output_type": "stream",
     "text": [
      "name Alice\n",
      "age 30\n",
      "job Engineer\n"
     ]
    }
   ],
   "source": [
    "# Here's how you use **kwargs in a function definition:\n",
    "def my_function(**kwargs):\n",
    "    for key, value in kwargs.items():\n",
    "        print(key, value)\n",
    "\n",
    "my_function(name='Alice', age=30, job='Engineer')\n",
    "# Outputs:\n",
    "# name Alice\n",
    "# age 30\n",
    "# job Engineer\n"
   ]
  },
  {
   "cell_type": "code",
   "execution_count": 49,
   "id": "8ceeeca0",
   "metadata": {},
   "outputs": [
    {
     "name": "stdout",
     "output_type": "stream",
     "text": [
      "Regular arguments: 1 2\n",
      "Keyword arguments: {'name': 'Alice', 'age': 30, 'job': 'Engineer'}\n"
     ]
    }
   ],
   "source": [
    "# Here's an example using both positional arguments and **kwargs:\n",
    "def example_function(arg1, arg2, **kwargs):\n",
    "    print(\"Regular arguments:\", arg1, arg2)\n",
    "    print(\"Keyword arguments:\", kwargs)\n",
    "\n",
    "example_function(1, 2, name='Alice', age=30, job='Engineer')\n",
    "# Outputs:\n",
    "# Regular arguments: 1 2\n",
    "# Keyword arguments: {'name': 'Alice', 'age': 30, 'job': 'Engineer'}\n"
   ]
  },
  {
   "cell_type": "code",
   "execution_count": 50,
   "id": "addd015f",
   "metadata": {},
   "outputs": [
    {
     "name": "stdout",
     "output_type": "stream",
     "text": [
      "Regular arguments: 1 2\n",
      "Keyword arguments: {'name': 'Alice', 'age': 30, 'job': 'Engineer'}\n"
     ]
    }
   ],
   "source": [
    "# Here's an example using both positional arguments and **kwargs:\n",
    "def example_function(arg1, arg2, **kwargs):\n",
    "    print(\"Regular arguments:\", arg1, arg2)\n",
    "    print(\"Keyword arguments:\", kwargs)\n",
    "\n",
    "example_function(1, 2, name='Alice', age=30, job='Engineer')\n",
    "# Outputs:\n",
    "# Regular arguments: 1 2\n",
    "# Keyword arguments: {'name': 'Alice', 'age': 30, 'job': 'Engineer'}\n"
   ]
  },
  {
   "cell_type": "markdown",
   "id": "56f8eb71",
   "metadata": {},
   "source": [
    "# different data type as argument to function in python"
   ]
  },
  {
   "cell_type": "code",
   "execution_count": 51,
   "id": "ed81227d",
   "metadata": {},
   "outputs": [
    {
     "name": "stdout",
     "output_type": "stream",
     "text": [
      "\n",
      "In Python, functions can accept arguments of different data types. This flexibility allows you to write versatile functions that can work with a variety of input data. Here are some examples of different data types you can use as arguments in Python functions:\n"
     ]
    }
   ],
   "source": [
    "print('''\n",
    "In Python, functions can accept arguments of different data types. This flexibility allows you to write versatile functions that can work with a variety of input data. Here are some examples of different data types you can use as arguments in Python functions:''')"
   ]
  },
  {
   "cell_type": "code",
   "execution_count": 52,
   "id": "8197ac84",
   "metadata": {},
   "outputs": [
    {
     "name": "stdout",
     "output_type": "stream",
     "text": [
      "25\n"
     ]
    }
   ],
   "source": [
    "# numeric\n",
    "def calculate_square(x):\n",
    "    return x ** 2\n",
    "\n",
    "print(calculate_square(5))  # Outputs: 25\n"
   ]
  },
  {
   "cell_type": "code",
   "execution_count": 53,
   "id": "15e6b577",
   "metadata": {},
   "outputs": [
    {
     "name": "stdout",
     "output_type": "stream",
     "text": [
      "Hello, Alice!\n"
     ]
    }
   ],
   "source": [
    "# string\n",
    "def greet(name):\n",
    "    return f\"Hello, {name}!\"\n",
    "\n",
    "print(greet(\"Alice\"))  # Outputs: \"Hello, Alice!\"\n"
   ]
  },
  {
   "cell_type": "code",
   "execution_count": 54,
   "id": "4734689b",
   "metadata": {},
   "outputs": [
    {
     "name": "stdout",
     "output_type": "stream",
     "text": [
      "9\n"
     ]
    }
   ],
   "source": [
    "# Lists and Other Sequences\n",
    "\n",
    "def find_max(numbers):\n",
    "    return max(numbers)\n",
    "\n",
    "print(find_max([5, 9, 2, 7]))  # Outputs: 9\n"
   ]
  },
  {
   "cell_type": "code",
   "execution_count": 55,
   "id": "e691fd03",
   "metadata": {},
   "outputs": [
    {
     "name": "stdout",
     "output_type": "stream",
     "text": [
      "Name: Alice, Age: 30\n"
     ]
    }
   ],
   "source": [
    "# Dictionaries\n",
    "def print_person_info(person):\n",
    "    print(f\"Name: {person['name']}, Age: {person['age']}\")\n",
    "\n",
    "person_data = {\"name\": \"Alice\", \"age\": 30}\n",
    "print_person_info(person_data)\n"
   ]
  },
  {
   "cell_type": "code",
   "execution_count": 56,
   "id": "2eb8db28",
   "metadata": {},
   "outputs": [
    {
     "name": "stdout",
     "output_type": "stream",
     "text": [
      "True\n"
     ]
    }
   ],
   "source": [
    "# Boolean\n",
    "\n",
    "def is_even(num):\n",
    "    return num % 2 == 0\n",
    "\n",
    "print(is_even(6))  # Outputs: True\n"
   ]
  },
  {
   "cell_type": "markdown",
   "id": "9675a5f6",
   "metadata": {},
   "source": [
    "# Lambda Function"
   ]
  },
  {
   "cell_type": "code",
   "execution_count": 57,
   "id": "7b60402e",
   "metadata": {},
   "outputs": [
    {
     "name": "stdout",
     "output_type": "stream",
     "text": [
      "A lambda function in Python is a small, anonymous, and inline function that can have any number of arguments but can only have one expression. It is also sometimes referred to as a \"lambda expression\" or \"lambda notation.\" Lambda functions are often used for short, simple operations that can be defined in a single line of code.\n"
     ]
    }
   ],
   "source": [
    "print('''A lambda function in Python is a small, anonymous, and inline function that can have any number of arguments but can only have one expression. It is also sometimes referred to as a \"lambda expression\" or \"lambda notation.\" Lambda functions are often used for short, simple operations that can be defined in a single line of code.''')"
   ]
  },
  {
   "cell_type": "code",
   "execution_count": 58,
   "id": "51eca23f",
   "metadata": {},
   "outputs": [],
   "source": [
    "# syntax\n",
    "# lambda arguments: expression\n"
   ]
  },
  {
   "cell_type": "code",
   "execution_count": 59,
   "id": "bbb4e0a7",
   "metadata": {},
   "outputs": [
    {
     "name": "stdout",
     "output_type": "stream",
     "text": [
      "25\n"
     ]
    }
   ],
   "source": [
    "square = lambda x: x ** 2\n",
    "print(square(5))  # Outputs: 25\n"
   ]
  },
  {
   "cell_type": "code",
   "execution_count": 60,
   "id": "06544bce",
   "metadata": {},
   "outputs": [
    {
     "name": "stdout",
     "output_type": "stream",
     "text": [
      "[1, 4, 9, 16, 25]\n"
     ]
    }
   ],
   "source": [
    "numbers = [1, 2, 3, 4, 5]\n",
    "squared_numbers = map(lambda x: x ** 2, numbers)\n",
    "print(list(squared_numbers))  # Outputs: [1, 4, 9, 16, 25]\n"
   ]
  },
  {
   "cell_type": "code",
   "execution_count": 61,
   "id": "0e3e918b",
   "metadata": {},
   "outputs": [
    {
     "name": "stdout",
     "output_type": "stream",
     "text": [
      "8\n",
      "6\n",
      "12\n",
      "5.0\n"
     ]
    }
   ],
   "source": [
    "add = lambda x, y: x + y\n",
    "subtract = lambda x, y: x - y\n",
    "multiply = lambda x, y: x * y\n",
    "divide = lambda x, y: x / y\n",
    "\n",
    "print(add(5, 3))        # Outputs: 8\n",
    "print(subtract(10, 4))  # Outputs: 6\n",
    "print(multiply(2, 6))   # Outputs: 12\n",
    "print(divide(15, 3))    # Outputs: 5.0\n"
   ]
  },
  {
   "cell_type": "code",
   "execution_count": 62,
   "id": "305a1be8",
   "metadata": {},
   "outputs": [
    {
     "name": "stdout",
     "output_type": "stream",
     "text": [
      "[('Charlie', 78), ('Alice', 85), ('Bob', 92)]\n"
     ]
    }
   ],
   "source": [
    "students = [('Alice', 85), ('Bob', 92), ('Charlie', 78)]\n",
    "students_sorted = sorted(students, key=lambda student: student[1])\n",
    "print(students_sorted)  # Outputs: [('Charlie', 78), ('Alice', 85), ('Bob', 92)]\n"
   ]
  },
  {
   "cell_type": "code",
   "execution_count": 63,
   "id": "72cabccd",
   "metadata": {},
   "outputs": [
    {
     "name": "stdout",
     "output_type": "stream",
     "text": [
      "[2, 4, 6, 8, 10]\n"
     ]
    }
   ],
   "source": [
    "numbers = [1, 2, 3, 4, 5, 6, 7, 8, 9, 10]\n",
    "even_numbers = filter(lambda x: x % 2 == 0, numbers)\n",
    "print(list(even_numbers))  # Outputs: [2, 4, 6, 8, 10]\n"
   ]
  },
  {
   "cell_type": "code",
   "execution_count": 64,
   "id": "025ad17b",
   "metadata": {},
   "outputs": [
    {
     "name": "stdout",
     "output_type": "stream",
     "text": [
      "8\n"
     ]
    }
   ],
   "source": [
    "power = lambda base, exponent: base ** exponent\n",
    "print(power(2, 3))  # Outputs: 8\n"
   ]
  },
  {
   "cell_type": "code",
   "execution_count": 65,
   "id": "2767991f",
   "metadata": {},
   "outputs": [
    {
     "name": "stdout",
     "output_type": "stream",
     "text": [
      "True\n",
      "False\n"
     ]
    }
   ],
   "source": [
    "is_positive = lambda x: x > 0\n",
    "is_even = lambda x: x % 2 == 0\n",
    "\n",
    "print(is_positive(5))  # Outputs: True\n",
    "print(is_even(7))      # Outputs: False\n"
   ]
  },
  {
   "cell_type": "code",
   "execution_count": 66,
   "id": "3138dc33",
   "metadata": {},
   "outputs": [
    {
     "name": "stdout",
     "output_type": "stream",
     "text": [
      "['A', 'B', 'C']\n"
     ]
    }
   ],
   "source": [
    "names = ['Alice', 'Bob', 'Charlie']\n",
    "initials = map(lambda name: name[0], names)\n",
    "print(list(initials))  # Outputs: ['A', 'B', 'C']\n"
   ]
  },
  {
   "cell_type": "code",
   "execution_count": 67,
   "id": "7f216d1b",
   "metadata": {},
   "outputs": [
    {
     "name": "stdout",
     "output_type": "stream",
     "text": [
      "Hello world lambda functions\n"
     ]
    }
   ],
   "source": [
    "words = ['Hello', 'world', 'lambda', 'functions']\n",
    "combine = lambda lst: ' '.join(lst)\n",
    "combined_string = combine(words)\n",
    "print(combined_string)  # Outputs: \"Hello world lambda functions\"\n"
   ]
  },
  {
   "cell_type": "code",
   "execution_count": 68,
   "id": "234b049a",
   "metadata": {},
   "outputs": [
    {
     "name": "stdout",
     "output_type": "stream",
     "text": [
      "Remember that while lambda functions are concise and useful for certain situations, they're best suited for simple operations. For more complex logic, it's often better to use regular named functions for better readability and maintainability.\n"
     ]
    }
   ],
   "source": [
    "print('''Remember that while lambda functions are concise and useful for certain situations, they're best suited for simple operations. For more complex logic, it's often better to use regular named functions for better readability and maintainability.''')"
   ]
  },
  {
   "cell_type": "markdown",
   "id": "54e95aa2",
   "metadata": {},
   "source": [
    "# map()"
   ]
  },
  {
   "cell_type": "code",
   "execution_count": 69,
   "id": "b661a8e4",
   "metadata": {},
   "outputs": [
    {
     "name": "stdout",
     "output_type": "stream",
     "text": [
      "The map() function in Python is a built-in function that takes in two or more arguments: a function and one or more iterable objects (like lists, tuples, etc.). It applies the given function to each item in the iterables and returns an iterator that yields the results.\n"
     ]
    }
   ],
   "source": [
    "print('''The map() function in Python is a built-in function that takes in two or more arguments: a function and one or more iterable objects (like lists, tuples, etc.). It applies the given function to each item in the iterables and returns an iterator that yields the results.''')"
   ]
  },
  {
   "cell_type": "code",
   "execution_count": 70,
   "id": "24f36635",
   "metadata": {},
   "outputs": [],
   "source": [
    "# The basic syntax of the map() function is as follows:\n",
    "# map(function, iterable1, iterable2, ...)\n"
   ]
  },
  {
   "cell_type": "code",
   "execution_count": 71,
   "id": "ccc93559",
   "metadata": {},
   "outputs": [
    {
     "name": "stdout",
     "output_type": "stream",
     "text": [
      "[1, 4, 9, 16, 25]\n"
     ]
    }
   ],
   "source": [
    "# Here's a simple example of using the map() function to square a list of numbers:\n",
    "numbers = [1, 2, 3, 4, 5]\n",
    "squared = map(lambda x: x ** 2, numbers)\n",
    "squared_list = list(squared)\n",
    "print(squared_list)  # Outputs: [1, 4, 9, 16, 25]\n"
   ]
  },
  {
   "cell_type": "code",
   "execution_count": 72,
   "id": "91db7681",
   "metadata": {},
   "outputs": [
    {
     "name": "stdout",
     "output_type": "stream",
     "text": [
      "[2, 4, 6, 8, 10]\n"
     ]
    }
   ],
   "source": [
    "# Here's another example using the map() function with a regular named function:\n",
    "def double(x):\n",
    "    return x * 2\n",
    "\n",
    "numbers = [1, 2, 3, 4, 5]\n",
    "doubled = map(double, numbers)\n",
    "doubled_list = list(doubled)\n",
    "print(doubled_list)  # Outputs: [2, 4, 6, 8, 10]\n"
   ]
  },
  {
   "cell_type": "code",
   "execution_count": 73,
   "id": "43d6f854",
   "metadata": {},
   "outputs": [
    {
     "name": "stdout",
     "output_type": "stream",
     "text": [
      "The map() function provides a convenient way to apply a function to all elements of an iterable and collect the results. Keep in mind that in Python 3, the map() function returns an iterator, so you often need to convert it to a list or another suitable data structure to see the results as shown in the examples above.\n"
     ]
    }
   ],
   "source": [
    "print('''The map() function provides a convenient way to apply a function to all elements of an iterable and collect the results. Keep in mind that in Python 3, the map() function returns an iterator, so you often need to convert it to a list or another suitable data structure to see the results as shown in the examples above.''')"
   ]
  },
  {
   "cell_type": "code",
   "execution_count": 74,
   "id": "ac38a6dd",
   "metadata": {},
   "outputs": [
    {
     "name": "stdout",
     "output_type": "stream",
     "text": [
      "[32.0, 50.0, 68.0, 86.0, 104.0]\n"
     ]
    }
   ],
   "source": [
    "# Converting Celsius to Fahrenheit:\n",
    "celsius_temps = [0, 10, 20, 30, 40]\n",
    "\n",
    "def celsius_to_fahrenheit(celsius):\n",
    "    return (celsius * 9/5) + 32\n",
    "\n",
    "fahrenheit_temps = map(celsius_to_fahrenheit, celsius_temps)\n",
    "fahrenheit_list = list(fahrenheit_temps)\n",
    "print(fahrenheit_list)  # Outputs: [32.0, 50.0, 68.0, 86.0, 104.0]\n"
   ]
  },
  {
   "cell_type": "code",
   "execution_count": 75,
   "id": "aabf6bb1",
   "metadata": {},
   "outputs": [
    {
     "name": "stdout",
     "output_type": "stream",
     "text": [
      "['Hello, Alice!', 'Hello, Bob!', 'Hello, Charlie!']\n"
     ]
    }
   ],
   "source": [
    "# Applying String Formatting:\n",
    "names = ['Alice', 'Bob', 'Charlie']\n",
    "\n",
    "formatted_names = map(lambda name: f\"Hello, {name}!\", names)\n",
    "formatted_list = list(formatted_names)\n",
    "print(formatted_list)  # Outputs: ['Hello, Alice!', 'Hello, Bob!', 'Hello, Charlie!']\n"
   ]
  },
  {
   "cell_type": "code",
   "execution_count": 76,
   "id": "f09fba02",
   "metadata": {},
   "outputs": [
    {
     "name": "stdout",
     "output_type": "stream",
     "text": [
      "[5, 6, 6, 4]\n"
     ]
    }
   ],
   "source": [
    "# Calculating Length of Words:\n",
    "words = ['apple', 'banana', 'cherry', 'date']\n",
    "\n",
    "word_lengths = map(len, words)\n",
    "length_list = list(word_lengths)\n",
    "print(length_list)  # Outputs: [5, 6, 6, 4]\n"
   ]
  },
  {
   "cell_type": "code",
   "execution_count": 77,
   "id": "297c4ed5",
   "metadata": {},
   "outputs": [
    {
     "name": "stdout",
     "output_type": "stream",
     "text": [
      "['Hello', 'World', 'Python']\n"
     ]
    }
   ],
   "source": [
    "# Capitalizing Words:\n",
    "words = ['hello', 'world', 'python']\n",
    "\n",
    "capitalized_words = map(str.capitalize, words)\n",
    "capitalized_list = list(capitalized_words)\n",
    "print(capitalized_list)  # Outputs: ['Hello', 'World', 'Python']\n"
   ]
  },
  {
   "cell_type": "code",
   "execution_count": 78,
   "id": "bdec4250",
   "metadata": {},
   "outputs": [
    {
     "name": "stdout",
     "output_type": "stream",
     "text": [
      "[3, 3, 2]\n"
     ]
    }
   ],
   "source": [
    "# Rounding Floating-Point Numbers:\n",
    "numbers = [3.14159, 2.71828, 1.61803]\n",
    "\n",
    "rounded_numbers = map(round, numbers)\n",
    "rounded_list = list(rounded_numbers)\n",
    "print(rounded_list)  # Outputs: [3, 3, 2]\n"
   ]
  },
  {
   "cell_type": "code",
   "execution_count": 79,
   "id": "0703891c",
   "metadata": {},
   "outputs": [
    {
     "name": "stdout",
     "output_type": "stream",
     "text": [
      "[1, 8, 81]\n"
     ]
    }
   ],
   "source": [
    "# Working with Multiple Iterables:\n",
    "numbers = [1, 2, 3]\n",
    "powers = [2, 3, 4]\n",
    "\n",
    "result = map(lambda x, y: x ** y, numbers, powers)\n",
    "result_list = list(result)\n",
    "print(result_list)  # Outputs: [1, 8, 81]\n"
   ]
  },
  {
   "cell_type": "markdown",
   "id": "a79ca407",
   "metadata": {},
   "source": [
    "# filter()"
   ]
  },
  {
   "cell_type": "code",
   "execution_count": 80,
   "id": "b85b794e",
   "metadata": {},
   "outputs": [
    {
     "name": "stdout",
     "output_type": "stream",
     "text": [
      "The filter() function in Python is another built-in function that allows you to filter elements from an iterable (like a list or tuple) based on a specified condition. It takes in two arguments: a function that defines the filtering condition and an iterable containing the elements to be filtered. The function returns an iterator containing the elements that satisfy the condition.\n"
     ]
    }
   ],
   "source": [
    "print('''The filter() function in Python is another built-in function that allows you to filter elements from an iterable (like a list or tuple) based on a specified condition. It takes in two arguments: a function that defines the filtering condition and an iterable containing the elements to be filtered. The function returns an iterator containing the elements that satisfy the condition.''')"
   ]
  },
  {
   "cell_type": "code",
   "execution_count": 81,
   "id": "6a54b401",
   "metadata": {},
   "outputs": [],
   "source": [
    "# The basic syntax of the filter() function is as follows:\n",
    "# filter(function, iterable)\n",
    "# "
   ]
  },
  {
   "cell_type": "code",
   "execution_count": 82,
   "id": "0b545751",
   "metadata": {},
   "outputs": [
    {
     "name": "stdout",
     "output_type": "stream",
     "text": [
      "[2, 4, 6, 8, 10]\n"
     ]
    }
   ],
   "source": [
    "# Here's an example of using the filter() function to filter out even numbers from a list:\n",
    "numbers = [1, 2, 3, 4, 5, 6, 7, 8, 9, 10]\n",
    "\n",
    "def is_even(x):\n",
    "    return x % 2 == 0\n",
    "\n",
    "even_numbers = filter(is_even, numbers)\n",
    "even_numbers_list = list(even_numbers)\n",
    "print(even_numbers_list)  # Outputs: [2, 4, 6, 8, 10]\n"
   ]
  },
  {
   "cell_type": "code",
   "execution_count": 83,
   "id": "ad99df1c",
   "metadata": {},
   "outputs": [
    {
     "name": "stdout",
     "output_type": "stream",
     "text": [
      "[2, 4, 6, 8, 10]\n"
     ]
    }
   ],
   "source": [
    "# Here's the same example using a lambda function:\n",
    "numbers = [1, 2, 3, 4, 5, 6, 7, 8, 9, 10]\n",
    "\n",
    "even_numbers = filter(lambda x: x % 2 == 0, numbers)\n",
    "even_numbers_list = list(even_numbers)\n",
    "print(even_numbers_list)  # Outputs: [2, 4, 6, 8, 10]\n"
   ]
  },
  {
   "cell_type": "code",
   "execution_count": 84,
   "id": "93455d38",
   "metadata": {},
   "outputs": [
    {
     "name": "stdout",
     "output_type": "stream",
     "text": [
      "The filter() function is particularly useful when you want to selectively retain elements from an iterable based on a certain condition. It's worth noting that, similar to the map() function, the filter() function returns an iterator. So, if you want to work with the filtered elements as a list, you need to convert the iterator to a list using the list() function.\n"
     ]
    }
   ],
   "source": [
    "print('''The filter() function is particularly useful when you want to selectively retain elements from an iterable based on a certain condition. It's worth noting that, similar to the map() function, the filter() function returns an iterator. So, if you want to work with the filtered elements as a list, you need to convert the iterator to a list using the list() function.''')"
   ]
  },
  {
   "cell_type": "code",
   "execution_count": 85,
   "id": "3ebf2c75",
   "metadata": {},
   "outputs": [
    {
     "name": "stdout",
     "output_type": "stream",
     "text": [
      "['banana', 'cherry']\n"
     ]
    }
   ],
   "source": [
    "# Filtering Strings by Length:\n",
    "words = ['apple', 'banana', 'cherry', 'date']\n",
    "\n",
    "def filter_by_length(word):\n",
    "    return len(word) >= 6\n",
    "\n",
    "long_words = filter(filter_by_length, words)\n",
    "long_words_list = list(long_words)\n",
    "print(long_words_list)  # Outputs: ['banana', 'cherry']\n"
   ]
  },
  {
   "cell_type": "code",
   "execution_count": 86,
   "id": "e77153e6",
   "metadata": {},
   "outputs": [
    {
     "name": "stdout",
     "output_type": "stream",
     "text": [
      "[3, 7, 2]\n"
     ]
    }
   ],
   "source": [
    "# Filtering Positive Numbers:\n",
    "numbers = [3, -1, 0, 7, -5, 2, -8]\n",
    "\n",
    "positive_numbers = filter(lambda x: x > 0, numbers)\n",
    "positive_numbers_list = list(positive_numbers)\n",
    "print(positive_numbers_list)  # Outputs: [3, 7, 2]\n"
   ]
  },
  {
   "cell_type": "code",
   "execution_count": 87,
   "id": "4c13567d",
   "metadata": {},
   "outputs": [
    {
     "name": "stdout",
     "output_type": "stream",
     "text": [
      "[2, 3, 5, 7, 11, 13, 17, 19]\n"
     ]
    }
   ],
   "source": [
    "#     Filtering Prime Numbers:\n",
    "def is_prime(n):\n",
    "    if n <= 1:\n",
    "        return False\n",
    "    for i in range(2, int(n**0.5) + 1):\n",
    "        if n % i == 0:\n",
    "            return False\n",
    "    return True\n",
    "\n",
    "numbers = range(1, 20)\n",
    "prime_numbers = filter(is_prime, numbers)\n",
    "prime_numbers_list = list(prime_numbers)\n",
    "print(prime_numbers_list)  # Outputs: [2, 3, 5, 7, 11, 13, 17, 19]\n"
   ]
  },
  {
   "cell_type": "code",
   "execution_count": 88,
   "id": "b2a907f2",
   "metadata": {},
   "outputs": [
    {
     "name": "stdout",
     "output_type": "stream",
     "text": [
      "{'Bob': 92, 'David': 95}\n"
     ]
    }
   ],
   "source": [
    "# Filtering Dictionaries by Values:\n",
    "scores = {'Alice': 85, 'Bob': 92, 'Charlie': 78, 'David': 95}\n",
    "\n",
    "high_scores = filter(lambda item: item[1] >= 90, scores.items())\n",
    "high_scores_dict = dict(high_scores)\n",
    "print(high_scores_dict)  # Outputs: {'Bob': 92, 'David': 95}\n"
   ]
  },
  {
   "cell_type": "code",
   "execution_count": 89,
   "id": "8e542fe1",
   "metadata": {},
   "outputs": [
    {
     "name": "stdout",
     "output_type": "stream",
     "text": [
      "[[1, 2, 3], [4, 5, 6], [7, 8, 9]]\n"
     ]
    }
   ],
   "source": [
    "# Filtering Lists of Lists:\n",
    "matrix = [[1, 2, 3], [4, 5, 6], [7, 8, 9]]\n",
    "\n",
    "def contains_even(row):\n",
    "    return any(x % 2 == 0 for x in row)\n",
    "\n",
    "rows_with_even = filter(contains_even, matrix)\n",
    "rows_with_even_list = list(rows_with_even)\n",
    "print(rows_with_even_list)  # Outputs: [[4, 5, 6], [7, 8, 9]]\n"
   ]
  },
  {
   "cell_type": "markdown",
   "id": "46c166b0",
   "metadata": {},
   "source": [
    "# reduce()"
   ]
  },
  {
   "cell_type": "code",
   "execution_count": 90,
   "id": "f9d3d3ca",
   "metadata": {},
   "outputs": [
    {
     "name": "stdout",
     "output_type": "stream",
     "text": [
      "The reduce() function used to be a built-in function in Python's functools module until Python 3.0. However, starting from Python 3.0, it was moved to the functools module and you need to import it explicitly. The reduce() function is used to apply a function to the items of an iterable in a cumulative way, where the result of each application is used as the first argument in the next application. It's a way to \"reduce\" a sequence of elements to a single value.\n"
     ]
    }
   ],
   "source": [
    "print('''The reduce() function used to be a built-in function in Python's functools module until Python 3.0. However, starting from Python 3.0, it was moved to the functools module and you need to import it explicitly. The reduce() function is used to apply a function to the items of an iterable in a cumulative way, where the result of each application is used as the first argument in the next application. It's a way to \"reduce\" a sequence of elements to a single value.''')"
   ]
  },
  {
   "cell_type": "code",
   "execution_count": 91,
   "id": "8da8136d",
   "metadata": {},
   "outputs": [],
   "source": [
    "# The basic syntax of the reduce() function is as follows:\n",
    "# functools.reduce(function, iterable[, initializer])\n",
    "# "
   ]
  },
  {
   "cell_type": "code",
   "execution_count": 92,
   "id": "cea648ea",
   "metadata": {},
   "outputs": [
    {
     "name": "stdout",
     "output_type": "stream",
     "text": [
      "120\n"
     ]
    }
   ],
   "source": [
    "# Here's a simple example of using the reduce() function to find the product of elements in a list:\n",
    "import functools\n",
    "\n",
    "numbers = [2, 3, 4, 5]\n",
    "\n",
    "def multiply(x, y):\n",
    "    return x * y\n",
    "\n",
    "product = functools.reduce(multiply, numbers)\n",
    "print(product)  # Outputs: 120 (2 * 3 * 4 * 5)\n"
   ]
  },
  {
   "cell_type": "code",
   "execution_count": 93,
   "id": "93ebc952",
   "metadata": {},
   "outputs": [
    {
     "name": "stdout",
     "output_type": "stream",
     "text": [
      "1200\n"
     ]
    }
   ],
   "source": [
    "# If you provide an optional initializer argument, the reduce() function starts with that value instead of the first element in the iterable. Here's an example:\n",
    "import functools\n",
    "\n",
    "numbers = [1, 2, 3, 4, 5]\n",
    "\n",
    "def multiply(x, y):\n",
    "    return x * y\n",
    "\n",
    "initial_value = 10\n",
    "result = functools.reduce(multiply, numbers, initial_value)\n",
    "print(result)  # Outputs: 1200 (10 * 1 * 2 * 3 * 4 * 5)\n"
   ]
  },
  {
   "cell_type": "code",
   "execution_count": 94,
   "id": "ecac639d",
   "metadata": {},
   "outputs": [
    {
     "name": "stdout",
     "output_type": "stream",
     "text": [
      "The reduce() function can be powerful for certain types of cumulative calculations, but it's worth noting that its usage has become less common in favor of clearer alternatives like loops or list comprehensions, especially for more complex operations.\n"
     ]
    }
   ],
   "source": [
    "print('''The reduce() function can be powerful for certain types of cumulative calculations, but it's worth noting that its usage has become less common in favor of clearer alternatives like loops or list comprehensions, especially for more complex operations.''')"
   ]
  },
  {
   "cell_type": "code",
   "execution_count": 95,
   "id": "22ee81c2",
   "metadata": {},
   "outputs": [
    {
     "name": "stdout",
     "output_type": "stream",
     "text": [
      "9\n"
     ]
    }
   ],
   "source": [
    "# Finding the Maximum Value:\n",
    "import functools\n",
    "\n",
    "numbers = [8, 3, 9, 6, 2]\n",
    "\n",
    "max_value = functools.reduce(lambda x, y: x if x > y else y, numbers)\n",
    "print(max_value)  # Outputs: 9\n"
   ]
  },
  {
   "cell_type": "code",
   "execution_count": 96,
   "id": "7f818abc",
   "metadata": {},
   "outputs": [
    {
     "name": "stdout",
     "output_type": "stream",
     "text": [
      "Hello world!\n"
     ]
    }
   ],
   "source": [
    "# Concatenating Strings:\n",
    "import functools\n",
    "\n",
    "words = ['Hello', ' ', 'world', '!']\n",
    "\n",
    "concatenated = functools.reduce(lambda x, y: x + y, words)\n",
    "print(concatenated)  # Outputs: \"Hello world!\"\n"
   ]
  },
  {
   "cell_type": "code",
   "execution_count": 97,
   "id": "09daadf7",
   "metadata": {},
   "outputs": [
    {
     "name": "stdout",
     "output_type": "stream",
     "text": [
      "120\n"
     ]
    }
   ],
   "source": [
    "# Calculating Factorial:\n",
    "import functools\n",
    "\n",
    "n = 5\n",
    "\n",
    "factorial = functools.reduce(lambda x, y: x * y, range(1, n + 1))\n",
    "print(factorial)  # Outputs: 120 (5!)\n"
   ]
  },
  {
   "cell_type": "code",
   "execution_count": 98,
   "id": "86089512",
   "metadata": {},
   "outputs": [
    {
     "name": "stdout",
     "output_type": "stream",
     "text": [
      "cherry\n"
     ]
    }
   ],
   "source": [
    "# Finding Longest Word:\n",
    "import functools\n",
    "\n",
    "words = ['apple', 'banana', 'cherry', 'date']\n",
    "\n",
    "longest_word = functools.reduce(lambda x, y: x if len(x) > len(y) else y, words)\n",
    "print(longest_word)  # Outputs: 'banana'\n"
   ]
  },
  {
   "cell_type": "code",
   "execution_count": 99,
   "id": "6d116372",
   "metadata": {},
   "outputs": [
    {
     "name": "stdout",
     "output_type": "stream",
     "text": [
      "Start: Hello world!\n"
     ]
    }
   ],
   "source": [
    "# Using initializer for Concatenation:\n",
    "import functools\n",
    "\n",
    "words = ['Hello', ' ', 'world', '!']\n",
    "\n",
    "concatenated = functools.reduce(lambda x, y: x + y, words, 'Start: ')\n",
    "print(concatenated)  # Outputs: \"Start: Hello world!\"\n"
   ]
  },
  {
   "cell_type": "code",
   "execution_count": 100,
   "id": "fe3498dc",
   "metadata": {},
   "outputs": [
    {
     "name": "stdout",
     "output_type": "stream",
     "text": [
      "(25, 1080)\n"
     ]
    }
   ],
   "source": [
    "# Applying Custom Accumulation Logic:\n",
    "import functools\n",
    "\n",
    "numbers = [3, 1, 4, 1, 5, 9, 2]\n",
    "\n",
    "result = functools.reduce(lambda acc, x: (acc[0] + x, acc[1] * x), numbers, (0, 1))\n",
    "print(result)  # Outputs: (25, 540)\n"
   ]
  },
  {
   "cell_type": "markdown",
   "id": "a770dd20",
   "metadata": {},
   "source": [
    "# First class functions in Python"
   ]
  },
  {
   "cell_type": "code",
   "execution_count": 101,
   "id": "937ca627",
   "metadata": {},
   "outputs": [
    {
     "name": "stdout",
     "output_type": "stream",
     "text": [
      "\n",
      "In Python, functions are first-class citizens, which means they are treated as objects and can be manipulated just like any other data type, such as integers, strings, lists, etc. This property of treating functions as first-class citizens enables various powerful programming techniques. Here's what you can do with first-class functions in Python:\n"
     ]
    }
   ],
   "source": [
    "print('''\n",
    "In Python, functions are first-class citizens, which means they are treated as objects and can be manipulated just like any other data type, such as integers, strings, lists, etc. This property of treating functions as first-class citizens enables various powerful programming techniques. Here's what you can do with first-class functions in Python:''')"
   ]
  },
  {
   "cell_type": "code",
   "execution_count": 102,
   "id": "4b432f1d",
   "metadata": {},
   "outputs": [
    {
     "name": "stdout",
     "output_type": "stream",
     "text": [
      "Hello, Alice!\n"
     ]
    }
   ],
   "source": [
    "# You can assign a function to a variable, allowing you to use that variable as a reference to the function.\n",
    "def greet(name):\n",
    "    return f\"Hello, {name}!\"\n",
    "\n",
    "greeting = greet\n",
    "print(greeting('Alice'))  # Outputs: \"Hello, Alice!\"\n"
   ]
  },
  {
   "cell_type": "code",
   "execution_count": 103,
   "id": "e04d162c",
   "metadata": {},
   "outputs": [
    {
     "name": "stdout",
     "output_type": "stream",
     "text": [
      "25\n"
     ]
    }
   ],
   "source": [
    "# You can pass functions as arguments to other functions, allowing you to define higher-order functions.\n",
    "def apply_function(func, value):\n",
    "    return func(value)\n",
    "\n",
    "def square(x):\n",
    "    return x ** 2\n",
    "\n",
    "result = apply_function(square, 5)\n",
    "print(result)  # Outputs: 25\n"
   ]
  },
  {
   "cell_type": "code",
   "execution_count": 104,
   "id": "852ad40f",
   "metadata": {},
   "outputs": [
    {
     "name": "stdout",
     "output_type": "stream",
     "text": [
      "10\n",
      "15\n"
     ]
    }
   ],
   "source": [
    "# Functions can also return other functions, enabling the creation of more flexible and customizable functions.\n",
    "def create_multiplier(factor):\n",
    "    def multiplier(x):\n",
    "        return x * factor\n",
    "    return multiplier\n",
    "\n",
    "double = create_multiplier(2)\n",
    "triple = create_multiplier(3)\n",
    "\n",
    "print(double(5))  # Outputs: 10\n",
    "print(triple(5))  # Outputs: 15\n"
   ]
  },
  {
   "cell_type": "code",
   "execution_count": 105,
   "id": "6f75e556",
   "metadata": {},
   "outputs": [
    {
     "name": "stdout",
     "output_type": "stream",
     "text": [
      "15\n"
     ]
    }
   ],
   "source": [
    "# You can define functions within functions (nested functions), allowing you to encapsulate functionality and control scope.\n",
    "def outer_function(x):\n",
    "    def inner_function(y):\n",
    "        return x + y\n",
    "    return inner_function\n",
    "\n",
    "add_five = outer_function(5)\n",
    "result = add_five(10)  # 5 + 10\n",
    "print(result)  # Outputs: 15\n"
   ]
  },
  {
   "cell_type": "code",
   "execution_count": 106,
   "id": "7f149cd9",
   "metadata": {},
   "outputs": [
    {
     "name": "stdout",
     "output_type": "stream",
     "text": [
      "9\n",
      "27\n"
     ]
    }
   ],
   "source": [
    "# You can store functions in data structures like lists, dictionaries, and tuples.\n",
    "def square(x):\n",
    "    return x ** 2\n",
    "\n",
    "def cube(x):\n",
    "    return x ** 3\n",
    "\n",
    "function_list = [square, cube]\n",
    "\n",
    "for func in function_list:\n",
    "    print(func(3))  # Outputs: 9 and 27\n"
   ]
  },
  {
   "cell_type": "code",
   "execution_count": 107,
   "id": "4e84b2d5",
   "metadata": {},
   "outputs": [
    {
     "name": "stdout",
     "output_type": "stream",
     "text": [
      "HELLO, ALICE!\n"
     ]
    }
   ],
   "source": [
    "# Decorators are a powerful application of first-class functions. They allow you to modify or extend the behavior of other functions without modifying their source code directly.\n",
    "def uppercase_decorator(func):\n",
    "    def wrapper(text):\n",
    "        result = func(text)\n",
    "        return result.upper()\n",
    "    return wrapper\n",
    "\n",
    "@uppercase_decorator\n",
    "def greet(name):\n",
    "    return f\"Hello, {name}!\"\n",
    "\n",
    "print(greet('Alice'))  # Outputs: \"HELLO, ALICE!\"\n"
   ]
  },
  {
   "cell_type": "code",
   "execution_count": 108,
   "id": "15c2f2b4",
   "metadata": {},
   "outputs": [
    {
     "name": "stdout",
     "output_type": "stream",
     "text": [
      "The ability to treat functions as first-class citizens is a key feature of Python that enables functional programming paradigms, enhances code modularity, and opens up avenues for more elegant and dynamic coding solutions.\n"
     ]
    }
   ],
   "source": [
    "print('''The ability to treat functions as first-class citizens is a key feature of Python that enables functional programming paradigms, enhances code modularity, and opens up avenues for more elegant and dynamic coding solutions.''')"
   ]
  },
  {
   "cell_type": "markdown",
   "id": "74e7f6e0",
   "metadata": {},
   "source": [
    "# doc string"
   ]
  },
  {
   "cell_type": "code",
   "execution_count": 109,
   "id": "7ab1149f",
   "metadata": {},
   "outputs": [
    {
     "name": "stdout",
     "output_type": "stream",
     "text": [
      "In Python, a docstring (short for \"documentation string\") is a string literal that occurs as the first statement in a module, function, class, or method definition. It serves as a form of inline documentation and is used to provide information about the purpose, usage, and behavior of the code that follows.\n",
      "\n",
      "Docstrings are intended to be human-readable explanations of the code's functionality. They are not just comments for developers; they also have a more formal purpose in that they can be accessed at runtime using the built-in help() function or by accessing the .__doc__ attribute of a Python object.\n"
     ]
    }
   ],
   "source": [
    "print('''In Python, a docstring (short for \"documentation string\") is a string literal that occurs as the first statement in a module, function, class, or method definition. It serves as a form of inline documentation and is used to provide information about the purpose, usage, and behavior of the code that follows.\n",
    "\n",
    "Docstrings are intended to be human-readable explanations of the code's functionality. They are not just comments for developers; they also have a more formal purpose in that they can be accessed at runtime using the built-in help() function or by accessing the .__doc__ attribute of a Python object.''')"
   ]
  },
  {
   "cell_type": "code",
   "execution_count": 110,
   "id": "0410b3cd",
   "metadata": {},
   "outputs": [],
   "source": [
    "def calculate_sum(a, b):\n",
    "    \"\"\"\n",
    "    Calculate the sum of two numbers.\n",
    "\n",
    "    This function takes two arguments, 'a' and 'b', and returns their sum.\n",
    "\n",
    "    Parameters:\n",
    "    a (int): The first number.\n",
    "    b (int): The second number.\n",
    "\n",
    "    Returns:\n",
    "    int: The sum of 'a' and 'b'.\n",
    "    \"\"\"\n",
    "    return a + b\n"
   ]
  },
  {
   "cell_type": "code",
   "execution_count": 111,
   "id": "5d4c035c",
   "metadata": {},
   "outputs": [
    {
     "name": "stdout",
     "output_type": "stream",
     "text": [
      "You can access the docstring of a function using the help() function or by directly accessing the .__doc__ attribute:\n"
     ]
    }
   ],
   "source": [
    "print('''You can access the docstring of a function using the help() function or by directly accessing the .__doc__ attribute:''')"
   ]
  },
  {
   "cell_type": "code",
   "execution_count": 112,
   "id": "fc40e8b1",
   "metadata": {},
   "outputs": [],
   "source": [
    "# https://peps.python.org/pep-0008/"
   ]
  },
  {
   "cell_type": "code",
   "execution_count": 113,
   "id": "3629dfd3",
   "metadata": {},
   "outputs": [],
   "source": [
    "# https://peps.python.org/pep-0257/"
   ]
  }
 ],
 "metadata": {
  "kernelspec": {
   "display_name": "Python 3 (ipykernel)",
   "language": "python",
   "name": "python3"
  },
  "language_info": {
   "codemirror_mode": {
    "name": "ipython",
    "version": 3
   },
   "file_extension": ".py",
   "mimetype": "text/x-python",
   "name": "python",
   "nbconvert_exporter": "python",
   "pygments_lexer": "ipython3",
   "version": "3.10.5"
  }
 },
 "nbformat": 4,
 "nbformat_minor": 5
}
