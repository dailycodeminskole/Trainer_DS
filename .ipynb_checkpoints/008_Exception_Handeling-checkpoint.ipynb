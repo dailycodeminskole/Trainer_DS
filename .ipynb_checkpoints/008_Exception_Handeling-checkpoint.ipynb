{
 "cells": [
  {
   "cell_type": "code",
   "execution_count": null,
   "id": "c284b7a5",
   "metadata": {},
   "outputs": [],
   "source": []
  },
  {
   "cell_type": "code",
   "execution_count": null,
   "id": "25aa6e1f",
   "metadata": {},
   "outputs": [],
   "source": []
  },
  {
   "cell_type": "code",
   "execution_count": 1,
   "id": "11738a39",
   "metadata": {},
   "outputs": [
    {
     "name": "stdout",
     "output_type": "stream",
     "text": [
      "Exception handling in Python refers to the process of gracefully dealing with unexpected errors or exceptional situations that can occur during the execution of a program. These exceptions could be due to factors such as invalid inputs, file not found, or division by zero. Python provides a robust mechanism to catch, handle, and manage such exceptions, preventing abrupt program termination.\n",
      "\n",
      "The core components of exception handling are the `try`, `except`, `else`, and `finally` blocks. In a `try` block, you place the code that might raise an exception. If an exception occurs, it is caught and handled by the corresponding `except` block that matches the specific exception type. The `else` block contains code that executes if no exception occurs in the `try` block. The `finally` block, if used, is executed regardless of whether an exception occurred, providing a place to perform cleanup operations.\n",
      "\n",
      "Exception handling promotes robustness in programs by allowing developers to anticipate and manage errors effectively. It prevents unhandled exceptions from causing program crashes and provides the opportunity to provide informative error messages or take corrective actions. Exception handling is especially important when dealing with user inputs, external data sources, or complex computations, where the potential for errors is higher. By incorporating exception handling, developers can create more reliable and user-friendly software that gracefully handles unexpected scenarios.\n"
     ]
    }
   ],
   "source": [
    "print('''Exception handling in Python refers to the process of gracefully dealing with unexpected errors or exceptional situations that can occur during the execution of a program. These exceptions could be due to factors such as invalid inputs, file not found, or division by zero. Python provides a robust mechanism to catch, handle, and manage such exceptions, preventing abrupt program termination.\n",
    "\n",
    "The core components of exception handling are the `try`, `except`, `else`, and `finally` blocks. In a `try` block, you place the code that might raise an exception. If an exception occurs, it is caught and handled by the corresponding `except` block that matches the specific exception type. The `else` block contains code that executes if no exception occurs in the `try` block. The `finally` block, if used, is executed regardless of whether an exception occurred, providing a place to perform cleanup operations.\n",
    "\n",
    "Exception handling promotes robustness in programs by allowing developers to anticipate and manage errors effectively. It prevents unhandled exceptions from causing program crashes and provides the opportunity to provide informative error messages or take corrective actions. Exception handling is especially important when dealing with user inputs, external data sources, or complex computations, where the potential for errors is higher. By incorporating exception handling, developers can create more reliable and user-friendly software that gracefully handles unexpected scenarios.''')"
   ]
  },
  {
   "cell_type": "markdown",
   "id": "e03ef927",
   "metadata": {},
   "source": [
    "# why do we need exception handling "
   ]
  },
  {
   "cell_type": "code",
   "execution_count": 2,
   "id": "cf5d9a26",
   "metadata": {},
   "outputs": [
    {
     "ename": "ZeroDivisionError",
     "evalue": "division by zero",
     "output_type": "error",
     "traceback": [
      "\u001b[1;31m---------------------------------------------------------------------------\u001b[0m",
      "\u001b[1;31mZeroDivisionError\u001b[0m                         Traceback (most recent call last)",
      "Input \u001b[1;32mIn [2]\u001b[0m, in \u001b[0;36m<cell line: 6>\u001b[1;34m()\u001b[0m\n\u001b[0;32m      3\u001b[0m numerator \u001b[38;5;241m=\u001b[39m \u001b[38;5;241m10\u001b[39m\n\u001b[0;32m      4\u001b[0m denominator \u001b[38;5;241m=\u001b[39m \u001b[38;5;241m0\u001b[39m\n\u001b[1;32m----> 6\u001b[0m result \u001b[38;5;241m=\u001b[39m \u001b[43mnumerator\u001b[49m\u001b[43m \u001b[49m\u001b[38;5;241;43m/\u001b[39;49m\u001b[43m \u001b[49m\u001b[43mdenominator\u001b[49m  \u001b[38;5;66;03m# Raises ZeroDivisionError\u001b[39;00m\n\u001b[0;32m      7\u001b[0m \u001b[38;5;28mprint\u001b[39m(result)\n",
      "\u001b[1;31mZeroDivisionError\u001b[0m: division by zero"
     ]
    }
   ],
   "source": [
    "# Division by Zero\n",
    "\n",
    "numerator = 10\n",
    "denominator = 0\n",
    "\n",
    "result = numerator / denominator  # Raises ZeroDivisionError\n",
    "print(result)\n"
   ]
  },
  {
   "cell_type": "code",
   "execution_count": 18,
   "id": "34a891a9",
   "metadata": {},
   "outputs": [
    {
     "data": {
      "text/plain": [
       "'\\nBaseException\\n +-- SystemExit\\n +-- KeyboardInterrupt\\n +-- GeneratorExit\\n +-- Exception\\n      +-- StopIteration\\n      +-- StopAsyncIteration\\n      +-- ArithmeticError\\n      |    +-- FloatingPointError\\n      |    +-- OverflowError\\n      |    +-- ZeroDivisionError\\n      +-- AssertionError\\n      +-- AttributeError\\n      +-- BufferError\\n      +-- EOFError\\n      +-- ImportError\\n      |    +-- ModuleNotFoundError\\n      +-- LookupError\\n      |    +-- IndexError\\n      |    +-- KeyError\\n      +-- MemoryError\\n      +-- NameError\\n      |    +-- UnboundLocalError\\n      +-- OSError\\n      |    +-- BlockingIOError\\n      |    +-- ChildProcessError\\n      |    +-- ConnectionError\\n      |    |    +-- BrokenPipeError\\n      |    |    +-- ConnectionAbortedError\\n      |    |    +-- ConnectionRefusedError\\n      |    |    +-- ConnectionResetError\\n      |    +-- FileExistsError\\n      |    +-- FileNotFoundError\\n      |    +-- InterruptedError\\n      |    +-- IsADirectoryError\\n      |    +-- NotADirectoryError\\n      |    +-- PermissionError\\n      |    +-- ProcessLookupError\\n      |    +-- TimeoutError\\n      +-- ReferenceError\\n      +-- RuntimeError\\n      |    +-- NotImplementedError\\n      |    +-- RecursionError\\n      +-- SyntaxError\\n      |    +-- IndentationError\\n      |         +-- TabError\\n      +-- SystemError\\n      +-- TypeError\\n      +-- ValueError\\n      |    +-- UnicodeError\\n      |         +-- UnicodeDecodeError\\n      |         +-- UnicodeEncodeError\\n      |         +-- UnicodeTranslateError\\n      +-- Warning\\n           +-- DeprecationWarning\\n           +-- PendingDeprecationWarning\\n           +-- RuntimeWarning\\n           +-- SyntaxWarning\\n           +-- UserWarning\\n           +-- FutureWarning\\n           +-- ImportWarning\\n           +-- UnicodeWarning\\n           +-- BytesWarning\\n           +-- EncodingWarning\\n           +-- ResourceWarning\\n'"
      ]
     },
     "execution_count": 18,
     "metadata": {},
     "output_type": "execute_result"
    }
   ],
   "source": [
    "'''\n",
    "BaseException\n",
    " +-- SystemExit\n",
    " +-- KeyboardInterrupt\n",
    " +-- GeneratorExit\n",
    " +-- Exception\n",
    "      +-- StopIteration\n",
    "      +-- StopAsyncIteration\n",
    "      +-- ArithmeticError\n",
    "      |    +-- FloatingPointError\n",
    "      |    +-- OverflowError\n",
    "      |    +-- ZeroDivisionError\n",
    "      +-- AssertionError\n",
    "      +-- AttributeError\n",
    "      +-- BufferError\n",
    "      +-- EOFError\n",
    "      +-- ImportError\n",
    "      |    +-- ModuleNotFoundError\n",
    "      +-- LookupError\n",
    "      |    +-- IndexError\n",
    "      |    +-- KeyError\n",
    "      +-- MemoryError\n",
    "      +-- NameError\n",
    "      |    +-- UnboundLocalError\n",
    "      +-- OSError\n",
    "      |    +-- BlockingIOError\n",
    "      |    +-- ChildProcessError\n",
    "      |    +-- ConnectionError\n",
    "      |    |    +-- BrokenPipeError\n",
    "      |    |    +-- ConnectionAbortedError\n",
    "      |    |    +-- ConnectionRefusedError\n",
    "      |    |    +-- ConnectionResetError\n",
    "      |    +-- FileExistsError\n",
    "      |    +-- FileNotFoundError\n",
    "      |    +-- InterruptedError\n",
    "      |    +-- IsADirectoryError\n",
    "      |    +-- NotADirectoryError\n",
    "      |    +-- PermissionError\n",
    "      |    +-- ProcessLookupError\n",
    "      |    +-- TimeoutError\n",
    "      +-- ReferenceError\n",
    "      +-- RuntimeError\n",
    "      |    +-- NotImplementedError\n",
    "      |    +-- RecursionError\n",
    "      +-- SyntaxError\n",
    "      |    +-- IndentationError\n",
    "      |         +-- TabError\n",
    "      +-- SystemError\n",
    "      +-- TypeError\n",
    "      +-- ValueError\n",
    "      |    +-- UnicodeError\n",
    "      |         +-- UnicodeDecodeError\n",
    "      |         +-- UnicodeEncodeError\n",
    "      |         +-- UnicodeTranslateError\n",
    "      +-- Warning\n",
    "           +-- DeprecationWarning\n",
    "           +-- PendingDeprecationWarning\n",
    "           +-- RuntimeWarning\n",
    "           +-- SyntaxWarning\n",
    "           +-- UserWarning\n",
    "           +-- FutureWarning\n",
    "           +-- ImportWarning\n",
    "           +-- UnicodeWarning\n",
    "           +-- BytesWarning\n",
    "           +-- EncodingWarning\n",
    "           +-- ResourceWarning\n",
    "'''"
   ]
  },
  {
   "cell_type": "code",
   "execution_count": 3,
   "id": "7a4a984f",
   "metadata": {},
   "outputs": [
    {
     "name": "stdout",
     "output_type": "stream",
     "text": [
      "Error: Division by zero is not allowed.\n"
     ]
    }
   ],
   "source": [
    "numerator = 10\n",
    "denominator = 0\n",
    "\n",
    "try:\n",
    "    result = numerator / denominator\n",
    "except ZeroDivisionError:\n",
    "    print(\"Error: Division by zero is not allowed.\")\n"
   ]
  },
  {
   "cell_type": "code",
   "execution_count": 4,
   "id": "eb38595c",
   "metadata": {},
   "outputs": [
    {
     "name": "stdout",
     "output_type": "stream",
     "text": [
      "Error: File not found.\n"
     ]
    }
   ],
   "source": [
    "# File Handling\n",
    "try:\n",
    "    file = open(\"nonexistent_file.txt\", \"r\")\n",
    "    content = file.read()\n",
    "    file.close()\n",
    "except FileNotFoundError:\n",
    "    print(\"Error: File not found.\")\n"
   ]
  },
  {
   "cell_type": "code",
   "execution_count": 6,
   "id": "1044097b",
   "metadata": {},
   "outputs": [
    {
     "name": "stdout",
     "output_type": "stream",
     "text": [
      "Enter your age: 2222\n"
     ]
    }
   ],
   "source": [
    "#  User Input Validation\n",
    "try:\n",
    "    age = int(input(\"Enter your age: \"))\n",
    "except ValueError:\n",
    "    print(\"Error: Invalid input. Please enter a valid number.\")\n"
   ]
  },
  {
   "cell_type": "markdown",
   "id": "0d8feaa7",
   "metadata": {},
   "source": [
    "# Handling Multiple Exceptions"
   ]
  },
  {
   "cell_type": "code",
   "execution_count": 7,
   "id": "616a8ee5",
   "metadata": {},
   "outputs": [
    {
     "name": "stdout",
     "output_type": "stream",
     "text": [
      "Enter a number: 125\n"
     ]
    }
   ],
   "source": [
    "try:\n",
    "    num = int(input(\"Enter a number: \"))\n",
    "    result = 10 / num\n",
    "except ZeroDivisionError:\n",
    "    print(\"Error: Division by zero.\")\n",
    "except ValueError:\n",
    "    print(\"Error: Invalid input.\")\n"
   ]
  },
  {
   "cell_type": "markdown",
   "id": "d2192873",
   "metadata": {},
   "source": [
    "# Using else Block"
   ]
  },
  {
   "cell_type": "code",
   "execution_count": 8,
   "id": "2f47a74b",
   "metadata": {},
   "outputs": [
    {
     "name": "stdout",
     "output_type": "stream",
     "text": [
      "Enter your age: ad\n",
      "Error: Invalid input. Please enter a valid number.\n"
     ]
    }
   ],
   "source": [
    "try:\n",
    "    age = int(input(\"Enter your age: \"))\n",
    "except ValueError:\n",
    "    print(\"Error: Invalid input. Please enter a valid number.\")\n",
    "else:\n",
    "    print(f\"Your age is {age}.\")\n"
   ]
  },
  {
   "cell_type": "markdown",
   "id": "e37a74ad",
   "metadata": {},
   "source": [
    "# Using finally Block"
   ]
  },
  {
   "cell_type": "code",
   "execution_count": 9,
   "id": "988cda88",
   "metadata": {},
   "outputs": [
    {
     "name": "stdout",
     "output_type": "stream",
     "text": [
      "Error: File not found.\n"
     ]
    },
    {
     "ename": "NameError",
     "evalue": "name 'file' is not defined",
     "output_type": "error",
     "traceback": [
      "\u001b[1;31m---------------------------------------------------------------------------\u001b[0m",
      "\u001b[1;31mNameError\u001b[0m                                 Traceback (most recent call last)",
      "Input \u001b[1;32mIn [9]\u001b[0m, in \u001b[0;36m<cell line: 1>\u001b[1;34m()\u001b[0m\n\u001b[0;32m      5\u001b[0m     \u001b[38;5;28mprint\u001b[39m(\u001b[38;5;124m\"\u001b[39m\u001b[38;5;124mError: File not found.\u001b[39m\u001b[38;5;124m\"\u001b[39m)\n\u001b[0;32m      6\u001b[0m \u001b[38;5;28;01mfinally\u001b[39;00m:\n\u001b[1;32m----> 7\u001b[0m     \u001b[43mfile\u001b[49m\u001b[38;5;241m.\u001b[39mclose()\n",
      "\u001b[1;31mNameError\u001b[0m: name 'file' is not defined"
     ]
    }
   ],
   "source": [
    "try:\n",
    "    file = open(\"file.txt\", \"r\")\n",
    "    content = file.read()\n",
    "except FileNotFoundError:\n",
    "    print(\"Error: File not found.\")\n",
    "finally:\n",
    "    file.close()  # This block always executes, regardless of whether an exception occurred.\n"
   ]
  },
  {
   "cell_type": "code",
   "execution_count": 16,
   "id": "75db55f9",
   "metadata": {},
   "outputs": [
    {
     "name": "stdout",
     "output_type": "stream",
     "text": [
      "The result of 10 / 2 is 5.00\n",
      "Division operation completed.\n",
      "Error: Division by zero.\n",
      "Division operation completed.\n"
     ]
    }
   ],
   "source": [
    "def divide_numbers(a, b):\n",
    "    try:\n",
    "        result = a / b\n",
    "    except ZeroDivisionError:\n",
    "        print(\"Error: Division by zero.\")\n",
    "    else:\n",
    "        print(f\"The result of {a} / {b} is {result:.2f}\")\n",
    "    finally:\n",
    "        print(\"Division operation completed.\")\n",
    "\n",
    "# Example 1: Division with non-zero denominator\n",
    "divide_numbers(10, 2)\n",
    "\n",
    "# Example 2: Division with zero denominator\n",
    "divide_numbers(8, 0)\n"
   ]
  },
  {
   "cell_type": "code",
   "execution_count": 17,
   "id": "88ace268",
   "metadata": {},
   "outputs": [
    {
     "name": "stdout",
     "output_type": "stream",
     "text": [
      "Error: File 'sample.txt' not found.\n",
      "Error: File 'nonexistent.txt' not found.\n"
     ]
    }
   ],
   "source": [
    "def read_file(filename):\n",
    "    try:\n",
    "        file = open(filename, \"r\")\n",
    "    except FileNotFoundError:\n",
    "        print(f\"Error: File '{filename}' not found.\")\n",
    "    else:\n",
    "        try:\n",
    "            content = file.read()\n",
    "            print(\"File content:\")\n",
    "            print(content)\n",
    "        finally:\n",
    "            file.close()\n",
    "            print(\"File closed.\")\n",
    "\n",
    "# Example 1: Reading an existing file\n",
    "read_file(\"sample.txt\")\n",
    "\n",
    "# Example 2: Reading a non-existent file\n",
    "read_file(\"nonexistent.txt\")\n"
   ]
  },
  {
   "cell_type": "markdown",
   "id": "d84a400c",
   "metadata": {},
   "source": [
    "# Custom Exception"
   ]
  },
  {
   "cell_type": "code",
   "execution_count": 10,
   "id": "c7519bec",
   "metadata": {},
   "outputs": [
    {
     "name": "stdout",
     "output_type": "stream",
     "text": [
      "Custom exception caught: This is a custom exception.\n"
     ]
    }
   ],
   "source": [
    "class CustomError(Exception):\n",
    "    pass\n",
    "\n",
    "try:\n",
    "    raise CustomError(\"This is a custom exception.\")\n",
    "except CustomError as e:\n",
    "    print(\"Custom exception caught:\", e)\n"
   ]
  },
  {
   "cell_type": "code",
   "execution_count": 11,
   "id": "810858b3",
   "metadata": {},
   "outputs": [
    {
     "name": "stdout",
     "output_type": "stream",
     "text": [
      "Enter your age: 55\n"
     ]
    }
   ],
   "source": [
    "# Custom Exception for Invalid Input\n",
    "class InvalidInputError(Exception):\n",
    "    def __init__(self, input_value):\n",
    "        self.input_value = input_value\n",
    "        super().__init__(f\"Invalid input: {input_value}\")\n",
    "\n",
    "try:\n",
    "    age = int(input(\"Enter your age: \"))\n",
    "    if age < 0:\n",
    "        raise InvalidInputError(age)\n",
    "except InvalidInputError as e:\n",
    "    print(e)\n"
   ]
  },
  {
   "cell_type": "code",
   "execution_count": 12,
   "id": "5d6c5092",
   "metadata": {},
   "outputs": [
    {
     "name": "stdout",
     "output_type": "stream",
     "text": [
      "Insufficient balance: Available 1000, Required 1500\n"
     ]
    }
   ],
   "source": [
    "# Custom Exception for Insufficient Balance\n",
    "class InsufficientBalanceError(Exception):\n",
    "    def __init__(self, balance, amount):\n",
    "        self.balance = balance\n",
    "        self.amount = amount\n",
    "        super().__init__(f\"Insufficient balance: Available {balance}, Required {amount}\")\n",
    "\n",
    "try:\n",
    "    balance = 1000\n",
    "    withdrawal_amount = 1500\n",
    "    if withdrawal_amount > balance:\n",
    "        raise InsufficientBalanceError(balance, withdrawal_amount)\n",
    "except InsufficientBalanceError as e:\n",
    "    print(e)\n"
   ]
  },
  {
   "cell_type": "code",
   "execution_count": 13,
   "id": "662dd122",
   "metadata": {},
   "outputs": [
    {
     "name": "stdout",
     "output_type": "stream",
     "text": [
      "Something went wrong\n",
      "Error code: 500\n"
     ]
    }
   ],
   "source": [
    "# Custom Exception with Additional Attributes\n",
    "class CustomError(Exception):\n",
    "    def __init__(self, message, code):\n",
    "        self.message = message\n",
    "        self.code = code\n",
    "        super().__init__(f\"Error code {code}: {message}\")\n",
    "\n",
    "try:\n",
    "    raise CustomError(\"Something went wrong\", 500)\n",
    "except CustomError as e:\n",
    "    print(e.message)\n",
    "    print(\"Error code:\", e.code)\n"
   ]
  },
  {
   "cell_type": "code",
   "execution_count": 14,
   "id": "dcc27be7",
   "metadata": {},
   "outputs": [
    {
     "name": "stdout",
     "output_type": "stream",
     "text": [
      "Enter your username: qwwqqq\n",
      "Enter your password: qwe\n",
      "Authentication failed for user: qwwqqq\n"
     ]
    }
   ],
   "source": [
    "# Custom Exception for User Authentication\n",
    "class AuthenticationError(Exception):\n",
    "    def __init__(self, username):\n",
    "        self.username = username\n",
    "        super().__init__(f\"Authentication failed for user: {username}\")\n",
    "\n",
    "try:\n",
    "    username = input(\"Enter your username: \")\n",
    "    password = input(\"Enter your password: \")\n",
    "    if password != \"secret\":\n",
    "        raise AuthenticationError(username)\n",
    "except AuthenticationError as e:\n",
    "    print(e)\n"
   ]
  },
  {
   "cell_type": "code",
   "execution_count": 15,
   "id": "cbcf0fc5",
   "metadata": {},
   "outputs": [
    {
     "name": "stdout",
     "output_type": "stream",
     "text": [
      "Enter an operation: 12\n",
      "Invalid operation: 12\n"
     ]
    }
   ],
   "source": [
    "# Custom Exception for Invalid Operation\n",
    "class InvalidOperationError(Exception):\n",
    "    def __init__(self, operation):\n",
    "        self.operation = operation\n",
    "        super().__init__(f\"Invalid operation: {operation}\")\n",
    "\n",
    "try:\n",
    "    operation = input(\"Enter an operation: \")\n",
    "    if operation not in [\"add\", \"subtract\", \"multiply\"]:\n",
    "        raise InvalidOperationError(operation)\n",
    "except InvalidOperationError as e:\n",
    "    print(e)\n"
   ]
  },
  {
   "cell_type": "code",
   "execution_count": null,
   "id": "43186ad0",
   "metadata": {},
   "outputs": [],
   "source": []
  }
 ],
 "metadata": {
  "kernelspec": {
   "display_name": "Python 3 (ipykernel)",
   "language": "python",
   "name": "python3"
  },
  "language_info": {
   "codemirror_mode": {
    "name": "ipython",
    "version": 3
   },
   "file_extension": ".py",
   "mimetype": "text/x-python",
   "name": "python",
   "nbconvert_exporter": "python",
   "pygments_lexer": "ipython3",
   "version": "3.10.5"
  }
 },
 "nbformat": 4,
 "nbformat_minor": 5
}
