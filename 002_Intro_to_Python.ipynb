{
 "cells": [
  {
   "cell_type": "markdown",
   "id": "c5b102ed",
   "metadata": {},
   "source": [
    "# Intro to Python"
   ]
  },
  {
   "cell_type": "code",
   "execution_count": 11,
   "id": "ca2ad995",
   "metadata": {},
   "outputs": [
    {
     "name": "stdout",
     "output_type": "stream",
     "text": [
      "Python is a versatile and beginner-friendly programming language known for its readability and concise syntax. It supports various programming paradigms, including procedural, object-oriented, and functional programming. Python's extensive standard library offers a wide range of pre-built modules and tools for diverse tasks. Its dynamic typing system and automatic memory management simplify coding, allowing developers to focus on solving problems rather than managing low-level details.\n",
      "\n",
      "Python's simplicity and expressiveness make it an ideal choice for web development, data analysis, artificial intelligence, scientific computing, and more. It's highly portable and runs on various platforms without modification. Python's interactive shell encourages experimentation and rapid development, aiding both newcomers and experienced programmers. Additionally, its thriving community and abundant online resources provide ample support, tutorials, and libraries for developers at all levels. Overall, Python's flexibility, readability, and comprehensive ecosystem make it an excellent language for various applications.\n"
     ]
    }
   ],
   "source": [
    "print('''Python is a versatile and beginner-friendly programming language known for its readability and concise syntax. It supports various programming paradigms, including procedural, object-oriented, and functional programming. Python's extensive standard library offers a wide range of pre-built modules and tools for diverse tasks. Its dynamic typing system and automatic memory management simplify coding, allowing developers to focus on solving problems rather than managing low-level details.\n",
    "\n",
    "Python's simplicity and expressiveness make it an ideal choice for web development, data analysis, artificial intelligence, scientific computing, and more. It's highly portable and runs on various platforms without modification. Python's interactive shell encourages experimentation and rapid development, aiding both newcomers and experienced programmers. Additionally, its thriving community and abundant online resources provide ample support, tutorials, and libraries for developers at all levels. Overall, Python's flexibility, readability, and comprehensive ecosystem make it an excellent language for various applications.''')"
   ]
  },
  {
   "cell_type": "markdown",
   "id": "dedeec24",
   "metadata": {},
   "source": [
    "# key features of Python:"
   ]
  },
  {
   "cell_type": "code",
   "execution_count": 13,
   "id": "2bcece3c",
   "metadata": {},
   "outputs": [
    {
     "name": "stdout",
     "output_type": "stream",
     "text": [
      "Python is a popular and powerful programming language that offers a wide range of features that contribute to its versatility and widespread adoption. Here are some key features of Python:\n",
      "\n",
      "1. **Readable and Expressive Syntax:**\n",
      "   Python's clear and concise syntax resembles natural language, making it easy to read and write. This readability enhances code maintenance and collaboration.\n",
      "\n",
      "2. **Dynamic Typing:**\n",
      "   Python uses dynamic typing, allowing variables to change types at runtime. This promotes flexibility and simplifies coding by removing the need to declare types explicitly.\n",
      "\n",
      "3. **Automatic Memory Management:**\n",
      "   Python's built-in memory management handles memory allocation and deallocation, relieving developers of memory-related concerns. This helps prevent memory leaks and makes code more reliable.\n",
      "\n",
      "4. **Large Standard Library:**\n",
      "   Python's extensive standard library provides ready-to-use modules and functions for various tasks, reducing the need to reinvent the wheel and accelerating development.\n",
      "\n",
      "5. **Diverse Programming Paradigms:**\n",
      "   Python supports multiple programming styles, including procedural, object-oriented, and functional programming, allowing developers to choose the best approach for their projects.\n",
      "\n",
      "6. **Cross-Platform Compatibility:**\n",
      "   Python code is highly portable, running on different platforms with minor modifications. This cross-platform compatibility makes deployment more accessible.\n",
      "\n",
      "7. **Interpreted Nature:**\n",
      "   Python is an interpreted language, allowing code to be executed line by line without the need for compilation. This speeds up development and encourages experimentation.\n",
      "\n",
      "8. **Interactive Shell (REPL):**\n",
      "   Python's Read-Eval-Print Loop (REPL) provides an interactive environment for testing code snippets, making it an excellent tool for learning and prototyping.\n",
      "\n",
      "9. **Open Source and Community-Driven:**\n",
      "   Python's open-source nature fosters an active and supportive community. This results in continuous improvement, numerous libraries, and a wealth of online resources.\n",
      "\n",
      "10. **Rich Ecosystem:**\n",
      "    Python boasts a vast ecosystem of third-party libraries and frameworks tailored for various domains, including web development, data analysis, machine learning, and more.\n",
      "\n",
      "11. **High-Level Built-in Data Types:**\n",
      "    Python offers versatile built-in data types like lists, dictionaries, tuples, and sets, simplifying complex data manipulation and manipulation tasks.\n",
      "\n",
      "12. **Exception Handling:**\n",
      "    Python's robust exception handling mechanism allows developers to handle errors gracefully, enhancing the reliability of programs.\n",
      "\n",
      "These features collectively make Python suitable for a wide range of applications, from web development and scientific computing to automation and machine learning. Its ease of use, powerful features, and strong community support contribute to its continued popularity and relevance in the programming landscape.\n"
     ]
    }
   ],
   "source": [
    "print('''Python is a popular and powerful programming language that offers a wide range of features that contribute to its versatility and widespread adoption. Here are some key features of Python:\n",
    "\n",
    "1. **Readable and Expressive Syntax:**\n",
    "   Python's clear and concise syntax resembles natural language, making it easy to read and write. This readability enhances code maintenance and collaboration.\n",
    "\n",
    "2. **Dynamic Typing:**\n",
    "   Python uses dynamic typing, allowing variables to change types at runtime. This promotes flexibility and simplifies coding by removing the need to declare types explicitly.\n",
    "\n",
    "3. **Automatic Memory Management:**\n",
    "   Python's built-in memory management handles memory allocation and deallocation, relieving developers of memory-related concerns. This helps prevent memory leaks and makes code more reliable.\n",
    "\n",
    "4. **Large Standard Library:**\n",
    "   Python's extensive standard library provides ready-to-use modules and functions for various tasks, reducing the need to reinvent the wheel and accelerating development.\n",
    "\n",
    "5. **Diverse Programming Paradigms:**\n",
    "   Python supports multiple programming styles, including procedural, object-oriented, and functional programming, allowing developers to choose the best approach for their projects.\n",
    "\n",
    "6. **Cross-Platform Compatibility:**\n",
    "   Python code is highly portable, running on different platforms with minor modifications. This cross-platform compatibility makes deployment more accessible.\n",
    "\n",
    "7. **Interpreted Nature:**\n",
    "   Python is an interpreted language, allowing code to be executed line by line without the need for compilation. This speeds up development and encourages experimentation.\n",
    "\n",
    "8. **Interactive Shell (REPL):**\n",
    "   Python's Read-Eval-Print Loop (REPL) provides an interactive environment for testing code snippets, making it an excellent tool for learning and prototyping.\n",
    "\n",
    "9. **Open Source and Community-Driven:**\n",
    "   Python's open-source nature fosters an active and supportive community. This results in continuous improvement, numerous libraries, and a wealth of online resources.\n",
    "\n",
    "10. **Rich Ecosystem:**\n",
    "    Python boasts a vast ecosystem of third-party libraries and frameworks tailored for various domains, including web development, data analysis, machine learning, and more.\n",
    "\n",
    "11. **High-Level Built-in Data Types:**\n",
    "    Python offers versatile built-in data types like lists, dictionaries, tuples, and sets, simplifying complex data manipulation and manipulation tasks.\n",
    "\n",
    "12. **Exception Handling:**\n",
    "    Python's robust exception handling mechanism allows developers to handle errors gracefully, enhancing the reliability of programs.\n",
    "\n",
    "These features collectively make Python suitable for a wide range of applications, from web development and scientific computing to automation and machine learning. Its ease of use, powerful features, and strong community support contribute to its continued popularity and relevance in the programming landscape.''')"
   ]
  },
  {
   "cell_type": "markdown",
   "id": "e3ca1d3a",
   "metadata": {},
   "source": [
    "# main areas where Python is commonly used:"
   ]
  },
  {
   "cell_type": "code",
   "execution_count": 14,
   "id": "1afe2c12",
   "metadata": {},
   "outputs": [
    {
     "name": "stdout",
     "output_type": "stream",
     "text": [
      "Python is a versatile programming language used for a wide range of applications due to its simplicity, readability, and powerful ecosystem of libraries and frameworks. Here are some of the main areas where Python is commonly used:\n",
      "\n",
      "1. **Web Development:**\n",
      "   Python is widely used for building web applications and websites. Frameworks like Django and Flask provide tools for creating dynamic, data-driven web applications.\n",
      "\n",
      "2. **Data Science and Analysis:**\n",
      "   Python's rich data science libraries, including NumPy, pandas, and matplotlib, make it a popular choice for data manipulation, analysis, and visualization.\n",
      "\n",
      "3. **Machine Learning and AI:**\n",
      "   Python's libraries, such as TensorFlow, PyTorch, and scikit-learn, are essential for machine learning, artificial intelligence, and deep learning projects.\n",
      "\n",
      "4. **Scientific Computing:**\n",
      "   Python's capabilities for scientific computation, coupled with libraries like SciPy, allow researchers to perform complex calculations and simulations.\n",
      "\n",
      "5. **Automation and Scripting:**\n",
      "   Python's ease of use and cross-platform compatibility make it a preferred language for writing scripts and automating tasks, from simple file operations to complex workflows.\n",
      "\n",
      "6. **Game Development:**\n",
      "   Python, with libraries like Pygame, is used for creating 2D games and prototypes due to its quick development cycle and ease of experimentation.\n",
      "\n",
      "7. **Desktop Applications:**\n",
      "   Python, along with frameworks like Tkinter and PyQt, is employed for developing desktop applications with graphical user interfaces.\n",
      "\n",
      "8. **Internet of Things (IoT):**\n",
      "   Python's lightweight nature and libraries like MicroPython make it suitable for programming embedded systems and IoT devices.\n",
      "\n",
      "9. **Web Scraping:**\n",
      "   Python's libraries like Beautiful Soup and Scrapy facilitate web scraping, allowing developers to extract data from websites.\n",
      "\n",
      "10. **Networking and Cybersecurity:**\n",
      "    Python is used for network programming, building network tools, and penetration testing due to its socket programming support and extensive libraries.\n",
      "\n",
      "11. **Education:**\n",
      "    Python's simplicity and readability make it a great language for teaching programming concepts to beginners.\n",
      "\n",
      "12. **Scripting for Software:**\n",
      "    Python is often used to extend and customize software applications through scripting interfaces.\n",
      "\n",
      "Python's adaptability, extensive library support, and strong community contribute to its popularity across diverse industries and use cases. Its role in emerging fields like AI, data science, and automation ensures its continued relevance in the tech world.\n"
     ]
    }
   ],
   "source": [
    "print('''Python is a versatile programming language used for a wide range of applications due to its simplicity, readability, and powerful ecosystem of libraries and frameworks. Here are some of the main areas where Python is commonly used:\n",
    "\n",
    "1. **Web Development:**\n",
    "   Python is widely used for building web applications and websites. Frameworks like Django and Flask provide tools for creating dynamic, data-driven web applications.\n",
    "\n",
    "2. **Data Science and Analysis:**\n",
    "   Python's rich data science libraries, including NumPy, pandas, and matplotlib, make it a popular choice for data manipulation, analysis, and visualization.\n",
    "\n",
    "3. **Machine Learning and AI:**\n",
    "   Python's libraries, such as TensorFlow, PyTorch, and scikit-learn, are essential for machine learning, artificial intelligence, and deep learning projects.\n",
    "\n",
    "4. **Scientific Computing:**\n",
    "   Python's capabilities for scientific computation, coupled with libraries like SciPy, allow researchers to perform complex calculations and simulations.\n",
    "\n",
    "5. **Automation and Scripting:**\n",
    "   Python's ease of use and cross-platform compatibility make it a preferred language for writing scripts and automating tasks, from simple file operations to complex workflows.\n",
    "\n",
    "6. **Game Development:**\n",
    "   Python, with libraries like Pygame, is used for creating 2D games and prototypes due to its quick development cycle and ease of experimentation.\n",
    "\n",
    "7. **Desktop Applications:**\n",
    "   Python, along with frameworks like Tkinter and PyQt, is employed for developing desktop applications with graphical user interfaces.\n",
    "\n",
    "8. **Internet of Things (IoT):**\n",
    "   Python's lightweight nature and libraries like MicroPython make it suitable for programming embedded systems and IoT devices.\n",
    "\n",
    "9. **Web Scraping:**\n",
    "   Python's libraries like Beautiful Soup and Scrapy facilitate web scraping, allowing developers to extract data from websites.\n",
    "\n",
    "10. **Networking and Cybersecurity:**\n",
    "    Python is used for network programming, building network tools, and penetration testing due to its socket programming support and extensive libraries.\n",
    "\n",
    "11. **Education:**\n",
    "    Python's simplicity and readability make it a great language for teaching programming concepts to beginners.\n",
    "\n",
    "12. **Scripting for Software:**\n",
    "    Python is often used to extend and customize software applications through scripting interfaces.\n",
    "\n",
    "Python's adaptability, extensive library support, and strong community contribute to its popularity across diverse industries and use cases. Its role in emerging fields like AI, data science, and automation ensures its continued relevance in the tech world.''')"
   ]
  },
  {
   "cell_type": "code",
   "execution_count": null,
   "id": "7aad4de6",
   "metadata": {},
   "outputs": [],
   "source": []
  },
  {
   "cell_type": "markdown",
   "id": "3a51d455",
   "metadata": {},
   "source": [
    "# where to write the code"
   ]
  },
  {
   "cell_type": "code",
   "execution_count": null,
   "id": "9299cd94",
   "metadata": {},
   "outputs": [],
   "source": []
  },
  {
   "cell_type": "code",
   "execution_count": 15,
   "id": "53b81404",
   "metadata": {},
   "outputs": [
    {
     "name": "stdout",
     "output_type": "stream",
     "text": [
      "There are several online platforms and environments where you can write and run Python code without needing to install anything on your local machine. These platforms are especially useful for quick testing, learning, and collaborative coding. Here are a few popular online options:\n",
      "\n",
      "1. **Google Colab:**\n",
      "   Google Colab provides a free Jupyter Notebook environment that runs in the cloud. It's ideal for data science and machine learning tasks, as it offers GPU support and easy integration with Google Drive.\n",
      "\n",
      "   Website: [Google Colab](https://colab.research.google.com/)\n",
      "\n",
      "2. **Repl.it:**\n",
      "   Repl.it is an online development environment that supports multiple programming languages, including Python. It's simple to use and allows you to create and share your code easily.\n",
      "\n",
      "   Website: [Repl.it](https://replit.com/)\n",
      "\n",
      "3. **Jupyter Notebook (JupyterLab):**\n",
      "   Jupyter Notebook is a popular interactive computing environment for data analysis, scientific computing, and more. JupyterLab is a more advanced version of Jupyter Notebook with a modern interface.\n",
      "\n",
      "   Website: [Jupyter Notebook](https://jupyter.org/) | [JupyterLab](https://jupyterlab.readthedocs.io/en/stable/)\n",
      "\n",
      "4. **PythonAnywhere:**\n",
      "   PythonAnywhere is a platform that allows you to write, run, and host Python code in the cloud. It's suitable for web development, data science, and more.\n",
      "\n",
      "   Website: [PythonAnywhere](https://www.pythonanywhere.com/)\n",
      "\n",
      "5. **Online Code Editors:**\n",
      "   There are various online code editors like CodePen, JSFiddle, and others that support multiple languages, including Python. They're usually more focused on web development and front-end technologies.\n",
      "\n",
      "   Websites: [CodePen](https://codepen.io/) | [JSFiddle](https://jsfiddle.net/)\n",
      "\n",
      "6. **IDEs with Cloud Options:**\n",
      "   Some integrated development environments (IDEs) offer cloud-based versions. For example, Visual Studio Code (VSCode) has a web-based variant called \"VSCode Online.\"\n",
      "\n",
      "   Website: [Visual Studio Code Online](https://visualstudio.microsoft.com/services/visual-studio-online/)\n",
      "\n",
      "Remember that while these platforms are great for quick testing and learning, for more serious projects or development work, it's often recommended to set up a local development environment on your computer. This allows you to have more control over your environment and dependencies.\n"
     ]
    }
   ],
   "source": [
    "print('''There are several online platforms and environments where you can write and run Python code without needing to install anything on your local machine. These platforms are especially useful for quick testing, learning, and collaborative coding. Here are a few popular online options:\n",
    "\n",
    "1. **Google Colab:**\n",
    "   Google Colab provides a free Jupyter Notebook environment that runs in the cloud. It's ideal for data science and machine learning tasks, as it offers GPU support and easy integration with Google Drive.\n",
    "\n",
    "   Website: [Google Colab](https://colab.research.google.com/)\n",
    "\n",
    "2. **Repl.it:**\n",
    "   Repl.it is an online development environment that supports multiple programming languages, including Python. It's simple to use and allows you to create and share your code easily.\n",
    "\n",
    "   Website: [Repl.it](https://replit.com/)\n",
    "\n",
    "3. **Jupyter Notebook (JupyterLab):**\n",
    "   Jupyter Notebook is a popular interactive computing environment for data analysis, scientific computing, and more. JupyterLab is a more advanced version of Jupyter Notebook with a modern interface.\n",
    "\n",
    "   Website: [Jupyter Notebook](https://jupyter.org/) | [JupyterLab](https://jupyterlab.readthedocs.io/en/stable/)\n",
    "\n",
    "4. **PythonAnywhere:**\n",
    "   PythonAnywhere is a platform that allows you to write, run, and host Python code in the cloud. It's suitable for web development, data science, and more.\n",
    "\n",
    "   Website: [PythonAnywhere](https://www.pythonanywhere.com/)\n",
    "\n",
    "5. **Online Code Editors:**\n",
    "   There are various online code editors like CodePen, JSFiddle, and others that support multiple languages, including Python. They're usually more focused on web development and front-end technologies.\n",
    "\n",
    "   Websites: [CodePen](https://codepen.io/) | [JSFiddle](https://jsfiddle.net/)\n",
    "\n",
    "6. **IDEs with Cloud Options:**\n",
    "   Some integrated development environments (IDEs) offer cloud-based versions. For example, Visual Studio Code (VSCode) has a web-based variant called \"VSCode Online.\"\n",
    "\n",
    "   Website: [Visual Studio Code Online](https://visualstudio.microsoft.com/services/visual-studio-online/)\n",
    "\n",
    "Remember that while these platforms are great for quick testing and learning, for more serious projects or development work, it's often recommended to set up a local development environment on your computer. This allows you to have more control over your environment and dependencies.''')"
   ]
  },
  {
   "cell_type": "code",
   "execution_count": null,
   "id": "3fac1a72",
   "metadata": {},
   "outputs": [],
   "source": []
  },
  {
   "cell_type": "code",
   "execution_count": 16,
   "id": "52f4526b",
   "metadata": {},
   "outputs": [
    {
     "name": "stdout",
     "output_type": "stream",
     "text": [
      "To write and run Python code offline, you need to set up a local development environment on your computer. Here's how you can do it:\n",
      "\n",
      "1. **Install Python:**\n",
      "   First, you need to install Python on your computer. You can download the Python installer for your operating system from the official Python website: [Python Downloads](https://www.python.org/downloads/)\n",
      "\n",
      "2. **Choose a Text Editor or Integrated Development Environment (IDE):**\n",
      "   You can write Python code in any text editor, but using a dedicated Python IDE can provide you with features like code autocompletion, debugging, and project management. Here are some popular options:\n",
      "\n",
      "   - **Visual Studio Code (VSCode):** A versatile and widely used code editor with strong Python support. You can install the Python extension to enhance your Python development experience.\n",
      "     Website: [VSCode](https://code.visualstudio.com/)\n",
      "\n",
      "   - **PyCharm:** A professional IDE developed specifically for Python. It offers various editions, including a free community edition.\n",
      "     Website: [PyCharm](https://www.jetbrains.com/pycharm/)\n",
      "\n",
      "   - **Atom:** A customizable text editor with a rich ecosystem of plugins that can be tailored for Python development.\n",
      "     Website: [Atom](https://atom.io/)\n",
      "\n",
      "   - **Sublime Text:** A lightweight and fast text editor that's popular among developers.\n",
      "     Website: [Sublime Text](https://www.sublimetext.com/)\n",
      "\n",
      "3. **Write and Run Python Code:**\n",
      "   Once you've installed Python and chosen your text editor or IDE, you can create Python files with a `.py` extension. Write your code in these files and save them.\n",
      "\n",
      "4. **Run Python Scripts:**\n",
      "   To run your Python scripts, open your computer's command-line interface (Terminal on macOS/Linux, Command Prompt on Windows), navigate to the directory containing your Python file, and use the command `python filename.py` to execute the script.\n",
      "\n",
      "Remember to keep your Python environment up to date and install any additional packages or libraries you might need for your projects using tools like `pip`, the Python package manager.\n",
      "\n",
      "Setting up a local development environment gives you more control over your coding environment and is essential for more extensive projects, debugging, and practicing your coding skills offline.\n"
     ]
    }
   ],
   "source": [
    "print('''To write and run Python code offline, you need to set up a local development environment on your computer. Here's how you can do it:\n",
    "\n",
    "1. **Install Python:**\n",
    "   First, you need to install Python on your computer. You can download the Python installer for your operating system from the official Python website: [Python Downloads](https://www.python.org/downloads/)\n",
    "\n",
    "2. **Choose a Text Editor or Integrated Development Environment (IDE):**\n",
    "   You can write Python code in any text editor, but using a dedicated Python IDE can provide you with features like code autocompletion, debugging, and project management. Here are some popular options:\n",
    "\n",
    "   - **Visual Studio Code (VSCode):** A versatile and widely used code editor with strong Python support. You can install the Python extension to enhance your Python development experience.\n",
    "     Website: [VSCode](https://code.visualstudio.com/)\n",
    "\n",
    "   - **PyCharm:** A professional IDE developed specifically for Python. It offers various editions, including a free community edition.\n",
    "     Website: [PyCharm](https://www.jetbrains.com/pycharm/)\n",
    "\n",
    "   - **Atom:** A customizable text editor with a rich ecosystem of plugins that can be tailored for Python development.\n",
    "     Website: [Atom](https://atom.io/)\n",
    "\n",
    "   - **Sublime Text:** A lightweight and fast text editor that's popular among developers.\n",
    "     Website: [Sublime Text](https://www.sublimetext.com/)\n",
    "\n",
    "3. **Write and Run Python Code:**\n",
    "   Once you've installed Python and chosen your text editor or IDE, you can create Python files with a `.py` extension. Write your code in these files and save them.\n",
    "\n",
    "4. **Run Python Scripts:**\n",
    "   To run your Python scripts, open your computer's command-line interface (Terminal on macOS/Linux, Command Prompt on Windows), navigate to the directory containing your Python file, and use the command `python filename.py` to execute the script.\n",
    "\n",
    "Remember to keep your Python environment up to date and install any additional packages or libraries you might need for your projects using tools like `pip`, the Python package manager.\n",
    "\n",
    "Setting up a local development environment gives you more control over your coding environment and is essential for more extensive projects, debugging, and practicing your coding skills offline.''')"
   ]
  },
  {
   "cell_type": "markdown",
   "id": "d544ba40",
   "metadata": {},
   "source": [
    "# popular Python distributions:"
   ]
  },
  {
   "cell_type": "code",
   "execution_count": 18,
   "id": "54e83e27",
   "metadata": {},
   "outputs": [
    {
     "name": "stdout",
     "output_type": "stream",
     "text": [
      "Python distributions are pre-packaged bundles that include the Python interpreter, standard library, and often additional tools and libraries. They make it easier to set up and manage your Python environment, especially when working on different types of projects. Here are some popular Python distributions:\n",
      "\n",
      "1. **CPython:**\n",
      "   CPython is the official implementation of the Python programming language. It's the reference interpreter and the one you download from the official Python website. CPython is written in C and is known for its performance and wide compatibility with libraries.\n",
      "\n",
      "2. **Anaconda:**\n",
      "   Anaconda is a widely used distribution for data science and scientific computing. It includes popular data science libraries like NumPy, pandas, Matplotlib, and Jupyter, as well as tools for managing environments using conda.\n",
      "\n",
      "3. **Miniconda:**\n",
      "   Miniconda is a minimal version of Anaconda that only includes conda and its dependencies. It's a lightweight option if you want to manage your environment and install packages on demand.\n",
      "\n",
      "4. **PyCharm Professional:**\n",
      "   PyCharm Professional, a popular Python IDE, comes with its own Python distribution that's optimized for the IDE. It includes scientific libraries and tools for web development.\n",
      "\n",
      "5. **Enthought Canopy:**\n",
      "   Enthought Canopy is aimed at scientific and analytic computing. It provides a comprehensive set of tools for data analysis, visualization, and package management.\n",
      "\n",
      "6. **Python(x,y):**\n",
      "   Python(x,y) is a distribution that targets scientific and engineering tasks. It comes with a variety of libraries and tools for data analysis, plotting, and numerical computing.\n",
      "\n",
      "7. **WinPython:**\n",
      "   WinPython is a portable distribution designed for Windows. It allows you to carry your Python environment on a USB drive and use it on different machines.\n",
      "\n",
      "8. **ActivePython:**\n",
      "   ActivePython is a distribution tailored for enterprise use. It offers commercial support and additional libraries for enhanced productivity.\n",
      "\n",
      "9. **Stackless Python:**\n",
      "   Stackless Python is an enhanced version of CPython that focuses on concurrency and task scheduling. It's designed for projects that require massive parallelism.\n",
      "\n",
      "10. **IronPython:**\n",
      "    IronPython is an implementation of Python for the .NET Framework. It allows you to integrate Python and .NET languages seamlessly.\n",
      "\n",
      "When choosing a Python distribution, consider the type of projects you'll be working on, the libraries you need, and any specific requirements. For general-purpose development, CPython is usually sufficient. For data science and scientific computing, Anaconda is a popular choice. It's also possible to use virtual environments with the standard Python distribution to isolate project dependencies.\n"
     ]
    }
   ],
   "source": [
    "print('''Python distributions are pre-packaged bundles that include the Python interpreter, standard library, and often additional tools and libraries. They make it easier to set up and manage your Python environment, especially when working on different types of projects. Here are some popular Python distributions:\n",
    "\n",
    "1. **CPython:**\n",
    "   CPython is the official implementation of the Python programming language. It's the reference interpreter and the one you download from the official Python website. CPython is written in C and is known for its performance and wide compatibility with libraries.\n",
    "\n",
    "2. **Anaconda:**\n",
    "   Anaconda is a widely used distribution for data science and scientific computing. It includes popular data science libraries like NumPy, pandas, Matplotlib, and Jupyter, as well as tools for managing environments using conda.\n",
    "\n",
    "3. **Miniconda:**\n",
    "   Miniconda is a minimal version of Anaconda that only includes conda and its dependencies. It's a lightweight option if you want to manage your environment and install packages on demand.\n",
    "\n",
    "4. **PyCharm Professional:**\n",
    "   PyCharm Professional, a popular Python IDE, comes with its own Python distribution that's optimized for the IDE. It includes scientific libraries and tools for web development.\n",
    "\n",
    "5. **Enthought Canopy:**\n",
    "   Enthought Canopy is aimed at scientific and analytic computing. It provides a comprehensive set of tools for data analysis, visualization, and package management.\n",
    "\n",
    "6. **Python(x,y):**\n",
    "   Python(x,y) is a distribution that targets scientific and engineering tasks. It comes with a variety of libraries and tools for data analysis, plotting, and numerical computing.\n",
    "\n",
    "7. **WinPython:**\n",
    "   WinPython is a portable distribution designed for Windows. It allows you to carry your Python environment on a USB drive and use it on different machines.\n",
    "\n",
    "8. **ActivePython:**\n",
    "   ActivePython is a distribution tailored for enterprise use. It offers commercial support and additional libraries for enhanced productivity.\n",
    "\n",
    "9. **Stackless Python:**\n",
    "   Stackless Python is an enhanced version of CPython that focuses on concurrency and task scheduling. It's designed for projects that require massive parallelism.\n",
    "\n",
    "10. **IronPython:**\n",
    "    IronPython is an implementation of Python for the .NET Framework. It allows you to integrate Python and .NET languages seamlessly.\n",
    "\n",
    "When choosing a Python distribution, consider the type of projects you'll be working on, the libraries you need, and any specific requirements. For general-purpose development, CPython is usually sufficient. For data science and scientific computing, Anaconda is a popular choice. It's also possible to use virtual environments with the standard Python distribution to isolate project dependencies.''')"
   ]
  },
  {
   "cell_type": "code",
   "execution_count": null,
   "id": "d389bfe2",
   "metadata": {},
   "outputs": [],
   "source": []
  },
  {
   "cell_type": "code",
   "execution_count": null,
   "id": "b35c7faf",
   "metadata": {},
   "outputs": [],
   "source": []
  },
  {
   "cell_type": "code",
   "execution_count": null,
   "id": "5bd1aa5e",
   "metadata": {},
   "outputs": [],
   "source": [
    "# online\n",
    "#     https://onecompiler.com/python/\n",
    "\n",
    "# offline\n",
    "#     Jupyter Notebook\n"
   ]
  },
  {
   "cell_type": "markdown",
   "id": "821a4e56",
   "metadata": {},
   "source": [
    "# My First Python Code"
   ]
  },
  {
   "cell_type": "code",
   "execution_count": 10,
   "id": "27a0582d",
   "metadata": {},
   "outputs": [
    {
     "name": "stdout",
     "output_type": "stream",
     "text": [
      "Hello World\n"
     ]
    }
   ],
   "source": [
    "print('Hello World')"
   ]
  },
  {
   "cell_type": "markdown",
   "id": "461c705e",
   "metadata": {},
   "source": [
    "# print function contd..."
   ]
  },
  {
   "cell_type": "code",
   "execution_count": 7,
   "id": "a625926b",
   "metadata": {},
   "outputs": [],
   "source": [
    "#  as a calculator"
   ]
  },
  {
   "cell_type": "code",
   "execution_count": 6,
   "id": "5b3c2d8d",
   "metadata": {},
   "outputs": [
    {
     "name": "stdout",
     "output_type": "stream",
     "text": [
      "200\n",
      "0\n",
      "1.0\n",
      "10000\n",
      "0\n",
      "1\n",
      "5\n"
     ]
    }
   ],
   "source": [
    "print(100+100)\n",
    "print(100-100)\n",
    "print(100/100)\n",
    "print(100*100)\n",
    "print(100%100)\n",
    "print(101%100)\n",
    "print(105%100)"
   ]
  },
  {
   "cell_type": "code",
   "execution_count": 9,
   "id": "b04b7ac5",
   "metadata": {},
   "outputs": [
    {
     "name": "stdout",
     "output_type": "stream",
     "text": [
      "100\n",
      "100\n",
      "100\n"
     ]
    }
   ],
   "source": [
    "# assigning values to variables\n",
    "\n",
    "x = 100\n",
    "y = 100\n",
    "z = 100\n",
    "x ,y ,z = 100 , 100 ,100\n",
    "\n",
    "print(x)\n",
    "print(y)\n",
    "print(z)"
   ]
  },
  {
   "cell_type": "code",
   "execution_count": null,
   "id": "b18da662",
   "metadata": {},
   "outputs": [],
   "source": []
  },
  {
   "cell_type": "code",
   "execution_count": null,
   "id": "dc17f41b",
   "metadata": {},
   "outputs": [],
   "source": []
  },
  {
   "cell_type": "code",
   "execution_count": null,
   "id": "f8bf5ef0",
   "metadata": {},
   "outputs": [],
   "source": []
  },
  {
   "cell_type": "code",
   "execution_count": null,
   "id": "c566e491",
   "metadata": {},
   "outputs": [],
   "source": []
  },
  {
   "cell_type": "code",
   "execution_count": null,
   "id": "47ad4cd6",
   "metadata": {},
   "outputs": [],
   "source": []
  },
  {
   "cell_type": "markdown",
   "id": "6d2fb2a6",
   "metadata": {},
   "source": [
    "# Rules for naming variables"
   ]
  },
  {
   "cell_type": "code",
   "execution_count": 19,
   "id": "48750bdf",
   "metadata": {},
   "outputs": [
    {
     "name": "stdout",
     "output_type": "stream",
     "text": [
      "In Python, variable names are identifiers that you use to store and refer to data in your code. Variable names must adhere to certain rules and conventions to ensure clarity, readability, and compatibility with the language. Here are the rules for naming variables in Python:\n",
      "\n",
      "1. **Validity and Characters:**\n",
      "   - Variable names can consist of letters (a-z, A-Z), digits (0-9), and underscores (_).\n",
      "   - Variable names must start with a letter (a-z, A-Z) or an underscore (_).\n",
      "   - Variable names cannot start with a digit (0-9).\n",
      "   - Variable names can include both uppercase and lowercase letters, but Python is case-sensitive, so `myVariable` and `myvariable` are considered different.\n",
      "\n",
      "2. **Length:**\n",
      "   - Variable names can be of any length.\n",
      "   - Descriptive names are preferred, but excessively long names might harm readability.\n",
      "\n",
      "3. **Reserved Keywords:**\n",
      "   - Avoid using Python's reserved keywords as variable names. These are words that Python has reserved for special purposes, such as `if`, `else`, `while`, `for`, `def`, `class`, and many more.\n",
      "\n",
      "4. **Meaningful Names:**\n",
      "   - Choose variable names that are meaningful and descriptive of their purpose. This improves code readability.\n",
      "   - Use underscores to separate words in variable names (e.g., `my_variable`, `user_name`) for better readability.\n",
      "\n",
      "5. **No Spaces or Special Characters:**\n",
      "   - Variable names cannot contain spaces or special characters (except underscores).\n",
      "   - Avoid using symbols like !, @, #, $, %, etc. in variable names.\n",
      "\n",
      "6. **Style Conventions:**\n",
      "   - Follow Python's naming conventions for better code consistency:\n",
      "     - Use lowercase letters for variable names (e.g., `my_variable`).\n",
      "     - Use uppercase letters for constants (e.g., `PI = 3.14159`).\n",
      "     - Use CamelCase for class names (e.g., `MyClass`).\n",
      "\n",
      "7. **Avoid Single Underscore Prefix:**\n",
      "   - A variable name starting with a single underscore (_) is a weak \"internal use\" indicator, but it's not enforced by the interpreter. It's more of a convention to suggest that the variable is intended for internal use.\n",
      "\n",
      "8. **Double Underscore Prefix and Suffix:**\n",
      "   - Names surrounded by double underscores (e.g., `__my_variable__`) are used for special methods or attributes defined by Python itself, and you should generally avoid using this naming pattern.\n",
      "\n",
      "Remember that choosing meaningful and clear variable names makes your code easier to understand and maintain. Adhering to these variable naming rules enhances code readability and follows Python's conventions, leading to more consistent and effective programming practices.\n"
     ]
    }
   ],
   "source": [
    "print('''In Python, variable names are identifiers that you use to store and refer to data in your code. Variable names must adhere to certain rules and conventions to ensure clarity, readability, and compatibility with the language. Here are the rules for naming variables in Python:\n",
    "\n",
    "1. **Validity and Characters:**\n",
    "   - Variable names can consist of letters (a-z, A-Z), digits (0-9), and underscores (_).\n",
    "   - Variable names must start with a letter (a-z, A-Z) or an underscore (_).\n",
    "   - Variable names cannot start with a digit (0-9).\n",
    "   - Variable names can include both uppercase and lowercase letters, but Python is case-sensitive, so `myVariable` and `myvariable` are considered different.\n",
    "\n",
    "2. **Length:**\n",
    "   - Variable names can be of any length.\n",
    "   - Descriptive names are preferred, but excessively long names might harm readability.\n",
    "\n",
    "3. **Reserved Keywords:**\n",
    "   - Avoid using Python's reserved keywords as variable names. These are words that Python has reserved for special purposes, such as `if`, `else`, `while`, `for`, `def`, `class`, and many more.\n",
    "\n",
    "4. **Meaningful Names:**\n",
    "   - Choose variable names that are meaningful and descriptive of their purpose. This improves code readability.\n",
    "   - Use underscores to separate words in variable names (e.g., `my_variable`, `user_name`) for better readability.\n",
    "\n",
    "5. **No Spaces or Special Characters:**\n",
    "   - Variable names cannot contain spaces or special characters (except underscores).\n",
    "   - Avoid using symbols like !, @, #, $, %, etc. in variable names.\n",
    "\n",
    "6. **Style Conventions:**\n",
    "   - Follow Python's naming conventions for better code consistency:\n",
    "     - Use lowercase letters for variable names (e.g., `my_variable`).\n",
    "     - Use uppercase letters for constants (e.g., `PI = 3.14159`).\n",
    "     - Use CamelCase for class names (e.g., `MyClass`).\n",
    "\n",
    "7. **Avoid Single Underscore Prefix:**\n",
    "   - A variable name starting with a single underscore (_) is a weak \"internal use\" indicator, but it's not enforced by the interpreter. It's more of a convention to suggest that the variable is intended for internal use.\n",
    "\n",
    "8. **Double Underscore Prefix and Suffix:**\n",
    "   - Names surrounded by double underscores (e.g., `__my_variable__`) are used for special methods or attributes defined by Python itself, and you should generally avoid using this naming pattern.\n",
    "\n",
    "Remember that choosing meaningful and clear variable names makes your code easier to understand and maintain. Adhering to these variable naming rules enhances code readability and follows Python's conventions, leading to more consistent and effective programming practices.''')"
   ]
  },
  {
   "cell_type": "code",
   "execution_count": 2,
   "id": "67b62534",
   "metadata": {},
   "outputs": [],
   "source": [
    "# allowed variables in Python\n",
    "\n",
    "i_am = 100\n",
    "iam_ = 100\n",
    "_i_am = 100\n",
    "_iam_ = 100"
   ]
  },
  {
   "cell_type": "code",
   "execution_count": 3,
   "id": "c3449377",
   "metadata": {},
   "outputs": [
    {
     "data": {
      "text/plain": [
       "'\\n@123 = 100\\n#123 = 100\\n$123$123 = 100\\n\\n'"
      ]
     },
     "execution_count": 3,
     "metadata": {},
     "output_type": "execute_result"
    }
   ],
   "source": [
    "\n",
    "# not allowed variables in Python\n",
    "'''\n",
    "@123 = 100\n",
    "#123 = 100\n",
    "$123$123 = 100\n",
    "\n",
    "'''"
   ]
  },
  {
   "cell_type": "code",
   "execution_count": 4,
   "id": "50c24d74",
   "metadata": {},
   "outputs": [],
   "source": [
    "# allowed but not recommended\n",
    "# dunder  = double underscore\n",
    "# they are reserved for future use\n",
    "\n",
    "__iam__ = 100\n",
    "__shafik__ = 100\n"
   ]
  },
  {
   "cell_type": "code",
   "execution_count": 5,
   "id": "ff4b672a",
   "metadata": {},
   "outputs": [
    {
     "name": "stdout",
     "output_type": "stream",
     "text": [
      "100\n",
      "500\n"
     ]
    }
   ],
   "source": [
    "# place holder\n",
    "# mostly used in unpacking a tuple\n",
    "\n",
    "\n",
    "_  = 100\n",
    "print(_)\n",
    "_ = 500\n",
    "print(_)"
   ]
  }
 ],
 "metadata": {
  "kernelspec": {
   "display_name": "Python 3 (ipykernel)",
   "language": "python",
   "name": "python3"
  },
  "language_info": {
   "codemirror_mode": {
    "name": "ipython",
    "version": 3
   },
   "file_extension": ".py",
   "mimetype": "text/x-python",
   "name": "python",
   "nbconvert_exporter": "python",
   "pygments_lexer": "ipython3",
   "version": "3.10.5"
  }
 },
 "nbformat": 4,
 "nbformat_minor": 5
}
