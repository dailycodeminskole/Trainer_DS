{
 "cells": [
  {
   "cell_type": "code",
   "execution_count": 7,
   "id": "2fced9aa",
   "metadata": {},
   "outputs": [],
   "source": [
    "class Account:\n",
    "    counter=0\n",
    "    def _init_(self,opening_bal=0):\n",
    "        Account.counter=Account.counter+1\n",
    "        self.id=Account.counter\n",
    "        self.bal=opening_bal\n",
    "        self.num_transactions=0\n",
    "        self.max_transactions=6\n",
    "        \n",
    "    def deposit(self,amount):\n",
    "        if amount>0 and self.num_transactions<self.max_transactions:\n",
    "            self.bal=self.bal+amount\n",
    "            self.num_transactions=self.num_transactions+1\n",
    "    def withdraw(self,amount):\n",
    "        if amount>0 and self.bal>=amount and self.num_transactions<self.max_transactions:\n",
    "            self.bal=self.bal-amount\n",
    "            self.num_transactions=self.num_transactions+1\n",
    "    def _str_(self):\n",
    "        return \"AC number is : {} and Balance is Rs. {} and no of TX is : {}\".format(self.id,self.bal,self.num_transactions)\n",
    "class SavingAccount(Account):\n",
    "    pass\n",
    "class CurrentAccount(Account):\n",
    "    def __init(self):\n",
    "        super()._init_()\n",
    "        self.max_transactions=2\n",
    "  \n",
    "Ca5=CurrentAccount()"
   ]
  },
  {
   "cell_type": "code",
   "execution_count": 6,
   "id": "082136bc",
   "metadata": {},
   "outputs": [
    {
     "ename": "AttributeError",
     "evalue": "'CurrentAccount' object has no attribute 'num_transactions'",
     "output_type": "error",
     "traceback": [
      "\u001b[1;31m---------------------------------------------------------------------------\u001b[0m",
      "\u001b[1;31mAttributeError\u001b[0m                            Traceback (most recent call last)",
      "Input \u001b[1;32mIn [6]\u001b[0m, in \u001b[0;36m<cell line: 1>\u001b[1;34m()\u001b[0m\n\u001b[1;32m----> 1\u001b[0m \u001b[43mCa5\u001b[49m\u001b[38;5;241;43m.\u001b[39;49m\u001b[43mdeposit\u001b[49m\u001b[43m(\u001b[49m\u001b[38;5;241;43m500\u001b[39;49m\u001b[43m)\u001b[49m\n",
      "Input \u001b[1;32mIn [5]\u001b[0m, in \u001b[0;36mAccount.deposit\u001b[1;34m(self, amount)\u001b[0m\n\u001b[0;32m     10\u001b[0m \u001b[38;5;28;01mdef\u001b[39;00m \u001b[38;5;21mdeposit\u001b[39m(\u001b[38;5;28mself\u001b[39m,amount):\n\u001b[1;32m---> 11\u001b[0m     \u001b[38;5;28;01mif\u001b[39;00m amount\u001b[38;5;241m>\u001b[39m\u001b[38;5;241m0\u001b[39m \u001b[38;5;129;01mand\u001b[39;00m \u001b[38;5;28;43mself\u001b[39;49m\u001b[38;5;241;43m.\u001b[39;49m\u001b[43mnum_transactions\u001b[49m\u001b[38;5;241m<\u001b[39m\u001b[38;5;28mself\u001b[39m\u001b[38;5;241m.\u001b[39mmax_transactions:\n\u001b[0;32m     12\u001b[0m         \u001b[38;5;28mself\u001b[39m\u001b[38;5;241m.\u001b[39mbal\u001b[38;5;241m=\u001b[39m\u001b[38;5;28mself\u001b[39m\u001b[38;5;241m.\u001b[39mbal\u001b[38;5;241m+\u001b[39mamount\n\u001b[0;32m     13\u001b[0m         \u001b[38;5;28mself\u001b[39m\u001b[38;5;241m.\u001b[39mnum_transactions\u001b[38;5;241m=\u001b[39m\u001b[38;5;28mself\u001b[39m\u001b[38;5;241m.\u001b[39mnum_transactions\u001b[38;5;241m+\u001b[39m\u001b[38;5;241m1\u001b[39m\n",
      "\u001b[1;31mAttributeError\u001b[0m: 'CurrentAccount' object has no attribute 'num_transactions'"
     ]
    }
   ],
   "source": [
    "Ca5.deposit(500)"
   ]
  },
  {
   "cell_type": "code",
   "execution_count": null,
   "id": "d4d47dcc",
   "metadata": {},
   "outputs": [],
   "source": []
  },
  {
   "cell_type": "code",
   "execution_count": null,
   "id": "a4b0bae0",
   "metadata": {},
   "outputs": [],
   "source": []
  },
  {
   "cell_type": "code",
   "execution_count": null,
   "id": "f3c26e93",
   "metadata": {},
   "outputs": [],
   "source": []
  },
  {
   "cell_type": "code",
   "execution_count": null,
   "id": "efc9b2e4",
   "metadata": {},
   "outputs": [],
   "source": []
  },
  {
   "cell_type": "code",
   "execution_count": null,
   "id": "06c4f45e",
   "metadata": {},
   "outputs": [],
   "source": []
  },
  {
   "cell_type": "code",
   "execution_count": 10,
   "id": "ad673675",
   "metadata": {},
   "outputs": [
    {
     "name": "stdout",
     "output_type": "stream",
     "text": [
      "<__main__.CurrentAccount object at 0x0000027B9A0F1960>\n"
     ]
    }
   ],
   "source": [
    "class Account:\n",
    "    counter=0\n",
    "    def _init_(self,opening_bal=0):\n",
    "        Account.counter=Account.counter+1\n",
    "        self.id=Account.counter\n",
    "        self.bal=opening_bal\n",
    "        self.num_transactions=0\n",
    "        self.max_transactions=6\n",
    "        \n",
    "    def deposit(self,amount):\n",
    "        if amount>0 and self.num_transactions<self.max_transactions:\n",
    "            self.bal=self.bal+amount\n",
    "            self.num_transactions=self.num_transactions+1\n",
    "    def withdraw(self,amount):\n",
    "        if amount>0 and self.bal>=amount and self.num_transactions<self.max_transactions:\n",
    "            self.bal=self.bal-amount\n",
    "            self.num_transactions=self.num_transactions+1\n",
    "    def _str_(self):\n",
    "        return \"AC number is : {} and Balance is Rs. {} and no of TX is : {}\".format(self.id,self.bal,self.num_transactions)\n",
    "class SavingAccount(Account):\n",
    "    pass\n",
    "class CurrentAccount(Account):\n",
    "    pass\n",
    "#     def __init(self):\n",
    "#         super()._init_()\n",
    "#         self.max_transactions=2\n",
    "  \n",
    "Ca5=CurrentAccount()\n",
    "print(Ca5)"
   ]
  },
  {
   "cell_type": "code",
   "execution_count": 12,
   "id": "a5a59904",
   "metadata": {
    "scrolled": true
   },
   "outputs": [
    {
     "ename": "AttributeError",
     "evalue": "'CurrentAccount' object has no attribute 'num_transactions'",
     "output_type": "error",
     "traceback": [
      "\u001b[1;31m---------------------------------------------------------------------------\u001b[0m",
      "\u001b[1;31mAttributeError\u001b[0m                            Traceback (most recent call last)",
      "Input \u001b[1;32mIn [12]\u001b[0m, in \u001b[0;36m<cell line: 1>\u001b[1;34m()\u001b[0m\n\u001b[1;32m----> 1\u001b[0m \u001b[43mCa5\u001b[49m\u001b[38;5;241;43m.\u001b[39;49m\u001b[43mdeposit\u001b[49m\u001b[43m(\u001b[49m\u001b[38;5;241;43m200\u001b[39;49m\u001b[43m)\u001b[49m\n",
      "Input \u001b[1;32mIn [10]\u001b[0m, in \u001b[0;36mAccount.deposit\u001b[1;34m(self, amount)\u001b[0m\n\u001b[0;32m     10\u001b[0m \u001b[38;5;28;01mdef\u001b[39;00m \u001b[38;5;21mdeposit\u001b[39m(\u001b[38;5;28mself\u001b[39m,amount):\n\u001b[1;32m---> 11\u001b[0m     \u001b[38;5;28;01mif\u001b[39;00m amount\u001b[38;5;241m>\u001b[39m\u001b[38;5;241m0\u001b[39m \u001b[38;5;129;01mand\u001b[39;00m \u001b[38;5;28;43mself\u001b[39;49m\u001b[38;5;241;43m.\u001b[39;49m\u001b[43mnum_transactions\u001b[49m\u001b[38;5;241m<\u001b[39m\u001b[38;5;28mself\u001b[39m\u001b[38;5;241m.\u001b[39mmax_transactions:\n\u001b[0;32m     12\u001b[0m         \u001b[38;5;28mself\u001b[39m\u001b[38;5;241m.\u001b[39mbal\u001b[38;5;241m=\u001b[39m\u001b[38;5;28mself\u001b[39m\u001b[38;5;241m.\u001b[39mbal\u001b[38;5;241m+\u001b[39mamount\n\u001b[0;32m     13\u001b[0m         \u001b[38;5;28mself\u001b[39m\u001b[38;5;241m.\u001b[39mnum_transactions\u001b[38;5;241m=\u001b[39m\u001b[38;5;28mself\u001b[39m\u001b[38;5;241m.\u001b[39mnum_transactions\u001b[38;5;241m+\u001b[39m\u001b[38;5;241m1\u001b[39m\n",
      "\u001b[1;31mAttributeError\u001b[0m: 'CurrentAccount' object has no attribute 'num_transactions'"
     ]
    }
   ],
   "source": [
    "Ca5.deposit(200)"
   ]
  },
  {
   "cell_type": "code",
   "execution_count": 15,
   "id": "09457b2c",
   "metadata": {},
   "outputs": [],
   "source": [
    "\n",
    "\n",
    "class Account:\n",
    "    counter = 0\n",
    "    def __init__(self,openig_bal=0):\n",
    "        Account.counter =  Account.counter +1\n",
    "        self.id = Account.counter\n",
    "        self.bal = openig_bal\n",
    "        self.num_transactions = 0\n",
    "        self.max_transactions = 6\n",
    "        \n",
    "        \n",
    "    def deposit(self,amount):\n",
    "        if amount > 0 and self.num_transactions < self.max_transactions:\n",
    "            self.bal = self.bal+amount\n",
    "            self.num_transactions = self.num_transactions+1\n",
    "    def withdraw(self,amount):\n",
    "        if amount > 0 and self.bal>= amount  and self.num_transactions < self.max_transactions:\n",
    "            self.bal = self.bal - amount\n",
    "            self.num_transactions = self.num_transactions+1\n",
    "    def __str__(self):\n",
    "        return \"Ac Number : {} and Bal is Rs. : {} and No of TX : {}\".format(self.id,self.bal,self.num_transactions)\n",
    "class SavingsAccount(Account):\n",
    "    pass\n",
    "class CurrentAccount(Account):\n",
    "    def __init__(self):\n",
    "        super().__init__()\n",
    "        self.max_transactions = 3\n",
    "sa1 = SavingsAccount()\n",
    "ca1 =  CurrentAccount()"
   ]
  },
  {
   "cell_type": "code",
   "execution_count": 19,
   "id": "9261cd10",
   "metadata": {},
   "outputs": [
    {
     "name": "stdout",
     "output_type": "stream",
     "text": [
      "Ac Number : 2 and Bal is Rs. : 2700 and No of TX : 3\n"
     ]
    }
   ],
   "source": [
    "ca1.deposit(900)\n",
    "print(ca1)"
   ]
  },
  {
   "cell_type": "code",
   "execution_count": null,
   "id": "d53c7493",
   "metadata": {},
   "outputs": [],
   "source": []
  },
  {
   "cell_type": "code",
   "execution_count": null,
   "id": "492f086f",
   "metadata": {},
   "outputs": [],
   "source": []
  }
 ],
 "metadata": {
  "kernelspec": {
   "display_name": "Python 3 (ipykernel)",
   "language": "python",
   "name": "python3"
  },
  "language_info": {
   "codemirror_mode": {
    "name": "ipython",
    "version": 3
   },
   "file_extension": ".py",
   "mimetype": "text/x-python",
   "name": "python",
   "nbconvert_exporter": "python",
   "pygments_lexer": "ipython3",
   "version": "3.10.5"
  }
 },
 "nbformat": 4,
 "nbformat_minor": 5
}
