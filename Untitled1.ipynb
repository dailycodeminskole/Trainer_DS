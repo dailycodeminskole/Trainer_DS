{
 "cells": [
  {
   "cell_type": "code",
   "execution_count": null,
   "id": "80e6b02b",
   "metadata": {},
   "outputs": [],
   "source": [
    "# user_input = \"\"\n",
    "# while user_input != 'quit':\n",
    "#   user_input = \"Enter quit to exit from the game\""
   ]
  },
  {
   "cell_type": "code",
   "execution_count": null,
   "id": "b312869c",
   "metadata": {},
   "outputs": [],
   "source": [
    "print('hi')"
   ]
  },
  {
   "cell_type": "code",
   "execution_count": 4,
   "id": "c5cd2375",
   "metadata": {},
   "outputs": [
    {
     "name": "stdout",
     "output_type": "stream",
     "text": [
      "Enter quit to exit from the game:QUIT\n",
      "BYE-BYE\n"
     ]
    }
   ],
   "source": [
    "user_input = \"\"\n",
    "while user_input.casefold() != 'quit':\n",
    "  user_input = input(\"Enter quit to exit from the game:\")\n",
    "print(\"BYE-BYE\")"
   ]
  },
  {
   "cell_type": "code",
   "execution_count": null,
   "id": "faf6b688",
   "metadata": {},
   "outputs": [],
   "source": []
  }
 ],
 "metadata": {
  "kernelspec": {
   "display_name": "Python 3 (ipykernel)",
   "language": "python",
   "name": "python3"
  },
  "language_info": {
   "codemirror_mode": {
    "name": "ipython",
    "version": 3
   },
   "file_extension": ".py",
   "mimetype": "text/x-python",
   "name": "python",
   "nbconvert_exporter": "python",
   "pygments_lexer": "ipython3",
   "version": "3.10.5"
  }
 },
 "nbformat": 4,
 "nbformat_minor": 5
}
