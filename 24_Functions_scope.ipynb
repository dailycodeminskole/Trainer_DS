{
 "cells": [
  {
   "cell_type": "markdown",
   "id": "a6ac1b84",
   "metadata": {},
   "source": [
    "# Scope of a variable"
   ]
  },
  {
   "cell_type": "code",
   "execution_count": 1,
   "id": "4813ca2f",
   "metadata": {},
   "outputs": [
    {
     "name": "stdout",
     "output_type": "stream",
     "text": [
      "10\n"
     ]
    }
   ],
   "source": [
    "# simple function with parameter\n",
    "\n",
    "def banner(x): \n",
    "    print(x)\n",
    "banner(10)"
   ]
  },
  {
   "cell_type": "code",
   "execution_count": 2,
   "id": "b5fb848c",
   "metadata": {},
   "outputs": [
    {
     "name": "stdout",
     "output_type": "stream",
     "text": [
      "10\n",
      "10\n",
      "10\n"
     ]
    }
   ],
   "source": [
    "# simple function without parameter\n",
    "\n",
    "def banner():\n",
    "    x = 10\n",
    "    print(x)\n",
    "\n",
    "banner()\n",
    "banner()\n",
    "banner()"
   ]
  },
  {
   "cell_type": "code",
   "execution_count": 3,
   "id": "c82bb001",
   "metadata": {},
   "outputs": [
    {
     "name": "stdout",
     "output_type": "stream",
     "text": [
      "10\n"
     ]
    }
   ],
   "source": [
    "# here we have values of 'x' inside the function as well as outside the function\n",
    "# priority will be given to  variable inside the function\n",
    "x = 100\n",
    "def banner():\n",
    "    x = 10 #local\n",
    "    print(x)  \n",
    "banner()"
   ]
  },
  {
   "cell_type": "code",
   "execution_count": 4,
   "id": "a2d19344",
   "metadata": {},
   "outputs": [
    {
     "name": "stdout",
     "output_type": "stream",
     "text": [
      "100\n"
     ]
    }
   ],
   "source": [
    "# if the variable is not defined inside the function that is without parameters\n",
    "#     defined inside = local scope\n",
    "# it will look for the variable outside the function\n",
    "#     defined outsinde = global scope\n",
    "\n",
    "x = 100 #global\n",
    "def banner():\n",
    "    print(x)  \n",
    "banner()"
   ]
  },
  {
   "cell_type": "code",
   "execution_count": 5,
   "id": "0edec515",
   "metadata": {},
   "outputs": [
    {
     "name": "stdout",
     "output_type": "stream",
     "text": [
      "25\n"
     ]
    }
   ],
   "source": [
    "# checking if we can modify the variable ??\n",
    "# local variable\n",
    "# global variable\n",
    "\n",
    "x = 100\n",
    "def banner():\n",
    "    x = 5 #local\n",
    "    x= x**2\n",
    "    print(x)  \n",
    "banner()"
   ]
  },
  {
   "cell_type": "code",
   "execution_count": 6,
   "id": "2c8327a7",
   "metadata": {},
   "outputs": [
    {
     "name": "stdout",
     "output_type": "stream",
     "text": [
      "10000\n"
     ]
    }
   ],
   "source": [
    "# local variable can be changed easily \n",
    "\n",
    "# checking if we can modify the global varibale from inside a function??\n",
    "# global variable cant be changed by a function having a local scope\n",
    "# but we can change a global variable by declaring a variable as 'global' \n",
    "# but it is not recommneded to do so\n",
    "\n",
    "x = 100\n",
    "def banner():\n",
    "#     x = 5 #local\n",
    "    global x #we have declared x as global , can be accessed and modified by the function\n",
    "    x= x**2\n",
    "    print(x)\n",
    "\n",
    "banner()"
   ]
  },
  {
   "cell_type": "code",
   "execution_count": 7,
   "id": "fb4f240c",
   "metadata": {},
   "outputs": [
    {
     "name": "stdout",
     "output_type": "stream",
     "text": [
      "Before calling the function  John\n",
      "After  calling the function  John\n"
     ]
    }
   ],
   "source": [
    "# eg 2\n",
    "name = \"John\"\n",
    "\n",
    "def change_name(new_name):\n",
    "    name= new_name \n",
    "    \n",
    "print(\"Before calling the function \" , name)\n",
    "\n",
    "change_name(\"Sumit\")\n",
    "\n",
    "print(\"After  calling the function \" , name)\n"
   ]
  },
  {
   "cell_type": "code",
   "execution_count": 8,
   "id": "b96a9a63",
   "metadata": {},
   "outputs": [
    {
     "name": "stdout",
     "output_type": "stream",
     "text": [
      "Before calling the function  John\n",
      "After  calling the function  Sumit\n"
     ]
    }
   ],
   "source": [
    "#the name change will refelect only if we declare it as 'global'\n",
    "name = \"John\"\n",
    "\n",
    "def change_name(new_name):\n",
    "    global name \n",
    "    name= new_name\n",
    "    \n",
    "print(\"Before calling the function \" , name)\n",
    "\n",
    "change_name(\"Sumit\")\n",
    "\n",
    "print(\"After  calling the function \" , name)"
   ]
  },
  {
   "cell_type": "markdown",
   "id": "627bf011",
   "metadata": {},
   "source": [
    "# List as an argument"
   ]
  },
  {
   "cell_type": "code",
   "execution_count": 9,
   "id": "d2912c51",
   "metadata": {},
   "outputs": [
    {
     "name": "stdout",
     "output_type": "stream",
     "text": [
      "[10, 12, 14]\n"
     ]
    }
   ],
   "source": [
    "a = [10,11,12,13,14,15,17]\n",
    "b = []\n",
    "for i in a:\n",
    "    if i%2 == 0:\n",
    "        b.append(i)\n",
    "\n",
    "print(b)\n",
    "        "
   ]
  },
  {
   "cell_type": "code",
   "execution_count": 10,
   "id": "cb3dd721",
   "metadata": {},
   "outputs": [
    {
     "name": "stdout",
     "output_type": "stream",
     "text": [
      "[10, 12, 14]\n",
      "[100, 200, 456]\n",
      "[100, 200, 456]\n"
     ]
    }
   ],
   "source": [
    "b = [10,11,12,13,14,15,17]\n",
    "c = [100,200,255,123,456,897]\n",
    "def even_filter(a):\n",
    "    b = []\n",
    "    for i in a:\n",
    "        if i%2 == 0:\n",
    "            b.append(i)\n",
    "    print(b)\n",
    "even_filter(b)\n",
    "even_filter(c)\n",
    "even_filter([100,200,255,123,456,897])"
   ]
  },
  {
   "cell_type": "markdown",
   "id": "c62dbaf4",
   "metadata": {},
   "source": [
    "# *args\n"
   ]
  },
  {
   "cell_type": "code",
   "execution_count": 11,
   "id": "b42523d2",
   "metadata": {},
   "outputs": [],
   "source": [
    "# variable lenght argumnet"
   ]
  },
  {
   "cell_type": "code",
   "execution_count": 12,
   "id": "e784eeb6",
   "metadata": {},
   "outputs": [
    {
     "name": "stdout",
     "output_type": "stream",
     "text": [
      "205\n"
     ]
    }
   ],
   "source": [
    "def sum(a,b,c):\n",
    "    print(a+b+c)\n",
    "\n",
    "sum(100,58,47)\n",
    "    \n",
    "    "
   ]
  },
  {
   "cell_type": "code",
   "execution_count": 13,
   "id": "70e014b7",
   "metadata": {},
   "outputs": [
    {
     "name": "stdout",
     "output_type": "stream",
     "text": [
      "600\n"
     ]
    }
   ],
   "source": [
    "def sum(*args): #'*' denotes that its a variable lenght argument\n",
    "    sum = 0\n",
    "    for i in args:\n",
    "        sum = sum+i\n",
    "    \n",
    "    print(sum)\n",
    "\n",
    "sum(100,100,100,100,100,100)"
   ]
  },
  {
   "cell_type": "code",
   "execution_count": 29,
   "id": "c817f8f0",
   "metadata": {},
   "outputs": [
    {
     "name": "stdout",
     "output_type": "stream",
     "text": [
      "1256.0\n"
     ]
    }
   ],
   "source": [
    "# HW\n",
    "# change the value of 'r' to 20 using global keyword and find the new area using below function\n",
    "r = 10\n",
    "def area():\n",
    "    circle = 3.14*r*r\n",
    "    print(circle)\n",
    "    \n",
    "area()\n",
    "\n",
    "# pass multiple arguments in the function and observe the output\n",
    "# function that takes variable lenght of argument  and squares each argument\n",
    "\n",
    "def square(*args):\n",
    "    ans= []\n",
    "    for i in args:\n",
    "        ans.append(i*i)\n",
    "    print(ans)"
   ]
  },
  {
   "cell_type": "code",
   "execution_count": 52,
   "id": "f5dffe67",
   "metadata": {},
   "outputs": [],
   "source": []
  },
  {
   "cell_type": "code",
   "execution_count": 53,
   "id": "0052fac7",
   "metadata": {},
   "outputs": [
    {
     "name": "stdout",
     "output_type": "stream",
     "text": [
      "[100]\n"
     ]
    }
   ],
   "source": [
    "square(10)"
   ]
  },
  {
   "cell_type": "code",
   "execution_count": 54,
   "id": "d0ff5d61",
   "metadata": {},
   "outputs": [
    {
     "name": "stdout",
     "output_type": "stream",
     "text": [
      "[100, 400]\n"
     ]
    }
   ],
   "source": [
    "square(10,20)"
   ]
  },
  {
   "cell_type": "code",
   "execution_count": null,
   "id": "d97d5bb2",
   "metadata": {},
   "outputs": [],
   "source": []
  }
 ],
 "metadata": {
  "kernelspec": {
   "display_name": "Python 3 (ipykernel)",
   "language": "python",
   "name": "python3"
  },
  "language_info": {
   "codemirror_mode": {
    "name": "ipython",
    "version": 3
   },
   "file_extension": ".py",
   "mimetype": "text/x-python",
   "name": "python",
   "nbconvert_exporter": "python",
   "pygments_lexer": "ipython3",
   "version": "3.10.5"
  }
 },
 "nbformat": 4,
 "nbformat_minor": 5
}
