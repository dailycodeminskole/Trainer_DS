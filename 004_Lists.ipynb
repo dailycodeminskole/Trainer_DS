{
 "cells": [
  {
   "cell_type": "markdown",
   "id": "a6b963b0",
   "metadata": {},
   "source": [
    "#  Intro to Lists"
   ]
  },
  {
   "cell_type": "code",
   "execution_count": 5,
   "id": "61a2f542",
   "metadata": {},
   "outputs": [
    {
     "name": "stdout",
     "output_type": "stream",
     "text": [
      "A list in Python is a versatile data structure that stores an ordered collection of items. It is created using square brackets and allows for the storage of various types of elements within a single container. Lists are mutable, meaning you can add, remove, and modify elements after creation. They are widely used for grouping related data, such as numbers, strings, or even other lists. Accessing list elements is done using zero-based indexing, where the first element is at index 0. Lists come with built-in methods like `append()`, `remove()`, and `sort()` that simplify common operations. Slicing allows you to extract subsets of a list efficiently. Additionally, list comprehensions provide a concise way to generate lists based on existing ones. Due to their flexibility, lists are integral in tasks ranging from simple data storage to creating complex data structures and are a fundamental concept in Python programming.\n"
     ]
    }
   ],
   "source": [
    "print('''A list in Python is a versatile data structure that stores an ordered collection of items. It is created using square brackets and allows for the storage of various types of elements within a single container. Lists are mutable, meaning you can add, remove, and modify elements after creation. They are widely used for grouping related data, such as numbers, strings, or even other lists. Accessing list elements is done using zero-based indexing, where the first element is at index 0. Lists come with built-in methods like `append()`, `remove()`, and `sort()` that simplify common operations. Slicing allows you to extract subsets of a list efficiently. Additionally, list comprehensions provide a concise way to generate lists based on existing ones. Due to their flexibility, lists are integral in tasks ranging from simple data storage to creating complex data structures and are a fundamental concept in Python programming.''')"
   ]
  },
  {
   "cell_type": "markdown",
   "id": "ce707085",
   "metadata": {},
   "source": [
    "# Properties of List"
   ]
  },
  {
   "cell_type": "code",
   "execution_count": 6,
   "id": "ffdbb3f2",
   "metadata": {},
   "outputs": [
    {
     "name": "stdout",
     "output_type": "stream",
     "text": [
      "Lists are a fundamental data structure in Python that offer several properties and features, making them versatile for various programming tasks. Here are some key properties of lists in Python:\n",
      "\n",
      "1. **Ordered Collection:**\n",
      "   Lists maintain the order of elements, meaning the position of each element in the list is preserved.\n",
      "\n",
      "2. **Mutable:**\n",
      "   Lists are mutable, allowing you to modify, add, or remove elements after the list is created. This property sets lists apart from immutable data types like strings and tuples.\n",
      "\n",
      "3. **Heterogeneous Elements:**\n",
      "   Lists can contain elements of different data types, such as integers, floats, strings, and even other lists.\n",
      "\n",
      "4. **Indexing and Slicing:**\n",
      "   Elements in a list can be accessed using zero-based indexing. You can also extract sublists using slicing notation (`start:end`), enabling efficient data manipulation.\n",
      "\n",
      "5. **Dynamic Size:**\n",
      "   Lists can grow or shrink dynamically. You can add elements using methods like `append()` and `insert()`, and remove elements using methods like `remove()` and `pop()`.\n",
      "\n",
      "6. **Built-in Methods:**\n",
      "   Lists come with a variety of built-in methods that simplify common operations such as sorting, reversing, and counting elements.\n",
      "\n",
      "7. **Iterable:**\n",
      "   Lists are iterable, which means you can iterate through the elements using loops or comprehensions.\n",
      "\n",
      "8. **List Comprehensions:**\n",
      "   List comprehensions provide a concise way to create new lists by applying an expression to each item in an existing list or other iterable.\n",
      "\n",
      "9. **Versatility:**\n",
      "   Lists are used for various programming tasks, such as storing data, creating dynamic collections, building data structures, and implementing algorithms.\n",
      "\n",
      "10. **Nested Lists:**\n",
      "    Lists can contain other lists as elements, enabling you to create multidimensional data structures or matrices.\n",
      "\n",
      "11. **Memory Overhead:**\n",
      "    Lists can consume more memory compared to some other data structures due to their flexibility and dynamic resizing.\n",
      "\n",
      "12. **Comparison and Equality:**\n",
      "    Lists can be compared for equality, and you can check if an element exists in a list using the `in` keyword.\n",
      "\n",
      "Lists play a central role in Python programming due to their flexibility and usefulness in a wide range of applications. Understanding the properties and operations of lists is crucial for effective data manipulation and algorithm implementation.\n"
     ]
    }
   ],
   "source": [
    "print('''Lists are a fundamental data structure in Python that offer several properties and features, making them versatile for various programming tasks. Here are some key properties of lists in Python:\n",
    "\n",
    "1. **Ordered Collection:**\n",
    "   Lists maintain the order of elements, meaning the position of each element in the list is preserved.\n",
    "\n",
    "2. **Mutable:**\n",
    "   Lists are mutable, allowing you to modify, add, or remove elements after the list is created. This property sets lists apart from immutable data types like strings and tuples.\n",
    "\n",
    "3. **Heterogeneous Elements:**\n",
    "   Lists can contain elements of different data types, such as integers, floats, strings, and even other lists.\n",
    "\n",
    "4. **Indexing and Slicing:**\n",
    "   Elements in a list can be accessed using zero-based indexing. You can also extract sublists using slicing notation (`start:end`), enabling efficient data manipulation.\n",
    "\n",
    "5. **Dynamic Size:**\n",
    "   Lists can grow or shrink dynamically. You can add elements using methods like `append()` and `insert()`, and remove elements using methods like `remove()` and `pop()`.\n",
    "\n",
    "6. **Built-in Methods:**\n",
    "   Lists come with a variety of built-in methods that simplify common operations such as sorting, reversing, and counting elements.\n",
    "\n",
    "7. **Iterable:**\n",
    "   Lists are iterable, which means you can iterate through the elements using loops or comprehensions.\n",
    "\n",
    "8. **List Comprehensions:**\n",
    "   List comprehensions provide a concise way to create new lists by applying an expression to each item in an existing list or other iterable.\n",
    "\n",
    "9. **Versatility:**\n",
    "   Lists are used for various programming tasks, such as storing data, creating dynamic collections, building data structures, and implementing algorithms.\n",
    "\n",
    "10. **Nested Lists:**\n",
    "    Lists can contain other lists as elements, enabling you to create multidimensional data structures or matrices.\n",
    "\n",
    "11. **Memory Overhead:**\n",
    "    Lists can consume more memory compared to some other data structures due to their flexibility and dynamic resizing.\n",
    "\n",
    "12. **Comparison and Equality:**\n",
    "    Lists can be compared for equality, and you can check if an element exists in a list using the `in` keyword.\n",
    "\n",
    "Lists play a central role in Python programming due to their flexibility and usefulness in a wide range of applications. Understanding the properties and operations of lists is crucial for effective data manipulation and algorithm implementation.''')"
   ]
  },
  {
   "cell_type": "markdown",
   "id": "5b75e698",
   "metadata": {},
   "source": [
    "#  List creation"
   ]
  },
  {
   "cell_type": "code",
   "execution_count": 7,
   "id": "b39d8ebe",
   "metadata": {},
   "outputs": [
    {
     "name": "stdout",
     "output_type": "stream",
     "text": [
      "Creating a list in Python is straightforward. Lists are defined using square brackets [ ], and you can include comma-separated elements inside the brackets to initialize the list. \n"
     ]
    }
   ],
   "source": [
    "print('''Creating a list in Python is straightforward. Lists are defined using square brackets [ ], and you can include comma-separated elements inside the brackets to initialize the list. ''')"
   ]
  },
  {
   "cell_type": "code",
   "execution_count": null,
   "id": "df3f7e57",
   "metadata": {},
   "outputs": [],
   "source": []
  },
  {
   "cell_type": "code",
   "execution_count": 15,
   "id": "9dd5d884",
   "metadata": {},
   "outputs": [],
   "source": [
    "# numbers\n",
    "numbers = [1, 2, 3, 4, 5]\n"
   ]
  },
  {
   "cell_type": "code",
   "execution_count": 9,
   "id": "175e48d7",
   "metadata": {},
   "outputs": [],
   "source": [
    "# Strings\n",
    "fruits = [\"apple\", \"banana\", \"orange\"]\n"
   ]
  },
  {
   "cell_type": "code",
   "execution_count": 10,
   "id": "2065f673",
   "metadata": {},
   "outputs": [],
   "source": [
    "# mixed\n",
    "mixed = [1, \"hello\", 3.14, True]\n"
   ]
  },
  {
   "cell_type": "code",
   "execution_count": 11,
   "id": "401d7e9d",
   "metadata": {},
   "outputs": [],
   "source": [
    "# empty\n",
    "empty_list = []\n"
   ]
  },
  {
   "cell_type": "code",
   "execution_count": 12,
   "id": "c24c894d",
   "metadata": {},
   "outputs": [],
   "source": [
    "# List Comprehension:\n",
    "squares = [x**2 for x in range(1, 6)]\n"
   ]
  },
  {
   "cell_type": "code",
   "execution_count": 13,
   "id": "4e1209f3",
   "metadata": {},
   "outputs": [],
   "source": [
    "# Nested Lists:\n",
    "matrix = [[1, 2, 3], [4, 5, 6], [7, 8, 9]]\n"
   ]
  },
  {
   "cell_type": "code",
   "execution_count": 16,
   "id": "95814480",
   "metadata": {},
   "outputs": [],
   "source": [
    "# Using list() Constructor:\n",
    "characters = list(\"Python\")\n"
   ]
  },
  {
   "cell_type": "markdown",
   "id": "bd3b6218",
   "metadata": {},
   "source": [
    "# Indexing and Slicing"
   ]
  },
  {
   "cell_type": "code",
   "execution_count": 20,
   "id": "fa11c7aa",
   "metadata": {},
   "outputs": [
    {
     "name": "stdout",
     "output_type": "stream",
     "text": [
      "Indexing in lists refers to the process of accessing individual elements within a list using their position, known as an index. Python uses zero-based indexing, which means the first element is at index 0, the second element at index 1, and so on. You can also use negative indexing to count elements from the end of the list, where -1 refers to the last element.\n"
     ]
    }
   ],
   "source": [
    "print('''Indexing in lists refers to the process of accessing individual elements within a list using their position, known as an index. Python uses zero-based indexing, which means the first element is at index 0, the second element at index 1, and so on. You can also use negative indexing to count elements from the end of the list, where -1 refers to the last element.''')"
   ]
  },
  {
   "cell_type": "code",
   "execution_count": 21,
   "id": "b69e7f4f",
   "metadata": {},
   "outputs": [
    {
     "name": "stdout",
     "output_type": "stream",
     "text": [
      "apple\n",
      "orange\n",
      "kiwi\n"
     ]
    }
   ],
   "source": [
    "fruits = [\"apple\", \"banana\", \"orange\", \"grape\", \"kiwi\"]\n",
    "\n",
    "print(fruits[0])  # Output: \"apple\"\n",
    "print(fruits[2])  # Output: \"orange\"\n",
    "print(fruits[-1]) # Output: \"kiwi\"\n"
   ]
  },
  {
   "cell_type": "code",
   "execution_count": null,
   "id": "377dd189",
   "metadata": {},
   "outputs": [],
   "source": []
  },
  {
   "cell_type": "code",
   "execution_count": null,
   "id": "9258b676",
   "metadata": {},
   "outputs": [],
   "source": []
  },
  {
   "cell_type": "code",
   "execution_count": 24,
   "id": "11772296",
   "metadata": {},
   "outputs": [
    {
     "name": "stdout",
     "output_type": "stream",
     "text": [
      "List slicing in Python involves extracting a portion of a list using a range of indices. Slicing allows you to create a new sublist from an existing list, and it's done using the colon (:) notation. The syntax for slicing is [start:end], where start is the index of the first element you want to include, and end is the index of the first element you want to exclude.\n"
     ]
    }
   ],
   "source": [
    "print('''List slicing in Python involves extracting a portion of a list using a range of indices. Slicing allows you to create a new sublist from an existing list, and it's done using the colon (:) notation. The syntax for slicing is [start:end], where start is the index of the first element you want to include, and end is the index of the first element you want to exclude.''')"
   ]
  },
  {
   "cell_type": "code",
   "execution_count": null,
   "id": "3be9a8c9",
   "metadata": {},
   "outputs": [],
   "source": []
  },
  {
   "cell_type": "code",
   "execution_count": 22,
   "id": "074cc5b9",
   "metadata": {},
   "outputs": [],
   "source": [
    "numbers = [1, 2, 3, 4, 5, 6, 7, 8, 9, 10]\n",
    "\n",
    "subset = numbers[2:6]   # Elements at index 2, 3, 4, 5 => [3, 4, 5, 6]\n",
    "all_except_last = numbers[:-1]  # All elements except the last one\n"
   ]
  },
  {
   "cell_type": "code",
   "execution_count": 23,
   "id": "c7a61446",
   "metadata": {},
   "outputs": [],
   "source": [
    "numbers = [1, 2, 3, 4, 5, 6, 7, 8, 9, 10]\n",
    "\n",
    "subset = numbers[2:6]   # Elements at index 2, 3, 4, 5 => [3, 4, 5, 6]\n",
    "all_except_last = numbers[:-1]  # All elements except the last one\n"
   ]
  },
  {
   "cell_type": "code",
   "execution_count": 25,
   "id": "7a99536e",
   "metadata": {},
   "outputs": [],
   "source": [
    "fruits = [\"apple\", \"banana\", \"orange\", \"grape\", \"kiwi\"]\n",
    "\n",
    "subset = fruits[1:4]  # Elements at index 1, 2, 3 => [\"banana\", \"orange\", \"grape\"]\n"
   ]
  },
  {
   "cell_type": "code",
   "execution_count": 26,
   "id": "eec7fe99",
   "metadata": {},
   "outputs": [],
   "source": [
    "# If you omit the start index, the slice will begin from the beginning of the list. \n",
    "# If you omit the end index, the slice will go up to the end of the list.\n",
    "\n",
    "first_three = fruits[:3]  # Elements at index 0, 1, 2 => [\"apple\", \"banana\", \"orange\"]\n",
    "last_two = fruits[3:]     # Elements at index 3, 4 => [\"grape\", \"kiwi\"]\n"
   ]
  },
  {
   "cell_type": "code",
   "execution_count": null,
   "id": "22f0f757",
   "metadata": {},
   "outputs": [],
   "source": []
  },
  {
   "cell_type": "code",
   "execution_count": 28,
   "id": "5fede82f",
   "metadata": {},
   "outputs": [
    {
     "name": "stdout",
     "output_type": "stream",
     "text": [
      "Remember these key points about list slicing:\n",
      "\n",
      "The start index is inclusive, meaning the element at that index will be included in the slice.\n",
      "The end index is exclusive, meaning the element at that index will not be included in the slice.\n",
      "Slicing does not modify the original list; it creates a new list.\n",
      "If start is greater than or equal to end, the result will be an empty list.\n"
     ]
    }
   ],
   "source": [
    "print('''Remember these key points about list slicing:\n",
    "\n",
    "The start index is inclusive, meaning the element at that index will be included in the slice.\n",
    "The end index is exclusive, meaning the element at that index will not be included in the slice.\n",
    "Slicing does not modify the original list; it creates a new list.\n",
    "If start is greater than or equal to end, the result will be an empty list.''')"
   ]
  },
  {
   "cell_type": "markdown",
   "id": "6423f5b2",
   "metadata": {},
   "source": [
    "# More Examples"
   ]
  },
  {
   "cell_type": "code",
   "execution_count": 29,
   "id": "c0041dd1",
   "metadata": {},
   "outputs": [
    {
     "name": "stdout",
     "output_type": "stream",
     "text": [
      "4\n",
      "[3, 4, 5, 6, 7]\n",
      "10\n",
      "[7, 8]\n",
      "[1, 2, 3, 4, 5]\n",
      "[7, 8, 9, 10]\n",
      "[2, 4, 6, 8]\n",
      "[10, 9, 8, 7, 6, 5, 4, 3, 2, 1]\n",
      "[9, 10]\n",
      "[]\n"
     ]
    }
   ],
   "source": [
    "numbers = [1, 2, 3, 4, 5, 6, 7, 8, 9, 10]\n",
    "\n",
    "# Indexing\n",
    "print(numbers[3])  # Output: 4\n",
    "\n",
    "# Slicing\n",
    "print(numbers[2:7])  # Output: [3, 4, 5, 6, 7]\n",
    "\n",
    "# Negative indexing\n",
    "print(numbers[-1])  # Output: 10\n",
    "\n",
    "# Slicing with negative indices\n",
    "print(numbers[-4:-2])  # Output: [7, 8]\n",
    "\n",
    "# Omitting start index\n",
    "print(numbers[:5])  # Output: [1, 2, 3, 4, 5]\n",
    "\n",
    "# Omitting end index\n",
    "print(numbers[6:])  # Output: [7, 8, 9, 10]\n",
    "\n",
    "# Slicing with step\n",
    "print(numbers[1:9:2])  # Output: [2, 4, 6, 8]\n",
    "\n",
    "# Reverse the list\n",
    "print(numbers[::-1])  # Output: [10, 9, 8, 7, 6, 5, 4, 3, 2, 1]\n",
    "\n",
    "# Slicing beyond the list length\n",
    "print(numbers[8:12])  # Output: [9, 10]\n",
    "\n",
    "# Empty slice\n",
    "print(numbers[5:2])  # Output: []\n"
   ]
  },
  {
   "cell_type": "code",
   "execution_count": null,
   "id": "ebba3674",
   "metadata": {},
   "outputs": [],
   "source": []
  },
  {
   "cell_type": "code",
   "execution_count": 30,
   "id": "14466509",
   "metadata": {},
   "outputs": [],
   "source": [
    "# Slicing is used to transform data into different formats.\n",
    "\n",
    "raw_data = \"2022-07-15\"\n",
    "year = raw_data[:4]     # \"2022\"\n",
    "month = raw_data[5:7]   # \"07\"\n",
    "day = raw_data[8:]      # \"15\"\n"
   ]
  },
  {
   "cell_type": "code",
   "execution_count": 27,
   "id": "c57b2837",
   "metadata": {},
   "outputs": [],
   "source": [
    "# You can also use negative indices for slicing:\n",
    "subset = fruits[-3:-1]  # Elements at index -3, -2 => [\"orange\", \"grape\"]\n"
   ]
  },
  {
   "cell_type": "markdown",
   "id": "01e6af0f",
   "metadata": {},
   "source": [
    "# List Methods"
   ]
  },
  {
   "cell_type": "code",
   "execution_count": 31,
   "id": "acce8540",
   "metadata": {},
   "outputs": [
    {
     "name": "stdout",
     "output_type": "stream",
     "text": [
      "[1, 2, 3, 4]\n"
     ]
    }
   ],
   "source": [
    "# append(item) Method:\n",
    "\n",
    "numbers = [1, 2, 3]\n",
    "numbers.append(4)\n",
    "print(numbers)  # Output: [1, 2, 3, 4]\n"
   ]
  },
  {
   "cell_type": "code",
   "execution_count": 32,
   "id": "94264d56",
   "metadata": {},
   "outputs": [
    {
     "name": "stdout",
     "output_type": "stream",
     "text": [
      "['apple', 'orange', 'banana']\n"
     ]
    }
   ],
   "source": [
    "# remove(item) Method:\n",
    "\n",
    "fruits = [\"apple\", \"banana\", \"orange\", \"banana\"]\n",
    "fruits.remove(\"banana\")\n",
    "print(fruits)  # Output: [\"apple\", \"orange\", \"banana\"]\n"
   ]
  },
  {
   "cell_type": "code",
   "execution_count": 33,
   "id": "cff95a75",
   "metadata": {},
   "outputs": [
    {
     "name": "stdout",
     "output_type": "stream",
     "text": [
      "[1, 2, 3, 4, 5, 6]\n"
     ]
    }
   ],
   "source": [
    "# extend(iterable) Method:\n",
    "list1 = [1, 2, 3]\n",
    "list2 = [4, 5, 6]\n",
    "list1.extend(list2)\n",
    "print(list1)  # Output: [1, 2, 3, 4, 5, 6]\n"
   ]
  },
  {
   "cell_type": "code",
   "execution_count": 34,
   "id": "7d086903",
   "metadata": {},
   "outputs": [
    {
     "name": "stdout",
     "output_type": "stream",
     "text": [
      "3\n"
     ]
    }
   ],
   "source": [
    "# count(item) Method:\n",
    "numbers = [1, 2, 3, 2, 4, 2]\n",
    "count_2 = numbers.count(2)\n",
    "print(count_2)  # Output: 3\n"
   ]
  },
  {
   "cell_type": "code",
   "execution_count": 35,
   "id": "2137b27d",
   "metadata": {},
   "outputs": [
    {
     "name": "stdout",
     "output_type": "stream",
     "text": [
      "1\n"
     ]
    }
   ],
   "source": [
    "# index(item) Method:\n",
    "colors = [\"red\", \"green\", \"blue\", \"green\"]\n",
    "index_green = colors.index(\"green\")\n",
    "print(index_green)  # Output: 1\n"
   ]
  },
  {
   "cell_type": "code",
   "execution_count": 37,
   "id": "4aa0f304",
   "metadata": {},
   "outputs": [
    {
     "name": "stdout",
     "output_type": "stream",
     "text": [
      "[1, 2, 10, 3, 4]\n"
     ]
    }
   ],
   "source": [
    "# insert(index, item) Method:\n",
    "numbers = [1, 2, 3, 4]\n",
    "numbers.insert(2, 10)\n",
    "print(numbers)  # Output: [1, 2, 10, 3, 4]\n"
   ]
  },
  {
   "cell_type": "code",
   "execution_count": 38,
   "id": "2ae6191c",
   "metadata": {},
   "outputs": [
    {
     "name": "stdout",
     "output_type": "stream",
     "text": [
      "b\n"
     ]
    }
   ],
   "source": [
    "# pop(index) Method:\n",
    "letters = [\"a\", \"b\", \"c\", \"d\"]\n",
    "removed_letter = letters.pop(1)\n",
    "print(removed_letter)  # Output: \"b\"\n"
   ]
  },
  {
   "cell_type": "code",
   "execution_count": 39,
   "id": "5a4f62ff",
   "metadata": {},
   "outputs": [
    {
     "name": "stdout",
     "output_type": "stream",
     "text": [
      "[4, 3, 2, 1]\n"
     ]
    }
   ],
   "source": [
    "# reverse() Method:\n",
    "numbers = [1, 2, 3, 4]\n",
    "numbers.reverse()\n",
    "print(numbers)  # Output: [4, 3, 2, 1]\n"
   ]
  },
  {
   "cell_type": "code",
   "execution_count": 40,
   "id": "9482dee2",
   "metadata": {},
   "outputs": [
    {
     "name": "stdout",
     "output_type": "stream",
     "text": [
      "[78, 85, 88, 92, 95]\n"
     ]
    }
   ],
   "source": [
    "# sort() Method:\n",
    "grades = [85, 92, 78, 95, 88]\n",
    "grades.sort()\n",
    "print(grades)  # Output: [78, 85, 88, 92, 95]\n"
   ]
  },
  {
   "cell_type": "code",
   "execution_count": 41,
   "id": "21e8f370",
   "metadata": {},
   "outputs": [],
   "source": [
    "# copy() Method:\n",
    "original_list = [1, 2, 3]\n",
    "copied_list = original_list.copy()\n"
   ]
  },
  {
   "cell_type": "code",
   "execution_count": null,
   "id": "9e3834d1",
   "metadata": {},
   "outputs": [],
   "source": []
  },
  {
   "cell_type": "code",
   "execution_count": null,
   "id": "f768fe5c",
   "metadata": {},
   "outputs": [],
   "source": []
  },
  {
   "cell_type": "code",
   "execution_count": null,
   "id": "0da71af8",
   "metadata": {},
   "outputs": [],
   "source": [
    "#  Tu"
   ]
  },
  {
   "cell_type": "code",
   "execution_count": null,
   "id": "940aa283",
   "metadata": {},
   "outputs": [],
   "source": []
  },
  {
   "cell_type": "code",
   "execution_count": null,
   "id": "93ff2bf8",
   "metadata": {},
   "outputs": [],
   "source": []
  },
  {
   "cell_type": "code",
   "execution_count": null,
   "id": "b308ebde",
   "metadata": {},
   "outputs": [],
   "source": []
  },
  {
   "cell_type": "code",
   "execution_count": null,
   "id": "34e0d137",
   "metadata": {},
   "outputs": [],
   "source": []
  },
  {
   "cell_type": "code",
   "execution_count": null,
   "id": "54b2232a",
   "metadata": {},
   "outputs": [],
   "source": []
  },
  {
   "cell_type": "code",
   "execution_count": 1,
   "id": "78c020a6",
   "metadata": {},
   "outputs": [],
   "source": [
    "# Intro to list\n",
    "# creating a list using constructor/type casting"
   ]
  },
  {
   "cell_type": "code",
   "execution_count": 2,
   "id": "c5ef3bfa",
   "metadata": {},
   "outputs": [
    {
     "name": "stdout",
     "output_type": "stream",
     "text": [
      "123\n",
      "<class 'str'>\n",
      "<class 'list'>\n",
      "['1', '2', '3']\n",
      "['C', 'H', 'I', 'N', 'M', 'A', 'Y']\n"
     ]
    }
   ],
   "source": [
    "even_num = \"123\"\n",
    "print(even_num)\n",
    "print(type(even_num))\n",
    "\n",
    "\n",
    "num = list(even_num)\n",
    "print(type(num))\n",
    "\n",
    "print(num)\n",
    "\n",
    "\n",
    "name = \"CHINMAY\"\n",
    "print(list(name))"
   ]
  },
  {
   "cell_type": "code",
   "execution_count": 3,
   "id": "0ec60ac1",
   "metadata": {},
   "outputs": [],
   "source": [
    "# direct way by writing the items inside a square bracket"
   ]
  },
  {
   "cell_type": "code",
   "execution_count": 4,
   "id": "ff29f298",
   "metadata": {},
   "outputs": [
    {
     "name": "stdout",
     "output_type": "stream",
     "text": [
      "<class 'list'>\n",
      "[1, 3, 5, 7, 9]\n",
      "[1, 3, 5, 7, 9]\n",
      "<class 'str'>\n",
      "[1, 3, 5, 7, 9]\n",
      "[]\n",
      "<class 'list'>\n",
      "['']\n",
      "<class 'list'>\n",
      "[' ']\n",
      "<class 'list'>\n"
     ]
    }
   ],
   "source": [
    "list_odd = [1,3,5,7,9]\n",
    "print(type(list_odd))\n",
    "print(list_odd)\n",
    "\n",
    "ans = str(list_odd)\n",
    "print(ans)\n",
    "print(type(ans))\n",
    "print(ans)\n",
    "\n",
    "z = []\n",
    "print(z)\n",
    "print(type(z))\n",
    "\n",
    "z = [\"\"]\n",
    "print(z)\n",
    "print(type(z))\n",
    "\n",
    "z = [\" \"]\n",
    "print(z)\n",
    "print(type(z))"
   ]
  },
  {
   "cell_type": "markdown",
   "id": "b3c949a5",
   "metadata": {},
   "source": [
    "# Accessing a list"
   ]
  },
  {
   "cell_type": "code",
   "execution_count": null,
   "id": "2aa4c153",
   "metadata": {},
   "outputs": [],
   "source": [
    "\n",
    "#                   0       1       2      3        4\n",
    "#                  -5       -4      -3     -2      -1\n",
    "students_name = ['Amar','Akash','Anuj','Amit','Aniket']\n",
    "print(students_name)\n",
    "print(students_name[3]) #Amit\n",
    "print(students_name[4]) #Amit\n",
    "print(students_name[-1]) #using negative indexing\n",
    "\n",
    "\n",
    "\n",
    "print(students_name[0:3]) #Slicing\n",
    "print(students_name[:])  #default start:end\n",
    "\n",
    "# print(students_name[-3:-5])  #Slicing with neg INdexing\n",
    "print(students_name[-5:-2])  #Slicing with neg INdexing"
   ]
  }
 ],
 "metadata": {
  "kernelspec": {
   "display_name": "Python 3 (ipykernel)",
   "language": "python",
   "name": "python3"
  },
  "language_info": {
   "codemirror_mode": {
    "name": "ipython",
    "version": 3
   },
   "file_extension": ".py",
   "mimetype": "text/x-python",
   "name": "python",
   "nbconvert_exporter": "python",
   "pygments_lexer": "ipython3",
   "version": "3.10.5"
  }
 },
 "nbformat": 4,
 "nbformat_minor": 5
}
