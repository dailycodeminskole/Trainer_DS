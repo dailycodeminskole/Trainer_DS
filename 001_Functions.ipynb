{
 "cells": [
  {
   "cell_type": "code",
   "execution_count": 1,
   "id": "19f4c2ce",
   "metadata": {},
   "outputs": [],
   "source": [
    "# this is for trainer use"
   ]
  },
  {
   "cell_type": "code",
   "execution_count": 2,
   "id": "2ab080bc",
   "metadata": {},
   "outputs": [],
   "source": [
    "# this is 2nd line"
   ]
  },
  {
   "cell_type": "code",
   "execution_count": null,
   "id": "e35abb63",
   "metadata": {},
   "outputs": [],
   "source": []
  }
 ],
 "metadata": {
  "kernelspec": {
   "display_name": "Python 3 (ipykernel)",
   "language": "python",
   "name": "python3"
  },
  "language_info": {
   "codemirror_mode": {
    "name": "ipython",
    "version": 3
   },
   "file_extension": ".py",
   "mimetype": "text/x-python",
   "name": "python",
   "nbconvert_exporter": "python",
   "pygments_lexer": "ipython3",
   "version": "3.10.5"
  }
 },
 "nbformat": 4,
 "nbformat_minor": 5
}
