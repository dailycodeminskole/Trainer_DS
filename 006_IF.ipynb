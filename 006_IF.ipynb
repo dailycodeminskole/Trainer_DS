{
 "cells": [
  {
   "cell_type": "code",
   "execution_count": 1,
   "id": "dde2be4d",
   "metadata": {},
   "outputs": [
    {
     "name": "stdout",
     "output_type": "stream",
     "text": [
      "You are eligible to vote.\n"
     ]
    }
   ],
   "source": [
    "age = 18\n",
    "\n",
    "if age >= 18:\n",
    "    print(\"You are eligible to vote.\")\n"
   ]
  },
  {
   "cell_type": "code",
   "execution_count": 2,
   "id": "3d17000e",
   "metadata": {},
   "outputs": [
    {
     "name": "stdout",
     "output_type": "stream",
     "text": [
      "You are not eligible to vote.\n"
     ]
    }
   ],
   "source": [
    "age = 17\n",
    "\n",
    "if age >= 18:\n",
    "    print(\"You are eligible to vote.\")\n",
    "else:\n",
    "    print(\"You are not eligible to vote.\")\n"
   ]
  },
  {
   "cell_type": "code",
   "execution_count": 3,
   "id": "eb6011a3",
   "metadata": {},
   "outputs": [
    {
     "name": "stdout",
     "output_type": "stream",
     "text": [
      "It's a moderate day.\n"
     ]
    }
   ],
   "source": [
    "temperature = 25\n",
    "\n",
    "if temperature > 30:\n",
    "    print(\"It's a hot day!\")\n",
    "else:\n",
    "    print(\"It's a moderate day.\")\n"
   ]
  },
  {
   "cell_type": "code",
   "execution_count": 4,
   "id": "2d537316",
   "metadata": {},
   "outputs": [
    {
     "name": "stdout",
     "output_type": "stream",
     "text": [
      "The number is odd.\n"
     ]
    }
   ],
   "source": [
    "number = 7\n",
    "\n",
    "if number % 2 == 0:\n",
    "    print(\"The number is even.\")\n",
    "else:\n",
    "    print(\"The number is odd.\")\n"
   ]
  },
  {
   "cell_type": "code",
   "execution_count": 5,
   "id": "249db14c",
   "metadata": {},
   "outputs": [
    {
     "name": "stdout",
     "output_type": "stream",
     "text": [
      "Banana is in the fruit list.\n"
     ]
    }
   ],
   "source": [
    "fruits = [\"apple\", \"banana\", \"orange\", \"grape\"]\n",
    "\n",
    "if \"banana\" in fruits:\n",
    "    print(\"Banana is in the fruit list.\")\n",
    "else:\n",
    "    print(\"Banana is not in the fruit list.\")\n"
   ]
  },
  {
   "cell_type": "code",
   "execution_count": 6,
   "id": "2011c95e",
   "metadata": {},
   "outputs": [
    {
     "name": "stdout",
     "output_type": "stream",
     "text": [
      "You qualify for the basic package.\n"
     ]
    }
   ],
   "source": [
    "income = 50000\n",
    "age = 30\n",
    "\n",
    "if income > 60000:\n",
    "    if age >= 25:\n",
    "        print(\"You qualify for the premium package.\")\n",
    "    else:\n",
    "        print(\"You qualify for the standard package.\")\n",
    "else:\n",
    "    print(\"You qualify for the basic package.\")\n"
   ]
  },
  {
   "cell_type": "code",
   "execution_count": 7,
   "id": "10a448b8",
   "metadata": {
    "scrolled": true
   },
   "outputs": [
    {
     "name": "stdout",
     "output_type": "stream",
     "text": [
      "Your grade: B\n"
     ]
    }
   ],
   "source": [
    "score = 85\n",
    "\n",
    "if score >= 90:\n",
    "    grade = \"A\"\n",
    "elif score >= 80:\n",
    "    grade = \"B\"\n",
    "elif score >= 70:\n",
    "    grade = \"C\"\n",
    "else:\n",
    "    grade = \"D\"\n",
    "\n",
    "print(\"Your grade:\", grade)\n"
   ]
  },
  {
   "cell_type": "code",
   "execution_count": 8,
   "id": "60e603c8",
   "metadata": {},
   "outputs": [
    {
     "name": "stdout",
     "output_type": "stream",
     "text": [
      "Good afternoon!\n"
     ]
    }
   ],
   "source": [
    "time_of_day = \"afternoon\"\n",
    "\n",
    "if time_of_day == \"morning\":\n",
    "    greeting = \"Good morning!\"\n",
    "elif time_of_day == \"afternoon\":\n",
    "    greeting = \"Good afternoon!\"\n",
    "elif time_of_day == \"evening\":\n",
    "    greeting = \"Good evening!\"\n",
    "else:\n",
    "    greeting = \"Hello!\"\n",
    "\n",
    "print(greeting)\n"
   ]
  },
  {
   "cell_type": "code",
   "execution_count": 9,
   "id": "f651a250",
   "metadata": {},
   "outputs": [
    {
     "name": "stdout",
     "output_type": "stream",
     "text": [
      "You belong to the Adult category.\n"
     ]
    }
   ],
   "source": [
    "age = 25\n",
    "\n",
    "if age < 18:\n",
    "    category = \"Child\"\n",
    "elif age < 40:\n",
    "    category = \"Adult\"\n",
    "elif age < 60:\n",
    "    category = \"Middle-aged\"\n",
    "else:\n",
    "    category = \"Senior\"\n",
    "\n",
    "print(\"You belong to the\", category, \"category.\")\n"
   ]
  },
  {
   "cell_type": "code",
   "execution_count": 10,
   "id": "63d298de",
   "metadata": {},
   "outputs": [
    {
     "name": "stdout",
     "output_type": "stream",
     "text": [
      "The number is negative\n"
     ]
    }
   ],
   "source": [
    "num = -5\n",
    "\n",
    "if num > 0:\n",
    "    sign = \"positive\"\n",
    "elif num < 0:\n",
    "    sign = \"negative\"\n",
    "else:\n",
    "    sign = \"zero\"\n",
    "\n",
    "print(\"The number is\", sign)\n"
   ]
  },
  {
   "cell_type": "markdown",
   "id": "1b2c23ee",
   "metadata": {},
   "source": [
    "#  Example with List data type"
   ]
  },
  {
   "cell_type": "code",
   "execution_count": 11,
   "id": "d6a67918",
   "metadata": {},
   "outputs": [
    {
     "name": "stdout",
     "output_type": "stream",
     "text": [
      "The list is empty.\n"
     ]
    }
   ],
   "source": [
    "# Example 1: Checking for Empty List\n",
    "\n",
    "my_list = []\n",
    "\n",
    "if not my_list:\n",
    "    print(\"The list is empty.\")\n",
    "else:\n",
    "    print(\"The list is not empty.\")\n"
   ]
  },
  {
   "cell_type": "code",
   "execution_count": 12,
   "id": "8ce8342b",
   "metadata": {},
   "outputs": [
    {
     "name": "stdout",
     "output_type": "stream",
     "text": [
      "The number of fruits is manageable.\n"
     ]
    }
   ],
   "source": [
    "# Checking List Length\n",
    "fruits = [\"apple\", \"banana\", \"orange\"]\n",
    "\n",
    "if len(fruits) > 3:\n",
    "    print(\"There are many fruits.\")\n",
    "else:\n",
    "    print(\"The number of fruits is manageable.\")\n"
   ]
  },
  {
   "cell_type": "code",
   "execution_count": 13,
   "id": "51d1dda6",
   "metadata": {},
   "outputs": [
    {
     "name": "stdout",
     "output_type": "stream",
     "text": [
      "The list contains the number 10.\n"
     ]
    }
   ],
   "source": [
    "# Checking for Specific Element\n",
    "numbers = [5, 10, 15, 20]\n",
    "\n",
    "if 10 in numbers:\n",
    "    print(\"The list contains the number 10.\")\n",
    "else:\n",
    "    print(\"The number 10 is not in the list.\")\n"
   ]
  },
  {
   "cell_type": "code",
   "execution_count": 14,
   "id": "52de61ed",
   "metadata": {},
   "outputs": [
    {
     "name": "stdout",
     "output_type": "stream",
     "text": [
      "All students passed.\n"
     ]
    }
   ],
   "source": [
    "# Checking for a Range of Elements\n",
    "scores = [85, 90, 78, 92, 88]\n",
    "\n",
    "if all(score >= 70 for score in scores):\n",
    "    print(\"All students passed.\")\n",
    "else:\n",
    "    print(\"Some students didn't pass.\")\n"
   ]
  },
  {
   "cell_type": "code",
   "execution_count": 15,
   "id": "91932c0e",
   "metadata": {},
   "outputs": [
    {
     "name": "stdout",
     "output_type": "stream",
     "text": [
      "Excellent performance!\n"
     ]
    }
   ],
   "source": [
    "# Finding Maximum Element in List\n",
    "marks = [85, 92, 78, 95, 88]\n",
    "\n",
    "max_mark = max(marks)\n",
    "\n",
    "if max_mark >= 90:\n",
    "    print(\"Excellent performance!\")\n",
    "else:\n",
    "    print(\"Good job!\")\n"
   ]
  },
  {
   "cell_type": "code",
   "execution_count": 16,
   "id": "e024f110",
   "metadata": {},
   "outputs": [
    {
     "name": "stdout",
     "output_type": "stream",
     "text": [
      "Above average values.\n"
     ]
    }
   ],
   "source": [
    "# List Sum and Average Calculation\n",
    "numbers = [12, 34, 56, 78, 90]\n",
    "\n",
    "list_sum = sum(numbers)\n",
    "average = list_sum / len(numbers)\n",
    "\n",
    "if average > 50:\n",
    "    print(\"Above average values.\")\n",
    "else:\n",
    "    print(\"Below average values.\")\n"
   ]
  },
  {
   "cell_type": "code",
   "execution_count": 17,
   "id": "c9a520aa",
   "metadata": {},
   "outputs": [
    {
     "name": "stdout",
     "output_type": "stream",
     "text": [
      "Duplicates found.\n"
     ]
    }
   ],
   "source": [
    "# Checking for Unique Elements\n",
    "values = [1, 2, 2, 3, 4, 4, 5]\n",
    "\n",
    "if len(values) == len(set(values)):\n",
    "    print(\"All elements are unique.\")\n",
    "else:\n",
    "    print(\"Duplicates found.\")\n"
   ]
  },
  {
   "cell_type": "code",
   "execution_count": 18,
   "id": "86ceb8ea",
   "metadata": {},
   "outputs": [
    {
     "name": "stdout",
     "output_type": "stream",
     "text": [
      "Common elements: [4, 5]\n"
     ]
    }
   ],
   "source": [
    "# Checking for Common Elements\n",
    "list1 = [1, 2, 3, 4, 5]\n",
    "list2 = [4, 5, 6, 7, 8]\n",
    "\n",
    "common_elements = [x for x in list1 if x in list2]\n",
    "\n",
    "if common_elements:\n",
    "    print(\"Common elements:\", common_elements)\n",
    "else:\n",
    "    print(\"No common elements found.\")\n"
   ]
  },
  {
   "cell_type": "code",
   "execution_count": 19,
   "id": "e84ccbb0",
   "metadata": {},
   "outputs": [
    {
     "name": "stdout",
     "output_type": "stream",
     "text": [
      "The list is sorted.\n"
     ]
    }
   ],
   "source": [
    "# Checking for Sorted List\n",
    "numbers = [10, 20, 30, 40, 50]\n",
    "\n",
    "if numbers == sorted(numbers):\n",
    "    print(\"The list is sorted.\")\n",
    "else:\n",
    "    print(\"The list is not sorted.\")\n",
    "\n",
    " "
   ]
  },
  {
   "cell_type": "code",
   "execution_count": 20,
   "id": "8bb3a7bf",
   "metadata": {},
   "outputs": [
    {
     "name": "stdout",
     "output_type": "stream",
     "text": [
      "The lists are equal.\n"
     ]
    }
   ],
   "source": [
    "# List Comparison   \n",
    "\n",
    "list1 = [1, 2, 3]\n",
    "list2 = [1, 2, 3]\n",
    "\n",
    "if list1 == list2:\n",
    "    print(\"The lists are equal.\")\n",
    "else:\n",
    "    print(\"The lists are not equal.\")\n"
   ]
  },
  {
   "cell_type": "code",
   "execution_count": null,
   "id": "27132815",
   "metadata": {},
   "outputs": [],
   "source": []
  },
  {
   "cell_type": "markdown",
   "id": "a4c26a30",
   "metadata": {},
   "source": [
    "#  Examples with Set"
   ]
  },
  {
   "cell_type": "code",
   "execution_count": 21,
   "id": "f0ed5ed9",
   "metadata": {},
   "outputs": [
    {
     "name": "stdout",
     "output_type": "stream",
     "text": [
      "The set is empty.\n"
     ]
    }
   ],
   "source": [
    "#  Checking for Empty Set\n",
    "my_set = set()\n",
    "\n",
    "if not my_set:\n",
    "    print(\"The set is empty.\")\n",
    "else:\n",
    "    print(\"The set is not empty.\")\n"
   ]
  },
  {
   "cell_type": "code",
   "execution_count": 22,
   "id": "97a38aab",
   "metadata": {},
   "outputs": [
    {
     "name": "stdout",
     "output_type": "stream",
     "text": [
      "There are many colors.\n"
     ]
    }
   ],
   "source": [
    "# Checking Set Length\n",
    "colors = {\"red\", \"green\", \"blue\"}\n",
    "\n",
    "if len(colors) > 2:\n",
    "    print(\"There are many colors.\")\n",
    "else:\n",
    "    print(\"The number of colors is manageable.\")\n"
   ]
  },
  {
   "cell_type": "code",
   "execution_count": 23,
   "id": "37c9b49c",
   "metadata": {},
   "outputs": [
    {
     "name": "stdout",
     "output_type": "stream",
     "text": [
      "The set contains the number 10.\n"
     ]
    }
   ],
   "source": [
    "# Checking for Specific Element in Set\n",
    "numbers = {5, 10, 15, 20}\n",
    "\n",
    "if 10 in numbers:\n",
    "    print(\"The set contains the number 10.\")\n",
    "else:\n",
    "    print(\"The number 10 is not in the set.\")\n"
   ]
  },
  {
   "cell_type": "code",
   "execution_count": 24,
   "id": "5e59b575",
   "metadata": {},
   "outputs": [
    {
     "name": "stdout",
     "output_type": "stream",
     "text": [
      "Common elements: {4, 5}\n"
     ]
    }
   ],
   "source": [
    "# Checking for Common Elements in Sets\n",
    "set1 = {1, 2, 3, 4, 5}\n",
    "set2 = {4, 5, 6, 7, 8}\n",
    "\n",
    "common_elements = set1.intersection(set2)\n",
    "\n",
    "if common_elements:\n",
    "    print(\"Common elements:\", common_elements)\n",
    "else:\n",
    "    print(\"No common elements found.\")\n"
   ]
  },
  {
   "cell_type": "code",
   "execution_count": 25,
   "id": "dbe52ee5",
   "metadata": {},
   "outputs": [
    {
     "name": "stdout",
     "output_type": "stream",
     "text": [
      "Subset relationship holds.\n"
     ]
    }
   ],
   "source": [
    "# Checking for Subset Relationship\n",
    "main_set = {1, 2, 3, 4, 5}\n",
    "subset = {2, 4}\n",
    "\n",
    "if subset.issubset(main_set):\n",
    "    print(\"Subset relationship holds.\")\n",
    "else:\n",
    "    print(\"Subset relationship does not hold.\")\n"
   ]
  },
  {
   "cell_type": "code",
   "execution_count": 26,
   "id": "c007ae76",
   "metadata": {},
   "outputs": [
    {
     "name": "stdout",
     "output_type": "stream",
     "text": [
      "Superset relationship holds.\n"
     ]
    }
   ],
   "source": [
    "# Checking for Superset Relationship\n",
    "main_set = {1, 2, 3, 4, 5}\n",
    "superset = {2, 4}\n",
    "\n",
    "if main_set.issuperset(superset):\n",
    "    print(\"Superset relationship holds.\")\n",
    "else:\n",
    "    print(\"Superset relationship does not hold.\")\n"
   ]
  },
  {
   "cell_type": "code",
   "execution_count": 27,
   "id": "03660356",
   "metadata": {},
   "outputs": [
    {
     "name": "stdout",
     "output_type": "stream",
     "text": [
      "'o' is a vowel.\n"
     ]
    }
   ],
   "source": [
    "# Set Membership Test\n",
    "vowels = {\"a\", \"e\", \"i\", \"o\", \"u\"}\n",
    "\n",
    "letter = \"o\"\n",
    "\n",
    "if letter in vowels:\n",
    "    print(f\"'{letter}' is a vowel.\")\n",
    "else:\n",
    "    print(f\"'{letter}' is not a vowel.\")\n"
   ]
  },
  {
   "cell_type": "code",
   "execution_count": 28,
   "id": "22cd2e35",
   "metadata": {},
   "outputs": [
    {
     "name": "stdout",
     "output_type": "stream",
     "text": [
      "Union operation is correct.\n",
      "Difference operation is correct.\n"
     ]
    }
   ],
   "source": [
    "# Set Union and Difference Operation\n",
    "set1 = {1, 2, 3, 4}\n",
    "set2 = {3, 4, 5, 6}\n",
    "\n",
    "union_result = set1.union(set2)\n",
    "difference_result = set1.difference(set2)\n",
    "\n",
    "if union_result == {1, 2, 3, 4, 5, 6}:\n",
    "    print(\"Union operation is correct.\")\n",
    "\n",
    "if difference_result == {1, 2}:\n",
    "    print(\"Difference operation is correct.\")\n"
   ]
  },
  {
   "cell_type": "code",
   "execution_count": 29,
   "id": "2a495094",
   "metadata": {},
   "outputs": [
    {
     "name": "stdout",
     "output_type": "stream",
     "text": [
      "The sets are disjoint.\n"
     ]
    }
   ],
   "source": [
    "# Checking for Disjoint Sets\n",
    "set1 = {1, 2, 3}\n",
    "set2 = {4, 5, 6}\n",
    "\n",
    "if set1.isdisjoint(set2):\n",
    "    print(\"The sets are disjoint.\")\n",
    "else:\n",
    "    print(\"The sets have common elements.\")\n"
   ]
  },
  {
   "cell_type": "code",
   "execution_count": 30,
   "id": "e9e56cdf",
   "metadata": {},
   "outputs": [
    {
     "name": "stdout",
     "output_type": "stream",
     "text": [
      "The sets are equal.\n"
     ]
    }
   ],
   "source": [
    "# Set Comparison\n",
    "set1 = {1, 2, 3}\n",
    "set2 = {3, 2, 1}\n",
    "\n",
    "if set1 == set2:\n",
    "    print(\"The sets are equal.\")\n",
    "else:\n",
    "    print(\"The sets are not equal.\")\n"
   ]
  },
  {
   "cell_type": "code",
   "execution_count": null,
   "id": "2a12eb0b",
   "metadata": {},
   "outputs": [],
   "source": []
  },
  {
   "cell_type": "markdown",
   "id": "d2f7a0cc",
   "metadata": {},
   "source": [
    "# Examples with Dictionary"
   ]
  },
  {
   "cell_type": "code",
   "execution_count": 31,
   "id": "7f6478bc",
   "metadata": {},
   "outputs": [
    {
     "name": "stdout",
     "output_type": "stream",
     "text": [
      "The dictionary is empty.\n"
     ]
    }
   ],
   "source": [
    "# Checking for Empty Dictionary\n",
    "my_dict = {}\n",
    "\n",
    "if not my_dict:\n",
    "    print(\"The dictionary is empty.\")\n",
    "else:\n",
    "    print(\"The dictionary is not empty.\")\n",
    "\n"
   ]
  },
  {
   "cell_type": "code",
   "execution_count": 32,
   "id": "f3a1b311",
   "metadata": {},
   "outputs": [
    {
     "name": "stdout",
     "output_type": "stream",
     "text": [
      "The number of students is manageable.\n"
     ]
    }
   ],
   "source": [
    "# Checking Dictionary Length\n",
    "student_grades = {\"Alice\": 95, \"Bob\": 88, \"Charlie\": 78}\n",
    "\n",
    "if len(student_grades) > 3:\n",
    "    print(\"There are many students.\")\n",
    "else:\n",
    "    print(\"The number of students is manageable.\")\n"
   ]
  },
  {
   "cell_type": "code",
   "execution_count": 33,
   "id": "f0a5420a",
   "metadata": {},
   "outputs": [
    {
     "name": "stdout",
     "output_type": "stream",
     "text": [
      "Bob's contact exists.\n"
     ]
    }
   ],
   "source": [
    "# Checking for a Specific Key in Dictionary\n",
    "contacts = {\"Alice\": \"123-456\", \"Bob\": \"789-012\", \"Charlie\": \"345-678\"}\n",
    "\n",
    "if \"Bob\" in contacts:\n",
    "    print(\"Bob's contact exists.\")\n",
    "else:\n",
    "    print(\"Bob's contact does not exist.\")\n"
   ]
  },
  {
   "cell_type": "code",
   "execution_count": 34,
   "id": "13ad3ddd",
   "metadata": {},
   "outputs": [
    {
     "name": "stdout",
     "output_type": "stream",
     "text": [
      "Excellent performance!\n"
     ]
    }
   ],
   "source": [
    "# Finding Maximum Value in Dictionary Values\n",
    "scores = {\"Alice\": 95, \"Bob\": 88, \"Charlie\": 78}\n",
    "\n",
    "max_score = max(scores.values())\n",
    "\n",
    "if max_score >= 90:\n",
    "    print(\"Excellent performance!\")\n",
    "else:\n",
    "    print(\"Good job!\")\n"
   ]
  },
  {
   "cell_type": "code",
   "execution_count": 35,
   "id": "3d926729",
   "metadata": {},
   "outputs": [
    {
     "name": "stdout",
     "output_type": "stream",
     "text": [
      "Google stock value is present.\n"
     ]
    }
   ],
   "source": [
    "#  Checking for Specific Value in Dictionary Values\n",
    "stocks = {\"AAPL\": 150, \"GOOG\": 2700, \"TSLA\": 800}\n",
    "\n",
    "if 2700 in stocks.values():\n",
    "    print(\"Google stock value is present.\")\n",
    "else:\n",
    "    print(\"Google stock value is not present.\")\n"
   ]
  },
  {
   "cell_type": "code",
   "execution_count": 36,
   "id": "d382849f",
   "metadata": {},
   "outputs": [
    {
     "name": "stdout",
     "output_type": "stream",
     "text": [
      "Apple is in inventory.\n"
     ]
    }
   ],
   "source": [
    "# Checking for Key Existence\n",
    "inventory = {\"apple\": 50, \"banana\": 30, \"orange\": 40}\n",
    "\n",
    "if \"apple\" in inventory:\n",
    "    print(\"Apple is in inventory.\")\n",
    "else:\n",
    "    print(\"Apple is not in inventory.\")\n"
   ]
  },
  {
   "cell_type": "code",
   "execution_count": 37,
   "id": "ef575987",
   "metadata": {},
   "outputs": [
    {
     "name": "stdout",
     "output_type": "stream",
     "text": [
      "The person is above 25 years old.\n"
     ]
    }
   ],
   "source": [
    "# Checking for Key-Value Pairs\n",
    "person = {\"name\": \"Alice\", \"age\": 30, \"occupation\": \"Engineer\"}\n",
    "\n",
    "if \"age\" in person and person[\"age\"] > 25:\n",
    "    print(\"The person is above 25 years old.\")\n",
    "else:\n",
    "    print(\"The person is not above 25 years old.\")\n"
   ]
  },
  {
   "cell_type": "code",
   "execution_count": 38,
   "id": "c599cdac",
   "metadata": {},
   "outputs": [
    {
     "name": "stdout",
     "output_type": "stream",
     "text": [
      "The dictionaries are equal.\n"
     ]
    }
   ],
   "source": [
    "# Dictionary Comparison\n",
    "dict1 = {\"a\": 1, \"b\": 2, \"c\": 3}\n",
    "dict2 = {\"c\": 3, \"a\": 1, \"b\": 2}\n",
    "\n",
    "if dict1 == dict2:\n",
    "    print(\"The dictionaries are equal.\")\n",
    "else:\n",
    "    print(\"The dictionaries are not equal.\")\n"
   ]
  },
  {
   "cell_type": "code",
   "execution_count": 39,
   "id": "7ad71b4f",
   "metadata": {},
   "outputs": [
    {
     "name": "stdout",
     "output_type": "stream",
     "text": [
      "The value 30 is present in inventory.\n"
     ]
    }
   ],
   "source": [
    "# Membership Test in Values\n",
    "inventory = {\"apple\": 50, \"banana\": 30, \"orange\": 40}\n",
    "\n",
    "if 30 in inventory.values():\n",
    "    print(\"The value 30 is present in inventory.\")\n",
    "else:\n",
    "    print(\"The value 30 is not present in inventory.\")\n"
   ]
  },
  {
   "cell_type": "code",
   "execution_count": 40,
   "id": "1685d652",
   "metadata": {},
   "outputs": [
    {
     "name": "stdout",
     "output_type": "stream",
     "text": [
      "Bob's contact exists with the correct number.\n"
     ]
    }
   ],
   "source": [
    "# Checking for Key-Value Pair\n",
    "contacts = {\"Alice\": \"123-456\", \"Bob\": \"789-012\", \"Charlie\": \"345-678\"}\n",
    "\n",
    "if \"Bob\" in contacts and contacts[\"Bob\"] == \"789-012\":\n",
    "    print(\"Bob's contact exists with the correct number.\")\n",
    "else:\n",
    "    print(\"Bob's contact either does not exist or has a different number.\")\n"
   ]
  },
  {
   "cell_type": "code",
   "execution_count": null,
   "id": "a6195656",
   "metadata": {},
   "outputs": [],
   "source": []
  }
 ],
 "metadata": {
  "kernelspec": {
   "display_name": "Python 3 (ipykernel)",
   "language": "python",
   "name": "python3"
  },
  "language_info": {
   "codemirror_mode": {
    "name": "ipython",
    "version": 3
   },
   "file_extension": ".py",
   "mimetype": "text/x-python",
   "name": "python",
   "nbconvert_exporter": "python",
   "pygments_lexer": "ipython3",
   "version": "3.10.5"
  }
 },
 "nbformat": 4,
 "nbformat_minor": 5
}
