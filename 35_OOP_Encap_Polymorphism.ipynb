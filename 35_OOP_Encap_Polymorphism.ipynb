{
 "cells": [
  {
   "cell_type": "markdown",
   "id": "ed1e076b",
   "metadata": {},
   "source": [
    "# Encaapsulation"
   ]
  },
  {
   "cell_type": "code",
   "execution_count": 23,
   "id": "675b379d",
   "metadata": {},
   "outputs": [],
   "source": [
    "class PowerPlant:\n",
    "    def __init__(self,location,capacity,employees):\n",
    "        self.__location = location\n",
    "        self.capacity = capacity\n",
    "        self.employees = employees\n",
    "    def __str__(self):\n",
    "        return \"Location is {} and cap is {} with {} employees\".format(self.__location,self.capacity,self.employees)\n",
    "      #getter\n",
    "    def locate(self):\n",
    "        print(\"the location has been accessed,call 10888 for Emp ID who has accessed\")\n",
    "        return self.__location\n",
    "    #setter\n",
    "    def locate_change(self,new_location):\n",
    "        print(\"the location has been changed,call 10888 if not changed\")\n",
    "        self.__location = new_location\n",
    "\n",
    "p1 = PowerPlant(\"Nashik\",'700MW',120)"
   ]
  },
  {
   "cell_type": "code",
   "execution_count": 8,
   "id": "c1551f9f",
   "metadata": {},
   "outputs": [],
   "source": [
    "p1.__location = \"Satara\" #new attribute with name __location will be created"
   ]
  },
  {
   "cell_type": "code",
   "execution_count": 9,
   "id": "0fb5bede",
   "metadata": {},
   "outputs": [],
   "source": [
    "# Accessing/modifying the attibute via name mangling\n",
    "p1._PowerPlant__location = \"Beed\""
   ]
  },
  {
   "cell_type": "code",
   "execution_count": 10,
   "id": "e1bdba71",
   "metadata": {},
   "outputs": [
    {
     "name": "stdout",
     "output_type": "stream",
     "text": [
      "Location is Beed and cap is 700MW with 120 employees\n"
     ]
    }
   ],
   "source": [
    "print(p1)"
   ]
  },
  {
   "cell_type": "code",
   "execution_count": 11,
   "id": "e5fae992",
   "metadata": {},
   "outputs": [
    {
     "name": "stdout",
     "output_type": "stream",
     "text": [
      "Satara\n"
     ]
    }
   ],
   "source": [
    "print(p1.__location)"
   ]
  },
  {
   "cell_type": "code",
   "execution_count": 13,
   "id": "ea878155",
   "metadata": {},
   "outputs": [
    {
     "data": {
      "text/plain": [
       "'Beed'"
      ]
     },
     "execution_count": 13,
     "metadata": {},
     "output_type": "execute_result"
    }
   ],
   "source": [
    "# Accessing the attibute via  a  function i.e getter/accessor\n",
    "p1.locate()"
   ]
  },
  {
   "cell_type": "code",
   "execution_count": 20,
   "id": "7edd222d",
   "metadata": {},
   "outputs": [
    {
     "name": "stdout",
     "output_type": "stream",
     "text": [
      "the location has been changed,call 10888 if not changed\n"
     ]
    }
   ],
   "source": [
    "# modifying the attibute via  a  function i.e setter/modifier\n",
    "p1.locate_change(\"Thane\")"
   ]
  },
  {
   "cell_type": "code",
   "execution_count": 22,
   "id": "77c10a77",
   "metadata": {},
   "outputs": [
    {
     "name": "stdout",
     "output_type": "stream",
     "text": [
      "the location has been accessed,call 10888 for Emp ID who has accessed\n"
     ]
    },
    {
     "data": {
      "text/plain": [
       "'Nashik'"
      ]
     },
     "execution_count": 22,
     "metadata": {},
     "output_type": "execute_result"
    }
   ],
   "source": [
    "p1.locate()"
   ]
  },
  {
   "cell_type": "code",
   "execution_count": null,
   "id": "2bdef6b4",
   "metadata": {},
   "outputs": [],
   "source": []
  },
  {
   "cell_type": "markdown",
   "id": "07a5d47a",
   "metadata": {},
   "source": [
    "# Polymorphism"
   ]
  },
  {
   "cell_type": "code",
   "execution_count": 24,
   "id": "74b76fd4",
   "metadata": {},
   "outputs": [
    {
     "name": "stdout",
     "output_type": "stream",
     "text": [
      "300\n"
     ]
    }
   ],
   "source": [
    "print(100+200)"
   ]
  },
  {
   "cell_type": "code",
   "execution_count": 25,
   "id": "ef005544",
   "metadata": {},
   "outputs": [
    {
     "name": "stdout",
     "output_type": "stream",
     "text": [
      "This is a good day!!!\n"
     ]
    }
   ],
   "source": [
    "print(\"This is a good day!!!\")"
   ]
  },
  {
   "cell_type": "code",
   "execution_count": 26,
   "id": "e44a9842",
   "metadata": {},
   "outputs": [
    {
     "name": "stdout",
     "output_type": "stream",
     "text": [
      "True\n"
     ]
    }
   ],
   "source": [
    "print(100>50)"
   ]
  },
  {
   "cell_type": "code",
   "execution_count": 27,
   "id": "b53ebdf9",
   "metadata": {},
   "outputs": [],
   "source": [
    "# eg :\n",
    "class India:\n",
    "    def capital(self):\n",
    "        print(\"New Delhi\")\n",
    "        \n",
    "        \n",
    "class Nepal:\n",
    "    def capital(self):\n",
    "        print(\"Kathmandu\") \n",
    "\n",
    "class SriLanka:\n",
    "    def capital(self):\n",
    "        print(\"Colombo\")\n",
    "        \n",
    "        \n",
    "ind = India()\n",
    "nep = Nepal()\n",
    "sl = SriLanka()"
   ]
  },
  {
   "cell_type": "code",
   "execution_count": 28,
   "id": "df69df9b",
   "metadata": {},
   "outputs": [
    {
     "name": "stdout",
     "output_type": "stream",
     "text": [
      "New Delhi\n"
     ]
    }
   ],
   "source": [
    "ind.capital()"
   ]
  },
  {
   "cell_type": "code",
   "execution_count": 29,
   "id": "65c2a096",
   "metadata": {},
   "outputs": [
    {
     "name": "stdout",
     "output_type": "stream",
     "text": [
      "Kathmandu\n"
     ]
    }
   ],
   "source": [
    "nep.capital()"
   ]
  },
  {
   "cell_type": "code",
   "execution_count": 30,
   "id": "24f2a857",
   "metadata": {},
   "outputs": [
    {
     "name": "stdout",
     "output_type": "stream",
     "text": [
      "Colombo\n"
     ]
    }
   ],
   "source": [
    "sl.capital()"
   ]
  },
  {
   "cell_type": "code",
   "execution_count": 31,
   "id": "06bca2df",
   "metadata": {},
   "outputs": [],
   "source": [
    "#eg 2"
   ]
  },
  {
   "cell_type": "code",
   "execution_count": 93,
   "id": "a595d229",
   "metadata": {},
   "outputs": [],
   "source": [
    "class Account:\n",
    "    counter = 0\n",
    "    def __init__(self,openig_bal=0):\n",
    "        Account.counter =  Account.counter +1\n",
    "        self.id = Account.counter\n",
    "        self.__bal = openig_bal #private variable\n",
    "        self.num_transactions = 0\n",
    "        self.max_transactions = 6\n",
    "        \n",
    "        \n",
    "    def deposit(self,amount):\n",
    "        if amount > 0 and self.num_transactions < self.max_transactions:\n",
    "            self.__bal = self.__bal+amount\n",
    "            self.num_transactions = self.num_transactions+1\n",
    "    def withdraw(self,amount):\n",
    "        if amount > 0 and self.__bal>= amount  and self.num_transactions < self.max_transactions:\n",
    "            self.__bal = self.__bal - amount\n",
    "            self.num_transactions = self.num_transactions+1\n",
    "    def __str__(self):\n",
    "        return \"Ac Number : {} and Bal is Rs. : {} and No of TX : {}\".format(self.id,self.__bal,self.num_transactions)\n",
    "class SavingsAccount(Account):\n",
    "    pass\n",
    "class CurrentAccount(Account):\n",
    "    def __init__(self):\n",
    "        super().__init__(self)\n",
    "        self.max_transactions = 300\n",
    "    def get_interest(self):\n",
    "        return self._Account__bal*0\n",
    "        \n",
    "sa1 = SavingsAccount()\n",
    "ca1 =  CurrentAccount()"
   ]
  },
  {
   "cell_type": "code",
   "execution_count": 94,
   "id": "1fc50164",
   "metadata": {},
   "outputs": [],
   "source": [
    "ca1.deposit(1000)"
   ]
  },
  {
   "cell_type": "code",
   "execution_count": null,
   "id": "4eb00784",
   "metadata": {},
   "outputs": [],
   "source": []
  },
  {
   "cell_type": "code",
   "execution_count": 87,
   "id": "239b01a0",
   "metadata": {},
   "outputs": [],
   "source": [
    "class Account:\n",
    "    counter = 0\n",
    "    def __init__(self,openig_bal=0):\n",
    "        Account.counter =  Account.counter +1\n",
    "        self.id = Account.counter\n",
    "        self.__bal = openig_bal #private variable\n",
    "        self.num_transactions = 0\n",
    "        self.max_transactions = 6\n",
    "        \n",
    "        \n",
    "    def deposit(self,amount):\n",
    "        if amount > 0 and self.num_transactions < self.max_transactions:\n",
    "            self.__bal = self.__bal+amount\n",
    "            self.num_transactions = self.num_transactions+1\n",
    "    def withdraw(self,amount):\n",
    "        if amount > 0 and self.__bal>= amount  and self.num_transactions < self.max_transactions:\n",
    "            self.__bal = self.__bal - amount\n",
    "            self.num_transactions = self.num_transactions+1\n",
    "    def __str__(self):\n",
    "        return \"Ac Number : {} and Bal is Rs. : {} and No of TX : {}\".format(self.id,self.__bal,self.num_transactions)\n",
    "class SavingsAccount(Account):\n",
    "        def get_interest(self):\n",
    "            return self._Account__bal*0.07\n",
    "\n",
    "class CurrentAccount(Account):\n",
    "    def __init__(self):\n",
    "        super().__init__()\n",
    "        self.max_transactions = 300\n",
    "    def get_interest(self):\n",
    "        return self._Account__bal*0\n",
    "        \n",
    "sa1 = SavingsAccount()\n",
    "ca1 =  CurrentAccount()"
   ]
  },
  {
   "cell_type": "code",
   "execution_count": 88,
   "id": "351b0534",
   "metadata": {},
   "outputs": [],
   "source": [
    "sa1.deposit(200)"
   ]
  },
  {
   "cell_type": "code",
   "execution_count": 89,
   "id": "9ef6ce4c",
   "metadata": {},
   "outputs": [],
   "source": [
    "ca1.deposit(300)"
   ]
  },
  {
   "cell_type": "code",
   "execution_count": 90,
   "id": "1d105361",
   "metadata": {},
   "outputs": [
    {
     "name": "stdout",
     "output_type": "stream",
     "text": [
      "0\n"
     ]
    }
   ],
   "source": [
    "print(ca1.get_interest())"
   ]
  },
  {
   "cell_type": "code",
   "execution_count": 91,
   "id": "d426060f",
   "metadata": {
    "scrolled": true
   },
   "outputs": [
    {
     "name": "stdout",
     "output_type": "stream",
     "text": [
      "14.000000000000002\n"
     ]
    }
   ],
   "source": [
    "print(sa1.get_interest())"
   ]
  },
  {
   "cell_type": "code",
   "execution_count": 92,
   "id": "6bfb3c39",
   "metadata": {},
   "outputs": [
    {
     "name": "stdout",
     "output_type": "stream",
     "text": [
      "Ac Number : 1 and Bal is Rs. : 200 and No of TX : 1\n"
     ]
    }
   ],
   "source": [
    "print(sa1)"
   ]
  },
  {
   "cell_type": "code",
   "execution_count": null,
   "id": "cf690c38",
   "metadata": {},
   "outputs": [],
   "source": []
  }
 ],
 "metadata": {
  "kernelspec": {
   "display_name": "Python 3 (ipykernel)",
   "language": "python",
   "name": "python3"
  },
  "language_info": {
   "codemirror_mode": {
    "name": "ipython",
    "version": 3
   },
   "file_extension": ".py",
   "mimetype": "text/x-python",
   "name": "python",
   "nbconvert_exporter": "python",
   "pygments_lexer": "ipython3",
   "version": "3.10.5"
  }
 },
 "nbformat": 4,
 "nbformat_minor": 5
}
